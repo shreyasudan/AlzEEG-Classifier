{
 "cells": [
  {
   "cell_type": "markdown",
   "metadata": {
    "vscode": {
     "languageId": "plaintext"
    }
   },
   "source": [
    "# Baseline"
   ]
  },
  {
   "cell_type": "code",
   "execution_count": 3,
   "metadata": {},
   "outputs": [],
   "source": [
    "# EEG Feature Selection\n",
    "import numpy as np\n",
    "import pandas as pd\n",
    "import matplotlib.pyplot as plt\n",
    "import seaborn as sns\n",
    "import mne\n",
    "from scipy import signal\n",
    "from sklearn.feature_selection import SelectKBest, f_classif\n",
    "from sklearn.ensemble import RandomForestClassifier\n",
    "from sklearn.model_selection import cross_val_score\n",
    "from mne.decoding import CSP\n",
    "import json\n",
    "import os\n",
    "from sklearn.linear_model import LogisticRegression\n",
    "from sklearn.feature_selection import RFE\n",
    "from sklearn import metrics as M\n",
    "from sklearn.preprocessing import StandardScaler\n",
    "from sklearn.pipeline import Pipeline\n",
    "from sklearn.decomposition import PCA\n",
    "from sklearn.model_selection import cross_val_score, cross_val_predict, StratifiedKFold\n",
    "\n",
    "# Set plotting style\n",
    "plt.style.use('ggplot')\n",
    "sns.set(font_scale=1.2)\n",
    "sns.set_style('whitegrid')\n",
    "\n",
    "# Set random seed for reproducibility\n",
    "np.random.seed(42)"
   ]
  },
  {
   "cell_type": "code",
   "execution_count": 4,
   "metadata": {},
   "outputs": [
    {
     "name": "stdout",
     "output_type": "stream",
     "text": [
      "[fold_1] Loading TRAIN subject: sub-021 -> dataset/derivatives/sub-021/eeg/sub-021_task-eyesclosed_eeg.set\n"
     ]
    },
    {
     "name": "stderr",
     "output_type": "stream",
     "text": [
      "<ipython-input-4-921ffc81fc19>:47: RuntimeWarning: The data contains 'boundary' events, indicating data discontinuities. Be cautious of filtering and epoching around these events.\n",
      "  raw_obj = mne.io.read_raw_eeglab(set_filepath, preload=True)\n",
      "<ipython-input-4-921ffc81fc19>:47: RuntimeWarning: The data contains 'boundary' events, indicating data discontinuities. Be cautious of filtering and epoching around these events.\n",
      "  raw_obj = mne.io.read_raw_eeglab(set_filepath, preload=True)\n"
     ]
    },
    {
     "name": "stdout",
     "output_type": "stream",
     "text": [
      "[fold_1] Loading TRAIN subject: sub-026 -> dataset/derivatives/sub-026/eeg/sub-026_task-eyesclosed_eeg.set\n"
     ]
    },
    {
     "name": "stderr",
     "output_type": "stream",
     "text": [
      "<ipython-input-4-921ffc81fc19>:47: RuntimeWarning: The data contains 'boundary' events, indicating data discontinuities. Be cautious of filtering and epoching around these events.\n",
      "  raw_obj = mne.io.read_raw_eeglab(set_filepath, preload=True)\n"
     ]
    },
    {
     "name": "stdout",
     "output_type": "stream",
     "text": [
      "[fold_1] Loading TRAIN subject: sub-019 -> dataset/derivatives/sub-019/eeg/sub-019_task-eyesclosed_eeg.set\n",
      "[fold_1] Loading TRAIN subject: sub-010 -> dataset/derivatives/sub-010/eeg/sub-010_task-eyesclosed_eeg.set\n"
     ]
    },
    {
     "name": "stderr",
     "output_type": "stream",
     "text": [
      "<ipython-input-4-921ffc81fc19>:47: RuntimeWarning: The data contains 'boundary' events, indicating data discontinuities. Be cautious of filtering and epoching around these events.\n",
      "  raw_obj = mne.io.read_raw_eeglab(set_filepath, preload=True)\n",
      "<ipython-input-4-921ffc81fc19>:47: RuntimeWarning: The data contains 'boundary' events, indicating data discontinuities. Be cautious of filtering and epoching around these events.\n",
      "  raw_obj = mne.io.read_raw_eeglab(set_filepath, preload=True)\n"
     ]
    },
    {
     "name": "stdout",
     "output_type": "stream",
     "text": [
      "[fold_1] Loading TRAIN subject: sub-017 -> dataset/derivatives/sub-017/eeg/sub-017_task-eyesclosed_eeg.set\n",
      "[fold_1] Loading TRAIN subject: sub-028 -> dataset/derivatives/sub-028/eeg/sub-028_task-eyesclosed_eeg.set\n"
     ]
    },
    {
     "name": "stderr",
     "output_type": "stream",
     "text": [
      "<ipython-input-4-921ffc81fc19>:47: RuntimeWarning: The data contains 'boundary' events, indicating data discontinuities. Be cautious of filtering and epoching around these events.\n",
      "  raw_obj = mne.io.read_raw_eeglab(set_filepath, preload=True)\n"
     ]
    },
    {
     "name": "stdout",
     "output_type": "stream",
     "text": [
      "[fold_1] Loading TRAIN subject: sub-016 -> dataset/derivatives/sub-016/eeg/sub-016_task-eyesclosed_eeg.set\n"
     ]
    },
    {
     "name": "stderr",
     "output_type": "stream",
     "text": [
      "<ipython-input-4-921ffc81fc19>:47: RuntimeWarning: The data contains 'boundary' events, indicating data discontinuities. Be cautious of filtering and epoching around these events.\n",
      "  raw_obj = mne.io.read_raw_eeglab(set_filepath, preload=True)\n"
     ]
    },
    {
     "name": "stdout",
     "output_type": "stream",
     "text": [
      "[fold_1] Loading TRAIN subject: sub-029 -> dataset/derivatives/sub-029/eeg/sub-029_task-eyesclosed_eeg.set\n"
     ]
    },
    {
     "name": "stderr",
     "output_type": "stream",
     "text": [
      "<ipython-input-4-921ffc81fc19>:47: RuntimeWarning: The data contains 'boundary' events, indicating data discontinuities. Be cautious of filtering and epoching around these events.\n",
      "  raw_obj = mne.io.read_raw_eeglab(set_filepath, preload=True)\n",
      "<ipython-input-4-921ffc81fc19>:47: RuntimeWarning: The data contains 'boundary' events, indicating data discontinuities. Be cautious of filtering and epoching around these events.\n",
      "  raw_obj = mne.io.read_raw_eeglab(set_filepath, preload=True)\n"
     ]
    },
    {
     "name": "stdout",
     "output_type": "stream",
     "text": [
      "[fold_1] Loading TRAIN subject: sub-011 -> dataset/derivatives/sub-011/eeg/sub-011_task-eyesclosed_eeg.set\n",
      "[fold_1] Loading TRAIN subject: sub-027 -> dataset/derivatives/sub-027/eeg/sub-027_task-eyesclosed_eeg.set\n"
     ]
    },
    {
     "name": "stderr",
     "output_type": "stream",
     "text": [
      "<ipython-input-4-921ffc81fc19>:47: RuntimeWarning: The data contains 'boundary' events, indicating data discontinuities. Be cautious of filtering and epoching around these events.\n",
      "  raw_obj = mne.io.read_raw_eeglab(set_filepath, preload=True)\n"
     ]
    },
    {
     "name": "stdout",
     "output_type": "stream",
     "text": [
      "[fold_1] Loading TRAIN subject: sub-018 -> dataset/derivatives/sub-018/eeg/sub-018_task-eyesclosed_eeg.set\n"
     ]
    },
    {
     "name": "stderr",
     "output_type": "stream",
     "text": [
      "<ipython-input-4-921ffc81fc19>:47: RuntimeWarning: The data contains 'boundary' events, indicating data discontinuities. Be cautious of filtering and epoching around these events.\n",
      "  raw_obj = mne.io.read_raw_eeglab(set_filepath, preload=True)\n"
     ]
    },
    {
     "name": "stdout",
     "output_type": "stream",
     "text": [
      "[fold_1] Loading TRAIN subject: sub-020 -> dataset/derivatives/sub-020/eeg/sub-020_task-eyesclosed_eeg.set\n",
      "[fold_1] Loading TRAIN subject: sub-033 -> dataset/derivatives/sub-033/eeg/sub-033_task-eyesclosed_eeg.set\n"
     ]
    },
    {
     "name": "stderr",
     "output_type": "stream",
     "text": [
      "<ipython-input-4-921ffc81fc19>:47: RuntimeWarning: The data contains 'boundary' events, indicating data discontinuities. Be cautious of filtering and epoching around these events.\n",
      "  raw_obj = mne.io.read_raw_eeglab(set_filepath, preload=True)\n"
     ]
    },
    {
     "name": "stdout",
     "output_type": "stream",
     "text": [
      "[fold_1] Loading TRAIN subject: sub-034 -> dataset/derivatives/sub-034/eeg/sub-034_task-eyesclosed_eeg.set\n"
     ]
    },
    {
     "name": "stderr",
     "output_type": "stream",
     "text": [
      "<ipython-input-4-921ffc81fc19>:47: RuntimeWarning: The data contains 'boundary' events, indicating data discontinuities. Be cautious of filtering and epoching around these events.\n",
      "  raw_obj = mne.io.read_raw_eeglab(set_filepath, preload=True)\n",
      "<ipython-input-4-921ffc81fc19>:47: RuntimeWarning: The data contains 'boundary' events, indicating data discontinuities. Be cautious of filtering and epoching around these events.\n",
      "  raw_obj = mne.io.read_raw_eeglab(set_filepath, preload=True)\n"
     ]
    },
    {
     "name": "stdout",
     "output_type": "stream",
     "text": [
      "[fold_1] Loading TRAIN subject: sub-035 -> dataset/derivatives/sub-035/eeg/sub-035_task-eyesclosed_eeg.set\n",
      "[fold_1] Loading TRAIN subject: sub-004 -> dataset/derivatives/sub-004/eeg/sub-004_task-eyesclosed_eeg.set\n"
     ]
    },
    {
     "name": "stderr",
     "output_type": "stream",
     "text": [
      "<ipython-input-4-921ffc81fc19>:47: RuntimeWarning: The data contains 'boundary' events, indicating data discontinuities. Be cautious of filtering and epoching around these events.\n",
      "  raw_obj = mne.io.read_raw_eeglab(set_filepath, preload=True)\n",
      "<ipython-input-4-921ffc81fc19>:47: RuntimeWarning: The data contains 'boundary' events, indicating data discontinuities. Be cautious of filtering and epoching around these events.\n",
      "  raw_obj = mne.io.read_raw_eeglab(set_filepath, preload=True)\n"
     ]
    },
    {
     "name": "stdout",
     "output_type": "stream",
     "text": [
      "[fold_1] Loading TRAIN subject: sub-025 -> dataset/derivatives/sub-025/eeg/sub-025_task-eyesclosed_eeg.set\n",
      "[fold_1] Loading TRAIN subject: sub-014 -> dataset/derivatives/sub-014/eeg/sub-014_task-eyesclosed_eeg.set\n"
     ]
    },
    {
     "name": "stderr",
     "output_type": "stream",
     "text": [
      "<ipython-input-4-921ffc81fc19>:47: RuntimeWarning: The data contains 'boundary' events, indicating data discontinuities. Be cautious of filtering and epoching around these events.\n",
      "  raw_obj = mne.io.read_raw_eeglab(set_filepath, preload=True)\n"
     ]
    },
    {
     "name": "stdout",
     "output_type": "stream",
     "text": [
      "[fold_1] Loading TRAIN subject: sub-012 -> dataset/derivatives/sub-012/eeg/sub-012_task-eyesclosed_eeg.set\n"
     ]
    },
    {
     "name": "stderr",
     "output_type": "stream",
     "text": [
      "<ipython-input-4-921ffc81fc19>:47: RuntimeWarning: The data contains 'boundary' events, indicating data discontinuities. Be cautious of filtering and epoching around these events.\n",
      "  raw_obj = mne.io.read_raw_eeglab(set_filepath, preload=True)\n"
     ]
    },
    {
     "name": "stdout",
     "output_type": "stream",
     "text": [
      "[fold_1] Loading TRAIN subject: sub-015 -> dataset/derivatives/sub-015/eeg/sub-015_task-eyesclosed_eeg.set\n"
     ]
    },
    {
     "name": "stderr",
     "output_type": "stream",
     "text": [
      "<ipython-input-4-921ffc81fc19>:47: RuntimeWarning: The data contains 'boundary' events, indicating data discontinuities. Be cautious of filtering and epoching around these events.\n",
      "  raw_obj = mne.io.read_raw_eeglab(set_filepath, preload=True)\n"
     ]
    },
    {
     "name": "stdout",
     "output_type": "stream",
     "text": [
      "[fold_1] Loading TRAIN subject: sub-023 -> dataset/derivatives/sub-023/eeg/sub-023_task-eyesclosed_eeg.set\n"
     ]
    },
    {
     "name": "stderr",
     "output_type": "stream",
     "text": [
      "<ipython-input-4-921ffc81fc19>:47: RuntimeWarning: The data contains 'boundary' events, indicating data discontinuities. Be cautious of filtering and epoching around these events.\n",
      "  raw_obj = mne.io.read_raw_eeglab(set_filepath, preload=True)\n"
     ]
    },
    {
     "name": "stdout",
     "output_type": "stream",
     "text": [
      "[fold_1] Loading TRAIN subject: sub-024 -> dataset/derivatives/sub-024/eeg/sub-024_task-eyesclosed_eeg.set\n"
     ]
    },
    {
     "name": "stderr",
     "output_type": "stream",
     "text": [
      "<ipython-input-4-921ffc81fc19>:47: RuntimeWarning: The data contains 'boundary' events, indicating data discontinuities. Be cautious of filtering and epoching around these events.\n",
      "  raw_obj = mne.io.read_raw_eeglab(set_filepath, preload=True)\n",
      "<ipython-input-4-921ffc81fc19>:47: RuntimeWarning: The data contains 'boundary' events, indicating data discontinuities. Be cautious of filtering and epoching around these events.\n",
      "  raw_obj = mne.io.read_raw_eeglab(set_filepath, preload=True)\n"
     ]
    },
    {
     "name": "stdout",
     "output_type": "stream",
     "text": [
      "[fold_1] Loading TRAIN subject: sub-006 -> dataset/derivatives/sub-006/eeg/sub-006_task-eyesclosed_eeg.set\n",
      "[fold_1] Loading TRAIN subject: sub-001 -> dataset/derivatives/sub-001/eeg/sub-001_task-eyesclosed_eeg.set\n",
      "[fold_1] Loading TRAIN subject: sub-008 -> dataset/derivatives/sub-008/eeg/sub-008_task-eyesclosed_eeg.set\n"
     ]
    },
    {
     "name": "stderr",
     "output_type": "stream",
     "text": [
      "<ipython-input-4-921ffc81fc19>:47: RuntimeWarning: The data contains 'boundary' events, indicating data discontinuities. Be cautious of filtering and epoching around these events.\n",
      "  raw_obj = mne.io.read_raw_eeglab(set_filepath, preload=True)\n"
     ]
    },
    {
     "name": "stdout",
     "output_type": "stream",
     "text": [
      "[fold_1] Loading TRAIN subject: sub-031 -> dataset/derivatives/sub-031/eeg/sub-031_task-eyesclosed_eeg.set\n"
     ]
    },
    {
     "name": "stderr",
     "output_type": "stream",
     "text": [
      "<ipython-input-4-921ffc81fc19>:47: RuntimeWarning: The data contains 'boundary' events, indicating data discontinuities. Be cautious of filtering and epoching around these events.\n",
      "  raw_obj = mne.io.read_raw_eeglab(set_filepath, preload=True)\n"
     ]
    },
    {
     "name": "stdout",
     "output_type": "stream",
     "text": [
      "[fold_1] Loading TRAIN subject: sub-036 -> dataset/derivatives/sub-036/eeg/sub-036_task-eyesclosed_eeg.set\n"
     ]
    },
    {
     "name": "stderr",
     "output_type": "stream",
     "text": [
      "<ipython-input-4-921ffc81fc19>:47: RuntimeWarning: The data contains 'boundary' events, indicating data discontinuities. Be cautious of filtering and epoching around these events.\n",
      "  raw_obj = mne.io.read_raw_eeglab(set_filepath, preload=True)\n"
     ]
    },
    {
     "name": "stdout",
     "output_type": "stream",
     "text": [
      "[fold_1] Loading TRAIN subject: sub-007 -> dataset/derivatives/sub-007/eeg/sub-007_task-eyesclosed_eeg.set\n"
     ]
    },
    {
     "name": "stderr",
     "output_type": "stream",
     "text": [
      "<ipython-input-4-921ffc81fc19>:47: RuntimeWarning: The data contains 'boundary' events, indicating data discontinuities. Be cautious of filtering and epoching around these events.\n",
      "  raw_obj = mne.io.read_raw_eeglab(set_filepath, preload=True)\n"
     ]
    },
    {
     "name": "stdout",
     "output_type": "stream",
     "text": [
      "[fold_1] Loading TRAIN subject: sub-043 -> dataset/derivatives/sub-043/eeg/sub-043_task-eyesclosed_eeg.set\n",
      "[fold_1] Loading TRAIN subject: sub-044 -> dataset/derivatives/sub-044/eeg/sub-044_task-eyesclosed_eeg.set\n",
      "[fold_1] Loading TRAIN subject: sub-042 -> dataset/derivatives/sub-042/eeg/sub-042_task-eyesclosed_eeg.set\n"
     ]
    },
    {
     "name": "stderr",
     "output_type": "stream",
     "text": [
      "<ipython-input-4-921ffc81fc19>:47: RuntimeWarning: The data contains 'boundary' events, indicating data discontinuities. Be cautious of filtering and epoching around these events.\n",
      "  raw_obj = mne.io.read_raw_eeglab(set_filepath, preload=True)\n",
      "<ipython-input-4-921ffc81fc19>:47: RuntimeWarning: The data contains 'boundary' events, indicating data discontinuities. Be cautious of filtering and epoching around these events.\n",
      "  raw_obj = mne.io.read_raw_eeglab(set_filepath, preload=True)\n"
     ]
    },
    {
     "name": "stdout",
     "output_type": "stream",
     "text": [
      "[fold_1] Loading TRAIN subject: sub-060 -> dataset/derivatives/sub-060/eeg/sub-060_task-eyesclosed_eeg.set\n",
      "[fold_1] Loading TRAIN subject: sub-058 -> dataset/derivatives/sub-058/eeg/sub-058_task-eyesclosed_eeg.set\n"
     ]
    },
    {
     "name": "stderr",
     "output_type": "stream",
     "text": [
      "<ipython-input-4-921ffc81fc19>:47: RuntimeWarning: The data contains 'boundary' events, indicating data discontinuities. Be cautious of filtering and epoching around these events.\n",
      "  raw_obj = mne.io.read_raw_eeglab(set_filepath, preload=True)\n",
      "<ipython-input-4-921ffc81fc19>:47: RuntimeWarning: The data contains 'boundary' events, indicating data discontinuities. Be cautious of filtering and epoching around these events.\n",
      "  raw_obj = mne.io.read_raw_eeglab(set_filepath, preload=True)\n"
     ]
    },
    {
     "name": "stdout",
     "output_type": "stream",
     "text": [
      "[fold_1] Loading TRAIN subject: sub-051 -> dataset/derivatives/sub-051/eeg/sub-051_task-eyesclosed_eeg.set\n",
      "[fold_1] Loading TRAIN subject: sub-056 -> dataset/derivatives/sub-056/eeg/sub-056_task-eyesclosed_eeg.set\n"
     ]
    },
    {
     "name": "stderr",
     "output_type": "stream",
     "text": [
      "<ipython-input-4-921ffc81fc19>:47: RuntimeWarning: The data contains 'boundary' events, indicating data discontinuities. Be cautious of filtering and epoching around these events.\n",
      "  raw_obj = mne.io.read_raw_eeglab(set_filepath, preload=True)\n"
     ]
    },
    {
     "name": "stdout",
     "output_type": "stream",
     "text": [
      "[fold_1] Loading TRAIN subject: sub-057 -> dataset/derivatives/sub-057/eeg/sub-057_task-eyesclosed_eeg.set\n",
      "[fold_1] Loading TRAIN subject: sub-050 -> dataset/derivatives/sub-050/eeg/sub-050_task-eyesclosed_eeg.set\n",
      "[fold_1] Loading TRAIN subject: sub-059 -> dataset/derivatives/sub-059/eeg/sub-059_task-eyesclosed_eeg.set\n"
     ]
    },
    {
     "name": "stderr",
     "output_type": "stream",
     "text": [
      "<ipython-input-4-921ffc81fc19>:47: RuntimeWarning: The data contains 'boundary' events, indicating data discontinuities. Be cautious of filtering and epoching around these events.\n",
      "  raw_obj = mne.io.read_raw_eeglab(set_filepath, preload=True)\n",
      "<ipython-input-4-921ffc81fc19>:47: RuntimeWarning: The data contains 'boundary' events, indicating data discontinuities. Be cautious of filtering and epoching around these events.\n",
      "  raw_obj = mne.io.read_raw_eeglab(set_filepath, preload=True)\n"
     ]
    },
    {
     "name": "stdout",
     "output_type": "stream",
     "text": [
      "[fold_1] Loading TRAIN subject: sub-061 -> dataset/derivatives/sub-061/eeg/sub-061_task-eyesclosed_eeg.set\n",
      "[fold_1] Loading TRAIN subject: sub-040 -> dataset/derivatives/sub-040/eeg/sub-040_task-eyesclosed_eeg.set\n"
     ]
    },
    {
     "name": "stderr",
     "output_type": "stream",
     "text": [
      "<ipython-input-4-921ffc81fc19>:47: RuntimeWarning: The data contains 'boundary' events, indicating data discontinuities. Be cautious of filtering and epoching around these events.\n",
      "  raw_obj = mne.io.read_raw_eeglab(set_filepath, preload=True)\n",
      "<ipython-input-4-921ffc81fc19>:47: RuntimeWarning: The data contains 'boundary' events, indicating data discontinuities. Be cautious of filtering and epoching around these events.\n",
      "  raw_obj = mne.io.read_raw_eeglab(set_filepath, preload=True)\n"
     ]
    },
    {
     "name": "stdout",
     "output_type": "stream",
     "text": [
      "[fold_1] Loading TRAIN subject: sub-049 -> dataset/derivatives/sub-049/eeg/sub-049_task-eyesclosed_eeg.set\n",
      "[fold_1] Loading TRAIN subject: sub-048 -> dataset/derivatives/sub-048/eeg/sub-048_task-eyesclosed_eeg.set\n"
     ]
    },
    {
     "name": "stderr",
     "output_type": "stream",
     "text": [
      "<ipython-input-4-921ffc81fc19>:47: RuntimeWarning: The data contains 'boundary' events, indicating data discontinuities. Be cautious of filtering and epoching around these events.\n",
      "  raw_obj = mne.io.read_raw_eeglab(set_filepath, preload=True)\n",
      "<ipython-input-4-921ffc81fc19>:47: RuntimeWarning: The data contains 'boundary' events, indicating data discontinuities. Be cautious of filtering and epoching around these events.\n",
      "  raw_obj = mne.io.read_raw_eeglab(set_filepath, preload=True)\n"
     ]
    },
    {
     "name": "stdout",
     "output_type": "stream",
     "text": [
      "[fold_1] Loading TRAIN subject: sub-046 -> dataset/derivatives/sub-046/eeg/sub-046_task-eyesclosed_eeg.set\n"
     ]
    },
    {
     "name": "stderr",
     "output_type": "stream",
     "text": [
      "<ipython-input-4-921ffc81fc19>:47: RuntimeWarning: The data contains 'boundary' events, indicating data discontinuities. Be cautious of filtering and epoching around these events.\n",
      "  raw_obj = mne.io.read_raw_eeglab(set_filepath, preload=True)\n"
     ]
    },
    {
     "name": "stdout",
     "output_type": "stream",
     "text": [
      "[fold_1] Loading TRAIN subject: sub-039 -> dataset/derivatives/sub-039/eeg/sub-039_task-eyesclosed_eeg.set\n"
     ]
    },
    {
     "name": "stderr",
     "output_type": "stream",
     "text": [
      "<ipython-input-4-921ffc81fc19>:47: RuntimeWarning: The data contains 'boundary' events, indicating data discontinuities. Be cautious of filtering and epoching around these events.\n",
      "  raw_obj = mne.io.read_raw_eeglab(set_filepath, preload=True)\n"
     ]
    },
    {
     "name": "stdout",
     "output_type": "stream",
     "text": [
      "[fold_1] Loading TRAIN subject: sub-037 -> dataset/derivatives/sub-037/eeg/sub-037_task-eyesclosed_eeg.set\n",
      "[fold_1] Loading TRAIN subject: sub-064 -> dataset/derivatives/sub-064/eeg/sub-064_task-eyesclosed_eeg.set\n"
     ]
    },
    {
     "name": "stderr",
     "output_type": "stream",
     "text": [
      "<ipython-input-4-921ffc81fc19>:47: RuntimeWarning: The data contains 'boundary' events, indicating data discontinuities. Be cautious of filtering and epoching around these events.\n",
      "  raw_obj = mne.io.read_raw_eeglab(set_filepath, preload=True)\n"
     ]
    },
    {
     "name": "stdout",
     "output_type": "stream",
     "text": [
      "[fold_1] Loading TRAIN subject: sub-063 -> dataset/derivatives/sub-063/eeg/sub-063_task-eyesclosed_eeg.set\n",
      "[fold_1] Loading TRAIN subject: sub-038 -> dataset/derivatives/sub-038/eeg/sub-038_task-eyesclosed_eeg.set"
     ]
    },
    {
     "name": "stderr",
     "output_type": "stream",
     "text": [
      "<ipython-input-4-921ffc81fc19>:47: RuntimeWarning: The data contains 'boundary' events, indicating data discontinuities. Be cautious of filtering and epoching around these events.\n",
      "  raw_obj = mne.io.read_raw_eeglab(set_filepath, preload=True)\n",
      "<ipython-input-4-921ffc81fc19>:47: RuntimeWarning: The data contains 'boundary' events, indicating data discontinuities. Be cautious of filtering and epoching around these events.\n",
      "  raw_obj = mne.io.read_raw_eeglab(set_filepath, preload=True)\n"
     ]
    },
    {
     "name": "stdout",
     "output_type": "stream",
     "text": [
      "\n",
      "[fold_1] Loading TRAIN subject: sub-053 -> dataset/derivatives/sub-053/eeg/sub-053_task-eyesclosed_eeg.set\n"
     ]
    },
    {
     "name": "stderr",
     "output_type": "stream",
     "text": [
      "<ipython-input-4-921ffc81fc19>:47: RuntimeWarning: The data contains 'boundary' events, indicating data discontinuities. Be cautious of filtering and epoching around these events.\n",
      "  raw_obj = mne.io.read_raw_eeglab(set_filepath, preload=True)\n",
      "<ipython-input-4-921ffc81fc19>:47: RuntimeWarning: The data contains 'boundary' events, indicating data discontinuities. Be cautious of filtering and epoching around these events.\n",
      "  raw_obj = mne.io.read_raw_eeglab(set_filepath, preload=True)\n"
     ]
    },
    {
     "name": "stdout",
     "output_type": "stream",
     "text": [
      "[fold_1] Loading TRAIN subject: sub-054 -> dataset/derivatives/sub-054/eeg/sub-054_task-eyesclosed_eeg.set\n",
      "[fold_1] Loading TRAIN subject: sub-062 -> dataset/derivatives/sub-062/eeg/sub-062_task-eyesclosed_eeg.set\n"
     ]
    },
    {
     "name": "stderr",
     "output_type": "stream",
     "text": [
      "<ipython-input-4-921ffc81fc19>:47: RuntimeWarning: The data contains 'boundary' events, indicating data discontinuities. Be cautious of filtering and epoching around these events.\n",
      "  raw_obj = mne.io.read_raw_eeglab(set_filepath, preload=True)\n"
     ]
    },
    {
     "name": "stdout",
     "output_type": "stream",
     "text": [
      "[fold_1] Loading TRAIN subject: sub-065 -> dataset/derivatives/sub-065/eeg/sub-065_task-eyesclosed_eeg.set\n",
      "[fold_1] Loading VAL subject: sub-002 -> dataset/derivatives/sub-002/eeg/sub-002_task-eyesclosed_eeg.set\n",
      "[fold_1] Loading VAL subject: sub-005 -> dataset/derivatives/sub-005/eeg/sub-005_task-eyesclosed_eeg.set\n",
      "[fold_1] Loading VAL subject: sub-032 -> dataset/derivatives/sub-032/eeg/sub-032_task-eyesclosed_eeg.set\n"
     ]
    },
    {
     "name": "stderr",
     "output_type": "stream",
     "text": [
      "<ipython-input-4-921ffc81fc19>:57: RuntimeWarning: The data contains 'boundary' events, indicating data discontinuities. Be cautious of filtering and epoching around these events.\n",
      "  raw_obj = mne.io.read_raw_eeglab(set_filepath, preload=True)\n",
      "<ipython-input-4-921ffc81fc19>:57: RuntimeWarning: The data contains 'boundary' events, indicating data discontinuities. Be cautious of filtering and epoching around these events.\n",
      "  raw_obj = mne.io.read_raw_eeglab(set_filepath, preload=True)\n"
     ]
    },
    {
     "name": "stdout",
     "output_type": "stream",
     "text": [
      "[fold_1] Loading VAL subject: sub-003 -> dataset/derivatives/sub-003/eeg/sub-003_task-eyesclosed_eeg.set\n",
      "[fold_1] Loading VAL subject: sub-022 -> dataset/derivatives/sub-022/eeg/sub-022_task-eyesclosed_eeg.set\n"
     ]
    },
    {
     "name": "stderr",
     "output_type": "stream",
     "text": [
      "<ipython-input-4-921ffc81fc19>:57: RuntimeWarning: The data contains 'boundary' events, indicating data discontinuities. Be cautious of filtering and epoching around these events.\n",
      "  raw_obj = mne.io.read_raw_eeglab(set_filepath, preload=True)\n"
     ]
    },
    {
     "name": "stdout",
     "output_type": "stream",
     "text": [
      "[fold_1] Loading VAL subject: sub-013 -> dataset/derivatives/sub-013/eeg/sub-013_task-eyesclosed_eeg.set\n"
     ]
    },
    {
     "name": "stderr",
     "output_type": "stream",
     "text": [
      "<ipython-input-4-921ffc81fc19>:57: RuntimeWarning: The data contains 'boundary' events, indicating data discontinuities. Be cautious of filtering and epoching around these events.\n",
      "  raw_obj = mne.io.read_raw_eeglab(set_filepath, preload=True)\n",
      "<ipython-input-4-921ffc81fc19>:57: RuntimeWarning: The data contains 'boundary' events, indicating data discontinuities. Be cautious of filtering and epoching around these events.\n",
      "  raw_obj = mne.io.read_raw_eeglab(set_filepath, preload=True)\n"
     ]
    },
    {
     "name": "stdout",
     "output_type": "stream",
     "text": [
      "[fold_1] Loading VAL subject: sub-030 -> dataset/derivatives/sub-030/eeg/sub-030_task-eyesclosed_eeg.set\n",
      "[fold_1] Loading VAL subject: sub-009 -> dataset/derivatives/sub-009/eeg/sub-009_task-eyesclosed_eeg.set\n"
     ]
    },
    {
     "name": "stderr",
     "output_type": "stream",
     "text": [
      "<ipython-input-4-921ffc81fc19>:57: RuntimeWarning: The data contains 'boundary' events, indicating data discontinuities. Be cautious of filtering and epoching around these events.\n",
      "  raw_obj = mne.io.read_raw_eeglab(set_filepath, preload=True)\n"
     ]
    },
    {
     "name": "stdout",
     "output_type": "stream",
     "text": [
      "[fold_1] Loading VAL subject: sub-045 -> dataset/derivatives/sub-045/eeg/sub-045_task-eyesclosed_eeg.set\n"
     ]
    },
    {
     "name": "stderr",
     "output_type": "stream",
     "text": [
      "<ipython-input-4-921ffc81fc19>:57: RuntimeWarning: The data contains 'boundary' events, indicating data discontinuities. Be cautious of filtering and epoching around these events.\n",
      "  raw_obj = mne.io.read_raw_eeglab(set_filepath, preload=True)\n"
     ]
    },
    {
     "name": "stdout",
     "output_type": "stream",
     "text": [
      "[fold_1] Loading VAL subject: sub-047 -> dataset/derivatives/sub-047/eeg/sub-047_task-eyesclosed_eeg.set\n"
     ]
    },
    {
     "name": "stderr",
     "output_type": "stream",
     "text": [
      "<ipython-input-4-921ffc81fc19>:57: RuntimeWarning: The data contains 'boundary' events, indicating data discontinuities. Be cautious of filtering and epoching around these events.\n",
      "  raw_obj = mne.io.read_raw_eeglab(set_filepath, preload=True)\n"
     ]
    },
    {
     "name": "stdout",
     "output_type": "stream",
     "text": [
      "[fold_1] Loading VAL subject: sub-041 -> dataset/derivatives/sub-041/eeg/sub-041_task-eyesclosed_eeg.set\n"
     ]
    },
    {
     "name": "stderr",
     "output_type": "stream",
     "text": [
      "<ipython-input-4-921ffc81fc19>:57: RuntimeWarning: The data contains 'boundary' events, indicating data discontinuities. Be cautious of filtering and epoching around these events.\n",
      "  raw_obj = mne.io.read_raw_eeglab(set_filepath, preload=True)\n",
      "<ipython-input-4-921ffc81fc19>:57: RuntimeWarning: The data contains 'boundary' events, indicating data discontinuities. Be cautious of filtering and epoching around these events.\n",
      "  raw_obj = mne.io.read_raw_eeglab(set_filepath, preload=True)\n"
     ]
    },
    {
     "name": "stdout",
     "output_type": "stream",
     "text": [
      "[fold_1] Loading VAL subject: sub-055 -> dataset/derivatives/sub-055/eeg/sub-055_task-eyesclosed_eeg.set\n",
      "[fold_1] Loading VAL subject: sub-052 -> dataset/derivatives/sub-052/eeg/sub-052_task-eyesclosed_eeg.set\n"
     ]
    },
    {
     "name": "stderr",
     "output_type": "stream",
     "text": [
      "<ipython-input-4-921ffc81fc19>:57: RuntimeWarning: The data contains 'boundary' events, indicating data discontinuities. Be cautious of filtering and epoching around these events.\n",
      "  raw_obj = mne.io.read_raw_eeglab(set_filepath, preload=True)\n"
     ]
    }
   ],
   "source": [
    "def loadData(\n",
    "    fold_name: str,\n",
    "    kfold_dict: dict,\n",
    "    data_path: str,\n",
    "    set_suffix: str = \"_task-eyesclosed_eeg.set\"\n",
    "):\n",
    "    \"\"\"\n",
    "    Load MNE Raw objects for all training and validation subjects in one fold.\n",
    "    \n",
    "    Parameters\n",
    "    ----------\n",
    "    fold_name : str\n",
    "        e.g. 'fold_1', 'fold_2', etc., as found in kfold_dict.\n",
    "    kfold_dict : dict\n",
    "        The JSON structure loaded from kfold_splits.json\n",
    "    data_path : str\n",
    "        Base directory where the sub-XXX folders are found.\n",
    "        Typically something like '/path/to/dataset/derivatives'\n",
    "        if .set files live in a derivatives folder.\n",
    "    set_suffix : str\n",
    "        The filename pattern for the EEGLAB .set file, \n",
    "        e.g. '_task-eyesclosed_eeg.set'. Adjust as needed.\n",
    "    \n",
    "    Returns\n",
    "    -------\n",
    "    train_raws : list\n",
    "        List of mne.io.Raw objects for all training subjects in this fold.\n",
    "    val_raws : list\n",
    "        List of mne.io.Raw objects for all validation subjects in this fold.\n",
    "    \"\"\"\n",
    "\n",
    "    fold_data = kfold_dict[fold_name]\n",
    "    train_subjects = fold_data[\"train\"]\n",
    "    val_subjects   = fold_data[\"validation\"]\n",
    "\n",
    "    train_raws = []\n",
    "    val_raws   = []\n",
    "\n",
    "    # 1) Load all training subjects\n",
    "    for subj_id in train_subjects:\n",
    "        # Construct the filepath to the .set file\n",
    "        subject_folder = os.path.join(data_path, subj_id, \"eeg\")\n",
    "        set_filename   = f\"{subj_id}{set_suffix}\"\n",
    "        set_filepath   = os.path.join(subject_folder, set_filename)\n",
    "\n",
    "        print(f\"[{fold_name}] Loading TRAIN subject: {subj_id} -> {set_filepath}\")\n",
    "        raw_obj = mne.io.read_raw_eeglab(set_filepath, preload=True)\n",
    "        train_raws.append(raw_obj)\n",
    "\n",
    "    # 2) Load all validation subjects\n",
    "    for subj_id in val_subjects:\n",
    "        subject_folder = os.path.join(data_path, subj_id, \"eeg\")\n",
    "        set_filename   = f\"{subj_id}{set_suffix}\"\n",
    "        set_filepath   = os.path.join(subject_folder, set_filename)\n",
    "\n",
    "        print(f\"[{fold_name}] Loading VAL subject: {subj_id} -> {set_filepath}\")\n",
    "        raw_obj = mne.io.read_raw_eeglab(set_filepath, preload=True)\n",
    "        val_raws.append(raw_obj)\n",
    "\n",
    "    return train_raws, val_raws\n",
    "\n",
    "# Example usage:\n",
    "if __name__ == \"__main__\":\n",
    "    # 0) Load kfold_splits.json\n",
    "    with open(\"alzheimers_vs_healthy_splits.json\", \"r\") as f:\n",
    "        kfold_splits = json.load(f)\n",
    "\n",
    "    # 1) Choose your data path (where the sub-XXX folders live)\n",
    "    #    If your .set files are stored in a 'derivatives' folder, use that:\n",
    "    data_dir = \"dataset/derivatives\"\n",
    "\n",
    "    # 2) Load data for fold_1 (as an example)\n",
    "    fold_name = \"fold_1\"\n",
    "    train_raws, val_raws = loadData(\n",
    "        fold_name=fold_name,\n",
    "        kfold_dict=kfold_splits,\n",
    "        data_path=data_dir,\n",
    "        set_suffix=\"_task-eyesclosed_eeg.set\"\n",
    "    )\n",
    "\n",
    "    # Now you have 'train_raws' and 'val_raws' as lists of MNE Raw objects.\n",
    "    # You can proceed with feature selection or further processing.\n"
   ]
  },
  {
   "cell_type": "code",
   "execution_count": 5,
   "metadata": {},
   "outputs": [
    {
     "name": "stdout",
     "output_type": "stream",
     "text": [
      "  participant_id Gender  Age Group  MMSE\n",
      "0        sub-001      F   57     A    16\n",
      "1        sub-002      F   78     A    22\n",
      "2        sub-003      M   70     A    14\n",
      "3        sub-004      F   67     A    20\n",
      "4        sub-005      M   70     A    22\n",
      "Group mapping: {'sub-001': 'A', 'sub-002': 'A', 'sub-003': 'A', 'sub-004': 'A', 'sub-005': 'A', 'sub-006': 'A', 'sub-007': 'A', 'sub-008': 'A', 'sub-009': 'A', 'sub-010': 'A', 'sub-011': 'A', 'sub-012': 'A', 'sub-013': 'A', 'sub-014': 'A', 'sub-015': 'A', 'sub-016': 'A', 'sub-017': 'A', 'sub-018': 'A', 'sub-019': 'A', 'sub-020': 'A', 'sub-021': 'A', 'sub-022': 'A', 'sub-023': 'A', 'sub-024': 'A', 'sub-025': 'A', 'sub-026': 'A', 'sub-027': 'A', 'sub-028': 'A', 'sub-029': 'A', 'sub-030': 'A', 'sub-031': 'A', 'sub-032': 'A', 'sub-033': 'A', 'sub-034': 'A', 'sub-035': 'A', 'sub-036': 'A', 'sub-037': 'C', 'sub-038': 'C', 'sub-039': 'C', 'sub-040': 'C', 'sub-041': 'C', 'sub-042': 'C', 'sub-043': 'C', 'sub-044': 'C', 'sub-045': 'C', 'sub-046': 'C', 'sub-047': 'C', 'sub-048': 'C', 'sub-049': 'C', 'sub-050': 'C', 'sub-051': 'C', 'sub-052': 'C', 'sub-053': 'C', 'sub-054': 'C', 'sub-055': 'C', 'sub-056': 'C', 'sub-057': 'C', 'sub-058': 'C', 'sub-059': 'C', 'sub-060': 'C', 'sub-061': 'C', 'sub-062': 'C', 'sub-063': 'C', 'sub-064': 'C', 'sub-065': 'C', 'sub-066': 'F', 'sub-067': 'F', 'sub-068': 'F', 'sub-069': 'F', 'sub-070': 'F', 'sub-071': 'F', 'sub-072': 'F', 'sub-073': 'F', 'sub-074': 'F', 'sub-075': 'F', 'sub-076': 'F', 'sub-077': 'F', 'sub-078': 'F', 'sub-079': 'F', 'sub-080': 'F', 'sub-081': 'F', 'sub-082': 'F', 'sub-083': 'F', 'sub-084': 'F', 'sub-085': 'F', 'sub-086': 'F', 'sub-087': 'F', 'sub-088': 'F'}\n",
      "Unique groups: ['A' 'C' 'F']\n",
      "Label map: {'A': 0, 'C': 1, 'F': 2}\n",
      "Not setting metadata\n",
      "2 matching events found\n",
      "No baseline correction applied\n",
      "0 projection items activated\n",
      "Not setting metadata\n",
      "14 matching events found\n",
      "No baseline correction applied\n",
      "0 projection items activated\n",
      "Not setting metadata\n",
      "1 matching events found\n",
      "No baseline correction applied\n",
      "0 projection items activated\n",
      "Not setting metadata\n",
      "7 matching events found\n",
      "No baseline correction applied\n",
      "0 projection items activated\n",
      "Not setting metadata\n",
      "2 matching events found\n",
      "No baseline correction applied\n",
      "0 projection items activated\n",
      "Not setting metadata\n",
      "7 matching events found\n",
      "No baseline correction applied\n",
      "0 projection items activated\n",
      "Not setting metadata\n",
      "9 matching events found\n",
      "No baseline correction applied\n",
      "0 projection items activated\n",
      "Not setting metadata\n",
      "3 matching events found\n",
      "No baseline correction applied\n",
      "0 projection items activated\n"
     ]
    },
    {
     "name": "stderr",
     "output_type": "stream",
     "text": [
      "<ipython-input-5-396ce0feb410>:58: FutureWarning: The current default of copy=False will change to copy=True in 1.7. Set the value of copy explicitly to avoid this warning\n",
      "  data = epochs.get_data()[:, :, :n_samples_expected]\n",
      "<ipython-input-5-396ce0feb410>:63: FutureWarning: The current default of copy=False will change to copy=True in 1.7. Set the value of copy explicitly to avoid this warning\n",
      "  subject_labels = np.full(new_epochs.get_data().shape[0], label)\n",
      "<ipython-input-5-396ce0feb410>:58: FutureWarning: The current default of copy=False will change to copy=True in 1.7. Set the value of copy explicitly to avoid this warning\n",
      "  data = epochs.get_data()[:, :, :n_samples_expected]\n",
      "<ipython-input-5-396ce0feb410>:63: FutureWarning: The current default of copy=False will change to copy=True in 1.7. Set the value of copy explicitly to avoid this warning\n",
      "  subject_labels = np.full(new_epochs.get_data().shape[0], label)\n",
      "<ipython-input-5-396ce0feb410>:58: FutureWarning: The current default of copy=False will change to copy=True in 1.7. Set the value of copy explicitly to avoid this warning\n",
      "  data = epochs.get_data()[:, :, :n_samples_expected]\n",
      "<ipython-input-5-396ce0feb410>:63: FutureWarning: The current default of copy=False will change to copy=True in 1.7. Set the value of copy explicitly to avoid this warning\n",
      "  subject_labels = np.full(new_epochs.get_data().shape[0], label)\n",
      "<ipython-input-5-396ce0feb410>:58: FutureWarning: The current default of copy=False will change to copy=True in 1.7. Set the value of copy explicitly to avoid this warning\n",
      "  data = epochs.get_data()[:, :, :n_samples_expected]\n",
      "<ipython-input-5-396ce0feb410>:63: FutureWarning: The current default of copy=False will change to copy=True in 1.7. Set the value of copy explicitly to avoid this warning\n",
      "  subject_labels = np.full(new_epochs.get_data().shape[0], label)\n",
      "<ipython-input-5-396ce0feb410>:58: FutureWarning: The current default of copy=False will change to copy=True in 1.7. Set the value of copy explicitly to avoid this warning\n",
      "  data = epochs.get_data()[:, :, :n_samples_expected]\n",
      "<ipython-input-5-396ce0feb410>:63: FutureWarning: The current default of copy=False will change to copy=True in 1.7. Set the value of copy explicitly to avoid this warning\n",
      "  subject_labels = np.full(new_epochs.get_data().shape[0], label)\n",
      "<ipython-input-5-396ce0feb410>:58: FutureWarning: The current default of copy=False will change to copy=True in 1.7. Set the value of copy explicitly to avoid this warning\n",
      "  data = epochs.get_data()[:, :, :n_samples_expected]\n",
      "<ipython-input-5-396ce0feb410>:63: FutureWarning: The current default of copy=False will change to copy=True in 1.7. Set the value of copy explicitly to avoid this warning\n",
      "  subject_labels = np.full(new_epochs.get_data().shape[0], label)\n",
      "<ipython-input-5-396ce0feb410>:58: FutureWarning: The current default of copy=False will change to copy=True in 1.7. Set the value of copy explicitly to avoid this warning\n",
      "  data = epochs.get_data()[:, :, :n_samples_expected]\n",
      "<ipython-input-5-396ce0feb410>:63: FutureWarning: The current default of copy=False will change to copy=True in 1.7. Set the value of copy explicitly to avoid this warning\n",
      "  subject_labels = np.full(new_epochs.get_data().shape[0], label)\n",
      "<ipython-input-5-396ce0feb410>:58: FutureWarning: The current default of copy=False will change to copy=True in 1.7. Set the value of copy explicitly to avoid this warning\n",
      "  data = epochs.get_data()[:, :, :n_samples_expected]\n",
      "<ipython-input-5-396ce0feb410>:63: FutureWarning: The current default of copy=False will change to copy=True in 1.7. Set the value of copy explicitly to avoid this warning\n",
      "  subject_labels = np.full(new_epochs.get_data().shape[0], label)\n"
     ]
    },
    {
     "name": "stdout",
     "output_type": "stream",
     "text": [
      "Not setting metadata\n",
      "1 matching events found\n",
      "No baseline correction applied\n",
      "0 projection items activated\n",
      "Not setting metadata\n",
      "3 matching events found\n",
      "No baseline correction applied\n",
      "0 projection items activated\n",
      "Not setting metadata\n",
      "2 matching events found\n",
      "No baseline correction applied\n",
      "0 projection items activated\n"
     ]
    },
    {
     "name": "stderr",
     "output_type": "stream",
     "text": [
      "<ipython-input-5-396ce0feb410>:58: FutureWarning: The current default of copy=False will change to copy=True in 1.7. Set the value of copy explicitly to avoid this warning\n",
      "  data = epochs.get_data()[:, :, :n_samples_expected]\n",
      "<ipython-input-5-396ce0feb410>:63: FutureWarning: The current default of copy=False will change to copy=True in 1.7. Set the value of copy explicitly to avoid this warning\n",
      "  subject_labels = np.full(new_epochs.get_data().shape[0], label)\n",
      "<ipython-input-5-396ce0feb410>:58: FutureWarning: The current default of copy=False will change to copy=True in 1.7. Set the value of copy explicitly to avoid this warning\n",
      "  data = epochs.get_data()[:, :, :n_samples_expected]\n",
      "<ipython-input-5-396ce0feb410>:63: FutureWarning: The current default of copy=False will change to copy=True in 1.7. Set the value of copy explicitly to avoid this warning\n",
      "  subject_labels = np.full(new_epochs.get_data().shape[0], label)\n",
      "<ipython-input-5-396ce0feb410>:58: FutureWarning: The current default of copy=False will change to copy=True in 1.7. Set the value of copy explicitly to avoid this warning\n",
      "  data = epochs.get_data()[:, :, :n_samples_expected]\n",
      "<ipython-input-5-396ce0feb410>:63: FutureWarning: The current default of copy=False will change to copy=True in 1.7. Set the value of copy explicitly to avoid this warning\n",
      "  subject_labels = np.full(new_epochs.get_data().shape[0], label)\n"
     ]
    },
    {
     "name": "stdout",
     "output_type": "stream",
     "text": [
      "No valid events for subject unknown. Creating fixed-length epochs.\n",
      "Not setting metadata\n",
      "869 matching events found\n",
      "No baseline correction applied\n",
      "0 projection items activated\n",
      "Using data from preloaded Raw for 869 events and 500 original time points ...\n",
      "0 bad epochs dropped\n",
      "Not setting metadata\n",
      "869 matching events found\n",
      "No baseline correction applied\n",
      "0 projection items activated\n",
      "Not setting metadata\n",
      "1 matching events found\n",
      "No baseline correction applied\n",
      "0 projection items activated\n",
      "Not setting metadata\n",
      "1 matching events found\n",
      "No baseline correction applied\n",
      "0 projection items activated\n",
      "Not setting metadata\n",
      "13 matching events found\n",
      "No baseline correction applied\n",
      "0 projection items activated\n",
      "Not setting metadata\n",
      "1 matching events found\n",
      "No baseline correction applied\n",
      "0 projection items activated\n",
      "Not setting metadata\n",
      "12 matching events found\n",
      "No baseline correction applied\n",
      "0 projection items activated\n",
      "Not setting metadata\n",
      "6 matching events found\n",
      "No baseline correction applied\n",
      "0 projection items activated\n"
     ]
    },
    {
     "name": "stderr",
     "output_type": "stream",
     "text": [
      "<ipython-input-5-396ce0feb410>:58: FutureWarning: The current default of copy=False will change to copy=True in 1.7. Set the value of copy explicitly to avoid this warning\n",
      "  data = epochs.get_data()[:, :, :n_samples_expected]\n",
      "<ipython-input-5-396ce0feb410>:63: FutureWarning: The current default of copy=False will change to copy=True in 1.7. Set the value of copy explicitly to avoid this warning\n",
      "  subject_labels = np.full(new_epochs.get_data().shape[0], label)\n",
      "<ipython-input-5-396ce0feb410>:58: FutureWarning: The current default of copy=False will change to copy=True in 1.7. Set the value of copy explicitly to avoid this warning\n",
      "  data = epochs.get_data()[:, :, :n_samples_expected]\n",
      "<ipython-input-5-396ce0feb410>:63: FutureWarning: The current default of copy=False will change to copy=True in 1.7. Set the value of copy explicitly to avoid this warning\n",
      "  subject_labels = np.full(new_epochs.get_data().shape[0], label)\n",
      "<ipython-input-5-396ce0feb410>:58: FutureWarning: The current default of copy=False will change to copy=True in 1.7. Set the value of copy explicitly to avoid this warning\n",
      "  data = epochs.get_data()[:, :, :n_samples_expected]\n",
      "<ipython-input-5-396ce0feb410>:63: FutureWarning: The current default of copy=False will change to copy=True in 1.7. Set the value of copy explicitly to avoid this warning\n",
      "  subject_labels = np.full(new_epochs.get_data().shape[0], label)\n",
      "<ipython-input-5-396ce0feb410>:58: FutureWarning: The current default of copy=False will change to copy=True in 1.7. Set the value of copy explicitly to avoid this warning\n",
      "  data = epochs.get_data()[:, :, :n_samples_expected]\n",
      "<ipython-input-5-396ce0feb410>:63: FutureWarning: The current default of copy=False will change to copy=True in 1.7. Set the value of copy explicitly to avoid this warning\n",
      "  subject_labels = np.full(new_epochs.get_data().shape[0], label)\n",
      "<ipython-input-5-396ce0feb410>:58: FutureWarning: The current default of copy=False will change to copy=True in 1.7. Set the value of copy explicitly to avoid this warning\n",
      "  data = epochs.get_data()[:, :, :n_samples_expected]\n",
      "<ipython-input-5-396ce0feb410>:63: FutureWarning: The current default of copy=False will change to copy=True in 1.7. Set the value of copy explicitly to avoid this warning\n",
      "  subject_labels = np.full(new_epochs.get_data().shape[0], label)\n",
      "<ipython-input-5-396ce0feb410>:58: FutureWarning: The current default of copy=False will change to copy=True in 1.7. Set the value of copy explicitly to avoid this warning\n",
      "  data = epochs.get_data()[:, :, :n_samples_expected]\n",
      "<ipython-input-5-396ce0feb410>:63: FutureWarning: The current default of copy=False will change to copy=True in 1.7. Set the value of copy explicitly to avoid this warning\n",
      "  subject_labels = np.full(new_epochs.get_data().shape[0], label)\n",
      "<ipython-input-5-396ce0feb410>:58: FutureWarning: The current default of copy=False will change to copy=True in 1.7. Set the value of copy explicitly to avoid this warning\n",
      "  data = epochs.get_data()[:, :, :n_samples_expected]\n",
      "<ipython-input-5-396ce0feb410>:63: FutureWarning: The current default of copy=False will change to copy=True in 1.7. Set the value of copy explicitly to avoid this warning\n",
      "  subject_labels = np.full(new_epochs.get_data().shape[0], label)\n"
     ]
    },
    {
     "name": "stdout",
     "output_type": "stream",
     "text": [
      "Not setting metadata\n",
      "9 matching events found\n",
      "No baseline correction applied\n",
      "0 projection items activated\n",
      "Not setting metadata\n",
      "6 matching events found\n",
      "No baseline correction applied\n",
      "0 projection items activated\n",
      "Not setting metadata\n",
      "18 matching events found\n",
      "No baseline correction applied\n",
      "0 projection items activated\n",
      "Not setting metadata\n",
      "6 matching events found\n",
      "No baseline correction applied\n",
      "0 projection items activated\n",
      "Not setting metadata\n",
      "3 matching events found\n",
      "No baseline correction applied\n",
      "0 projection items activated\n",
      "No valid events for subject unknown. Creating fixed-length epochs.\n",
      "Not setting metadata\n",
      "599 matching events found\n",
      "No baseline correction applied\n",
      "0 projection items activated\n",
      "Using data from preloaded Raw for 599 events and 500 original time points ...\n"
     ]
    },
    {
     "name": "stderr",
     "output_type": "stream",
     "text": [
      "<ipython-input-5-396ce0feb410>:58: FutureWarning: The current default of copy=False will change to copy=True in 1.7. Set the value of copy explicitly to avoid this warning\n",
      "  data = epochs.get_data()[:, :, :n_samples_expected]\n",
      "<ipython-input-5-396ce0feb410>:63: FutureWarning: The current default of copy=False will change to copy=True in 1.7. Set the value of copy explicitly to avoid this warning\n",
      "  subject_labels = np.full(new_epochs.get_data().shape[0], label)\n",
      "<ipython-input-5-396ce0feb410>:58: FutureWarning: The current default of copy=False will change to copy=True in 1.7. Set the value of copy explicitly to avoid this warning\n",
      "  data = epochs.get_data()[:, :, :n_samples_expected]\n",
      "<ipython-input-5-396ce0feb410>:63: FutureWarning: The current default of copy=False will change to copy=True in 1.7. Set the value of copy explicitly to avoid this warning\n",
      "  subject_labels = np.full(new_epochs.get_data().shape[0], label)\n",
      "<ipython-input-5-396ce0feb410>:58: FutureWarning: The current default of copy=False will change to copy=True in 1.7. Set the value of copy explicitly to avoid this warning\n",
      "  data = epochs.get_data()[:, :, :n_samples_expected]\n",
      "<ipython-input-5-396ce0feb410>:63: FutureWarning: The current default of copy=False will change to copy=True in 1.7. Set the value of copy explicitly to avoid this warning\n",
      "  subject_labels = np.full(new_epochs.get_data().shape[0], label)\n",
      "<ipython-input-5-396ce0feb410>:58: FutureWarning: The current default of copy=False will change to copy=True in 1.7. Set the value of copy explicitly to avoid this warning\n",
      "  data = epochs.get_data()[:, :, :n_samples_expected]\n",
      "<ipython-input-5-396ce0feb410>:63: FutureWarning: The current default of copy=False will change to copy=True in 1.7. Set the value of copy explicitly to avoid this warning\n",
      "  subject_labels = np.full(new_epochs.get_data().shape[0], label)\n",
      "<ipython-input-5-396ce0feb410>:58: FutureWarning: The current default of copy=False will change to copy=True in 1.7. Set the value of copy explicitly to avoid this warning\n",
      "  data = epochs.get_data()[:, :, :n_samples_expected]\n",
      "<ipython-input-5-396ce0feb410>:63: FutureWarning: The current default of copy=False will change to copy=True in 1.7. Set the value of copy explicitly to avoid this warning\n",
      "  subject_labels = np.full(new_epochs.get_data().shape[0], label)\n"
     ]
    },
    {
     "name": "stdout",
     "output_type": "stream",
     "text": [
      "0 bad epochs dropped\n",
      "Not setting metadata\n",
      "599 matching events found\n",
      "No baseline correction applied\n",
      "0 projection items activated\n",
      "Not setting metadata\n",
      "4 matching events found\n",
      "No baseline correction applied\n",
      "0 projection items activated\n",
      "Not setting metadata\n",
      "4 matching events found\n",
      "No baseline correction applied\n",
      "0 projection items activated\n",
      "Not setting metadata\n",
      "8 matching events found\n",
      "No baseline correction applied\n",
      "0 projection items activated\n",
      "Not setting metadata\n",
      "2 matching events found\n",
      "No baseline correction applied\n",
      "0 projection items activated\n",
      "No valid events for subject unknown. Creating fixed-length epochs.\n",
      "Not setting metadata\n",
      "829 matching events found\n",
      "No baseline correction applied\n",
      "0 projection items activated\n",
      "Using data from preloaded Raw for 829 events and 500 original time points ...\n"
     ]
    },
    {
     "name": "stderr",
     "output_type": "stream",
     "text": [
      "<ipython-input-5-396ce0feb410>:58: FutureWarning: The current default of copy=False will change to copy=True in 1.7. Set the value of copy explicitly to avoid this warning\n",
      "  data = epochs.get_data()[:, :, :n_samples_expected]\n",
      "<ipython-input-5-396ce0feb410>:63: FutureWarning: The current default of copy=False will change to copy=True in 1.7. Set the value of copy explicitly to avoid this warning\n",
      "  subject_labels = np.full(new_epochs.get_data().shape[0], label)\n",
      "<ipython-input-5-396ce0feb410>:58: FutureWarning: The current default of copy=False will change to copy=True in 1.7. Set the value of copy explicitly to avoid this warning\n",
      "  data = epochs.get_data()[:, :, :n_samples_expected]\n",
      "<ipython-input-5-396ce0feb410>:63: FutureWarning: The current default of copy=False will change to copy=True in 1.7. Set the value of copy explicitly to avoid this warning\n",
      "  subject_labels = np.full(new_epochs.get_data().shape[0], label)\n",
      "<ipython-input-5-396ce0feb410>:58: FutureWarning: The current default of copy=False will change to copy=True in 1.7. Set the value of copy explicitly to avoid this warning\n",
      "  data = epochs.get_data()[:, :, :n_samples_expected]\n",
      "<ipython-input-5-396ce0feb410>:63: FutureWarning: The current default of copy=False will change to copy=True in 1.7. Set the value of copy explicitly to avoid this warning\n",
      "  subject_labels = np.full(new_epochs.get_data().shape[0], label)\n",
      "<ipython-input-5-396ce0feb410>:58: FutureWarning: The current default of copy=False will change to copy=True in 1.7. Set the value of copy explicitly to avoid this warning\n",
      "  data = epochs.get_data()[:, :, :n_samples_expected]\n",
      "<ipython-input-5-396ce0feb410>:63: FutureWarning: The current default of copy=False will change to copy=True in 1.7. Set the value of copy explicitly to avoid this warning\n",
      "  subject_labels = np.full(new_epochs.get_data().shape[0], label)\n",
      "<ipython-input-5-396ce0feb410>:58: FutureWarning: The current default of copy=False will change to copy=True in 1.7. Set the value of copy explicitly to avoid this warning\n",
      "  data = epochs.get_data()[:, :, :n_samples_expected]\n",
      "<ipython-input-5-396ce0feb410>:63: FutureWarning: The current default of copy=False will change to copy=True in 1.7. Set the value of copy explicitly to avoid this warning\n",
      "  subject_labels = np.full(new_epochs.get_data().shape[0], label)\n"
     ]
    },
    {
     "name": "stdout",
     "output_type": "stream",
     "text": [
      "0 bad epochs dropped\n",
      "Not setting metadata\n",
      "829 matching events found\n",
      "No baseline correction applied\n",
      "0 projection items activated\n",
      "No valid events for subject unknown. Creating fixed-length epochs.\n",
      "Not setting metadata\n",
      "881 matching events found\n",
      "No baseline correction applied\n",
      "0 projection items activated\n",
      "Using data from preloaded Raw for 881 events and 500 original time points ...\n"
     ]
    },
    {
     "name": "stderr",
     "output_type": "stream",
     "text": [
      "<ipython-input-5-396ce0feb410>:58: FutureWarning: The current default of copy=False will change to copy=True in 1.7. Set the value of copy explicitly to avoid this warning\n",
      "  data = epochs.get_data()[:, :, :n_samples_expected]\n",
      "<ipython-input-5-396ce0feb410>:63: FutureWarning: The current default of copy=False will change to copy=True in 1.7. Set the value of copy explicitly to avoid this warning\n",
      "  subject_labels = np.full(new_epochs.get_data().shape[0], label)\n"
     ]
    },
    {
     "name": "stdout",
     "output_type": "stream",
     "text": [
      "0 bad epochs dropped\n",
      "Not setting metadata\n",
      "881 matching events found\n",
      "No baseline correction applied\n",
      "0 projection items activated\n",
      "Not setting metadata\n",
      "8 matching events found\n",
      "No baseline correction applied\n",
      "0 projection items activated\n",
      "Not setting metadata\n",
      "2 matching events found\n",
      "No baseline correction applied\n",
      "0 projection items activated\n",
      "Not setting metadata\n",
      "5 matching events found\n",
      "No baseline correction applied\n",
      "0 projection items activated\n",
      "Not setting metadata\n",
      "19 matching events found\n",
      "No baseline correction applied\n",
      "0 projection items activated\n",
      "Not setting metadata\n",
      "56 matching events found\n",
      "No baseline correction applied\n",
      "0 projection items activated\n",
      "No valid events for subject unknown. Creating fixed-length epochs.\n",
      "Not setting metadata\n",
      "796 matching events found\n",
      "No baseline correction applied\n",
      "0 projection items activated\n",
      "Using data from preloaded Raw for 796 events and 500 original time points ...\n"
     ]
    },
    {
     "name": "stderr",
     "output_type": "stream",
     "text": [
      "<ipython-input-5-396ce0feb410>:58: FutureWarning: The current default of copy=False will change to copy=True in 1.7. Set the value of copy explicitly to avoid this warning\n",
      "  data = epochs.get_data()[:, :, :n_samples_expected]\n",
      "<ipython-input-5-396ce0feb410>:63: FutureWarning: The current default of copy=False will change to copy=True in 1.7. Set the value of copy explicitly to avoid this warning\n",
      "  subject_labels = np.full(new_epochs.get_data().shape[0], label)\n",
      "<ipython-input-5-396ce0feb410>:58: FutureWarning: The current default of copy=False will change to copy=True in 1.7. Set the value of copy explicitly to avoid this warning\n",
      "  data = epochs.get_data()[:, :, :n_samples_expected]\n",
      "<ipython-input-5-396ce0feb410>:63: FutureWarning: The current default of copy=False will change to copy=True in 1.7. Set the value of copy explicitly to avoid this warning\n",
      "  subject_labels = np.full(new_epochs.get_data().shape[0], label)\n",
      "<ipython-input-5-396ce0feb410>:58: FutureWarning: The current default of copy=False will change to copy=True in 1.7. Set the value of copy explicitly to avoid this warning\n",
      "  data = epochs.get_data()[:, :, :n_samples_expected]\n",
      "<ipython-input-5-396ce0feb410>:63: FutureWarning: The current default of copy=False will change to copy=True in 1.7. Set the value of copy explicitly to avoid this warning\n",
      "  subject_labels = np.full(new_epochs.get_data().shape[0], label)\n",
      "<ipython-input-5-396ce0feb410>:58: FutureWarning: The current default of copy=False will change to copy=True in 1.7. Set the value of copy explicitly to avoid this warning\n",
      "  data = epochs.get_data()[:, :, :n_samples_expected]\n",
      "<ipython-input-5-396ce0feb410>:63: FutureWarning: The current default of copy=False will change to copy=True in 1.7. Set the value of copy explicitly to avoid this warning\n",
      "  subject_labels = np.full(new_epochs.get_data().shape[0], label)\n",
      "<ipython-input-5-396ce0feb410>:58: FutureWarning: The current default of copy=False will change to copy=True in 1.7. Set the value of copy explicitly to avoid this warning\n",
      "  data = epochs.get_data()[:, :, :n_samples_expected]\n",
      "<ipython-input-5-396ce0feb410>:63: FutureWarning: The current default of copy=False will change to copy=True in 1.7. Set the value of copy explicitly to avoid this warning\n",
      "  subject_labels = np.full(new_epochs.get_data().shape[0], label)\n",
      "<ipython-input-5-396ce0feb410>:58: FutureWarning: The current default of copy=False will change to copy=True in 1.7. Set the value of copy explicitly to avoid this warning\n",
      "  data = epochs.get_data()[:, :, :n_samples_expected]\n",
      "<ipython-input-5-396ce0feb410>:63: FutureWarning: The current default of copy=False will change to copy=True in 1.7. Set the value of copy explicitly to avoid this warning\n",
      "  subject_labels = np.full(new_epochs.get_data().shape[0], label)\n"
     ]
    },
    {
     "name": "stdout",
     "output_type": "stream",
     "text": [
      "0 bad epochs dropped\n",
      "Not setting metadata\n",
      "796 matching events found\n",
      "No baseline correction applied\n",
      "0 projection items activated\n",
      "Not setting metadata\n",
      "6 matching events found\n",
      "No baseline correction applied\n",
      "0 projection items activated\n",
      "Not setting metadata\n",
      "2 matching events found\n",
      "No baseline correction applied\n",
      "0 projection items activated\n",
      "Not setting metadata\n",
      "3 matching events found\n",
      "No baseline correction applied\n",
      "0 projection items activated\n",
      "Not setting metadata\n",
      "33 matching events found\n",
      "No baseline correction applied\n",
      "0 projection items activated\n",
      "Not setting metadata\n",
      "4 matching events found\n",
      "No baseline correction applied\n",
      "0 projection items activated\n",
      "Not setting metadata\n",
      "14 matching events found\n",
      "No baseline correction applied\n",
      "0 projection items activated\n",
      "Not setting metadata\n",
      "4 matching events found\n",
      "No baseline correction applied\n",
      "0 projection items activated\n",
      "Not setting metadata\n",
      "6 matching events found\n",
      "No baseline correction applied\n",
      "0 projection items activated\n",
      "No valid events for subject unknown. Creating fixed-length epochs.\n",
      "Not setting metadata\n",
      "777 matching events found\n",
      "No baseline correction applied\n",
      "0 projection items activated\n",
      "Using data from preloaded Raw for 777 events and 500 original time points ...\n"
     ]
    },
    {
     "name": "stderr",
     "output_type": "stream",
     "text": [
      "<ipython-input-5-396ce0feb410>:58: FutureWarning: The current default of copy=False will change to copy=True in 1.7. Set the value of copy explicitly to avoid this warning\n",
      "  data = epochs.get_data()[:, :, :n_samples_expected]\n",
      "<ipython-input-5-396ce0feb410>:63: FutureWarning: The current default of copy=False will change to copy=True in 1.7. Set the value of copy explicitly to avoid this warning\n",
      "  subject_labels = np.full(new_epochs.get_data().shape[0], label)\n",
      "<ipython-input-5-396ce0feb410>:58: FutureWarning: The current default of copy=False will change to copy=True in 1.7. Set the value of copy explicitly to avoid this warning\n",
      "  data = epochs.get_data()[:, :, :n_samples_expected]\n",
      "<ipython-input-5-396ce0feb410>:63: FutureWarning: The current default of copy=False will change to copy=True in 1.7. Set the value of copy explicitly to avoid this warning\n",
      "  subject_labels = np.full(new_epochs.get_data().shape[0], label)\n",
      "<ipython-input-5-396ce0feb410>:58: FutureWarning: The current default of copy=False will change to copy=True in 1.7. Set the value of copy explicitly to avoid this warning\n",
      "  data = epochs.get_data()[:, :, :n_samples_expected]\n",
      "<ipython-input-5-396ce0feb410>:63: FutureWarning: The current default of copy=False will change to copy=True in 1.7. Set the value of copy explicitly to avoid this warning\n",
      "  subject_labels = np.full(new_epochs.get_data().shape[0], label)\n",
      "<ipython-input-5-396ce0feb410>:58: FutureWarning: The current default of copy=False will change to copy=True in 1.7. Set the value of copy explicitly to avoid this warning\n",
      "  data = epochs.get_data()[:, :, :n_samples_expected]\n",
      "<ipython-input-5-396ce0feb410>:63: FutureWarning: The current default of copy=False will change to copy=True in 1.7. Set the value of copy explicitly to avoid this warning\n",
      "  subject_labels = np.full(new_epochs.get_data().shape[0], label)\n",
      "<ipython-input-5-396ce0feb410>:58: FutureWarning: The current default of copy=False will change to copy=True in 1.7. Set the value of copy explicitly to avoid this warning\n",
      "  data = epochs.get_data()[:, :, :n_samples_expected]\n",
      "<ipython-input-5-396ce0feb410>:63: FutureWarning: The current default of copy=False will change to copy=True in 1.7. Set the value of copy explicitly to avoid this warning\n",
      "  subject_labels = np.full(new_epochs.get_data().shape[0], label)\n",
      "<ipython-input-5-396ce0feb410>:58: FutureWarning: The current default of copy=False will change to copy=True in 1.7. Set the value of copy explicitly to avoid this warning\n",
      "  data = epochs.get_data()[:, :, :n_samples_expected]\n",
      "<ipython-input-5-396ce0feb410>:63: FutureWarning: The current default of copy=False will change to copy=True in 1.7. Set the value of copy explicitly to avoid this warning\n",
      "  subject_labels = np.full(new_epochs.get_data().shape[0], label)\n",
      "<ipython-input-5-396ce0feb410>:58: FutureWarning: The current default of copy=False will change to copy=True in 1.7. Set the value of copy explicitly to avoid this warning\n",
      "  data = epochs.get_data()[:, :, :n_samples_expected]\n",
      "<ipython-input-5-396ce0feb410>:63: FutureWarning: The current default of copy=False will change to copy=True in 1.7. Set the value of copy explicitly to avoid this warning\n",
      "  subject_labels = np.full(new_epochs.get_data().shape[0], label)\n",
      "<ipython-input-5-396ce0feb410>:58: FutureWarning: The current default of copy=False will change to copy=True in 1.7. Set the value of copy explicitly to avoid this warning\n",
      "  data = epochs.get_data()[:, :, :n_samples_expected]\n",
      "<ipython-input-5-396ce0feb410>:63: FutureWarning: The current default of copy=False will change to copy=True in 1.7. Set the value of copy explicitly to avoid this warning\n",
      "  subject_labels = np.full(new_epochs.get_data().shape[0], label)\n",
      "<ipython-input-5-396ce0feb410>:58: FutureWarning: The current default of copy=False will change to copy=True in 1.7. Set the value of copy explicitly to avoid this warning\n",
      "  data = epochs.get_data()[:, :, :n_samples_expected]\n",
      "<ipython-input-5-396ce0feb410>:63: FutureWarning: The current default of copy=False will change to copy=True in 1.7. Set the value of copy explicitly to avoid this warning\n",
      "  subject_labels = np.full(new_epochs.get_data().shape[0], label)\n"
     ]
    },
    {
     "name": "stdout",
     "output_type": "stream",
     "text": [
      "0 bad epochs dropped\n",
      "Not setting metadata\n",
      "777 matching events found\n",
      "No baseline correction applied\n",
      "0 projection items activated\n",
      "Not setting metadata\n",
      "1 matching events found\n",
      "No baseline correction applied\n",
      "0 projection items activated\n",
      "Not setting metadata\n",
      "3 matching events found\n",
      "No baseline correction applied\n",
      "0 projection items activated\n",
      "Not setting metadata\n",
      "1 matching events found\n",
      "No baseline correction applied\n",
      "0 projection items activated\n",
      "Not setting metadata\n",
      "13 matching events found\n",
      "No baseline correction applied\n",
      "0 projection items activated\n",
      "Not setting metadata\n",
      "4 matching events found\n",
      "No baseline correction applied\n",
      "0 projection items activated\n",
      "Not setting metadata\n",
      "10 matching events found\n",
      "No baseline correction applied\n",
      "0 projection items activated\n",
      "No valid events for subject unknown. Creating fixed-length epochs.\n",
      "Not setting metadata\n",
      "884 matching events found\n",
      "No baseline correction applied\n",
      "0 projection items activated\n"
     ]
    },
    {
     "name": "stderr",
     "output_type": "stream",
     "text": [
      "<ipython-input-5-396ce0feb410>:58: FutureWarning: The current default of copy=False will change to copy=True in 1.7. Set the value of copy explicitly to avoid this warning\n",
      "  data = epochs.get_data()[:, :, :n_samples_expected]\n",
      "<ipython-input-5-396ce0feb410>:63: FutureWarning: The current default of copy=False will change to copy=True in 1.7. Set the value of copy explicitly to avoid this warning\n",
      "  subject_labels = np.full(new_epochs.get_data().shape[0], label)\n",
      "<ipython-input-5-396ce0feb410>:58: FutureWarning: The current default of copy=False will change to copy=True in 1.7. Set the value of copy explicitly to avoid this warning\n",
      "  data = epochs.get_data()[:, :, :n_samples_expected]\n",
      "<ipython-input-5-396ce0feb410>:63: FutureWarning: The current default of copy=False will change to copy=True in 1.7. Set the value of copy explicitly to avoid this warning\n",
      "  subject_labels = np.full(new_epochs.get_data().shape[0], label)\n",
      "<ipython-input-5-396ce0feb410>:58: FutureWarning: The current default of copy=False will change to copy=True in 1.7. Set the value of copy explicitly to avoid this warning\n",
      "  data = epochs.get_data()[:, :, :n_samples_expected]\n",
      "<ipython-input-5-396ce0feb410>:63: FutureWarning: The current default of copy=False will change to copy=True in 1.7. Set the value of copy explicitly to avoid this warning\n",
      "  subject_labels = np.full(new_epochs.get_data().shape[0], label)\n",
      "<ipython-input-5-396ce0feb410>:58: FutureWarning: The current default of copy=False will change to copy=True in 1.7. Set the value of copy explicitly to avoid this warning\n",
      "  data = epochs.get_data()[:, :, :n_samples_expected]\n",
      "<ipython-input-5-396ce0feb410>:63: FutureWarning: The current default of copy=False will change to copy=True in 1.7. Set the value of copy explicitly to avoid this warning\n",
      "  subject_labels = np.full(new_epochs.get_data().shape[0], label)\n",
      "<ipython-input-5-396ce0feb410>:58: FutureWarning: The current default of copy=False will change to copy=True in 1.7. Set the value of copy explicitly to avoid this warning\n",
      "  data = epochs.get_data()[:, :, :n_samples_expected]\n",
      "<ipython-input-5-396ce0feb410>:63: FutureWarning: The current default of copy=False will change to copy=True in 1.7. Set the value of copy explicitly to avoid this warning\n",
      "  subject_labels = np.full(new_epochs.get_data().shape[0], label)\n",
      "<ipython-input-5-396ce0feb410>:58: FutureWarning: The current default of copy=False will change to copy=True in 1.7. Set the value of copy explicitly to avoid this warning\n",
      "  data = epochs.get_data()[:, :, :n_samples_expected]\n",
      "<ipython-input-5-396ce0feb410>:63: FutureWarning: The current default of copy=False will change to copy=True in 1.7. Set the value of copy explicitly to avoid this warning\n",
      "  subject_labels = np.full(new_epochs.get_data().shape[0], label)\n",
      "<ipython-input-5-396ce0feb410>:58: FutureWarning: The current default of copy=False will change to copy=True in 1.7. Set the value of copy explicitly to avoid this warning\n",
      "  data = epochs.get_data()[:, :, :n_samples_expected]\n",
      "<ipython-input-5-396ce0feb410>:63: FutureWarning: The current default of copy=False will change to copy=True in 1.7. Set the value of copy explicitly to avoid this warning\n",
      "  subject_labels = np.full(new_epochs.get_data().shape[0], label)\n"
     ]
    },
    {
     "name": "stdout",
     "output_type": "stream",
     "text": [
      "Using data from preloaded Raw for 884 events and 500 original time points ...\n",
      "0 bad epochs dropped\n",
      "Not setting metadata\n",
      "884 matching events found\n",
      "No baseline correction applied\n",
      "0 projection items activated\n"
     ]
    },
    {
     "name": "stderr",
     "output_type": "stream",
     "text": [
      "<ipython-input-5-396ce0feb410>:58: FutureWarning: The current default of copy=False will change to copy=True in 1.7. Set the value of copy explicitly to avoid this warning\n",
      "  data = epochs.get_data()[:, :, :n_samples_expected]\n",
      "<ipython-input-5-396ce0feb410>:63: FutureWarning: The current default of copy=False will change to copy=True in 1.7. Set the value of copy explicitly to avoid this warning\n",
      "  subject_labels = np.full(new_epochs.get_data().shape[0], label)\n"
     ]
    },
    {
     "name": "stdout",
     "output_type": "stream",
     "text": [
      "Not setting metadata\n",
      "5974 matching events found\n",
      "No baseline correction applied\n",
      "X_train shape: (5974, 19, 500)\n",
      "y_train shape: (5974,)\n",
      "Unique labels in y_train: [0 1]\n",
      "No valid events for subject unknown. Creating fixed-length epochs.\n",
      "Not setting metadata\n",
      "793 matching events found\n",
      "No baseline correction applied\n",
      "0 projection items activated\n",
      "Using data from preloaded Raw for 793 events and 500 original time points ...\n",
      "0 bad epochs dropped\n",
      "Not setting metadata\n",
      "793 matching events found\n",
      "No baseline correction applied\n",
      "0 projection items activated\n",
      "No valid events for subject unknown. Creating fixed-length epochs.\n",
      "Not setting metadata\n",
      "804 matching events found\n",
      "No baseline correction applied\n",
      "0 projection items activated\n",
      "Using data from preloaded Raw for 804 events and 500 original time points ...\n"
     ]
    },
    {
     "name": "stderr",
     "output_type": "stream",
     "text": [
      "<ipython-input-5-396ce0feb410>:68: FutureWarning: The current default of copy=False will change to copy=True in 1.7. Set the value of copy explicitly to avoid this warning\n",
      "  X_train = epochs_all.get_data()       # shape: (n_total_trials, n_channels, n_samples)\n",
      "<ipython-input-5-396ce0feb410>:88: FutureWarning: The current default of copy=False will change to copy=True in 1.7. Set the value of copy explicitly to avoid this warning\n",
      "  data = epochs.get_data()[:, :, :n_samples_expected]\n",
      "<ipython-input-5-396ce0feb410>:93: FutureWarning: The current default of copy=False will change to copy=True in 1.7. Set the value of copy explicitly to avoid this warning\n",
      "  subject_labels = np.full(new_epochs.get_data().shape[0], label)\n"
     ]
    },
    {
     "name": "stdout",
     "output_type": "stream",
     "text": [
      "0 bad epochs dropped\n",
      "Not setting metadata\n",
      "804 matching events found\n",
      "No baseline correction applied\n",
      "0 projection items activated\n",
      "Not setting metadata\n",
      "34 matching events found\n",
      "No baseline correction applied\n",
      "0 projection items activated\n",
      "Not setting metadata\n",
      "1 matching events found\n",
      "No baseline correction applied\n",
      "0 projection items activated\n",
      "Not setting metadata\n",
      "1 matching events found\n",
      "No baseline correction applied\n",
      "0 projection items activated\n",
      "Not setting metadata\n",
      "2 matching events found\n",
      "No baseline correction applied\n",
      "0 projection items activated\n",
      "Not setting metadata\n",
      "2 matching events found\n",
      "No baseline correction applied\n",
      "0 projection items activated\n",
      "Not setting metadata\n",
      "1 matching events found\n",
      "No baseline correction applied\n",
      "0 projection items activated\n",
      "Not setting metadata\n",
      "8 matching events found\n",
      "No baseline correction applied\n",
      "0 projection items activated\n",
      "Not setting metadata\n",
      "1 matching events found\n",
      "No baseline correction applied\n",
      "0 projection items activated\n",
      "Not setting metadata\n",
      "1 matching events found\n",
      "No baseline correction applied\n",
      "0 projection items activated\n",
      "Not setting metadata\n",
      "6 matching events found\n",
      "No baseline correction applied\n",
      "0 projection items activated\n",
      "Not setting metadata\n",
      "1 matching events found\n",
      "No baseline correction applied\n",
      "0 projection items activated\n"
     ]
    },
    {
     "name": "stderr",
     "output_type": "stream",
     "text": [
      "<ipython-input-5-396ce0feb410>:88: FutureWarning: The current default of copy=False will change to copy=True in 1.7. Set the value of copy explicitly to avoid this warning\n",
      "  data = epochs.get_data()[:, :, :n_samples_expected]\n",
      "<ipython-input-5-396ce0feb410>:93: FutureWarning: The current default of copy=False will change to copy=True in 1.7. Set the value of copy explicitly to avoid this warning\n",
      "  subject_labels = np.full(new_epochs.get_data().shape[0], label)\n",
      "<ipython-input-5-396ce0feb410>:88: FutureWarning: The current default of copy=False will change to copy=True in 1.7. Set the value of copy explicitly to avoid this warning\n",
      "  data = epochs.get_data()[:, :, :n_samples_expected]\n",
      "<ipython-input-5-396ce0feb410>:93: FutureWarning: The current default of copy=False will change to copy=True in 1.7. Set the value of copy explicitly to avoid this warning\n",
      "  subject_labels = np.full(new_epochs.get_data().shape[0], label)\n",
      "<ipython-input-5-396ce0feb410>:88: FutureWarning: The current default of copy=False will change to copy=True in 1.7. Set the value of copy explicitly to avoid this warning\n",
      "  data = epochs.get_data()[:, :, :n_samples_expected]\n",
      "<ipython-input-5-396ce0feb410>:93: FutureWarning: The current default of copy=False will change to copy=True in 1.7. Set the value of copy explicitly to avoid this warning\n",
      "  subject_labels = np.full(new_epochs.get_data().shape[0], label)\n",
      "<ipython-input-5-396ce0feb410>:88: FutureWarning: The current default of copy=False will change to copy=True in 1.7. Set the value of copy explicitly to avoid this warning\n",
      "  data = epochs.get_data()[:, :, :n_samples_expected]\n",
      "<ipython-input-5-396ce0feb410>:93: FutureWarning: The current default of copy=False will change to copy=True in 1.7. Set the value of copy explicitly to avoid this warning\n",
      "  subject_labels = np.full(new_epochs.get_data().shape[0], label)\n",
      "<ipython-input-5-396ce0feb410>:88: FutureWarning: The current default of copy=False will change to copy=True in 1.7. Set the value of copy explicitly to avoid this warning\n",
      "  data = epochs.get_data()[:, :, :n_samples_expected]\n",
      "<ipython-input-5-396ce0feb410>:93: FutureWarning: The current default of copy=False will change to copy=True in 1.7. Set the value of copy explicitly to avoid this warning\n",
      "  subject_labels = np.full(new_epochs.get_data().shape[0], label)\n",
      "<ipython-input-5-396ce0feb410>:88: FutureWarning: The current default of copy=False will change to copy=True in 1.7. Set the value of copy explicitly to avoid this warning\n",
      "  data = epochs.get_data()[:, :, :n_samples_expected]\n",
      "<ipython-input-5-396ce0feb410>:93: FutureWarning: The current default of copy=False will change to copy=True in 1.7. Set the value of copy explicitly to avoid this warning\n",
      "  subject_labels = np.full(new_epochs.get_data().shape[0], label)\n",
      "<ipython-input-5-396ce0feb410>:88: FutureWarning: The current default of copy=False will change to copy=True in 1.7. Set the value of copy explicitly to avoid this warning\n",
      "  data = epochs.get_data()[:, :, :n_samples_expected]\n",
      "<ipython-input-5-396ce0feb410>:93: FutureWarning: The current default of copy=False will change to copy=True in 1.7. Set the value of copy explicitly to avoid this warning\n",
      "  subject_labels = np.full(new_epochs.get_data().shape[0], label)\n",
      "<ipython-input-5-396ce0feb410>:88: FutureWarning: The current default of copy=False will change to copy=True in 1.7. Set the value of copy explicitly to avoid this warning\n",
      "  data = epochs.get_data()[:, :, :n_samples_expected]\n",
      "<ipython-input-5-396ce0feb410>:93: FutureWarning: The current default of copy=False will change to copy=True in 1.7. Set the value of copy explicitly to avoid this warning\n",
      "  subject_labels = np.full(new_epochs.get_data().shape[0], label)\n",
      "<ipython-input-5-396ce0feb410>:88: FutureWarning: The current default of copy=False will change to copy=True in 1.7. Set the value of copy explicitly to avoid this warning\n",
      "  data = epochs.get_data()[:, :, :n_samples_expected]\n",
      "<ipython-input-5-396ce0feb410>:93: FutureWarning: The current default of copy=False will change to copy=True in 1.7. Set the value of copy explicitly to avoid this warning\n",
      "  subject_labels = np.full(new_epochs.get_data().shape[0], label)\n",
      "<ipython-input-5-396ce0feb410>:88: FutureWarning: The current default of copy=False will change to copy=True in 1.7. Set the value of copy explicitly to avoid this warning\n",
      "  data = epochs.get_data()[:, :, :n_samples_expected]\n",
      "<ipython-input-5-396ce0feb410>:93: FutureWarning: The current default of copy=False will change to copy=True in 1.7. Set the value of copy explicitly to avoid this warning\n",
      "  subject_labels = np.full(new_epochs.get_data().shape[0], label)\n",
      "<ipython-input-5-396ce0feb410>:88: FutureWarning: The current default of copy=False will change to copy=True in 1.7. Set the value of copy explicitly to avoid this warning\n",
      "  data = epochs.get_data()[:, :, :n_samples_expected]\n",
      "<ipython-input-5-396ce0feb410>:93: FutureWarning: The current default of copy=False will change to copy=True in 1.7. Set the value of copy explicitly to avoid this warning\n",
      "  subject_labels = np.full(new_epochs.get_data().shape[0], label)\n",
      "<ipython-input-5-396ce0feb410>:88: FutureWarning: The current default of copy=False will change to copy=True in 1.7. Set the value of copy explicitly to avoid this warning\n",
      "  data = epochs.get_data()[:, :, :n_samples_expected]\n",
      "<ipython-input-5-396ce0feb410>:93: FutureWarning: The current default of copy=False will change to copy=True in 1.7. Set the value of copy explicitly to avoid this warning\n",
      "  subject_labels = np.full(new_epochs.get_data().shape[0], label)\n"
     ]
    },
    {
     "name": "stdout",
     "output_type": "stream",
     "text": [
      "Not setting metadata\n",
      "7629 matching events found\n",
      "No baseline correction applied\n",
      "X_val shape: (7629, 19, 500)\n",
      "y_val shape: (7629,)\n",
      "Unique labels in y_val: [0 1]\n"
     ]
    },
    {
     "name": "stderr",
     "output_type": "stream",
     "text": [
      "<ipython-input-5-396ce0feb410>:97: FutureWarning: The current default of copy=False will change to copy=True in 1.7. Set the value of copy explicitly to avoid this warning\n",
      "  X_val = epochs_all.get_data()       # shape: (n_total_trials, n_channels, n_samples)\n"
     ]
    }
   ],
   "source": [
    "# 1. Load the participants file.\n",
    "participants = pd.read_csv(\"dataset/participants.tsv\", sep=\"\\t\")\n",
    "print(participants.head())\n",
    "\n",
    "# 2. Create a mapping from participant_id to Group.\n",
    "group_dict = dict(zip(participants['participant_id'], participants['Group']))\n",
    "print(\"Group mapping:\", group_dict)\n",
    "\n",
    "# 3. Create a mapping from group labels to numeric labels.\n",
    "#    For example, if your groups are \"A\", \"B\", \"C\", this code will assign them 0, 1, 2.\n",
    "unique_groups = participants['Group'].unique()\n",
    "print(\"Unique groups:\", unique_groups)\n",
    "label_map = {group: i for i, group in enumerate(unique_groups)}\n",
    "print(\"Label map:\", label_map)\n",
    "\n",
    "# 4. Assume that train_raws is your list of Raw objects.\n",
    "#    You need a list of subject IDs corresponding to train_raws.\n",
    "#    For example, if you haven't stored the subject IDs in raw.info, you can manually create one:\n",
    "train_subject_ids = [f\"sub-{i:03d}\" for i in range(1, len(train_raws)+1)]\n",
    "val_subject_ids = [f\"sub-{i:03d}\" for i in range(1, len(val_raws)+1)]\n",
    "# Alternatively, if raw.info already contains subject info, extract it:\n",
    "# train_subject_ids = [raw.info.get('subject_id', f\"sub-{i:03d}\") for i, raw in enumerate(train_raws)]\n",
    "\n",
    "# 5. Define a function to extract epochs from a Raw object.\n",
    "def extract_epochs_from_raw(raw, duration=1.0, tmin=0.0):\n",
    "    \"\"\"\n",
    "    Extract epochs from a Raw object. If no valid events (other than 'boundary') are found,\n",
    "    create fixed-length epochs.\n",
    "    \"\"\"\n",
    "    events, event_id = mne.events_from_annotations(raw, verbose=False)\n",
    "    if events.size == 0:\n",
    "        print(f\"No valid events for subject {raw.info.get('subject_id', 'unknown')}. Creating fixed-length epochs.\")\n",
    "        epochs = mne.make_fixed_length_epochs(raw, duration=duration, overlap=0, preload=True)\n",
    "    else:\n",
    "        tmax = tmin + duration\n",
    "        epochs = mne.Epochs(raw, events, event_id, tmin=tmin, tmax=tmax,\n",
    "                            baseline=None, preload=True, verbose=False)\n",
    "    return epochs\n",
    "\n",
    "# 6. Loop over each training subject, extract epochs, and assign the clinical label.\n",
    "all_epochs_list = []\n",
    "all_labels_list = []\n",
    "\n",
    "for i, raw in enumerate(train_raws):\n",
    "    subject_id = train_subject_ids[i]\n",
    "    if subject_id not in group_dict:\n",
    "        raise ValueError(f\"Group for subject {subject_id} not found in participants.tsv\")\n",
    "    \n",
    "    group = group_dict[subject_id]\n",
    "    label = label_map[group]\n",
    "    \n",
    "    # Extract epochs (using fixed-length if necessary)\n",
    "    epochs = extract_epochs_from_raw(raw, duration=1.0)\n",
    "    \n",
    "    # Ensure consistent epoch length by cropping each epoch to exactly duration seconds.\n",
    "    sfreq = raw.info['sfreq']\n",
    "    n_samples_expected = int(sfreq * 1.0)\n",
    "    data = epochs.get_data()[:, :, :n_samples_expected]\n",
    "    new_epochs = mne.EpochsArray(data, epochs.info, events=epochs.events, event_id=epochs.event_id)\n",
    "    \n",
    "    all_epochs_list.append(new_epochs)\n",
    "    # Create an array of labels for all epochs from this subject.\n",
    "    subject_labels = np.full(new_epochs.get_data().shape[0], label)\n",
    "    all_labels_list.append(subject_labels)\n",
    "\n",
    "# 7. Concatenate epochs and labels from all subjects.\n",
    "epochs_all = mne.concatenate_epochs(all_epochs_list)\n",
    "X_train = epochs_all.get_data()       # shape: (n_total_trials, n_channels, n_samples)\n",
    "y_train = np.concatenate(all_labels_list)\n",
    "print(\"X_train shape:\", X_train.shape)\n",
    "print(\"y_train shape:\", y_train.shape)\n",
    "print(\"Unique labels in y_train:\", np.unique(y_train))\n",
    "\n",
    "for i, raw in enumerate(val_raws):\n",
    "    subject_id = val_subject_ids[i]\n",
    "    if subject_id not in group_dict:\n",
    "        raise ValueError(f\"Group for subject {subject_id} not found in participants.tsv\")\n",
    "    \n",
    "    group = group_dict[subject_id]\n",
    "    label = label_map[group]\n",
    "    \n",
    "    # Extract epochs (using fixed-length if necessary)\n",
    "    epochs = extract_epochs_from_raw(raw, duration=1.0)\n",
    "    \n",
    "    # Ensure consistent epoch length by cropping each epoch to exactly duration seconds.\n",
    "    sfreq = raw.info['sfreq']\n",
    "    n_samples_expected = int(sfreq * 1.0)\n",
    "    data = epochs.get_data()[:, :, :n_samples_expected]\n",
    "    new_epochs = mne.EpochsArray(data, epochs.info, events=epochs.events, event_id=epochs.event_id)\n",
    "    \n",
    "    all_epochs_list.append(new_epochs)\n",
    "    # Create an array of labels for all epochs from this subject.\n",
    "    subject_labels = np.full(new_epochs.get_data().shape[0], label)\n",
    "    all_labels_list.append(subject_labels)\n",
    "\n",
    "epochs_all = mne.concatenate_epochs(all_epochs_list)\n",
    "X_val = epochs_all.get_data()       # shape: (n_total_trials, n_channels, n_samples)\n",
    "y_val = np.concatenate(all_labels_list)\n",
    "print(\"X_val shape:\", X_val.shape)\n",
    "print(\"y_val shape:\", y_val.shape)\n",
    "print(\"Unique labels in y_val:\", np.unique(y_val))"
   ]
  },
  {
   "cell_type": "code",
   "execution_count": 6,
   "metadata": {},
   "outputs": [
    {
     "name": "stdout",
     "output_type": "stream",
     "text": [
      "Class labels: [0 1]\n",
      "Class counts: [4209 1765]\n",
      "Balance ratio: 0.42 (1.0 is perfectly balanced)\n"
     ]
    },
    {
     "data": {
      "image/png": "[encoded data removed]",
      "text/plain": [
       "<Figure size 576x360 with 1 Axes>"
      ]
     },
     "metadata": {
      "needs_background": "light"
     },
     "output_type": "display_data"
    },
    {
     "name": "stdout",
     "output_type": "stream",
     "text": [
      "Class 0: 70.5%\n",
      "Class 1: 29.5%\n"
     ]
    }
   ],
   "source": [
    "labels, counts = np.unique(y_train, return_counts=True)\n",
    "balance_ratio = min(counts) / max(counts)\n",
    "\n",
    "print(f\"Class labels: {labels}\")\n",
    "print(f\"Class counts: {counts}\")\n",
    "print(f\"Balance ratio: {balance_ratio:.2f} (1.0 is perfectly balanced)\")\n",
    "\n",
    "# Visualize the balance\n",
    "plt.figure(figsize=(8, 5))\n",
    "plt.bar(labels, counts)\n",
    "plt.title('Class Distribution')\n",
    "plt.xlabel('Class')\n",
    "plt.ylabel('Count')\n",
    "plt.show()\n",
    "\n",
    "# Calculate percentage\n",
    "percentages = counts / np.sum(counts) * 100\n",
    "for label, percentage in zip(labels, percentages):\n",
    "    print(f\"Class {label}: {percentage:.1f}%\")"
   ]
  },
  {
   "cell_type": "code",
   "execution_count": 7,
   "metadata": {},
   "outputs": [
    {
     "name": "stdout",
     "output_type": "stream",
     "text": [
      "Class distribution: {0: 4209, 1: 1765}\n",
      "Class percentages: {0: '70.5%', 1: '29.5%'}\n",
      "Label mapping: {0: 'A', 1: 'C', 2: 'F'}\n",
      "Data shape after flattening: (5974, 9500)\n"
     ]
    }
   ],
   "source": [
    "# Check class balance in training data\n",
    "unique_labels, counts = np.unique(y_train, return_counts=True)\n",
    "print(\"Class distribution:\", dict(zip(unique_labels, counts)))\n",
    "print(\"Class percentages:\", {label: f\"{count/len(y_train)*100:.1f}%\" for label, count in zip(unique_labels, counts)})\n",
    "\n",
    "# Create mapping to original group labels (for better visualization)\n",
    "reverse_label_map = {i: group for group, i in label_map.items()}\n",
    "print(\"Label mapping:\", reverse_label_map)\n",
    "\n",
    "# Prepare data - X_train is (n_trials, n_channels, n_timepoints)\n",
    "n_trials = X_train.shape[0]\n",
    "X_train_flat = X_train.reshape(n_trials, -1)  # Flatten channels and timepoints\n",
    "print(f\"Data shape after flattening: {X_train_flat.shape}\")\n",
    "\n"
   ]
  },
  {
   "cell_type": "code",
   "execution_count": 8,
   "metadata": {},
   "outputs": [
    {
     "name": "stdout",
     "output_type": "stream",
     "text": [
      "Cross-validation accuracy: 0.4977 ± 0.0080\n"
     ]
    }
   ],
   "source": [
    "# Create pipeline with scaling and logistic regression\n",
    "pipeline = Pipeline([\n",
    "    ('scaler', StandardScaler()),\n",
    "    ('pca', PCA(n_components=0.95)),  # Keep components that explain 95% of variance\n",
    "    ('classifier', LogisticRegression(class_weight='balanced', max_iter=2000, random_state=42))\n",
    "])\n",
    "# Set up cross-validation\n",
    "cv = StratifiedKFold(n_splits=5, shuffle=True, random_state=42)\n",
    "\n",
    "# Perform cross-validation\n",
    "cv_scores = cross_val_score(pipeline, X_train_flat, y_train, cv=cv, scoring='accuracy')\n",
    "print(f\"Cross-validation accuracy: {cv_scores.mean():.4f} ± {cv_scores.std():.4f}\")\n"
   ]
  },
  {
   "cell_type": "code",
   "execution_count": 9,
   "metadata": {},
   "outputs": [
    {
     "name": "stdout",
     "output_type": "stream",
     "text": [
      "\n",
      "Cross-validation Classification Report:\n",
      "              precision    recall  f1-score   support\n",
      "\n",
      "           A       0.70      0.51      0.59      4209\n",
      "           C       0.29      0.47      0.35      1765\n",
      "\n",
      "    accuracy                           0.50      5974\n",
      "   macro avg       0.49      0.49      0.47      5974\n",
      "weighted avg       0.57      0.50      0.52      5974\n",
      "\n"
     ]
    }
   ],
   "source": [
    "# Get predictions from cross-validation for detailed metrics\n",
    "y_pred_cv = cross_val_predict(pipeline, X_train_flat, y_train, cv=cv)\n",
    "y_prob_cv = cross_val_predict(pipeline, X_train_flat, y_train, cv=cv, method='predict_proba')\n",
    "\n",
    "# Print classification report\n",
    "print(\"\\nCross-validation Classification Report:\")\n",
    "print(M.classification_report(y_train, y_pred_cv, target_names=[reverse_label_map[i] for i in unique_labels]))\n",
    "\n"
   ]
  },
  {
   "cell_type": "code",
   "execution_count": 10,
   "metadata": {},
   "outputs": [
    {
     "data": {
      "image/png": "[encoded data removed]",
      "text/plain": [
       "<Figure size 576x432 with 2 Axes>"
      ]
     },
     "metadata": {
      "needs_background": "light"
     },
     "output_type": "display_data"
    }
   ],
   "source": [
    "# Compute confusion matrix\n",
    "cm = M.confusion_matrix(y_train, y_pred_cv)\n",
    "plt.figure(figsize=(8, 6))\n",
    "sns.heatmap(cm, annot=True, fmt='d', cmap='Blues', \n",
    "            xticklabels=[reverse_label_map[i] for i in unique_labels], \n",
    "            yticklabels=[reverse_label_map[i] for i in unique_labels])\n",
    "plt.xlabel('Predicted')\n",
    "plt.ylabel('True')\n",
    "plt.title('Cross-validation Confusion Matrix')\n",
    "plt.show()"
   ]
  },
  {
   "cell_type": "code",
   "execution_count": 11,
   "metadata": {},
   "outputs": [
    {
     "data": {
      "image/png": "[encoded data removed]",
      "text/plain": [
       "<Figure size 576x432 with 1 Axes>"
      ]
     },
     "metadata": {
      "needs_background": "light"
     },
     "output_type": "display_data"
    }
   ],
   "source": [
    "# For binary classification, compute ROC curve and AUC\n",
    "if len(unique_labels) == 2:\n",
    "    # Get probability of the positive class (class 1)\n",
    "    positive_class_idx = 1 if 1 in unique_labels else unique_labels[1]\n",
    "    prob_pos_class = y_prob_cv[:, list(unique_labels).index(positive_class_idx)]\n",
    "    \n",
    "    fpr, tpr, _ = M.roc_curve(y_train, prob_pos_class)\n",
    "    auc = M.roc_auc_score(y_train, prob_pos_class)\n",
    "    \n",
    "    plt.figure(figsize=(8, 6))\n",
    "    plt.plot(fpr, tpr, label=f'AUC = {auc:.3f}')\n",
    "    plt.plot([0, 1], [0, 1], 'k--')  # Diagonal line (random classifier)\n",
    "    plt.xlabel('False Positive Rate')\n",
    "    plt.ylabel('True Positive Rate')\n",
    "    plt.title('ROC Curve (Cross-validation)')\n",
    "    plt.legend(loc='lower right')\n",
    "    plt.grid(alpha=0.3)\n",
    "    plt.show()\n"
   ]
  },
  {
   "cell_type": "code",
   "execution_count": 12,
   "metadata": {},
   "outputs": [
    {
     "name": "stdout",
     "output_type": "stream",
     "text": [
      "Model trained on all data\n"
     ]
    },
    {
     "data": {
      "image/png": "[encoded data removed]",
      "text/plain": [
       "<Figure size 720x432 with 1 Axes>"
      ]
     },
     "metadata": {
      "needs_background": "light"
     },
     "output_type": "display_data"
    }
   ],
   "source": [
    "# Train on all data and save the model\n",
    "final_model = pipeline.fit(X_train_flat, y_train)\n",
    "print(\"Model trained on all data\")\n",
    "\n",
    "# Get feature importances (for logistic regression, the coefficients)\n",
    "if hasattr(final_model['classifier'], 'coef_'):\n",
    "    # For binary classification\n",
    "    coefficients = final_model['classifier'].coef_[0]\n",
    "    \n",
    "    # We can't interpret feature names when using all flattened data\n",
    "    # But we can see the magnitude of coefficients\n",
    "    plt.figure(figsize=(10, 6))\n",
    "    plt.hist(coefficients, bins=50)\n",
    "    plt.title('Distribution of Feature Coefficients')\n",
    "    plt.xlabel('Coefficient Value')\n",
    "    plt.ylabel('Count')\n",
    "    plt.show()"
   ]
  },
  {
   "cell_type": "code",
   "execution_count": null,
   "metadata": {},
   "outputs": [],
   "source": []
  },
  {
   "cell_type": "code",
   "execution_count": null,
   "metadata": {},
   "outputs": [],
   "source": []
  }
 ],
 "metadata": {
  "kernelspec": {
   "display_name": "Python 3",
   "language": "python",
   "name": "python3"
  },
  "language_info": {
   "codemirror_mode": {
    "name": "ipython",
    "version": 3
   },
   "file_extension": ".py",
   "mimetype": "text/x-python",
   "name": "python",
   "nbconvert_exporter": "python",
   "pygments_lexer": "ipython3",
   "version": "3.8.8"
  }
 },
 "nbformat": 4,
 "nbformat_minor": 2
}
