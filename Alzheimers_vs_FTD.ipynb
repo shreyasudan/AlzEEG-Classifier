{
 "cells": [
  {
   "cell_type": "markdown",
   "id": "65d369e0-7522-46cf-8606-c5689fc6b7fa",
   "metadata": {},
   "source": [
    "## EEG-Based Classification Between Alzheimers and FTD"
   ]
  },
  {
   "cell_type": "code",
   "execution_count": 1,
   "id": "475e3dda-7e1a-4e39-b7b6-5e9c48385138",
   "metadata": {},
   "outputs": [],
   "source": [
    "import numpy as np\n",
    "import pandas as pd\n",
    "import matplotlib.pyplot as plt\n",
    "import seaborn as sns\n",
    "import mne\n",
    "from scipy import signal\n",
    "from sklearn.feature_selection import SelectKBest, f_classif\n",
    "from sklearn.ensemble import RandomForestClassifier\n",
    "from sklearn.model_selection import cross_val_score\n",
    "from mne.decoding import CSP\n",
    "import json\n",
    "import os\n",
    "from sklearn.linear_model import LogisticRegression\n",
    "from sklearn.feature_selection import RFE\n",
    "# Set plotting style\n",
    "plt.style.use('ggplot')\n",
    "sns.set(font_scale=1.2)\n",
    "sns.set_style('whitegrid')\n",
    "\n",
    "np.random.seed(42)"
   ]
  },
  {
   "cell_type": "markdown",
   "id": "e3b1fe02-f6fd-42f4-ae70-8b40b9eda8ce",
   "metadata": {},
   "source": [
    "### Load the Data"
   ]
  },
  {
   "cell_type": "code",
   "execution_count": 2,
   "id": "5e2235d6-d5b3-408e-a077-d72c99485b4f",
   "metadata": {},
   "outputs": [
    {
     "name": "stdout",
     "output_type": "stream",
     "text": [
      "[fold_1] Loading TRAIN subject: sub-021 -> dataset/derivatives/sub-021/eeg/sub-021_task-eyesclosed_eeg.set\n"
     ]
    },
    {
     "name": "stderr",
     "output_type": "stream",
     "text": [
      "/var/folders/ff/_267gxqj0kzf7bg6h3gc5_8w0000gn/T/ipykernel_1805/1739325136.py:45: RuntimeWarning: The data contains 'boundary' events, indicating data discontinuities. Be cautious of filtering and epoching around these events.\n",
      "  raw_obj = mne.io.read_raw_eeglab(set_filepath, preload=True)\n",
      "/var/folders/ff/_267gxqj0kzf7bg6h3gc5_8w0000gn/T/ipykernel_1805/1739325136.py:45: RuntimeWarning: The data contains 'boundary' events, indicating data discontinuities. Be cautious of filtering and epoching around these events.\n",
      "  raw_obj = mne.io.read_raw_eeglab(set_filepath, preload=True)\n"
     ]
    },
    {
     "name": "stdout",
     "output_type": "stream",
     "text": [
      "[fold_1] Loading TRAIN subject: sub-026 -> dataset/derivatives/sub-026/eeg/sub-026_task-eyesclosed_eeg.set\n",
      "[fold_1] Loading TRAIN subject: sub-019 -> dataset/derivatives/sub-019/eeg/sub-019_task-eyesclosed_eeg.set\n"
     ]
    },
    {
     "name": "stderr",
     "output_type": "stream",
     "text": [
      "/var/folders/ff/_267gxqj0kzf7bg6h3gc5_8w0000gn/T/ipykernel_1805/1739325136.py:45: RuntimeWarning: The data contains 'boundary' events, indicating data discontinuities. Be cautious of filtering and epoching around these events.\n",
      "  raw_obj = mne.io.read_raw_eeglab(set_filepath, preload=True)\n"
     ]
    },
    {
     "name": "stdout",
     "output_type": "stream",
     "text": [
      "[fold_1] Loading TRAIN subject: sub-010 -> dataset/derivatives/sub-010/eeg/sub-010_task-eyesclosed_eeg.set\n"
     ]
    },
    {
     "name": "stderr",
     "output_type": "stream",
     "text": [
      "/var/folders/ff/_267gxqj0kzf7bg6h3gc5_8w0000gn/T/ipykernel_1805/1739325136.py:45: RuntimeWarning: The data contains 'boundary' events, indicating data discontinuities. Be cautious of filtering and epoching around these events.\n",
      "  raw_obj = mne.io.read_raw_eeglab(set_filepath, preload=True)\n"
     ]
    },
    {
     "name": "stdout",
     "output_type": "stream",
     "text": [
      "[fold_1] Loading TRAIN subject: sub-017 -> dataset/derivatives/sub-017/eeg/sub-017_task-eyesclosed_eeg.set\n"
     ]
    },
    {
     "name": "stderr",
     "output_type": "stream",
     "text": [
      "/var/folders/ff/_267gxqj0kzf7bg6h3gc5_8w0000gn/T/ipykernel_1805/1739325136.py:45: RuntimeWarning: The data contains 'boundary' events, indicating data discontinuities. Be cautious of filtering and epoching around these events.\n",
      "  raw_obj = mne.io.read_raw_eeglab(set_filepath, preload=True)\n",
      "/var/folders/ff/_267gxqj0kzf7bg6h3gc5_8w0000gn/T/ipykernel_1805/1739325136.py:45: RuntimeWarning: The data contains 'boundary' events, indicating data discontinuities. Be cautious of filtering and epoching around these events.\n",
      "  raw_obj = mne.io.read_raw_eeglab(set_filepath, preload=True)\n"
     ]
    },
    {
     "name": "stdout",
     "output_type": "stream",
     "text": [
      "[fold_1] Loading TRAIN subject: sub-028 -> dataset/derivatives/sub-028/eeg/sub-028_task-eyesclosed_eeg.set\n",
      "[fold_1] Loading TRAIN subject: sub-016 -> dataset/derivatives/sub-016/eeg/sub-016_task-eyesclosed_eeg.set\n"
     ]
    },
    {
     "name": "stderr",
     "output_type": "stream",
     "text": [
      "/var/folders/ff/_267gxqj0kzf7bg6h3gc5_8w0000gn/T/ipykernel_1805/1739325136.py:45: RuntimeWarning: The data contains 'boundary' events, indicating data discontinuities. Be cautious of filtering and epoching around these events.\n",
      "  raw_obj = mne.io.read_raw_eeglab(set_filepath, preload=True)\n",
      "/var/folders/ff/_267gxqj0kzf7bg6h3gc5_8w0000gn/T/ipykernel_1805/1739325136.py:45: RuntimeWarning: The data contains 'boundary' events, indicating data discontinuities. Be cautious of filtering and epoching around these events.\n",
      "  raw_obj = mne.io.read_raw_eeglab(set_filepath, preload=True)\n"
     ]
    },
    {
     "name": "stdout",
     "output_type": "stream",
     "text": [
      "[fold_1] Loading TRAIN subject: sub-029 -> dataset/derivatives/sub-029/eeg/sub-029_task-eyesclosed_eeg.set\n",
      "[fold_1] Loading TRAIN subject: sub-011 -> dataset/derivatives/sub-011/eeg/sub-011_task-eyesclosed_eeg.set\n"
     ]
    },
    {
     "name": "stderr",
     "output_type": "stream",
     "text": [
      "/var/folders/ff/_267gxqj0kzf7bg6h3gc5_8w0000gn/T/ipykernel_1805/1739325136.py:45: RuntimeWarning: The data contains 'boundary' events, indicating data discontinuities. Be cautious of filtering and epoching around these events.\n",
      "  raw_obj = mne.io.read_raw_eeglab(set_filepath, preload=True)\n",
      "/var/folders/ff/_267gxqj0kzf7bg6h3gc5_8w0000gn/T/ipykernel_1805/1739325136.py:45: RuntimeWarning: The data contains 'boundary' events, indicating data discontinuities. Be cautious of filtering and epoching around these events.\n",
      "  raw_obj = mne.io.read_raw_eeglab(set_filepath, preload=True)\n"
     ]
    },
    {
     "name": "stdout",
     "output_type": "stream",
     "text": [
      "[fold_1] Loading TRAIN subject: sub-027 -> dataset/derivatives/sub-027/eeg/sub-027_task-eyesclosed_eeg.set\n",
      "[fold_1] Loading TRAIN subject: sub-018 -> dataset/derivatives/sub-018/eeg/sub-018_task-eyesclosed_eeg.set\n"
     ]
    },
    {
     "name": "stderr",
     "output_type": "stream",
     "text": [
      "/var/folders/ff/_267gxqj0kzf7bg6h3gc5_8w0000gn/T/ipykernel_1805/1739325136.py:45: RuntimeWarning: The data contains 'boundary' events, indicating data discontinuities. Be cautious of filtering and epoching around these events.\n",
      "  raw_obj = mne.io.read_raw_eeglab(set_filepath, preload=True)\n"
     ]
    },
    {
     "name": "stdout",
     "output_type": "stream",
     "text": [
      "[fold_1] Loading TRAIN subject: sub-020 -> dataset/derivatives/sub-020/eeg/sub-020_task-eyesclosed_eeg.set\n",
      "[fold_1] Loading TRAIN subject: sub-033 -> dataset/derivatives/sub-033/eeg/sub-033_task-eyesclosed_eeg.set\n"
     ]
    },
    {
     "name": "stderr",
     "output_type": "stream",
     "text": [
      "/var/folders/ff/_267gxqj0kzf7bg6h3gc5_8w0000gn/T/ipykernel_1805/1739325136.py:45: RuntimeWarning: The data contains 'boundary' events, indicating data discontinuities. Be cautious of filtering and epoching around these events.\n",
      "  raw_obj = mne.io.read_raw_eeglab(set_filepath, preload=True)\n"
     ]
    },
    {
     "name": "stdout",
     "output_type": "stream",
     "text": [
      "[fold_1] Loading TRAIN subject: sub-034 -> dataset/derivatives/sub-034/eeg/sub-034_task-eyesclosed_eeg.set\n"
     ]
    },
    {
     "name": "stderr",
     "output_type": "stream",
     "text": [
      "/var/folders/ff/_267gxqj0kzf7bg6h3gc5_8w0000gn/T/ipykernel_1805/1739325136.py:45: RuntimeWarning: The data contains 'boundary' events, indicating data discontinuities. Be cautious of filtering and epoching around these events.\n",
      "  raw_obj = mne.io.read_raw_eeglab(set_filepath, preload=True)\n",
      "/var/folders/ff/_267gxqj0kzf7bg6h3gc5_8w0000gn/T/ipykernel_1805/1739325136.py:45: RuntimeWarning: The data contains 'boundary' events, indicating data discontinuities. Be cautious of filtering and epoching around these events.\n",
      "  raw_obj = mne.io.read_raw_eeglab(set_filepath, preload=True)\n"
     ]
    },
    {
     "name": "stdout",
     "output_type": "stream",
     "text": [
      "[fold_1] Loading TRAIN subject: sub-035 -> dataset/derivatives/sub-035/eeg/sub-035_task-eyesclosed_eeg.set\n",
      "[fold_1] Loading TRAIN subject: sub-004 -> dataset/derivatives/sub-004/eeg/sub-004_task-eyesclosed_eeg.set\n"
     ]
    },
    {
     "name": "stderr",
     "output_type": "stream",
     "text": [
      "/var/folders/ff/_267gxqj0kzf7bg6h3gc5_8w0000gn/T/ipykernel_1805/1739325136.py:45: RuntimeWarning: The data contains 'boundary' events, indicating data discontinuities. Be cautious of filtering and epoching around these events.\n",
      "  raw_obj = mne.io.read_raw_eeglab(set_filepath, preload=True)\n",
      "/var/folders/ff/_267gxqj0kzf7bg6h3gc5_8w0000gn/T/ipykernel_1805/1739325136.py:45: RuntimeWarning: The data contains 'boundary' events, indicating data discontinuities. Be cautious of filtering and epoching around these events.\n",
      "  raw_obj = mne.io.read_raw_eeglab(set_filepath, preload=True)\n"
     ]
    },
    {
     "name": "stdout",
     "output_type": "stream",
     "text": [
      "[fold_1] Loading TRAIN subject: sub-025 -> dataset/derivatives/sub-025/eeg/sub-025_task-eyesclosed_eeg.set\n",
      "[fold_1] Loading TRAIN subject: sub-014 -> dataset/derivatives/sub-014/eeg/sub-014_task-eyesclosed_eeg.set\n"
     ]
    },
    {
     "name": "stderr",
     "output_type": "stream",
     "text": [
      "/var/folders/ff/_267gxqj0kzf7bg6h3gc5_8w0000gn/T/ipykernel_1805/1739325136.py:45: RuntimeWarning: The data contains 'boundary' events, indicating data discontinuities. Be cautious of filtering and epoching around these events.\n",
      "  raw_obj = mne.io.read_raw_eeglab(set_filepath, preload=True)\n",
      "/var/folders/ff/_267gxqj0kzf7bg6h3gc5_8w0000gn/T/ipykernel_1805/1739325136.py:45: RuntimeWarning: The data contains 'boundary' events, indicating data discontinuities. Be cautious of filtering and epoching around these events.\n",
      "  raw_obj = mne.io.read_raw_eeglab(set_filepath, preload=True)\n"
     ]
    },
    {
     "name": "stdout",
     "output_type": "stream",
     "text": [
      "[fold_1] Loading TRAIN subject: sub-012 -> dataset/derivatives/sub-012/eeg/sub-012_task-eyesclosed_eeg.set\n",
      "[fold_1] Loading TRAIN subject: sub-015 -> dataset/derivatives/sub-015/eeg/sub-015_task-eyesclosed_eeg.set\n"
     ]
    },
    {
     "name": "stderr",
     "output_type": "stream",
     "text": [
      "/var/folders/ff/_267gxqj0kzf7bg6h3gc5_8w0000gn/T/ipykernel_1805/1739325136.py:45: RuntimeWarning: The data contains 'boundary' events, indicating data discontinuities. Be cautious of filtering and epoching around these events.\n",
      "  raw_obj = mne.io.read_raw_eeglab(set_filepath, preload=True)\n",
      "/var/folders/ff/_267gxqj0kzf7bg6h3gc5_8w0000gn/T/ipykernel_1805/1739325136.py:45: RuntimeWarning: The data contains 'boundary' events, indicating data discontinuities. Be cautious of filtering and epoching around these events.\n",
      "  raw_obj = mne.io.read_raw_eeglab(set_filepath, preload=True)\n"
     ]
    },
    {
     "name": "stdout",
     "output_type": "stream",
     "text": [
      "[fold_1] Loading TRAIN subject: sub-023 -> dataset/derivatives/sub-023/eeg/sub-023_task-eyesclosed_eeg.set\n",
      "[fold_1] Loading TRAIN subject: sub-024 -> dataset/derivatives/sub-024/eeg/sub-024_task-eyesclosed_eeg.set\n"
     ]
    },
    {
     "name": "stderr",
     "output_type": "stream",
     "text": [
      "/var/folders/ff/_267gxqj0kzf7bg6h3gc5_8w0000gn/T/ipykernel_1805/1739325136.py:45: RuntimeWarning: The data contains 'boundary' events, indicating data discontinuities. Be cautious of filtering and epoching around these events.\n",
      "  raw_obj = mne.io.read_raw_eeglab(set_filepath, preload=True)\n",
      "/var/folders/ff/_267gxqj0kzf7bg6h3gc5_8w0000gn/T/ipykernel_1805/1739325136.py:45: RuntimeWarning: The data contains 'boundary' events, indicating data discontinuities. Be cautious of filtering and epoching around these events.\n",
      "  raw_obj = mne.io.read_raw_eeglab(set_filepath, preload=True)\n"
     ]
    },
    {
     "name": "stdout",
     "output_type": "stream",
     "text": [
      "[fold_1] Loading TRAIN subject: sub-006 -> dataset/derivatives/sub-006/eeg/sub-006_task-eyesclosed_eeg.set\n",
      "[fold_1] Loading TRAIN subject: sub-001 -> dataset/derivatives/sub-001/eeg/sub-001_task-eyesclosed_eeg.set\n",
      "[fold_1] Loading TRAIN subject: sub-008 -> dataset/derivatives/sub-008/eeg/sub-008_task-eyesclosed_eeg.set\n"
     ]
    },
    {
     "name": "stderr",
     "output_type": "stream",
     "text": [
      "/var/folders/ff/_267gxqj0kzf7bg6h3gc5_8w0000gn/T/ipykernel_1805/1739325136.py:45: RuntimeWarning: The data contains 'boundary' events, indicating data discontinuities. Be cautious of filtering and epoching around these events.\n",
      "  raw_obj = mne.io.read_raw_eeglab(set_filepath, preload=True)\n"
     ]
    },
    {
     "name": "stdout",
     "output_type": "stream",
     "text": [
      "[fold_1] Loading TRAIN subject: sub-031 -> dataset/derivatives/sub-031/eeg/sub-031_task-eyesclosed_eeg.set\n"
     ]
    },
    {
     "name": "stderr",
     "output_type": "stream",
     "text": [
      "/var/folders/ff/_267gxqj0kzf7bg6h3gc5_8w0000gn/T/ipykernel_1805/1739325136.py:45: RuntimeWarning: The data contains 'boundary' events, indicating data discontinuities. Be cautious of filtering and epoching around these events.\n",
      "  raw_obj = mne.io.read_raw_eeglab(set_filepath, preload=True)\n"
     ]
    },
    {
     "name": "stdout",
     "output_type": "stream",
     "text": [
      "[fold_1] Loading TRAIN subject: sub-036 -> dataset/derivatives/sub-036/eeg/sub-036_task-eyesclosed_eeg.set\n"
     ]
    },
    {
     "name": "stderr",
     "output_type": "stream",
     "text": [
      "/var/folders/ff/_267gxqj0kzf7bg6h3gc5_8w0000gn/T/ipykernel_1805/1739325136.py:45: RuntimeWarning: The data contains 'boundary' events, indicating data discontinuities. Be cautious of filtering and epoching around these events.\n",
      "  raw_obj = mne.io.read_raw_eeglab(set_filepath, preload=True)\n"
     ]
    },
    {
     "name": "stdout",
     "output_type": "stream",
     "text": [
      "[fold_1] Loading TRAIN subject: sub-007 -> dataset/derivatives/sub-007/eeg/sub-007_task-eyesclosed_eeg.set\n"
     ]
    },
    {
     "name": "stderr",
     "output_type": "stream",
     "text": [
      "/var/folders/ff/_267gxqj0kzf7bg6h3gc5_8w0000gn/T/ipykernel_1805/1739325136.py:45: RuntimeWarning: The data contains 'boundary' events, indicating data discontinuities. Be cautious of filtering and epoching around these events.\n",
      "  raw_obj = mne.io.read_raw_eeglab(set_filepath, preload=True)\n"
     ]
    },
    {
     "name": "stdout",
     "output_type": "stream",
     "text": [
      "[fold_1] Loading TRAIN subject: sub-086 -> dataset/derivatives/sub-086/eeg/sub-086_task-eyesclosed_eeg.set\n"
     ]
    },
    {
     "name": "stderr",
     "output_type": "stream",
     "text": [
      "/var/folders/ff/_267gxqj0kzf7bg6h3gc5_8w0000gn/T/ipykernel_1805/1739325136.py:45: RuntimeWarning: The data contains 'boundary' events, indicating data discontinuities. Be cautious of filtering and epoching around these events.\n",
      "  raw_obj = mne.io.read_raw_eeglab(set_filepath, preload=True)\n",
      "/var/folders/ff/_267gxqj0kzf7bg6h3gc5_8w0000gn/T/ipykernel_1805/1739325136.py:45: RuntimeWarning: The data contains 'boundary' events, indicating data discontinuities. Be cautious of filtering and epoching around these events.\n",
      "  raw_obj = mne.io.read_raw_eeglab(set_filepath, preload=True)\n"
     ]
    },
    {
     "name": "stdout",
     "output_type": "stream",
     "text": [
      "[fold_1] Loading TRAIN subject: sub-072 -> dataset/derivatives/sub-072/eeg/sub-072_task-eyesclosed_eeg.set\n",
      "[fold_1] Loading TRAIN subject: sub-075 -> dataset/derivatives/sub-075/eeg/sub-075_task-eyesclosed_eeg.set\n"
     ]
    },
    {
     "name": "stderr",
     "output_type": "stream",
     "text": [
      "/var/folders/ff/_267gxqj0kzf7bg6h3gc5_8w0000gn/T/ipykernel_1805/1739325136.py:45: RuntimeWarning: The data contains 'boundary' events, indicating data discontinuities. Be cautious of filtering and epoching around these events.\n",
      "  raw_obj = mne.io.read_raw_eeglab(set_filepath, preload=True)\n"
     ]
    },
    {
     "name": "stdout",
     "output_type": "stream",
     "text": [
      "[fold_1] Loading TRAIN subject: sub-081 -> dataset/derivatives/sub-081/eeg/sub-081_task-eyesclosed_eeg.set\n"
     ]
    },
    {
     "name": "stderr",
     "output_type": "stream",
     "text": [
      "/var/folders/ff/_267gxqj0kzf7bg6h3gc5_8w0000gn/T/ipykernel_1805/1739325136.py:45: RuntimeWarning: The data contains 'boundary' events, indicating data discontinuities. Be cautious of filtering and epoching around these events.\n",
      "  raw_obj = mne.io.read_raw_eeglab(set_filepath, preload=True)\n"
     ]
    },
    {
     "name": "stdout",
     "output_type": "stream",
     "text": [
      "[fold_1] Loading TRAIN subject: sub-080 -> dataset/derivatives/sub-080/eeg/sub-080_task-eyesclosed_eeg.set\n"
     ]
    },
    {
     "name": "stderr",
     "output_type": "stream",
     "text": [
      "/var/folders/ff/_267gxqj0kzf7bg6h3gc5_8w0000gn/T/ipykernel_1805/1739325136.py:45: RuntimeWarning: The data contains 'boundary' events, indicating data discontinuities. Be cautious of filtering and epoching around these events.\n",
      "  raw_obj = mne.io.read_raw_eeglab(set_filepath, preload=True)\n"
     ]
    },
    {
     "name": "stdout",
     "output_type": "stream",
     "text": [
      "[fold_1] Loading TRAIN subject: sub-074 -> dataset/derivatives/sub-074/eeg/sub-074_task-eyesclosed_eeg.set\n"
     ]
    },
    {
     "name": "stderr",
     "output_type": "stream",
     "text": [
      "/var/folders/ff/_267gxqj0kzf7bg6h3gc5_8w0000gn/T/ipykernel_1805/1739325136.py:45: RuntimeWarning: The data contains 'boundary' events, indicating data discontinuities. Be cautious of filtering and epoching around these events.\n",
      "  raw_obj = mne.io.read_raw_eeglab(set_filepath, preload=True)\n"
     ]
    },
    {
     "name": "stdout",
     "output_type": "stream",
     "text": [
      "[fold_1] Loading TRAIN subject: sub-073 -> dataset/derivatives/sub-073/eeg/sub-073_task-eyesclosed_eeg.set\n"
     ]
    },
    {
     "name": "stderr",
     "output_type": "stream",
     "text": [
      "/var/folders/ff/_267gxqj0kzf7bg6h3gc5_8w0000gn/T/ipykernel_1805/1739325136.py:45: RuntimeWarning: The data contains 'boundary' events, indicating data discontinuities. Be cautious of filtering and epoching around these events.\n",
      "  raw_obj = mne.io.read_raw_eeglab(set_filepath, preload=True)\n",
      "/var/folders/ff/_267gxqj0kzf7bg6h3gc5_8w0000gn/T/ipykernel_1805/1739325136.py:45: RuntimeWarning: The data contains 'boundary' events, indicating data discontinuities. Be cautious of filtering and epoching around these events.\n",
      "  raw_obj = mne.io.read_raw_eeglab(set_filepath, preload=True)\n"
     ]
    },
    {
     "name": "stdout",
     "output_type": "stream",
     "text": [
      "[fold_1] Loading TRAIN subject: sub-087 -> dataset/derivatives/sub-087/eeg/sub-087_task-eyesclosed_eeg.set\n",
      "[fold_1] Loading TRAIN subject: sub-067 -> dataset/derivatives/sub-067/eeg/sub-067_task-eyesclosed_eeg.set\n",
      "[fold_1] Loading TRAIN subject: sub-069 -> dataset/derivatives/sub-069/eeg/sub-069_task-eyesclosed_eeg.set\n",
      "[fold_1] Loading TRAIN subject: sub-078 -> dataset/derivatives/sub-078/eeg/sub-078_task-eyesclosed_eeg.set\n"
     ]
    },
    {
     "name": "stderr",
     "output_type": "stream",
     "text": [
      "/var/folders/ff/_267gxqj0kzf7bg6h3gc5_8w0000gn/T/ipykernel_1805/1739325136.py:45: RuntimeWarning: The data contains 'boundary' events, indicating data discontinuities. Be cautious of filtering and epoching around these events.\n",
      "  raw_obj = mne.io.read_raw_eeglab(set_filepath, preload=True)\n",
      "/var/folders/ff/_267gxqj0kzf7bg6h3gc5_8w0000gn/T/ipykernel_1805/1739325136.py:45: RuntimeWarning: The data contains 'boundary' events, indicating data discontinuities. Be cautious of filtering and epoching around these events.\n",
      "  raw_obj = mne.io.read_raw_eeglab(set_filepath, preload=True)\n"
     ]
    },
    {
     "name": "stdout",
     "output_type": "stream",
     "text": [
      "[fold_1] Loading TRAIN subject: sub-076 -> dataset/derivatives/sub-076/eeg/sub-076_task-eyesclosed_eeg.set\n",
      "[fold_1] Loading TRAIN subject: sub-082 -> dataset/derivatives/sub-082/eeg/sub-082_task-eyesclosed_eeg.set\n",
      "[fold_1] Loading TRAIN subject: sub-085 -> dataset/derivatives/sub-085/eeg/sub-085_task-eyesclosed_eeg.set\n"
     ]
    },
    {
     "name": "stderr",
     "output_type": "stream",
     "text": [
      "/var/folders/ff/_267gxqj0kzf7bg6h3gc5_8w0000gn/T/ipykernel_1805/1739325136.py:45: RuntimeWarning: The data contains 'boundary' events, indicating data discontinuities. Be cautious of filtering and epoching around these events.\n",
      "  raw_obj = mne.io.read_raw_eeglab(set_filepath, preload=True)\n",
      "/var/folders/ff/_267gxqj0kzf7bg6h3gc5_8w0000gn/T/ipykernel_1805/1739325136.py:45: RuntimeWarning: The data contains 'boundary' events, indicating data discontinuities. Be cautious of filtering and epoching around these events.\n",
      "  raw_obj = mne.io.read_raw_eeglab(set_filepath, preload=True)\n"
     ]
    },
    {
     "name": "stdout",
     "output_type": "stream",
     "text": [
      "[fold_1] Loading TRAIN subject: sub-071 -> dataset/derivatives/sub-071/eeg/sub-071_task-eyesclosed_eeg.set\n",
      "[fold_1] Loading TRAIN subject: sub-084 -> dataset/derivatives/sub-084/eeg/sub-084_task-eyesclosed_eeg.set\n",
      "[fold_1] Loading TRAIN subject: sub-083 -> dataset/derivatives/sub-083/eeg/sub-083_task-eyesclosed_eeg.set\n",
      "[fold_1] Loading TRAIN subject: sub-077 -> dataset/derivatives/sub-077/eeg/sub-077_task-eyesclosed_eeg.set\n"
     ]
    },
    {
     "name": "stderr",
     "output_type": "stream",
     "text": [
      "/var/folders/ff/_267gxqj0kzf7bg6h3gc5_8w0000gn/T/ipykernel_1805/1739325136.py:45: RuntimeWarning: The data contains 'boundary' events, indicating data discontinuities. Be cautious of filtering and epoching around these events.\n",
      "  raw_obj = mne.io.read_raw_eeglab(set_filepath, preload=True)\n"
     ]
    },
    {
     "name": "stdout",
     "output_type": "stream",
     "text": [
      "[fold_1] Loading TRAIN subject: sub-079 -> dataset/derivatives/sub-079/eeg/sub-079_task-eyesclosed_eeg.set\n"
     ]
    },
    {
     "name": "stderr",
     "output_type": "stream",
     "text": [
      "/var/folders/ff/_267gxqj0kzf7bg6h3gc5_8w0000gn/T/ipykernel_1805/1739325136.py:45: RuntimeWarning: The data contains 'boundary' events, indicating data discontinuities. Be cautious of filtering and epoching around these events.\n",
      "  raw_obj = mne.io.read_raw_eeglab(set_filepath, preload=True)\n"
     ]
    },
    {
     "name": "stdout",
     "output_type": "stream",
     "text": [
      "[fold_1] Loading VAL subject: sub-002 -> dataset/derivatives/sub-002/eeg/sub-002_task-eyesclosed_eeg.set\n",
      "[fold_1] Loading VAL subject: sub-005 -> dataset/derivatives/sub-005/eeg/sub-005_task-eyesclosed_eeg.set\n",
      "[fold_1] Loading VAL subject: sub-032 -> dataset/derivatives/sub-032/eeg/sub-032_task-eyesclosed_eeg.set\n"
     ]
    },
    {
     "name": "stderr",
     "output_type": "stream",
     "text": [
      "/var/folders/ff/_267gxqj0kzf7bg6h3gc5_8w0000gn/T/ipykernel_1805/1739325136.py:54: RuntimeWarning: The data contains 'boundary' events, indicating data discontinuities. Be cautious of filtering and epoching around these events.\n",
      "  raw_obj = mne.io.read_raw_eeglab(set_filepath, preload=True)\n",
      "/var/folders/ff/_267gxqj0kzf7bg6h3gc5_8w0000gn/T/ipykernel_1805/1739325136.py:54: RuntimeWarning: The data contains 'boundary' events, indicating data discontinuities. Be cautious of filtering and epoching around these events.\n",
      "  raw_obj = mne.io.read_raw_eeglab(set_filepath, preload=True)\n"
     ]
    },
    {
     "name": "stdout",
     "output_type": "stream",
     "text": [
      "[fold_1] Loading VAL subject: sub-003 -> dataset/derivatives/sub-003/eeg/sub-003_task-eyesclosed_eeg.set\n",
      "[fold_1] Loading VAL subject: sub-022 -> dataset/derivatives/sub-022/eeg/sub-022_task-eyesclosed_eeg.set\n"
     ]
    },
    {
     "name": "stderr",
     "output_type": "stream",
     "text": [
      "/var/folders/ff/_267gxqj0kzf7bg6h3gc5_8w0000gn/T/ipykernel_1805/1739325136.py:54: RuntimeWarning: The data contains 'boundary' events, indicating data discontinuities. Be cautious of filtering and epoching around these events.\n",
      "  raw_obj = mne.io.read_raw_eeglab(set_filepath, preload=True)\n"
     ]
    },
    {
     "name": "stdout",
     "output_type": "stream",
     "text": [
      "[fold_1] Loading VAL subject: sub-013 -> dataset/derivatives/sub-013/eeg/sub-013_task-eyesclosed_eeg.set\n"
     ]
    },
    {
     "name": "stderr",
     "output_type": "stream",
     "text": [
      "/var/folders/ff/_267gxqj0kzf7bg6h3gc5_8w0000gn/T/ipykernel_1805/1739325136.py:54: RuntimeWarning: The data contains 'boundary' events, indicating data discontinuities. Be cautious of filtering and epoching around these events.\n",
      "  raw_obj = mne.io.read_raw_eeglab(set_filepath, preload=True)\n"
     ]
    },
    {
     "name": "stdout",
     "output_type": "stream",
     "text": [
      "[fold_1] Loading VAL subject: sub-030 -> dataset/derivatives/sub-030/eeg/sub-030_task-eyesclosed_eeg.set\n"
     ]
    },
    {
     "name": "stderr",
     "output_type": "stream",
     "text": [
      "/var/folders/ff/_267gxqj0kzf7bg6h3gc5_8w0000gn/T/ipykernel_1805/1739325136.py:54: RuntimeWarning: The data contains 'boundary' events, indicating data discontinuities. Be cautious of filtering and epoching around these events.\n",
      "  raw_obj = mne.io.read_raw_eeglab(set_filepath, preload=True)\n"
     ]
    },
    {
     "name": "stdout",
     "output_type": "stream",
     "text": [
      "[fold_1] Loading VAL subject: sub-009 -> dataset/derivatives/sub-009/eeg/sub-009_task-eyesclosed_eeg.set\n"
     ]
    },
    {
     "name": "stderr",
     "output_type": "stream",
     "text": [
      "/var/folders/ff/_267gxqj0kzf7bg6h3gc5_8w0000gn/T/ipykernel_1805/1739325136.py:54: RuntimeWarning: The data contains 'boundary' events, indicating data discontinuities. Be cautious of filtering and epoching around these events.\n",
      "  raw_obj = mne.io.read_raw_eeglab(set_filepath, preload=True)\n"
     ]
    },
    {
     "name": "stdout",
     "output_type": "stream",
     "text": [
      "[fold_1] Loading VAL subject: sub-088 -> dataset/derivatives/sub-088/eeg/sub-088_task-eyesclosed_eeg.set\n"
     ]
    },
    {
     "name": "stderr",
     "output_type": "stream",
     "text": [
      "/var/folders/ff/_267gxqj0kzf7bg6h3gc5_8w0000gn/T/ipykernel_1805/1739325136.py:54: RuntimeWarning: The data contains 'boundary' events, indicating data discontinuities. Be cautious of filtering and epoching around these events.\n",
      "  raw_obj = mne.io.read_raw_eeglab(set_filepath, preload=True)\n",
      "/var/folders/ff/_267gxqj0kzf7bg6h3gc5_8w0000gn/T/ipykernel_1805/1739325136.py:54: RuntimeWarning: The data contains 'boundary' events, indicating data discontinuities. Be cautious of filtering and epoching around these events.\n",
      "  raw_obj = mne.io.read_raw_eeglab(set_filepath, preload=True)\n"
     ]
    },
    {
     "name": "stdout",
     "output_type": "stream",
     "text": [
      "[fold_1] Loading VAL subject: sub-068 -> dataset/derivatives/sub-068/eeg/sub-068_task-eyesclosed_eeg.set\n",
      "[fold_1] Loading VAL subject: sub-066 -> dataset/derivatives/sub-066/eeg/sub-066_task-eyesclosed_eeg.set\n"
     ]
    },
    {
     "name": "stderr",
     "output_type": "stream",
     "text": [
      "/var/folders/ff/_267gxqj0kzf7bg6h3gc5_8w0000gn/T/ipykernel_1805/1739325136.py:54: RuntimeWarning: The data contains 'boundary' events, indicating data discontinuities. Be cautious of filtering and epoching around these events.\n",
      "  raw_obj = mne.io.read_raw_eeglab(set_filepath, preload=True)\n"
     ]
    },
    {
     "name": "stdout",
     "output_type": "stream",
     "text": [
      "[fold_1] Loading VAL subject: sub-070 -> dataset/derivatives/sub-070/eeg/sub-070_task-eyesclosed_eeg.set\n"
     ]
    }
   ],
   "source": [
    "def loadData(\n",
    "    fold_name: str,\n",
    "    kfold_dict: dict,\n",
    "    data_path: str,\n",
    "    set_suffix: str = \"_task-eyesclosed_eeg.set\"\n",
    "):\n",
    "    \"\"\"\n",
    "    Load MNE Raw objects for all training and validation subjects in one fold.\n",
    "    \n",
    "    Parameters\n",
    "    ----------\n",
    "    fold_name : str\n",
    "        e.g. 'fold_1', 'fold_2', etc., as found in kfold_dict.\n",
    "    kfold_dict : dict\n",
    "        The JSON structure loaded from kfold_splits.json\n",
    "    data_path : str\n",
    "        Base directory where the sub-XXX folders are found.\n",
    "        Typically something like '/path/to/dataset/derivatives'\n",
    "        if .set files live in a derivatives folder.\n",
    "    set_suffix : str\n",
    "        The filename pattern for the EEGLAB .set file, \n",
    "        e.g. '_task-eyesclosed_eeg.set'. Adjust as needed.\n",
    "    \n",
    "    Returns\n",
    "    -------\n",
    "    train_raws : list\n",
    "        List of mne.io.Raw objects for all training subjects in this fold.\n",
    "    val_raws : list\n",
    "        List of mne.io.Raw objects for all validation subjects in this fold.\n",
    "    \"\"\"\n",
    "\n",
    "    fold_data = kfold_dict[fold_name]\n",
    "    train_subjects = fold_data[\"train\"]\n",
    "    val_subjects   = fold_data[\"validation\"]\n",
    "\n",
    "    train_raws = []\n",
    "    val_raws   = []\n",
    "\n",
    "    for subj_id in train_subjects:\n",
    "        subject_folder = os.path.join(data_path, subj_id, \"eeg\")\n",
    "        set_filename   = f\"{subj_id}{set_suffix}\"\n",
    "        set_filepath   = os.path.join(subject_folder, set_filename)\n",
    "\n",
    "        print(f\"[{fold_name}] Loading TRAIN subject: {subj_id} -> {set_filepath}\")\n",
    "        raw_obj = mne.io.read_raw_eeglab(set_filepath, preload=True)\n",
    "        train_raws.append(raw_obj)\n",
    "\n",
    "    for subj_id in val_subjects:\n",
    "        subject_folder = os.path.join(data_path, subj_id, \"eeg\")\n",
    "        set_filename   = f\"{subj_id}{set_suffix}\"\n",
    "        set_filepath   = os.path.join(subject_folder, set_filename)\n",
    "\n",
    "        print(f\"[{fold_name}] Loading VAL subject: {subj_id} -> {set_filepath}\")\n",
    "        raw_obj = mne.io.read_raw_eeglab(set_filepath, preload=True)\n",
    "        val_raws.append(raw_obj)\n",
    "\n",
    "    return train_raws, val_raws\n",
    "\n",
    "if __name__ == \"__main__\":\n",
    "    with open(\"alzheimers_vs_ftd_splits.json\", \"r\") as f:\n",
    "        kfold_splits = json.load(f)\n",
    "\n",
    "    data_dir = \"dataset/derivatives\"\n",
    "\n",
    "    fold_name = \"fold_1\"\n",
    "    train_raws, val_raws = loadData(\n",
    "        fold_name=fold_name,\n",
    "        kfold_dict=kfold_splits,\n",
    "        data_path=data_dir,\n",
    "        set_suffix=\"_task-eyesclosed_eeg.set\"\n",
    "    )"
   ]
  },
  {
   "cell_type": "code",
   "execution_count": 3,
   "id": "450896ae-3ce9-4245-95fc-c0ce7fdf8f93",
   "metadata": {},
   "outputs": [
    {
     "name": "stdout",
     "output_type": "stream",
     "text": [
      "Sampling frequency: 500.0\n"
     ]
    }
   ],
   "source": [
    "train_raws\n",
    "sfreq = train_raws[0].info['sfreq']\n",
    "print(\"Sampling frequency:\", sfreq)"
   ]
  },
  {
   "cell_type": "markdown",
   "id": "aea2e06e-938c-463f-b16c-8aa084f4dfe2",
   "metadata": {},
   "source": [
    "### Clean the Data"
   ]
  },
  {
   "cell_type": "code",
   "execution_count": 4,
   "id": "b924ed55-0904-47e7-9d9e-951478fb4f07",
   "metadata": {
    "scrolled": true
   },
   "outputs": [
    {
     "name": "stdout",
     "output_type": "stream",
     "text": [
      "Not setting metadata\n",
      "2 matching events found\n",
      "No baseline correction applied\n",
      "0 projection items activated\n",
      "Not setting metadata\n",
      "14 matching events found\n",
      "No baseline correction applied\n",
      "0 projection items activated\n",
      "Not setting metadata\n",
      "1 matching events found\n",
      "No baseline correction applied\n",
      "0 projection items activated\n",
      "Not setting metadata\n",
      "7 matching events found\n",
      "No baseline correction applied\n",
      "0 projection items activated\n",
      "Not setting metadata\n",
      "2 matching events found\n",
      "No baseline correction applied\n",
      "0 projection items activated\n",
      "Not setting metadata\n",
      "7 matching events found\n",
      "No baseline correction applied\n",
      "0 projection items activated\n",
      "Not setting metadata\n",
      "9 matching events found\n",
      "No baseline correction applied\n",
      "0 projection items activated\n",
      "Not setting metadata\n",
      "3 matching events found\n",
      "No baseline correction applied\n",
      "0 projection items activated\n",
      "Not setting metadata\n",
      "1 matching events found\n",
      "No baseline correction applied\n",
      "0 projection items activated\n",
      "Not setting metadata\n",
      "3 matching events found\n",
      "No baseline correction applied\n",
      "0 projection items activated\n",
      "Not setting metadata\n",
      "2 matching events found\n",
      "No baseline correction applied\n",
      "0 projection items activated\n",
      "No valid events found (only boundaries). Creating fixed-length epochs.\n",
      "Not setting metadata\n",
      "869 matching events found\n",
      "No baseline correction applied\n",
      "0 projection items activated\n",
      "Using data from preloaded Raw for 869 events and 500 original time points ...\n",
      "0 bad epochs dropped\n",
      "Not setting metadata\n",
      "869 matching events found\n",
      "No baseline correction applied\n",
      "0 projection items activated\n",
      "Not setting metadata\n",
      "1 matching events found\n",
      "No baseline correction applied\n",
      "0 projection items activated\n",
      "Not setting metadata\n",
      "1 matching events found\n",
      "No baseline correction applied\n",
      "0 projection items activated\n",
      "Not setting metadata\n",
      "13 matching events found\n",
      "No baseline correction applied\n",
      "0 projection items activated\n",
      "Not setting metadata\n",
      "1 matching events found\n",
      "No baseline correction applied\n",
      "0 projection items activated\n",
      "Not setting metadata\n",
      "12 matching events found\n",
      "No baseline correction applied\n",
      "0 projection items activated\n",
      "Not setting metadata\n",
      "6 matching events found\n",
      "No baseline correction applied\n",
      "0 projection items activated\n",
      "Not setting metadata\n",
      "9 matching events found\n",
      "No baseline correction applied\n",
      "0 projection items activated\n",
      "Not setting metadata\n",
      "6 matching events found\n",
      "No baseline correction applied\n",
      "0 projection items activated\n",
      "Not setting metadata\n",
      "18 matching events found\n",
      "No baseline correction applied\n",
      "0 projection items activated\n",
      "Not setting metadata\n",
      "6 matching events found\n",
      "No baseline correction applied\n",
      "0 projection items activated\n",
      "Not setting metadata\n",
      "3 matching events found\n",
      "No baseline correction applied\n",
      "0 projection items activated\n",
      "No valid events found (only boundaries). Creating fixed-length epochs.\n",
      "Not setting metadata\n",
      "599 matching events found\n",
      "No baseline correction applied\n",
      "0 projection items activated\n",
      "Using data from preloaded Raw for 599 events and 500 original time points ...\n",
      "0 bad epochs dropped\n",
      "Not setting metadata\n",
      "599 matching events found\n",
      "No baseline correction applied\n",
      "0 projection items activated\n",
      "Not setting metadata\n",
      "4 matching events found\n",
      "No baseline correction applied\n",
      "0 projection items activated\n",
      "Not setting metadata\n",
      "4 matching events found\n",
      "No baseline correction applied\n",
      "0 projection items activated\n",
      "Not setting metadata\n",
      "8 matching events found\n",
      "No baseline correction applied\n",
      "0 projection items activated\n",
      "Not setting metadata\n",
      "2 matching events found\n",
      "No baseline correction applied\n",
      "0 projection items activated\n",
      "Not setting metadata\n",
      "53 matching events found\n",
      "No baseline correction applied\n",
      "0 projection items activated\n",
      "Not setting metadata\n",
      "3 matching events found\n",
      "No baseline correction applied\n",
      "0 projection items activated\n",
      "Not setting metadata\n",
      "2 matching events found\n",
      "No baseline correction applied\n",
      "0 projection items activated\n",
      "Not setting metadata\n",
      "4 matching events found\n",
      "No baseline correction applied\n",
      "0 projection items activated\n",
      "Not setting metadata\n",
      "11 matching events found\n",
      "No baseline correction applied\n",
      "0 projection items activated\n",
      "Not setting metadata\n",
      "9 matching events found\n",
      "No baseline correction applied\n",
      "0 projection items activated\n",
      "Not setting metadata\n",
      "2 matching events found\n",
      "No baseline correction applied\n",
      "0 projection items activated\n",
      "Not setting metadata\n",
      "3 matching events found\n",
      "No baseline correction applied\n",
      "0 projection items activated\n",
      "No valid events found (only boundaries). Creating fixed-length epochs.\n",
      "Not setting metadata\n",
      "643 matching events found\n",
      "No baseline correction applied\n",
      "0 projection items activated\n",
      "Using data from preloaded Raw for 643 events and 500 original time points ...\n",
      "0 bad epochs dropped\n",
      "Not setting metadata\n",
      "643 matching events found\n",
      "No baseline correction applied\n",
      "0 projection items activated\n",
      "Not setting metadata\n",
      "1 matching events found\n",
      "No baseline correction applied\n",
      "0 projection items activated\n",
      "Not setting metadata\n",
      "3 matching events found\n",
      "No baseline correction applied\n",
      "0 projection items activated\n",
      "No valid events found (only boundaries). Creating fixed-length epochs.\n",
      "Not setting metadata\n",
      "818 matching events found\n",
      "No baseline correction applied\n",
      "0 projection items activated\n",
      "Using data from preloaded Raw for 818 events and 500 original time points ...\n",
      "0 bad epochs dropped\n",
      "Not setting metadata\n",
      "818 matching events found\n",
      "No baseline correction applied\n",
      "0 projection items activated\n",
      "No valid events found (only boundaries). Creating fixed-length epochs.\n",
      "Not setting metadata\n",
      "777 matching events found\n",
      "No baseline correction applied\n",
      "0 projection items activated\n",
      "Using data from preloaded Raw for 777 events and 500 original time points ...\n",
      "0 bad epochs dropped\n",
      "Not setting metadata\n",
      "777 matching events found\n",
      "No baseline correction applied\n",
      "0 projection items activated\n",
      "Not setting metadata\n",
      "4 matching events found\n",
      "No baseline correction applied\n",
      "0 projection items activated\n",
      "Not setting metadata\n",
      "3 matching events found\n",
      "No baseline correction applied\n",
      "0 projection items activated\n",
      "No valid events found (only boundaries). Creating fixed-length epochs.\n",
      "Not setting metadata\n",
      "652 matching events found\n",
      "No baseline correction applied\n",
      "0 projection items activated\n",
      "Using data from preloaded Raw for 652 events and 500 original time points ...\n",
      "0 bad epochs dropped\n",
      "Not setting metadata\n",
      "652 matching events found\n",
      "No baseline correction applied\n",
      "0 projection items activated\n",
      "No valid events found (only boundaries). Creating fixed-length epochs.\n",
      "Not setting metadata\n",
      "913 matching events found\n",
      "No baseline correction applied\n",
      "0 projection items activated\n",
      "Using data from preloaded Raw for 913 events and 500 original time points ...\n",
      "0 bad epochs dropped\n",
      "Not setting metadata\n",
      "913 matching events found\n",
      "No baseline correction applied\n",
      "0 projection items activated\n",
      "Not setting metadata\n",
      "4 matching events found\n",
      "No baseline correction applied\n",
      "0 projection items activated\n",
      "Not setting metadata\n",
      "5 matching events found\n",
      "No baseline correction applied\n",
      "0 projection items activated\n",
      "Not setting metadata\n",
      "5523 matching events found\n",
      "No baseline correction applied\n",
      "X_train shape: (5523, 19, 500)\n",
      "y_train shape: (5523,)\n"
     ]
    }
   ],
   "source": [
    "def extract_epochs_from_raw(raw, duration=1.0, tmin=0.0):\n",
    "    \"\"\"\n",
    "    Extract epochs from a continuous Raw object.\n",
    "    If no valid events (other than 'boundary') are found,\n",
    "    fixed-length epochs are created.\n",
    "    \n",
    "    Parameters\n",
    "    ----------\n",
    "    raw : mne.io.Raw object\n",
    "        The continuous EEG data.\n",
    "    duration : float\n",
    "        Duration (in seconds) of each epoch.\n",
    "    tmin : float\n",
    "        Start time relative to the epoch (default is 0).\n",
    "    \n",
    "    Returns\n",
    "    -------\n",
    "    epochs : mne.Epochs object\n",
    "        The extracted epochs.\n",
    "    \"\"\"\n",
    "    events, event_id = mne.events_from_annotations(raw, verbose=False)\n",
    "    \n",
    "    if events.size == 0:\n",
    "        print(\"No valid events found (only boundaries). Creating fixed-length epochs.\")\n",
    "        epochs = mne.make_fixed_length_epochs(raw, duration=duration, overlap=0, preload=True)\n",
    "    else:\n",
    "        tmax = tmin + duration\n",
    "        epochs = mne.Epochs(raw, events, event_id, tmin=tmin, tmax=tmax,\n",
    "                            baseline=None, preload=True, verbose=False)\n",
    "    return epochs\n",
    "\n",
    "def extract_epochs_from_all(raw_list, duration=1.0):\n",
    "    \"\"\"\n",
    "    Process a list of Raw objects, extract epochs from each, crop them to have a consistent\n",
    "    number of time points, and concatenate them.\n",
    "    \n",
    "    Parameters\n",
    "    ----------\n",
    "    raw_list : list of mne.io.Raw objects\n",
    "        The list of subjects' EEG data.\n",
    "    duration : float\n",
    "        Duration (in seconds) of each epoch.\n",
    "    \n",
    "    Returns\n",
    "    -------\n",
    "    epochs_all : mne.Epochs object\n",
    "        Concatenated epochs from all subjects with a consistent time dimension.\n",
    "    \"\"\"\n",
    "    epochs_list = []\n",
    "    for raw in raw_list:\n",
    "        epochs = extract_epochs_from_raw(raw, duration=duration)\n",
    "        sfreq = raw.info['sfreq']\n",
    "        n_samples_expected = int(sfreq * duration)\n",
    "        # Crop the data of each epoch to ensure consistent length\n",
    "        data = epochs.get_data()[:, :, :n_samples_expected]\n",
    "        # Create a new Epochs object from the cropped data\n",
    "        new_epochs = mne.EpochsArray(data, epochs.info, events=epochs.events, event_id=epochs.event_id)\n",
    "        epochs_list.append(new_epochs)\n",
    "    \n",
    "    epochs_all = mne.concatenate_epochs(epochs_list)\n",
    "    return epochs_all\n",
    "\n",
    "epochs_train = extract_epochs_from_all(train_raws, duration=1.0)\n",
    "\n",
    "X_train = epochs_train.get_data()      \n",
    "y_train = epochs_train.events[:, -1]   \n",
    "\n",
    "print(\"X_train shape:\", X_train.shape)\n",
    "print(\"y_train shape:\", y_train.shape)"
   ]
  },
  {
   "cell_type": "code",
   "execution_count": 5,
   "id": "c9466d31-0f0f-4ebd-8a09-35cf49221046",
   "metadata": {},
   "outputs": [
    {
     "name": "stdout",
     "output_type": "stream",
     "text": [
      "Unique labels in y_train: [1]\n"
     ]
    }
   ],
   "source": [
    "print(\"Unique labels in y_train:\", np.unique(y_train))"
   ]
  },
  {
   "cell_type": "code",
   "execution_count": 6,
   "id": "114a73de-3ea7-4734-a67a-639d731444e4",
   "metadata": {
    "scrolled": true
   },
   "outputs": [
    {
     "name": "stdout",
     "output_type": "stream",
     "text": [
      "  participant_id Gender  Age Group  MMSE\n",
      "0        sub-001      F   57     A    16\n",
      "1        sub-002      F   78     A    22\n",
      "2        sub-003      M   70     A    14\n",
      "3        sub-004      F   67     A    20\n",
      "4        sub-005      M   70     A    22\n",
      "Group mapping: {'sub-001': 'A', 'sub-002': 'A', 'sub-003': 'A', 'sub-004': 'A', 'sub-005': 'A', 'sub-006': 'A', 'sub-007': 'A', 'sub-008': 'A', 'sub-009': 'A', 'sub-010': 'A', 'sub-011': 'A', 'sub-012': 'A', 'sub-013': 'A', 'sub-014': 'A', 'sub-015': 'A', 'sub-016': 'A', 'sub-017': 'A', 'sub-018': 'A', 'sub-019': 'A', 'sub-020': 'A', 'sub-021': 'A', 'sub-022': 'A', 'sub-023': 'A', 'sub-024': 'A', 'sub-025': 'A', 'sub-026': 'A', 'sub-027': 'A', 'sub-028': 'A', 'sub-029': 'A', 'sub-030': 'A', 'sub-031': 'A', 'sub-032': 'A', 'sub-033': 'A', 'sub-034': 'A', 'sub-035': 'A', 'sub-036': 'A', 'sub-037': 'C', 'sub-038': 'C', 'sub-039': 'C', 'sub-040': 'C', 'sub-041': 'C', 'sub-042': 'C', 'sub-043': 'C', 'sub-044': 'C', 'sub-045': 'C', 'sub-046': 'C', 'sub-047': 'C', 'sub-048': 'C', 'sub-049': 'C', 'sub-050': 'C', 'sub-051': 'C', 'sub-052': 'C', 'sub-053': 'C', 'sub-054': 'C', 'sub-055': 'C', 'sub-056': 'C', 'sub-057': 'C', 'sub-058': 'C', 'sub-059': 'C', 'sub-060': 'C', 'sub-061': 'C', 'sub-062': 'C', 'sub-063': 'C', 'sub-064': 'C', 'sub-065': 'C', 'sub-066': 'F', 'sub-067': 'F', 'sub-068': 'F', 'sub-069': 'F', 'sub-070': 'F', 'sub-071': 'F', 'sub-072': 'F', 'sub-073': 'F', 'sub-074': 'F', 'sub-075': 'F', 'sub-076': 'F', 'sub-077': 'F', 'sub-078': 'F', 'sub-079': 'F', 'sub-080': 'F', 'sub-081': 'F', 'sub-082': 'F', 'sub-083': 'F', 'sub-084': 'F', 'sub-085': 'F', 'sub-086': 'F', 'sub-087': 'F', 'sub-088': 'F'}\n",
      "Unique groups: ['A' 'C' 'F']\n",
      "Label map: {'A': 0, 'C': 1, 'F': 2}\n",
      "Not setting metadata\n",
      "2 matching events found\n",
      "No baseline correction applied\n",
      "0 projection items activated\n",
      "Not setting metadata\n",
      "14 matching events found\n",
      "No baseline correction applied\n",
      "0 projection items activated\n",
      "Not setting metadata\n",
      "1 matching events found\n",
      "No baseline correction applied\n",
      "0 projection items activated\n",
      "Not setting metadata\n",
      "7 matching events found\n",
      "No baseline correction applied\n",
      "0 projection items activated\n",
      "Not setting metadata\n",
      "2 matching events found\n",
      "No baseline correction applied\n",
      "0 projection items activated\n",
      "Not setting metadata\n",
      "7 matching events found\n",
      "No baseline correction applied\n",
      "0 projection items activated\n",
      "Not setting metadata\n",
      "9 matching events found\n",
      "No baseline correction applied\n",
      "0 projection items activated\n",
      "Not setting metadata\n",
      "3 matching events found\n",
      "No baseline correction applied\n",
      "0 projection items activated\n",
      "Not setting metadata\n",
      "1 matching events found\n",
      "No baseline correction applied\n",
      "0 projection items activated\n",
      "Not setting metadata\n",
      "3 matching events found\n",
      "No baseline correction applied\n",
      "0 projection items activated\n",
      "Not setting metadata\n",
      "2 matching events found\n",
      "No baseline correction applied\n",
      "0 projection items activated\n",
      "No valid events for subject unknown. Creating fixed-length epochs.\n",
      "Not setting metadata\n",
      "869 matching events found\n",
      "No baseline correction applied\n",
      "0 projection items activated\n",
      "Using data from preloaded Raw for 869 events and 500 original time points ...\n",
      "0 bad epochs dropped\n",
      "Not setting metadata\n",
      "869 matching events found\n",
      "No baseline correction applied\n",
      "0 projection items activated\n",
      "Not setting metadata\n",
      "1 matching events found\n",
      "No baseline correction applied\n",
      "0 projection items activated\n",
      "Not setting metadata\n",
      "1 matching events found\n",
      "No baseline correction applied\n",
      "0 projection items activated\n",
      "Not setting metadata\n",
      "13 matching events found\n",
      "No baseline correction applied\n",
      "0 projection items activated\n",
      "Not setting metadata\n",
      "1 matching events found\n",
      "No baseline correction applied\n",
      "0 projection items activated\n",
      "Not setting metadata\n",
      "12 matching events found\n",
      "No baseline correction applied\n",
      "0 projection items activated\n",
      "Not setting metadata\n",
      "6 matching events found\n",
      "No baseline correction applied\n",
      "0 projection items activated\n",
      "Not setting metadata\n",
      "9 matching events found\n",
      "No baseline correction applied\n",
      "0 projection items activated\n",
      "Not setting metadata\n",
      "6 matching events found\n",
      "No baseline correction applied\n",
      "0 projection items activated\n",
      "Not setting metadata\n",
      "18 matching events found\n",
      "No baseline correction applied\n",
      "0 projection items activated\n",
      "Not setting metadata\n",
      "6 matching events found\n",
      "No baseline correction applied\n",
      "0 projection items activated\n",
      "Not setting metadata\n",
      "3 matching events found\n",
      "No baseline correction applied\n",
      "0 projection items activated\n",
      "No valid events for subject unknown. Creating fixed-length epochs.\n",
      "Not setting metadata\n",
      "599 matching events found\n",
      "No baseline correction applied\n",
      "0 projection items activated\n",
      "Using data from preloaded Raw for 599 events and 500 original time points ...\n",
      "0 bad epochs dropped\n",
      "Not setting metadata\n",
      "599 matching events found\n",
      "No baseline correction applied\n",
      "0 projection items activated\n",
      "Not setting metadata\n",
      "4 matching events found\n",
      "No baseline correction applied\n",
      "0 projection items activated\n",
      "Not setting metadata\n",
      "4 matching events found\n",
      "No baseline correction applied\n",
      "0 projection items activated\n",
      "Not setting metadata\n",
      "8 matching events found\n",
      "No baseline correction applied\n",
      "0 projection items activated\n",
      "Not setting metadata\n",
      "2 matching events found\n",
      "No baseline correction applied\n",
      "0 projection items activated\n",
      "Not setting metadata\n",
      "53 matching events found\n",
      "No baseline correction applied\n",
      "0 projection items activated\n",
      "Not setting metadata\n",
      "3 matching events found\n",
      "No baseline correction applied\n",
      "0 projection items activated\n",
      "Not setting metadata\n",
      "2 matching events found\n",
      "No baseline correction applied\n",
      "0 projection items activated\n",
      "Not setting metadata\n",
      "4 matching events found\n",
      "No baseline correction applied\n",
      "0 projection items activated\n",
      "Not setting metadata\n",
      "11 matching events found\n",
      "No baseline correction applied\n",
      "0 projection items activated\n",
      "Not setting metadata\n",
      "9 matching events found\n",
      "No baseline correction applied\n",
      "0 projection items activated\n",
      "Not setting metadata\n",
      "2 matching events found\n",
      "No baseline correction applied\n",
      "0 projection items activated\n",
      "Not setting metadata\n",
      "3 matching events found\n",
      "No baseline correction applied\n",
      "0 projection items activated\n",
      "No valid events for subject unknown. Creating fixed-length epochs.\n",
      "Not setting metadata\n",
      "643 matching events found\n",
      "No baseline correction applied\n",
      "0 projection items activated\n",
      "Using data from preloaded Raw for 643 events and 500 original time points ...\n",
      "0 bad epochs dropped\n",
      "Not setting metadata\n",
      "643 matching events found\n",
      "No baseline correction applied\n",
      "0 projection items activated\n",
      "Not setting metadata\n",
      "1 matching events found\n",
      "No baseline correction applied\n",
      "0 projection items activated\n",
      "Not setting metadata\n",
      "3 matching events found\n",
      "No baseline correction applied\n",
      "0 projection items activated\n",
      "No valid events for subject unknown. Creating fixed-length epochs.\n",
      "Not setting metadata\n",
      "818 matching events found\n",
      "No baseline correction applied\n",
      "0 projection items activated\n",
      "Using data from preloaded Raw for 818 events and 500 original time points ...\n",
      "0 bad epochs dropped\n",
      "Not setting metadata\n",
      "818 matching events found\n",
      "No baseline correction applied\n",
      "0 projection items activated\n",
      "No valid events for subject unknown. Creating fixed-length epochs.\n",
      "Not setting metadata\n",
      "777 matching events found\n",
      "No baseline correction applied\n",
      "0 projection items activated\n",
      "Using data from preloaded Raw for 777 events and 500 original time points ...\n",
      "0 bad epochs dropped\n",
      "Not setting metadata\n",
      "777 matching events found\n",
      "No baseline correction applied\n",
      "0 projection items activated\n",
      "Not setting metadata\n",
      "4 matching events found\n",
      "No baseline correction applied\n",
      "0 projection items activated\n",
      "Not setting metadata\n",
      "3 matching events found\n",
      "No baseline correction applied\n",
      "0 projection items activated\n",
      "No valid events for subject unknown. Creating fixed-length epochs.\n",
      "Not setting metadata\n",
      "652 matching events found\n",
      "No baseline correction applied\n",
      "0 projection items activated\n",
      "Using data from preloaded Raw for 652 events and 500 original time points ...\n",
      "0 bad epochs dropped\n",
      "Not setting metadata\n",
      "652 matching events found\n",
      "No baseline correction applied\n",
      "0 projection items activated\n",
      "No valid events for subject unknown. Creating fixed-length epochs.\n",
      "Not setting metadata\n",
      "913 matching events found\n",
      "No baseline correction applied\n",
      "0 projection items activated\n",
      "Using data from preloaded Raw for 913 events and 500 original time points ...\n",
      "0 bad epochs dropped\n",
      "Not setting metadata\n",
      "913 matching events found\n",
      "No baseline correction applied\n",
      "0 projection items activated\n",
      "Not setting metadata\n",
      "4 matching events found\n",
      "No baseline correction applied\n",
      "0 projection items activated\n",
      "Not setting metadata\n",
      "5 matching events found\n",
      "No baseline correction applied\n",
      "0 projection items activated\n",
      "Not setting metadata\n",
      "5523 matching events found\n",
      "No baseline correction applied\n",
      "X_train shape: (5523, 19, 500)\n",
      "y_train shape: (5523,)\n",
      "Unique labels in y_train: [0 1]\n"
     ]
    }
   ],
   "source": [
    "participants = pd.read_csv(\"dataset/participants.tsv\", sep=\"\\t\")\n",
    "print(participants.head())\n",
    "\n",
    "group_dict = dict(zip(participants['participant_id'], participants['Group']))\n",
    "print(\"Group mapping:\", group_dict)\n",
    "\n",
    "unique_groups = participants['Group'].unique()\n",
    "print(\"Unique groups:\", unique_groups)\n",
    "label_map = {group: i for i, group in enumerate(unique_groups)}\n",
    "print(\"Label map:\", label_map)\n",
    "\n",
    "train_subject_ids = [f\"sub-{i:03d}\" for i in range(1, len(train_raws)+1)]\n",
    "\n",
    "def extract_epochs_from_raw(raw, duration=1.0, tmin=0.0):\n",
    "    \"\"\"\n",
    "    Extract epochs from a Raw object. If no valid events (other than 'boundary') are found,\n",
    "    create fixed-length epochs.\n",
    "    \"\"\"\n",
    "    events, event_id = mne.events_from_annotations(raw, verbose=False)\n",
    "    if events.size == 0:\n",
    "        print(f\"No valid events for subject {raw.info.get('subject_id', 'unknown')}. Creating fixed-length epochs.\")\n",
    "        epochs = mne.make_fixed_length_epochs(raw, duration=duration, overlap=0, preload=True)\n",
    "    else:\n",
    "        tmax = tmin + duration\n",
    "        epochs = mne.Epochs(raw, events, event_id, tmin=tmin, tmax=tmax,\n",
    "                            baseline=None, preload=True, verbose=False)\n",
    "    return epochs\n",
    "\n",
    "all_epochs_list = []\n",
    "all_labels_list = []\n",
    "\n",
    "for i, raw in enumerate(train_raws):\n",
    "    subject_id = train_subject_ids[i]\n",
    "    if subject_id not in group_dict:\n",
    "        raise ValueError(f\"Group for subject {subject_id} not found in participants.tsv\")\n",
    "    \n",
    "    group = group_dict[subject_id]\n",
    "    label = label_map[group]\n",
    "    \n",
    "    epochs = extract_epochs_from_raw(raw, duration=1.0)\n",
    "\n",
    "    sfreq = raw.info['sfreq']\n",
    "    n_samples_expected = int(sfreq * 1.0)\n",
    "    data = epochs.get_data()[:, :, :n_samples_expected]\n",
    "    new_epochs = mne.EpochsArray(data, epochs.info, events=epochs.events, event_id=epochs.event_id)\n",
    "    \n",
    "    all_epochs_list.append(new_epochs)\n",
    "    subject_labels = np.full(new_epochs.get_data().shape[0], label)\n",
    "    all_labels_list.append(subject_labels)\n",
    "\n",
    "epochs_all = mne.concatenate_epochs(all_epochs_list)\n",
    "X_train = epochs_all.get_data()   \n",
    "y_train = np.concatenate(all_labels_list)\n",
    "print(\"X_train shape:\", X_train.shape)\n",
    "print(\"y_train shape:\", y_train.shape)\n",
    "print(\"Unique labels in y_train:\", np.unique(y_train))"
   ]
  },
  {
   "cell_type": "code",
   "execution_count": 7,
   "id": "a081cb23-f3b4-4ad9-a81d-d52cfdac7ea6",
   "metadata": {
    "scrolled": true
   },
   "outputs": [
    {
     "name": "stdout",
     "output_type": "stream",
     "text": [
      "  participant_id Gender  Age Group  MMSE\n",
      "0        sub-001      F   57     A    16\n",
      "1        sub-002      F   78     A    22\n",
      "2        sub-003      M   70     A    14\n",
      "3        sub-004      F   67     A    20\n",
      "4        sub-005      M   70     A    22\n",
      "Group mapping: {'sub-001': 'A', 'sub-002': 'A', 'sub-003': 'A', 'sub-004': 'A', 'sub-005': 'A', 'sub-006': 'A', 'sub-007': 'A', 'sub-008': 'A', 'sub-009': 'A', 'sub-010': 'A', 'sub-011': 'A', 'sub-012': 'A', 'sub-013': 'A', 'sub-014': 'A', 'sub-015': 'A', 'sub-016': 'A', 'sub-017': 'A', 'sub-018': 'A', 'sub-019': 'A', 'sub-020': 'A', 'sub-021': 'A', 'sub-022': 'A', 'sub-023': 'A', 'sub-024': 'A', 'sub-025': 'A', 'sub-026': 'A', 'sub-027': 'A', 'sub-028': 'A', 'sub-029': 'A', 'sub-030': 'A', 'sub-031': 'A', 'sub-032': 'A', 'sub-033': 'A', 'sub-034': 'A', 'sub-035': 'A', 'sub-036': 'A', 'sub-037': 'C', 'sub-038': 'C', 'sub-039': 'C', 'sub-040': 'C', 'sub-041': 'C', 'sub-042': 'C', 'sub-043': 'C', 'sub-044': 'C', 'sub-045': 'C', 'sub-046': 'C', 'sub-047': 'C', 'sub-048': 'C', 'sub-049': 'C', 'sub-050': 'C', 'sub-051': 'C', 'sub-052': 'C', 'sub-053': 'C', 'sub-054': 'C', 'sub-055': 'C', 'sub-056': 'C', 'sub-057': 'C', 'sub-058': 'C', 'sub-059': 'C', 'sub-060': 'C', 'sub-061': 'C', 'sub-062': 'C', 'sub-063': 'C', 'sub-064': 'C', 'sub-065': 'C', 'sub-066': 'F', 'sub-067': 'F', 'sub-068': 'F', 'sub-069': 'F', 'sub-070': 'F', 'sub-071': 'F', 'sub-072': 'F', 'sub-073': 'F', 'sub-074': 'F', 'sub-075': 'F', 'sub-076': 'F', 'sub-077': 'F', 'sub-078': 'F', 'sub-079': 'F', 'sub-080': 'F', 'sub-081': 'F', 'sub-082': 'F', 'sub-083': 'F', 'sub-084': 'F', 'sub-085': 'F', 'sub-086': 'F', 'sub-087': 'F', 'sub-088': 'F'}\n",
      "Unique groups: ['A' 'C' 'F']\n",
      "Label map: {'A': 0, 'C': 1, 'F': 2}\n",
      "Not setting metadata\n",
      "2 matching events found\n",
      "No baseline correction applied\n",
      "0 projection items activated\n",
      "Not setting metadata\n",
      "14 matching events found\n",
      "No baseline correction applied\n",
      "0 projection items activated\n",
      "Not setting metadata\n",
      "1 matching events found\n",
      "No baseline correction applied\n",
      "0 projection items activated\n",
      "Not setting metadata\n",
      "7 matching events found\n",
      "No baseline correction applied\n",
      "0 projection items activated\n",
      "Not setting metadata\n",
      "2 matching events found\n",
      "No baseline correction applied\n",
      "0 projection items activated\n",
      "Not setting metadata\n",
      "7 matching events found\n",
      "No baseline correction applied\n",
      "0 projection items activated\n",
      "Not setting metadata\n",
      "9 matching events found\n",
      "No baseline correction applied\n",
      "0 projection items activated\n",
      "Not setting metadata\n",
      "3 matching events found\n",
      "No baseline correction applied\n",
      "0 projection items activated\n",
      "Not setting metadata\n",
      "1 matching events found\n",
      "No baseline correction applied\n",
      "0 projection items activated\n",
      "Not setting metadata\n",
      "3 matching events found\n",
      "No baseline correction applied\n",
      "0 projection items activated\n",
      "Not setting metadata\n",
      "2 matching events found\n",
      "No baseline correction applied\n",
      "0 projection items activated\n",
      "No valid events for subject unknown. Creating fixed-length epochs.\n",
      "Not setting metadata\n",
      "869 matching events found\n",
      "No baseline correction applied\n",
      "0 projection items activated\n",
      "Using data from preloaded Raw for 869 events and 500 original time points ...\n",
      "0 bad epochs dropped\n",
      "Not setting metadata\n",
      "869 matching events found\n",
      "No baseline correction applied\n",
      "0 projection items activated\n",
      "Not setting metadata\n",
      "1 matching events found\n",
      "No baseline correction applied\n",
      "0 projection items activated\n",
      "Not setting metadata\n",
      "1 matching events found\n",
      "No baseline correction applied\n",
      "0 projection items activated\n",
      "Not setting metadata\n",
      "13 matching events found\n",
      "No baseline correction applied\n",
      "0 projection items activated\n",
      "Not setting metadata\n",
      "1 matching events found\n",
      "No baseline correction applied\n",
      "0 projection items activated\n",
      "Not setting metadata\n",
      "12 matching events found\n",
      "No baseline correction applied\n",
      "0 projection items activated\n",
      "Not setting metadata\n",
      "6 matching events found\n",
      "No baseline correction applied\n",
      "0 projection items activated\n",
      "Not setting metadata\n",
      "9 matching events found\n",
      "No baseline correction applied\n",
      "0 projection items activated\n",
      "Not setting metadata\n",
      "6 matching events found\n",
      "No baseline correction applied\n",
      "0 projection items activated\n",
      "Not setting metadata\n",
      "18 matching events found\n",
      "No baseline correction applied\n",
      "0 projection items activated\n",
      "Not setting metadata\n",
      "6 matching events found\n",
      "No baseline correction applied\n",
      "0 projection items activated\n",
      "Not setting metadata\n",
      "3 matching events found\n",
      "No baseline correction applied\n",
      "0 projection items activated\n",
      "No valid events for subject unknown. Creating fixed-length epochs.\n",
      "Not setting metadata\n",
      "599 matching events found\n",
      "No baseline correction applied\n",
      "0 projection items activated\n",
      "Using data from preloaded Raw for 599 events and 500 original time points ...\n",
      "0 bad epochs dropped\n",
      "Not setting metadata\n",
      "599 matching events found\n",
      "No baseline correction applied\n",
      "0 projection items activated\n",
      "Not setting metadata\n",
      "4 matching events found\n",
      "No baseline correction applied\n",
      "0 projection items activated\n",
      "Not setting metadata\n",
      "4 matching events found\n",
      "No baseline correction applied\n",
      "0 projection items activated\n",
      "Not setting metadata\n",
      "8 matching events found\n",
      "No baseline correction applied\n",
      "0 projection items activated\n",
      "Not setting metadata\n",
      "2 matching events found\n",
      "No baseline correction applied\n",
      "0 projection items activated\n",
      "Not setting metadata\n",
      "53 matching events found\n",
      "No baseline correction applied\n",
      "0 projection items activated\n",
      "Not setting metadata\n",
      "3 matching events found\n",
      "No baseline correction applied\n",
      "0 projection items activated\n",
      "Not setting metadata\n",
      "2 matching events found\n",
      "No baseline correction applied\n",
      "0 projection items activated\n",
      "Not setting metadata\n",
      "4 matching events found\n",
      "No baseline correction applied\n",
      "0 projection items activated\n",
      "Not setting metadata\n",
      "11 matching events found\n",
      "No baseline correction applied\n",
      "0 projection items activated\n",
      "Not setting metadata\n",
      "9 matching events found\n",
      "No baseline correction applied\n",
      "0 projection items activated\n",
      "Not setting metadata\n",
      "2 matching events found\n",
      "No baseline correction applied\n",
      "0 projection items activated\n",
      "Not setting metadata\n",
      "3 matching events found\n",
      "No baseline correction applied\n",
      "0 projection items activated\n",
      "No valid events for subject unknown. Creating fixed-length epochs.\n",
      "Not setting metadata\n",
      "643 matching events found\n",
      "No baseline correction applied\n",
      "0 projection items activated\n",
      "Using data from preloaded Raw for 643 events and 500 original time points ...\n",
      "0 bad epochs dropped\n",
      "Not setting metadata\n",
      "643 matching events found\n",
      "No baseline correction applied\n",
      "0 projection items activated\n",
      "Not setting metadata\n",
      "1 matching events found\n",
      "No baseline correction applied\n",
      "0 projection items activated\n",
      "Not setting metadata\n",
      "3 matching events found\n",
      "No baseline correction applied\n",
      "0 projection items activated\n",
      "No valid events for subject unknown. Creating fixed-length epochs.\n",
      "Not setting metadata\n",
      "818 matching events found\n",
      "No baseline correction applied\n",
      "0 projection items activated\n",
      "Using data from preloaded Raw for 818 events and 500 original time points ...\n",
      "0 bad epochs dropped\n",
      "Not setting metadata\n",
      "818 matching events found\n",
      "No baseline correction applied\n",
      "0 projection items activated\n",
      "No valid events for subject unknown. Creating fixed-length epochs.\n",
      "Not setting metadata\n",
      "777 matching events found\n",
      "No baseline correction applied\n",
      "0 projection items activated\n",
      "Using data from preloaded Raw for 777 events and 500 original time points ...\n",
      "0 bad epochs dropped\n",
      "Not setting metadata\n",
      "777 matching events found\n",
      "No baseline correction applied\n",
      "0 projection items activated\n",
      "Not setting metadata\n",
      "4 matching events found\n",
      "No baseline correction applied\n",
      "0 projection items activated\n",
      "Not setting metadata\n",
      "3 matching events found\n",
      "No baseline correction applied\n",
      "0 projection items activated\n",
      "No valid events for subject unknown. Creating fixed-length epochs.\n",
      "Not setting metadata\n",
      "652 matching events found\n",
      "No baseline correction applied\n",
      "0 projection items activated\n",
      "Using data from preloaded Raw for 652 events and 500 original time points ...\n",
      "0 bad epochs dropped\n",
      "Not setting metadata\n",
      "652 matching events found\n",
      "No baseline correction applied\n",
      "0 projection items activated\n",
      "No valid events for subject unknown. Creating fixed-length epochs.\n",
      "Not setting metadata\n",
      "913 matching events found\n",
      "No baseline correction applied\n",
      "0 projection items activated\n",
      "Using data from preloaded Raw for 913 events and 500 original time points ...\n",
      "0 bad epochs dropped\n",
      "Not setting metadata\n",
      "913 matching events found\n",
      "No baseline correction applied\n",
      "0 projection items activated\n",
      "Not setting metadata\n",
      "4 matching events found\n",
      "No baseline correction applied\n",
      "0 projection items activated\n",
      "Not setting metadata\n",
      "5 matching events found\n",
      "No baseline correction applied\n",
      "0 projection items activated\n",
      "Not setting metadata\n",
      "5523 matching events found\n",
      "No baseline correction applied\n",
      "X_train shape: (5523, 19, 500)\n",
      "y_train shape: (5523,)\n",
      "Unique labels in y_train: [0 1]\n",
      "No valid events for subject unknown. Creating fixed-length epochs.\n",
      "Not setting metadata\n",
      "793 matching events found\n",
      "No baseline correction applied\n",
      "0 projection items activated\n",
      "Using data from preloaded Raw for 793 events and 500 original time points ...\n",
      "0 bad epochs dropped\n",
      "Not setting metadata\n",
      "793 matching events found\n",
      "No baseline correction applied\n",
      "0 projection items activated\n",
      "No valid events for subject unknown. Creating fixed-length epochs.\n",
      "Not setting metadata\n",
      "804 matching events found\n",
      "No baseline correction applied\n",
      "0 projection items activated\n",
      "Using data from preloaded Raw for 804 events and 500 original time points ...\n",
      "0 bad epochs dropped\n",
      "Not setting metadata\n",
      "804 matching events found\n",
      "No baseline correction applied\n",
      "0 projection items activated\n",
      "Not setting metadata\n",
      "34 matching events found\n",
      "No baseline correction applied\n",
      "0 projection items activated\n",
      "Not setting metadata\n",
      "1 matching events found\n",
      "No baseline correction applied\n",
      "0 projection items activated\n",
      "Not setting metadata\n",
      "1 matching events found\n",
      "No baseline correction applied\n",
      "0 projection items activated\n",
      "Not setting metadata\n",
      "2 matching events found\n",
      "No baseline correction applied\n",
      "0 projection items activated\n",
      "Not setting metadata\n",
      "2 matching events found\n",
      "No baseline correction applied\n",
      "0 projection items activated\n",
      "Not setting metadata\n",
      "1 matching events found\n",
      "No baseline correction applied\n",
      "0 projection items activated\n",
      "Not setting metadata\n",
      "6 matching events found\n",
      "No baseline correction applied\n",
      "0 projection items activated\n",
      "Not setting metadata\n",
      "1 matching events found\n",
      "No baseline correction applied\n",
      "0 projection items activated\n",
      "Not setting metadata\n",
      "1 matching events found\n",
      "No baseline correction applied\n",
      "0 projection items activated\n",
      "No valid events for subject unknown. Creating fixed-length epochs.\n",
      "Not setting metadata\n",
      "479 matching events found\n",
      "No baseline correction applied\n",
      "0 projection items activated\n",
      "Using data from preloaded Raw for 479 events and 500 original time points ...\n",
      "0 bad epochs dropped\n",
      "Not setting metadata\n",
      "479 matching events found\n",
      "No baseline correction applied\n",
      "0 projection items activated\n",
      "Not setting metadata\n",
      "7648 matching events found\n",
      "No baseline correction applied\n",
      "X_val shape: (7648, 19, 500)\n",
      "y_val shape: (7648,)\n",
      "Unique labels in y_val: [0 1]\n"
     ]
    }
   ],
   "source": [
    "participants = pd.read_csv(\"dataset/participants.tsv\", sep=\"\\t\")\n",
    "print(participants.head())\n",
    "\n",
    "group_dict = dict(zip(participants['participant_id'], participants['Group']))\n",
    "print(\"Group mapping:\", group_dict)\n",
    "\n",
    "unique_groups = participants['Group'].unique()\n",
    "print(\"Unique groups:\", unique_groups)\n",
    "label_map = {group: i for i, group in enumerate(unique_groups)}\n",
    "print(\"Label map:\", label_map)\n",
    "\n",
    "train_subject_ids = [f\"sub-{i:03d}\" for i in range(1, len(train_raws)+1)]\n",
    "val_subject_ids = [f\"sub-{i:03d}\" for i in range(1, len(val_raws)+1)]\n",
    "\n",
    "def extract_epochs_from_raw(raw, duration=1.0, tmin=0.0):\n",
    "    \"\"\"\n",
    "    Extract epochs from a Raw object. If no valid events (other than 'boundary') are found,\n",
    "    create fixed-length epochs.\n",
    "    \"\"\"\n",
    "    events, event_id = mne.events_from_annotations(raw, verbose=False)\n",
    "    if events.size == 0:\n",
    "        print(f\"No valid events for subject {raw.info.get('subject_id', 'unknown')}. Creating fixed-length epochs.\")\n",
    "        epochs = mne.make_fixed_length_epochs(raw, duration=duration, overlap=0, preload=True)\n",
    "    else:\n",
    "        tmax = tmin + duration\n",
    "        epochs = mne.Epochs(raw, events, event_id, tmin=tmin, tmax=tmax,\n",
    "                            baseline=None, preload=True, verbose=False)\n",
    "    return epochs\n",
    "\n",
    "all_epochs_list = []\n",
    "all_labels_list = []\n",
    "\n",
    "for i, raw in enumerate(train_raws):\n",
    "    subject_id = train_subject_ids[i]\n",
    "    if subject_id not in group_dict:\n",
    "        raise ValueError(f\"Group for subject {subject_id} not found in participants.tsv\")\n",
    "    \n",
    "    group = group_dict[subject_id]\n",
    "    label = label_map[group]\n",
    "\n",
    "    epochs = extract_epochs_from_raw(raw, duration=1.0)\n",
    "\n",
    "    sfreq = raw.info['sfreq']\n",
    "    n_samples_expected = int(sfreq * 1.0)\n",
    "    data = epochs.get_data()[:, :, :n_samples_expected]\n",
    "    new_epochs = mne.EpochsArray(data, epochs.info, events=epochs.events, event_id=epochs.event_id)\n",
    "    \n",
    "    all_epochs_list.append(new_epochs)\n",
    "    subject_labels = np.full(new_epochs.get_data().shape[0], label)\n",
    "    all_labels_list.append(subject_labels)\n",
    "\n",
    "epochs_all = mne.concatenate_epochs(all_epochs_list)\n",
    "X_train = epochs_all.get_data()       \n",
    "y_train = np.concatenate(all_labels_list)\n",
    "print(\"X_train shape:\", X_train.shape)\n",
    "print(\"y_train shape:\", y_train.shape)\n",
    "print(\"Unique labels in y_train:\", np.unique(y_train))\n",
    "\n",
    "for i, raw in enumerate(val_raws):\n",
    "    subject_id = val_subject_ids[i]\n",
    "    if subject_id not in group_dict:\n",
    "        raise ValueError(f\"Group for subject {subject_id} not found in participants.tsv\")\n",
    "    \n",
    "    group = group_dict[subject_id]\n",
    "    label = label_map[group]\n",
    "    \n",
    "    epochs = extract_epochs_from_raw(raw, duration=1.0)\n",
    "\n",
    "    sfreq = raw.info['sfreq']\n",
    "    n_samples_expected = int(sfreq * 1.0)\n",
    "    data = epochs.get_data()[:, :, :n_samples_expected]\n",
    "    new_epochs = mne.EpochsArray(data, epochs.info, events=epochs.events, event_id=epochs.event_id)\n",
    "    \n",
    "    all_epochs_list.append(new_epochs)\n",
    "    subject_labels = np.full(new_epochs.get_data().shape[0], label)\n",
    "    all_labels_list.append(subject_labels)\n",
    "\n",
    "epochs_all = mne.concatenate_epochs(all_epochs_list)\n",
    "X_val = epochs_all.get_data()      \n",
    "y_val = np.concatenate(all_labels_list)\n",
    "print(\"X_val shape:\", X_val.shape)\n",
    "print(\"y_val shape:\", y_val.shape)\n",
    "print(\"Unique labels in y_val:\", np.unique(y_val))"
   ]
  },
  {
   "cell_type": "markdown",
   "id": "9f8b5c42-d8de-4aee-8698-13342d49d478",
   "metadata": {},
   "source": [
    "### SVM Model"
   ]
  },
  {
   "cell_type": "code",
   "execution_count": 8,
   "id": "a55f79b2-4215-4cea-8369-db3178ffc795",
   "metadata": {},
   "outputs": [],
   "source": [
    "selected_features = [\n",
    "    \"ch0_beta\", \"ch0_gamma\", \"ch2_beta\", \"ch2_gamma\", \"ch8_alpha\", \n",
    "    \"ch9_alpha\", \"ch12_beta\", \"ch12_gamma\", \"ch13_beta\", \"ch13_gamma\",\n",
    "    \"ch14_alpha\", \"ch15_alpha\", \"ch8_alpha_beta_ratio\", \n",
    "    \"ch9_alpha_beta_ratio\", \"ch14_alpha_beta_ratio\", \n",
    "    \"ch15_alpha_beta_ratio\", \"CSP_0\", \"CSP_1\", \"CSP_2\", \"CSP_3\"\n",
    "]\n",
    "\n",
    "X_train_flat = X_train.reshape(X_train.shape[0], -1)\n",
    "\n",
    "selected_indices = [0, 1, 2, 3, 4, 5, 6, 7, 8, 9] \n",
    "X_train_selected = X_train_flat[:, selected_indices]\n"
   ]
  },
  {
   "cell_type": "code",
   "execution_count": 9,
   "id": "2ed99517-124b-4793-8aaa-55147fb9a23d",
   "metadata": {},
   "outputs": [],
   "source": [
    "from sklearn.model_selection import train_test_split\n",
    "\n",
    "X_train_split, X_val_split, y_train_split, y_val_split = train_test_split(\n",
    "    X_train_selected, y_train, test_size=0.2, random_state=42\n",
    ")"
   ]
  },
  {
   "cell_type": "code",
   "execution_count": 20,
   "id": "ba751bc5-45c9-4167-aa70-7723a0c931a8",
   "metadata": {},
   "outputs": [
    {
     "name": "stdout",
     "output_type": "stream",
     "text": [
      "Validation Accuracy: 0.6733031674208145\n",
      "Classification Report:\n",
      "               precision    recall  f1-score   support\n",
      "\n",
      "           0       0.69      0.03      0.07      3825\n",
      "           1       0.50      0.98      0.67      3823\n",
      "\n",
      "    accuracy                           0.51      7648\n",
      "   macro avg       0.60      0.51      0.37      7648\n",
      "weighted avg       0.60      0.51      0.37      7648\n",
      "\n"
     ]
    }
   ],
   "source": [
    "from sklearn.svm import SVC\n",
    "from sklearn.metrics import accuracy_score, classification_report\n",
    "\n",
    "svm_model = SVC(kernel='rbf', C=10, gamma='scale', random_state=42)\n",
    "svm_model.fit(X_train_split, y_train_split)\n",
    "\n",
    "y_val_pred = svm_model.predict(X_val_split)\n",
    "\n",
    "print(\"Validation Accuracy:\", accuracy_score(y_val_split, y_val_pred))\n",
    "print(\"Classification Report:\\n\", classification_report(y_val, y_pred))"
   ]
  },
  {
   "cell_type": "code",
   "execution_count": 11,
   "id": "7d5285e8-46ec-4c2e-98c3-09af0d286775",
   "metadata": {},
   "outputs": [
    {
     "name": "stdout",
     "output_type": "stream",
     "text": [
      "Best Parameters: {'C': 10, 'gamma': 'scale', 'kernel': 'rbf'}\n",
      "Best Cross-Validation Score: 0.6925593481539772\n"
     ]
    }
   ],
   "source": [
    "from sklearn.model_selection import GridSearchCV\n",
    "\n",
    "param_grid = {\n",
    "    'C': [0.1, 1, 10, 100],\n",
    "    'gamma': ['scale', 'auto', 0.01, 0.001],\n",
    "    'kernel': ['rbf', 'linear']\n",
    "}\n",
    "\n",
    "grid_search = GridSearchCV(SVC(random_state=42), param_grid, cv=5)\n",
    "grid_search.fit(X_train_selected, y_train)\n",
    "\n",
    "print(\"Best Parameters:\", grid_search.best_params_)\n",
    "print(\"Best Cross-Validation Score:\", grid_search.best_score_)"
   ]
  },
  {
   "cell_type": "code",
   "execution_count": 14,
   "id": "3e3e0144-978f-40a8-8944-28942541d385",
   "metadata": {},
   "outputs": [],
   "source": [
    "X_val_flat = X_val.reshape(X_val.shape[0], -1)\n",
    "\n",
    "selected_indices = [0, 1, 2, 3, 4, 5, 6, 7, 8, 9]\n",
    "X_val_selected = X_val_flat[:, selected_indices]\n",
    "y_pred = svm_model.predict(X_val_selected)"
   ]
  },
  {
   "cell_type": "code",
   "execution_count": 15,
   "id": "f41829c5-510f-4db1-a587-3f0452af9068",
   "metadata": {},
   "outputs": [
    {
     "name": "stdout",
     "output_type": "stream",
     "text": [
      "Validation Accuracy: 0.5022228033472803\n"
     ]
    }
   ],
   "source": [
    "accuracy = accuracy_score(y_val, y_pred)\n",
    "print(\"Validation Accuracy:\", accuracy)"
   ]
  },
  {
   "cell_type": "markdown",
   "id": "dc98ae6a-3e3d-4793-a8a4-0127e68dc7d8",
   "metadata": {},
   "source": [
    "### Random Forest Classifier Model"
   ]
  },
  {
   "cell_type": "code",
   "execution_count": 19,
   "id": "5b0be19e-63a3-4b27-b507-a40acda02bea",
   "metadata": {},
   "outputs": [
    {
     "name": "stdout",
     "output_type": "stream",
     "text": [
      "Validation Accuracy: 0.758760460251046\n",
      "Classification Report:\n",
      "               precision    recall  f1-score   support\n",
      "\n",
      "           0       0.69      0.03      0.07      3825\n",
      "           1       0.50      0.98      0.67      3823\n",
      "\n",
      "    accuracy                           0.51      7648\n",
      "   macro avg       0.60      0.51      0.37      7648\n",
      "weighted avg       0.60      0.51      0.37      7648\n",
      "\n"
     ]
    }
   ],
   "source": [
    "from sklearn.ensemble import RandomForestClassifier\n",
    "\n",
    "rf_model = RandomForestClassifier(n_estimators=100, random_state=42)\n",
    "rf_model.fit(X_train_selected, y_train)\n",
    "\n",
    "y_val_pred_rf = rf_model.predict(X_val_selected)\n",
    "print(\"Validation Accuracy:\", accuracy_score(y_val, y_val_pred_rf))\n",
    "print(\"Classification Report:\\n\", classification_report(y_val, y_pred))"
   ]
  },
  {
   "cell_type": "markdown",
   "id": "57da8c74-f409-4ccd-918b-89d23abdcf36",
   "metadata": {},
   "source": [
    "### Decision Tree Classifier Model"
   ]
  },
  {
   "cell_type": "code",
   "execution_count": 17,
   "id": "f8cc1de5-bc47-4e3a-ac7d-eab30c867c6f",
   "metadata": {},
   "outputs": [
    {
     "name": "stdout",
     "output_type": "stream",
     "text": [
      "Validation Accuracy: 0.8143305439330544\n",
      "Classification Report:\n",
      "               precision    recall  f1-score   support\n",
      "\n",
      "           0       1.00      0.63      0.77      3825\n",
      "           1       0.73      1.00      0.84      3823\n",
      "\n",
      "    accuracy                           0.81      7648\n",
      "   macro avg       0.86      0.81      0.81      7648\n",
      "weighted avg       0.86      0.81      0.81      7648\n",
      "\n"
     ]
    }
   ],
   "source": [
    "from sklearn.tree import DecisionTreeClassifier\n",
    "\n",
    "dt_model = DecisionTreeClassifier(random_state=42)\n",
    "dt_model.fit(X_train_selected, y_train)\n",
    "\n",
    "y_pred = dt_model.predict(X_val_selected)\n",
    "\n",
    "print(\"Validation Accuracy:\", accuracy_score(y_val, y_pred))\n",
    "print(\"Classification Report:\\n\", classification_report(y_val, y_pred))"
   ]
  },
  {
   "cell_type": "code",
   "execution_count": null,
   "id": "3f0ee7bb-6f67-4014-8f23-a4bfdb925d76",
   "metadata": {},
   "outputs": [],
   "source": []
  }
 ],
 "metadata": {
  "kernelspec": {
   "display_name": "Python 3 (ipykernel)",
   "language": "python",
   "name": "python3"
  },
  "language_info": {
   "codemirror_mode": {
    "name": "ipython",
    "version": 3
   },
   "file_extension": ".py",
   "mimetype": "text/x-python",
   "name": "python",
   "nbconvert_exporter": "python",
   "pygments_lexer": "ipython3",
   "version": "3.9.6"
  }
 },
 "nbformat": 4,
 "nbformat_minor": 5
}
