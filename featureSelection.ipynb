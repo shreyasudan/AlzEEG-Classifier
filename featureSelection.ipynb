{
 "cells": [
  {
   "cell_type": "markdown",
   "metadata": {},
   "source": [
    "# EEG Feature Selection"
   ]
  },
  {
   "cell_type": "code",
   "execution_count": 63,
   "metadata": {},
   "outputs": [],
   "source": [
    "# EEG Feature Selection\n",
    "import numpy as np\n",
    "import pandas as pd\n",
    "import matplotlib.pyplot as plt\n",
    "import seaborn as sns\n",
    "import mne\n",
    "from scipy import signal\n",
    "from sklearn.feature_selection import SelectKBest, f_classif\n",
    "from sklearn.ensemble import RandomForestClassifier\n",
    "from sklearn.model_selection import cross_val_score\n",
    "from mne.decoding import CSP\n",
    "import json\n",
    "import os\n",
    "from sklearn.linear_model import LogisticRegression\n",
    "from sklearn.feature_selection import RFE\n",
    "# Set plotting style\n",
    "plt.style.use('ggplot')\n",
    "sns.set(font_scale=1.2)\n",
    "sns.set_style('whitegrid')\n",
    "\n",
    "# Set random seed for reproducibility\n",
    "np.random.seed(42)"
   ]
  },
  {
   "cell_type": "markdown",
   "metadata": {},
   "source": [
    "## 1. Load Dataset\n",
    "First, let's load the EEG data and split information:"
   ]
  },
  {
   "cell_type": "code",
   "execution_count": 39,
   "metadata": {},
   "outputs": [
    {
     "name": "stdout",
     "output_type": "stream",
     "text": [
      "[fold_1] Loading TRAIN subject: sub-021 -> dataset/derivatives/sub-021/eeg/sub-021_task-eyesclosed_eeg.set\n"
     ]
    },
    {
     "name": "stderr",
     "output_type": "stream",
     "text": [
      "<ipython-input-39-79e62b503a2a>:47: RuntimeWarning: The data contains 'boundary' events, indicating data discontinuities. Be cautious of filtering and epoching around these events.\n",
      "  raw_obj = mne.io.read_raw_eeglab(set_filepath, preload=True)\n",
      "<ipython-input-39-79e62b503a2a>:47: RuntimeWarning: The data contains 'boundary' events, indicating data discontinuities. Be cautious of filtering and epoching around these events.\n",
      "  raw_obj = mne.io.read_raw_eeglab(set_filepath, preload=True)\n"
     ]
    },
    {
     "name": "stdout",
     "output_type": "stream",
     "text": [
      "[fold_1] Loading TRAIN subject: sub-026 -> dataset/derivatives/sub-026/eeg/sub-026_task-eyesclosed_eeg.set\n",
      "[fold_1] Loading TRAIN subject: sub-019 -> dataset/derivatives/sub-019/eeg/sub-019_task-eyesclosed_eeg.set\n"
     ]
    },
    {
     "name": "stderr",
     "output_type": "stream",
     "text": [
      "<ipython-input-39-79e62b503a2a>:47: RuntimeWarning: The data contains 'boundary' events, indicating data discontinuities. Be cautious of filtering and epoching around these events.\n",
      "  raw_obj = mne.io.read_raw_eeglab(set_filepath, preload=True)\n"
     ]
    },
    {
     "name": "stdout",
     "output_type": "stream",
     "text": [
      "[fold_1] Loading TRAIN subject: sub-010 -> dataset/derivatives/sub-010/eeg/sub-010_task-eyesclosed_eeg.set\n"
     ]
    },
    {
     "name": "stderr",
     "output_type": "stream",
     "text": [
      "<ipython-input-39-79e62b503a2a>:47: RuntimeWarning: The data contains 'boundary' events, indicating data discontinuities. Be cautious of filtering and epoching around these events.\n",
      "  raw_obj = mne.io.read_raw_eeglab(set_filepath, preload=True)\n",
      "<ipython-input-39-79e62b503a2a>:47: RuntimeWarning: The data contains 'boundary' events, indicating data discontinuities. Be cautious of filtering and epoching around these events.\n",
      "  raw_obj = mne.io.read_raw_eeglab(set_filepath, preload=True)\n",
      "<ipython-input-39-79e62b503a2a>:47: RuntimeWarning: The data contains 'boundary' events, indicating data discontinuities. Be cautious of filtering and epoching around these events.\n",
      "  raw_obj = mne.io.read_raw_eeglab(set_filepath, preload=True)\n"
     ]
    },
    {
     "name": "stdout",
     "output_type": "stream",
     "text": [
      "[fold_1] Loading TRAIN subject: sub-017 -> dataset/derivatives/sub-017/eeg/sub-017_task-eyesclosed_eeg.set\n",
      "[fold_1] Loading TRAIN subject: sub-028 -> dataset/derivatives/sub-028/eeg/sub-028_task-eyesclosed_eeg.set\n",
      "[fold_1] Loading TRAIN subject: sub-016 -> dataset/derivatives/sub-016/eeg/sub-016_task-eyesclosed_eeg.set\n"
     ]
    },
    {
     "name": "stderr",
     "output_type": "stream",
     "text": [
      "<ipython-input-39-79e62b503a2a>:47: RuntimeWarning: The data contains 'boundary' events, indicating data discontinuities. Be cautious of filtering and epoching around these events.\n",
      "  raw_obj = mne.io.read_raw_eeglab(set_filepath, preload=True)\n"
     ]
    },
    {
     "name": "stdout",
     "output_type": "stream",
     "text": [
      "[fold_1] Loading TRAIN subject: sub-029 -> dataset/derivatives/sub-029/eeg/sub-029_task-eyesclosed_eeg.set\n"
     ]
    },
    {
     "name": "stderr",
     "output_type": "stream",
     "text": [
      "<ipython-input-39-79e62b503a2a>:47: RuntimeWarning: The data contains 'boundary' events, indicating data discontinuities. Be cautious of filtering and epoching around these events.\n",
      "  raw_obj = mne.io.read_raw_eeglab(set_filepath, preload=True)\n",
      "<ipython-input-39-79e62b503a2a>:47: RuntimeWarning: The data contains 'boundary' events, indicating data discontinuities. Be cautious of filtering and epoching around these events.\n",
      "  raw_obj = mne.io.read_raw_eeglab(set_filepath, preload=True)\n"
     ]
    },
    {
     "name": "stdout",
     "output_type": "stream",
     "text": [
      "[fold_1] Loading TRAIN subject: sub-011 -> dataset/derivatives/sub-011/eeg/sub-011_task-eyesclosed_eeg.set\n",
      "[fold_1] Loading TRAIN subject: sub-027 -> dataset/derivatives/sub-027/eeg/sub-027_task-eyesclosed_eeg.set\n"
     ]
    },
    {
     "name": "stderr",
     "output_type": "stream",
     "text": [
      "<ipython-input-39-79e62b503a2a>:47: RuntimeWarning: The data contains 'boundary' events, indicating data discontinuities. Be cautious of filtering and epoching around these events.\n",
      "  raw_obj = mne.io.read_raw_eeglab(set_filepath, preload=True)\n",
      "<ipython-input-39-79e62b503a2a>:47: RuntimeWarning: The data contains 'boundary' events, indicating data discontinuities. Be cautious of filtering and epoching around these events.\n",
      "  raw_obj = mne.io.read_raw_eeglab(set_filepath, preload=True)\n"
     ]
    },
    {
     "name": "stdout",
     "output_type": "stream",
     "text": [
      "[fold_1] Loading TRAIN subject: sub-018 -> dataset/derivatives/sub-018/eeg/sub-018_task-eyesclosed_eeg.set\n",
      "[fold_1] Loading TRAIN subject: sub-020 -> dataset/derivatives/sub-020/eeg/sub-020_task-eyesclosed_eeg.set\n",
      "[fold_1] Loading TRAIN subject: sub-033 -> dataset/derivatives/sub-033/eeg/sub-033_task-eyesclosed_eeg.set\n",
      "[fold_1] Loading TRAIN subject: sub-034 -> dataset/derivatives/sub-034/eeg/sub-034_task-eyesclosed_eeg.set\n",
      "[fold_1] Loading TRAIN subject: sub-035 -> dataset/derivatives/sub-035/eeg/sub-035_task-eyesclosed_eeg.set\n"
     ]
    },
    {
     "name": "stderr",
     "output_type": "stream",
     "text": [
      "<ipython-input-39-79e62b503a2a>:47: RuntimeWarning: The data contains 'boundary' events, indicating data discontinuities. Be cautious of filtering and epoching around these events.\n",
      "  raw_obj = mne.io.read_raw_eeglab(set_filepath, preload=True)\n",
      "<ipython-input-39-79e62b503a2a>:47: RuntimeWarning: The data contains 'boundary' events, indicating data discontinuities. Be cautious of filtering and epoching around these events.\n",
      "  raw_obj = mne.io.read_raw_eeglab(set_filepath, preload=True)\n",
      "<ipython-input-39-79e62b503a2a>:47: RuntimeWarning: The data contains 'boundary' events, indicating data discontinuities. Be cautious of filtering and epoching around these events.\n",
      "  raw_obj = mne.io.read_raw_eeglab(set_filepath, preload=True)\n"
     ]
    },
    {
     "name": "stdout",
     "output_type": "stream",
     "text": [
      "[fold_1] Loading TRAIN subject: sub-004 -> dataset/derivatives/sub-004/eeg/sub-004_task-eyesclosed_eeg.set\n",
      "[fold_1] Loading TRAIN subject: sub-025 -> dataset/derivatives/sub-025/eeg/sub-025_task-eyesclosed_eeg.set\n",
      "[fold_1] Loading TRAIN subject: sub-014 -> dataset/derivatives/sub-014/eeg/sub-014_task-eyesclosed_eeg.set\n"
     ]
    },
    {
     "name": "stderr",
     "output_type": "stream",
     "text": [
      "<ipython-input-39-79e62b503a2a>:47: RuntimeWarning: The data contains 'boundary' events, indicating data discontinuities. Be cautious of filtering and epoching around these events.\n",
      "  raw_obj = mne.io.read_raw_eeglab(set_filepath, preload=True)\n",
      "<ipython-input-39-79e62b503a2a>:47: RuntimeWarning: The data contains 'boundary' events, indicating data discontinuities. Be cautious of filtering and epoching around these events.\n",
      "  raw_obj = mne.io.read_raw_eeglab(set_filepath, preload=True)\n",
      "<ipython-input-39-79e62b503a2a>:47: RuntimeWarning: The data contains 'boundary' events, indicating data discontinuities. Be cautious of filtering and epoching around these events.\n",
      "  raw_obj = mne.io.read_raw_eeglab(set_filepath, preload=True)\n"
     ]
    },
    {
     "name": "stdout",
     "output_type": "stream",
     "text": [
      "[fold_1] Loading TRAIN subject: sub-012 -> dataset/derivatives/sub-012/eeg/sub-012_task-eyesclosed_eeg.set\n",
      "[fold_1] Loading TRAIN subject: sub-015 -> dataset/derivatives/sub-015/eeg/sub-015_task-eyesclosed_eeg.set\n"
     ]
    },
    {
     "name": "stderr",
     "output_type": "stream",
     "text": [
      "<ipython-input-39-79e62b503a2a>:47: RuntimeWarning: The data contains 'boundary' events, indicating data discontinuities. Be cautious of filtering and epoching around these events.\n",
      "  raw_obj = mne.io.read_raw_eeglab(set_filepath, preload=True)\n",
      "<ipython-input-39-79e62b503a2a>:47: RuntimeWarning: The data contains 'boundary' events, indicating data discontinuities. Be cautious of filtering and epoching around these events.\n",
      "  raw_obj = mne.io.read_raw_eeglab(set_filepath, preload=True)\n"
     ]
    },
    {
     "name": "stdout",
     "output_type": "stream",
     "text": [
      "[fold_1] Loading TRAIN subject: sub-023 -> dataset/derivatives/sub-023/eeg/sub-023_task-eyesclosed_eeg.set\n",
      "[fold_1] Loading TRAIN subject: sub-024 -> dataset/derivatives/sub-024/eeg/sub-024_task-eyesclosed_eeg.set\n"
     ]
    },
    {
     "name": "stderr",
     "output_type": "stream",
     "text": [
      "<ipython-input-39-79e62b503a2a>:47: RuntimeWarning: The data contains 'boundary' events, indicating data discontinuities. Be cautious of filtering and epoching around these events.\n",
      "  raw_obj = mne.io.read_raw_eeglab(set_filepath, preload=True)\n",
      "<ipython-input-39-79e62b503a2a>:47: RuntimeWarning: The data contains 'boundary' events, indicating data discontinuities. Be cautious of filtering and epoching around these events.\n",
      "  raw_obj = mne.io.read_raw_eeglab(set_filepath, preload=True)\n",
      "<ipython-input-39-79e62b503a2a>:47: RuntimeWarning: The data contains 'boundary' events, indicating data discontinuities. Be cautious of filtering and epoching around these events.\n",
      "  raw_obj = mne.io.read_raw_eeglab(set_filepath, preload=True)\n"
     ]
    },
    {
     "name": "stdout",
     "output_type": "stream",
     "text": [
      "[fold_1] Loading TRAIN subject: sub-006 -> dataset/derivatives/sub-006/eeg/sub-006_task-eyesclosed_eeg.set\n",
      "[fold_1] Loading TRAIN subject: sub-001 -> dataset/derivatives/sub-001/eeg/sub-001_task-eyesclosed_eeg.set\n",
      "[fold_1] Loading TRAIN subject: sub-008 -> dataset/derivatives/sub-008/eeg/sub-008_task-eyesclosed_eeg.set\n"
     ]
    },
    {
     "name": "stderr",
     "output_type": "stream",
     "text": [
      "<ipython-input-39-79e62b503a2a>:47: RuntimeWarning: The data contains 'boundary' events, indicating data discontinuities. Be cautious of filtering and epoching around these events.\n",
      "  raw_obj = mne.io.read_raw_eeglab(set_filepath, preload=True)\n"
     ]
    },
    {
     "name": "stdout",
     "output_type": "stream",
     "text": [
      "[fold_1] Loading TRAIN subject: sub-031 -> dataset/derivatives/sub-031/eeg/sub-031_task-eyesclosed_eeg.set\n"
     ]
    },
    {
     "name": "stderr",
     "output_type": "stream",
     "text": [
      "<ipython-input-39-79e62b503a2a>:47: RuntimeWarning: The data contains 'boundary' events, indicating data discontinuities. Be cautious of filtering and epoching around these events.\n",
      "  raw_obj = mne.io.read_raw_eeglab(set_filepath, preload=True)\n",
      "<ipython-input-39-79e62b503a2a>:47: RuntimeWarning: The data contains 'boundary' events, indicating data discontinuities. Be cautious of filtering and epoching around these events.\n",
      "  raw_obj = mne.io.read_raw_eeglab(set_filepath, preload=True)\n"
     ]
    },
    {
     "name": "stdout",
     "output_type": "stream",
     "text": [
      "[fold_1] Loading TRAIN subject: sub-036 -> dataset/derivatives/sub-036/eeg/sub-036_task-eyesclosed_eeg.set\n",
      "[fold_1] Loading TRAIN subject: sub-007 -> dataset/derivatives/sub-007/eeg/sub-007_task-eyesclosed_eeg.set\n"
     ]
    },
    {
     "name": "stderr",
     "output_type": "stream",
     "text": [
      "<ipython-input-39-79e62b503a2a>:47: RuntimeWarning: The data contains 'boundary' events, indicating data discontinuities. Be cautious of filtering and epoching around these events.\n",
      "  raw_obj = mne.io.read_raw_eeglab(set_filepath, preload=True)\n"
     ]
    },
    {
     "name": "stdout",
     "output_type": "stream",
     "text": [
      "[fold_1] Loading TRAIN subject: sub-043 -> dataset/derivatives/sub-043/eeg/sub-043_task-eyesclosed_eeg.set\n",
      "[fold_1] Loading TRAIN subject: sub-044 -> dataset/derivatives/sub-044/eeg/sub-044_task-eyesclosed_eeg.set\n",
      "[fold_1] Loading TRAIN subject: sub-042 -> dataset/derivatives/sub-042/eeg/sub-042_task-eyesclosed_eeg.set\n",
      "[fold_1] Loading TRAIN subject: sub-060 -> dataset/derivatives/sub-060/eeg/sub-060_task-eyesclosed_eeg.set\n"
     ]
    },
    {
     "name": "stderr",
     "output_type": "stream",
     "text": [
      "<ipython-input-39-79e62b503a2a>:47: RuntimeWarning: The data contains 'boundary' events, indicating data discontinuities. Be cautious of filtering and epoching around these events.\n",
      "  raw_obj = mne.io.read_raw_eeglab(set_filepath, preload=True)\n",
      "<ipython-input-39-79e62b503a2a>:47: RuntimeWarning: The data contains 'boundary' events, indicating data discontinuities. Be cautious of filtering and epoching around these events.\n",
      "  raw_obj = mne.io.read_raw_eeglab(set_filepath, preload=True)\n",
      "<ipython-input-39-79e62b503a2a>:47: RuntimeWarning: The data contains 'boundary' events, indicating data discontinuities. Be cautious of filtering and epoching around these events.\n",
      "  raw_obj = mne.io.read_raw_eeglab(set_filepath, preload=True)\n"
     ]
    },
    {
     "name": "stdout",
     "output_type": "stream",
     "text": [
      "[fold_1] Loading TRAIN subject: sub-058 -> dataset/derivatives/sub-058/eeg/sub-058_task-eyesclosed_eeg.set\n",
      "[fold_1] Loading TRAIN subject: sub-051 -> dataset/derivatives/sub-051/eeg/sub-051_task-eyesclosed_eeg.set\n",
      "[fold_1] Loading TRAIN subject: sub-056 -> dataset/derivatives/sub-056/eeg/sub-056_task-eyesclosed_eeg.set\n"
     ]
    },
    {
     "name": "stderr",
     "output_type": "stream",
     "text": [
      "<ipython-input-39-79e62b503a2a>:47: RuntimeWarning: The data contains 'boundary' events, indicating data discontinuities. Be cautious of filtering and epoching around these events.\n",
      "  raw_obj = mne.io.read_raw_eeglab(set_filepath, preload=True)\n",
      "<ipython-input-39-79e62b503a2a>:47: RuntimeWarning: The data contains 'boundary' events, indicating data discontinuities. Be cautious of filtering and epoching around these events.\n",
      "  raw_obj = mne.io.read_raw_eeglab(set_filepath, preload=True)\n"
     ]
    },
    {
     "name": "stdout",
     "output_type": "stream",
     "text": [
      "[fold_1] Loading TRAIN subject: sub-057 -> dataset/derivatives/sub-057/eeg/sub-057_task-eyesclosed_eeg.set\n",
      "[fold_1] Loading TRAIN subject: sub-050 -> dataset/derivatives/sub-050/eeg/sub-050_task-eyesclosed_eeg.set\n",
      "[fold_1] Loading TRAIN subject: sub-059 -> dataset/derivatives/sub-059/eeg/sub-059_task-eyesclosed_eeg.set\n"
     ]
    },
    {
     "name": "stderr",
     "output_type": "stream",
     "text": [
      "<ipython-input-39-79e62b503a2a>:47: RuntimeWarning: The data contains 'boundary' events, indicating data discontinuities. Be cautious of filtering and epoching around these events.\n",
      "  raw_obj = mne.io.read_raw_eeglab(set_filepath, preload=True)\n",
      "<ipython-input-39-79e62b503a2a>:47: RuntimeWarning: The data contains 'boundary' events, indicating data discontinuities. Be cautious of filtering and epoching around these events.\n",
      "  raw_obj = mne.io.read_raw_eeglab(set_filepath, preload=True)\n",
      "<ipython-input-39-79e62b503a2a>:47: RuntimeWarning: The data contains 'boundary' events, indicating data discontinuities. Be cautious of filtering and epoching around these events.\n",
      "  raw_obj = mne.io.read_raw_eeglab(set_filepath, preload=True)\n"
     ]
    },
    {
     "name": "stdout",
     "output_type": "stream",
     "text": [
      "[fold_1] Loading TRAIN subject: sub-061 -> dataset/derivatives/sub-061/eeg/sub-061_task-eyesclosed_eeg.set\n",
      "[fold_1] Loading TRAIN subject: sub-040 -> dataset/derivatives/sub-040/eeg/sub-040_task-eyesclosed_eeg.set\n"
     ]
    },
    {
     "name": "stderr",
     "output_type": "stream",
     "text": [
      "<ipython-input-39-79e62b503a2a>:47: RuntimeWarning: The data contains 'boundary' events, indicating data discontinuities. Be cautious of filtering and epoching around these events.\n",
      "  raw_obj = mne.io.read_raw_eeglab(set_filepath, preload=True)\n",
      "<ipython-input-39-79e62b503a2a>:47: RuntimeWarning: The data contains 'boundary' events, indicating data discontinuities. Be cautious of filtering and epoching around these events.\n",
      "  raw_obj = mne.io.read_raw_eeglab(set_filepath, preload=True)\n"
     ]
    },
    {
     "name": "stdout",
     "output_type": "stream",
     "text": [
      "[fold_1] Loading TRAIN subject: sub-049 -> dataset/derivatives/sub-049/eeg/sub-049_task-eyesclosed_eeg.set\n",
      "[fold_1] Loading TRAIN subject: sub-048 -> dataset/derivatives/sub-048/eeg/sub-048_task-eyesclosed_eeg.set\n"
     ]
    },
    {
     "name": "stderr",
     "output_type": "stream",
     "text": [
      "<ipython-input-39-79e62b503a2a>:47: RuntimeWarning: The data contains 'boundary' events, indicating data discontinuities. Be cautious of filtering and epoching around these events.\n",
      "  raw_obj = mne.io.read_raw_eeglab(set_filepath, preload=True)\n",
      "<ipython-input-39-79e62b503a2a>:47: RuntimeWarning: The data contains 'boundary' events, indicating data discontinuities. Be cautious of filtering and epoching around these events.\n",
      "  raw_obj = mne.io.read_raw_eeglab(set_filepath, preload=True)\n"
     ]
    },
    {
     "name": "stdout",
     "output_type": "stream",
     "text": [
      "[fold_1] Loading TRAIN subject: sub-046 -> dataset/derivatives/sub-046/eeg/sub-046_task-eyesclosed_eeg.set\n",
      "[fold_1] Loading TRAIN subject: sub-039 -> dataset/derivatives/sub-039/eeg/sub-039_task-eyesclosed_eeg.set\n"
     ]
    },
    {
     "name": "stderr",
     "output_type": "stream",
     "text": [
      "<ipython-input-39-79e62b503a2a>:47: RuntimeWarning: The data contains 'boundary' events, indicating data discontinuities. Be cautious of filtering and epoching around these events.\n",
      "  raw_obj = mne.io.read_raw_eeglab(set_filepath, preload=True)\n"
     ]
    },
    {
     "name": "stdout",
     "output_type": "stream",
     "text": [
      "[fold_1] Loading TRAIN subject: sub-037 -> dataset/derivatives/sub-037/eeg/sub-037_task-eyesclosed_eeg.set\n",
      "[fold_1] Loading TRAIN subject: sub-064 -> dataset/derivatives/sub-064/eeg/sub-064_task-eyesclosed_eeg.set\n"
     ]
    },
    {
     "name": "stderr",
     "output_type": "stream",
     "text": [
      "<ipython-input-39-79e62b503a2a>:47: RuntimeWarning: The data contains 'boundary' events, indicating data discontinuities. Be cautious of filtering and epoching around these events.\n",
      "  raw_obj = mne.io.read_raw_eeglab(set_filepath, preload=True)\n",
      "<ipython-input-39-79e62b503a2a>:47: RuntimeWarning: The data contains 'boundary' events, indicating data discontinuities. Be cautious of filtering and epoching around these events.\n",
      "  raw_obj = mne.io.read_raw_eeglab(set_filepath, preload=True)\n",
      "<ipython-input-39-79e62b503a2a>:47: RuntimeWarning: The data contains 'boundary' events, indicating data discontinuities. Be cautious of filtering and epoching around these events.\n",
      "  raw_obj = mne.io.read_raw_eeglab(set_filepath, preload=True)\n"
     ]
    },
    {
     "name": "stdout",
     "output_type": "stream",
     "text": [
      "[fold_1] Loading TRAIN subject: sub-063 -> dataset/derivatives/sub-063/eeg/sub-063_task-eyesclosed_eeg.set\n",
      "[fold_1] Loading TRAIN subject: sub-038 -> dataset/derivatives/sub-038/eeg/sub-038_task-eyesclosed_eeg.set\n"
     ]
    },
    {
     "name": "stderr",
     "output_type": "stream",
     "text": [
      "<ipython-input-39-79e62b503a2a>:47: RuntimeWarning: The data contains 'boundary' events, indicating data discontinuities. Be cautious of filtering and epoching around these events.\n",
      "  raw_obj = mne.io.read_raw_eeglab(set_filepath, preload=True)\n",
      "<ipython-input-39-79e62b503a2a>:47: RuntimeWarning: The data contains 'boundary' events, indicating data discontinuities. Be cautious of filtering and epoching around these events.\n",
      "  raw_obj = mne.io.read_raw_eeglab(set_filepath, preload=True)\n"
     ]
    },
    {
     "name": "stdout",
     "output_type": "stream",
     "text": [
      "[fold_1] Loading TRAIN subject: sub-053 -> dataset/derivatives/sub-053/eeg/sub-053_task-eyesclosed_eeg.set\n",
      "[fold_1] Loading TRAIN subject: sub-054 -> dataset/derivatives/sub-054/eeg/sub-054_task-eyesclosed_eeg.set\n",
      "[fold_1] Loading TRAIN subject: sub-062 -> dataset/derivatives/sub-062/eeg/sub-062_task-eyesclosed_eeg.set\n"
     ]
    },
    {
     "name": "stderr",
     "output_type": "stream",
     "text": [
      "<ipython-input-39-79e62b503a2a>:47: RuntimeWarning: The data contains 'boundary' events, indicating data discontinuities. Be cautious of filtering and epoching around these events.\n",
      "  raw_obj = mne.io.read_raw_eeglab(set_filepath, preload=True)\n",
      "<ipython-input-39-79e62b503a2a>:47: RuntimeWarning: The data contains 'boundary' events, indicating data discontinuities. Be cautious of filtering and epoching around these events.\n",
      "  raw_obj = mne.io.read_raw_eeglab(set_filepath, preload=True)\n"
     ]
    },
    {
     "name": "stdout",
     "output_type": "stream",
     "text": [
      "[fold_1] Loading TRAIN subject: sub-065 -> dataset/derivatives/sub-065/eeg/sub-065_task-eyesclosed_eeg.set\n",
      "[fold_1] Loading TRAIN subject: sub-086 -> dataset/derivatives/sub-086/eeg/sub-086_task-eyesclosed_eeg.set\n",
      "[fold_1] Loading TRAIN subject: sub-072 -> dataset/derivatives/sub-072/eeg/sub-072_task-eyesclosed_eeg.set\n"
     ]
    },
    {
     "name": "stderr",
     "output_type": "stream",
     "text": [
      "<ipython-input-39-79e62b503a2a>:47: RuntimeWarning: The data contains 'boundary' events, indicating data discontinuities. Be cautious of filtering and epoching around these events.\n",
      "  raw_obj = mne.io.read_raw_eeglab(set_filepath, preload=True)\n",
      "<ipython-input-39-79e62b503a2a>:47: RuntimeWarning: The data contains 'boundary' events, indicating data discontinuities. Be cautious of filtering and epoching around these events.\n",
      "  raw_obj = mne.io.read_raw_eeglab(set_filepath, preload=True)\n"
     ]
    },
    {
     "name": "stdout",
     "output_type": "stream",
     "text": [
      "[fold_1] Loading TRAIN subject: sub-075 -> dataset/derivatives/sub-075/eeg/sub-075_task-eyesclosed_eeg.set\n",
      "[fold_1] Loading TRAIN subject: sub-081 -> dataset/derivatives/sub-081/eeg/sub-081_task-eyesclosed_eeg.set\n"
     ]
    },
    {
     "name": "stderr",
     "output_type": "stream",
     "text": [
      "<ipython-input-39-79e62b503a2a>:47: RuntimeWarning: The data contains 'boundary' events, indicating data discontinuities. Be cautious of filtering and epoching around these events.\n",
      "  raw_obj = mne.io.read_raw_eeglab(set_filepath, preload=True)\n",
      "<ipython-input-39-79e62b503a2a>:47: RuntimeWarning: The data contains 'boundary' events, indicating data discontinuities. Be cautious of filtering and epoching around these events.\n",
      "  raw_obj = mne.io.read_raw_eeglab(set_filepath, preload=True)\n"
     ]
    },
    {
     "name": "stdout",
     "output_type": "stream",
     "text": [
      "[fold_1] Loading TRAIN subject: sub-080 -> dataset/derivatives/sub-080/eeg/sub-080_task-eyesclosed_eeg.set\n",
      "[fold_1] Loading TRAIN subject: sub-074 -> dataset/derivatives/sub-074/eeg/sub-074_task-eyesclosed_eeg.set\n"
     ]
    },
    {
     "name": "stderr",
     "output_type": "stream",
     "text": [
      "<ipython-input-39-79e62b503a2a>:47: RuntimeWarning: The data contains 'boundary' events, indicating data discontinuities. Be cautious of filtering and epoching around these events.\n",
      "  raw_obj = mne.io.read_raw_eeglab(set_filepath, preload=True)\n",
      "<ipython-input-39-79e62b503a2a>:47: RuntimeWarning: The data contains 'boundary' events, indicating data discontinuities. Be cautious of filtering and epoching around these events.\n",
      "  raw_obj = mne.io.read_raw_eeglab(set_filepath, preload=True)\n"
     ]
    },
    {
     "name": "stdout",
     "output_type": "stream",
     "text": [
      "[fold_1] Loading TRAIN subject: sub-087 -> dataset/derivatives/sub-087/eeg/sub-087_task-eyesclosed_eeg.set\n",
      "[fold_1] Loading TRAIN subject: sub-067 -> dataset/derivatives/sub-067/eeg/sub-067_task-eyesclosed_eeg.set\n",
      "[fold_1] Loading TRAIN subject: sub-069 -> dataset/derivatives/sub-069/eeg/sub-069_task-eyesclosed_eeg.set\n"
     ]
    },
    {
     "name": "stderr",
     "output_type": "stream",
     "text": [
      "<ipython-input-39-79e62b503a2a>:47: RuntimeWarning: The data contains 'boundary' events, indicating data discontinuities. Be cautious of filtering and epoching around these events.\n",
      "  raw_obj = mne.io.read_raw_eeglab(set_filepath, preload=True)\n",
      "<ipython-input-39-79e62b503a2a>:47: RuntimeWarning: The data contains 'boundary' events, indicating data discontinuities. Be cautious of filtering and epoching around these events.\n",
      "  raw_obj = mne.io.read_raw_eeglab(set_filepath, preload=True)\n",
      "<ipython-input-39-79e62b503a2a>:47: RuntimeWarning: The data contains 'boundary' events, indicating data discontinuities. Be cautious of filtering and epoching around these events.\n",
      "  raw_obj = mne.io.read_raw_eeglab(set_filepath, preload=True)\n"
     ]
    },
    {
     "name": "stdout",
     "output_type": "stream",
     "text": [
      "[fold_1] Loading TRAIN subject: sub-068 -> dataset/derivatives/sub-068/eeg/sub-068_task-eyesclosed_eeg.set\n",
      "[fold_1] Loading TRAIN subject: sub-066 -> dataset/derivatives/sub-066/eeg/sub-066_task-eyesclosed_eeg.set\n",
      "[fold_1] Loading TRAIN subject: sub-078 -> dataset/derivatives/sub-078/eeg/sub-078_task-eyesclosed_eeg.set\n"
     ]
    },
    {
     "name": "stderr",
     "output_type": "stream",
     "text": [
      "<ipython-input-39-79e62b503a2a>:47: RuntimeWarning: The data contains 'boundary' events, indicating data discontinuities. Be cautious of filtering and epoching around these events.\n",
      "  raw_obj = mne.io.read_raw_eeglab(set_filepath, preload=True)\n",
      "<ipython-input-39-79e62b503a2a>:47: RuntimeWarning: The data contains 'boundary' events, indicating data discontinuities. Be cautious of filtering and epoching around these events.\n",
      "  raw_obj = mne.io.read_raw_eeglab(set_filepath, preload=True)\n"
     ]
    },
    {
     "name": "stdout",
     "output_type": "stream",
     "text": [
      "[fold_1] Loading TRAIN subject: sub-082 -> dataset/derivatives/sub-082/eeg/sub-082_task-eyesclosed_eeg.set\n",
      "[fold_1] Loading TRAIN subject: sub-085 -> dataset/derivatives/sub-085/eeg/sub-085_task-eyesclosed_eeg.set\n",
      "[fold_1] Loading TRAIN subject: sub-071 -> dataset/derivatives/sub-071/eeg/sub-071_task-eyesclosed_eeg.set\n"
     ]
    },
    {
     "name": "stderr",
     "output_type": "stream",
     "text": [
      "<ipython-input-39-79e62b503a2a>:47: RuntimeWarning: The data contains 'boundary' events, indicating data discontinuities. Be cautious of filtering and epoching around these events.\n",
      "  raw_obj = mne.io.read_raw_eeglab(set_filepath, preload=True)\n"
     ]
    },
    {
     "name": "stdout",
     "output_type": "stream",
     "text": [
      "[fold_1] Loading TRAIN subject: sub-084 -> dataset/derivatives/sub-084/eeg/sub-084_task-eyesclosed_eeg.set\n",
      "[fold_1] Loading TRAIN subject: sub-083 -> dataset/derivatives/sub-083/eeg/sub-083_task-eyesclosed_eeg.set\n",
      "[fold_1] Loading TRAIN subject: sub-079 -> dataset/derivatives/sub-079/eeg/sub-079_task-eyesclosed_eeg.set\n"
     ]
    },
    {
     "name": "stderr",
     "output_type": "stream",
     "text": [
      "<ipython-input-39-79e62b503a2a>:47: RuntimeWarning: The data contains 'boundary' events, indicating data discontinuities. Be cautious of filtering and epoching around these events.\n",
      "  raw_obj = mne.io.read_raw_eeglab(set_filepath, preload=True)\n"
     ]
    },
    {
     "name": "stdout",
     "output_type": "stream",
     "text": [
      "[fold_1] Loading VAL subject: sub-002 -> dataset/derivatives/sub-002/eeg/sub-002_task-eyesclosed_eeg.set\n",
      "[fold_1] Loading VAL subject: sub-005 -> dataset/derivatives/sub-005/eeg/sub-005_task-eyesclosed_eeg.set\n",
      "[fold_1] Loading VAL subject: sub-032 -> dataset/derivatives/sub-032/eeg/sub-032_task-eyesclosed_eeg.set\n"
     ]
    },
    {
     "name": "stderr",
     "output_type": "stream",
     "text": [
      "<ipython-input-39-79e62b503a2a>:57: RuntimeWarning: The data contains 'boundary' events, indicating data discontinuities. Be cautious of filtering and epoching around these events.\n",
      "  raw_obj = mne.io.read_raw_eeglab(set_filepath, preload=True)\n",
      "<ipython-input-39-79e62b503a2a>:57: RuntimeWarning: The data contains 'boundary' events, indicating data discontinuities. Be cautious of filtering and epoching around these events.\n",
      "  raw_obj = mne.io.read_raw_eeglab(set_filepath, preload=True)\n",
      "<ipython-input-39-79e62b503a2a>:57: RuntimeWarning: The data contains 'boundary' events, indicating data discontinuities. Be cautious of filtering and epoching around these events.\n",
      "  raw_obj = mne.io.read_raw_eeglab(set_filepath, preload=True)\n"
     ]
    },
    {
     "name": "stdout",
     "output_type": "stream",
     "text": [
      "[fold_1] Loading VAL subject: sub-003 -> dataset/derivatives/sub-003/eeg/sub-003_task-eyesclosed_eeg.set\n",
      "[fold_1] Loading VAL subject: sub-022 -> dataset/derivatives/sub-022/eeg/sub-022_task-eyesclosed_eeg.set\n",
      "[fold_1] Loading VAL subject: sub-013 -> dataset/derivatives/sub-013/eeg/sub-013_task-eyesclosed_eeg.set\n"
     ]
    },
    {
     "name": "stderr",
     "output_type": "stream",
     "text": [
      "<ipython-input-39-79e62b503a2a>:57: RuntimeWarning: The data contains 'boundary' events, indicating data discontinuities. Be cautious of filtering and epoching around these events.\n",
      "  raw_obj = mne.io.read_raw_eeglab(set_filepath, preload=True)\n",
      "<ipython-input-39-79e62b503a2a>:57: RuntimeWarning: The data contains 'boundary' events, indicating data discontinuities. Be cautious of filtering and epoching around these events.\n",
      "  raw_obj = mne.io.read_raw_eeglab(set_filepath, preload=True)\n",
      "<ipython-input-39-79e62b503a2a>:57: RuntimeWarning: The data contains 'boundary' events, indicating data discontinuities. Be cautious of filtering and epoching around these events.\n",
      "  raw_obj = mne.io.read_raw_eeglab(set_filepath, preload=True)\n"
     ]
    },
    {
     "name": "stdout",
     "output_type": "stream",
     "text": [
      "[fold_1] Loading VAL subject: sub-030 -> dataset/derivatives/sub-030/eeg/sub-030_task-eyesclosed_eeg.set\n",
      "[fold_1] Loading VAL subject: sub-009 -> dataset/derivatives/sub-009/eeg/sub-009_task-eyesclosed_eeg.set\n",
      "[fold_1] Loading VAL subject: sub-045 -> dataset/derivatives/sub-045/eeg/sub-045_task-eyesclosed_eeg.set\n"
     ]
    },
    {
     "name": "stderr",
     "output_type": "stream",
     "text": [
      "<ipython-input-39-79e62b503a2a>:57: RuntimeWarning: The data contains 'boundary' events, indicating data discontinuities. Be cautious of filtering and epoching around these events.\n",
      "  raw_obj = mne.io.read_raw_eeglab(set_filepath, preload=True)\n",
      "<ipython-input-39-79e62b503a2a>:57: RuntimeWarning: The data contains 'boundary' events, indicating data discontinuities. Be cautious of filtering and epoching around these events.\n",
      "  raw_obj = mne.io.read_raw_eeglab(set_filepath, preload=True)\n"
     ]
    },
    {
     "name": "stdout",
     "output_type": "stream",
     "text": [
      "[fold_1] Loading VAL subject: sub-047 -> dataset/derivatives/sub-047/eeg/sub-047_task-eyesclosed_eeg.set\n",
      "[fold_1] Loading VAL subject: sub-041 -> dataset/derivatives/sub-041/eeg/sub-041_task-eyesclosed_eeg.set\n"
     ]
    },
    {
     "name": "stderr",
     "output_type": "stream",
     "text": [
      "<ipython-input-39-79e62b503a2a>:57: RuntimeWarning: The data contains 'boundary' events, indicating data discontinuities. Be cautious of filtering and epoching around these events.\n",
      "  raw_obj = mne.io.read_raw_eeglab(set_filepath, preload=True)\n",
      "<ipython-input-39-79e62b503a2a>:57: RuntimeWarning: The data contains 'boundary' events, indicating data discontinuities. Be cautious of filtering and epoching around these events.\n",
      "  raw_obj = mne.io.read_raw_eeglab(set_filepath, preload=True)\n"
     ]
    },
    {
     "name": "stdout",
     "output_type": "stream",
     "text": [
      "[fold_1] Loading VAL subject: sub-055 -> dataset/derivatives/sub-055/eeg/sub-055_task-eyesclosed_eeg.set\n",
      "[fold_1] Loading VAL subject: sub-052 -> dataset/derivatives/sub-052/eeg/sub-052_task-eyesclosed_eeg.set\n"
     ]
    },
    {
     "name": "stderr",
     "output_type": "stream",
     "text": [
      "<ipython-input-39-79e62b503a2a>:57: RuntimeWarning: The data contains 'boundary' events, indicating data discontinuities. Be cautious of filtering and epoching around these events.\n",
      "  raw_obj = mne.io.read_raw_eeglab(set_filepath, preload=True)\n",
      "<ipython-input-39-79e62b503a2a>:57: RuntimeWarning: The data contains 'boundary' events, indicating data discontinuities. Be cautious of filtering and epoching around these events.\n",
      "  raw_obj = mne.io.read_raw_eeglab(set_filepath, preload=True)\n",
      "<ipython-input-39-79e62b503a2a>:57: RuntimeWarning: The data contains 'boundary' events, indicating data discontinuities. Be cautious of filtering and epoching around these events.\n",
      "  raw_obj = mne.io.read_raw_eeglab(set_filepath, preload=True)\n"
     ]
    },
    {
     "name": "stdout",
     "output_type": "stream",
     "text": [
      "[fold_1] Loading VAL subject: sub-088 -> dataset/derivatives/sub-088/eeg/sub-088_task-eyesclosed_eeg.set\n",
      "[fold_1] Loading VAL subject: sub-073 -> dataset/derivatives/sub-073/eeg/sub-073_task-eyesclosed_eeg.set\n",
      "[fold_1] Loading VAL subject: sub-076 -> dataset/derivatives/sub-076/eeg/sub-076_task-eyesclosed_eeg.set\n",
      "[fold_1] Loading VAL subject: sub-070 -> dataset/derivatives/sub-070/eeg/sub-070_task-eyesclosed_eeg.set\n",
      "[fold_1] Loading VAL subject: sub-077 -> dataset/derivatives/sub-077/eeg/sub-077_task-eyesclosed_eeg.set\n"
     ]
    },
    {
     "name": "stderr",
     "output_type": "stream",
     "text": [
      "<ipython-input-39-79e62b503a2a>:57: RuntimeWarning: The data contains 'boundary' events, indicating data discontinuities. Be cautious of filtering and epoching around these events.\n",
      "  raw_obj = mne.io.read_raw_eeglab(set_filepath, preload=True)\n"
     ]
    }
   ],
   "source": [
    "def loadData(\n",
    "    fold_name: str,\n",
    "    kfold_dict: dict,\n",
    "    data_path: str,\n",
    "    set_suffix: str = \"_task-eyesclosed_eeg.set\"\n",
    "):\n",
    "    \"\"\"\n",
    "    Load MNE Raw objects for all training and validation subjects in one fold.\n",
    "    \n",
    "    Parameters\n",
    "    ----------\n",
    "    fold_name : str\n",
    "        e.g. 'fold_1', 'fold_2', etc., as found in kfold_dict.\n",
    "    kfold_dict : dict\n",
    "        The JSON structure loaded from kfold_splits.json\n",
    "    data_path : str\n",
    "        Base directory where the sub-XXX folders are found.\n",
    "        Typically something like '/path/to/dataset/derivatives'\n",
    "        if .set files live in a derivatives folder.\n",
    "    set_suffix : str\n",
    "        The filename pattern for the EEGLAB .set file, \n",
    "        e.g. '_task-eyesclosed_eeg.set'. Adjust as needed.\n",
    "    \n",
    "    Returns\n",
    "    -------\n",
    "    train_raws : list\n",
    "        List of mne.io.Raw objects for all training subjects in this fold.\n",
    "    val_raws : list\n",
    "        List of mne.io.Raw objects for all validation subjects in this fold.\n",
    "    \"\"\"\n",
    "\n",
    "    fold_data = kfold_dict[fold_name]\n",
    "    train_subjects = fold_data[\"train\"]\n",
    "    val_subjects   = fold_data[\"validation\"]\n",
    "\n",
    "    train_raws = []\n",
    "    val_raws   = []\n",
    "\n",
    "    # 1) Load all training subjects\n",
    "    for subj_id in train_subjects:\n",
    "        # Construct the filepath to the .set file\n",
    "        subject_folder = os.path.join(data_path, subj_id, \"eeg\")\n",
    "        set_filename   = f\"{subj_id}{set_suffix}\"\n",
    "        set_filepath   = os.path.join(subject_folder, set_filename)\n",
    "\n",
    "        print(f\"[{fold_name}] Loading TRAIN subject: {subj_id} -> {set_filepath}\")\n",
    "        raw_obj = mne.io.read_raw_eeglab(set_filepath, preload=True)\n",
    "        train_raws.append(raw_obj)\n",
    "\n",
    "    # 2) Load all validation subjects\n",
    "    for subj_id in val_subjects:\n",
    "        subject_folder = os.path.join(data_path, subj_id, \"eeg\")\n",
    "        set_filename   = f\"{subj_id}{set_suffix}\"\n",
    "        set_filepath   = os.path.join(subject_folder, set_filename)\n",
    "\n",
    "        print(f\"[{fold_name}] Loading VAL subject: {subj_id} -> {set_filepath}\")\n",
    "        raw_obj = mne.io.read_raw_eeglab(set_filepath, preload=True)\n",
    "        val_raws.append(raw_obj)\n",
    "\n",
    "    return train_raws, val_raws\n",
    "\n",
    "# Example usage:\n",
    "if __name__ == \"__main__\":\n",
    "    # 0) Load kfold_splits.json\n",
    "    with open(\"kfold_splits.json\", \"r\") as f:\n",
    "        kfold_splits = json.load(f)\n",
    "\n",
    "    # 1) Choose your data path (where the sub-XXX folders live)\n",
    "    #    If your .set files are stored in a 'derivatives' folder, use that:\n",
    "    data_dir = \"dataset/derivatives\"\n",
    "\n",
    "    # 2) Load data for fold_1 (as an example)\n",
    "    fold_name = \"fold_1\"\n",
    "    train_raws, val_raws = loadData(\n",
    "        fold_name=fold_name,\n",
    "        kfold_dict=kfold_splits,\n",
    "        data_path=data_dir,\n",
    "        set_suffix=\"_task-eyesclosed_eeg.set\"\n",
    "    )\n",
    "\n",
    "    # Now you have 'train_raws' and 'val_raws' as lists of MNE Raw objects.\n",
    "    # You can proceed with feature selection or further processing.\n"
   ]
  },
  {
   "cell_type": "code",
   "execution_count": 29,
   "metadata": {},
   "outputs": [
    {
     "name": "stdout",
     "output_type": "stream",
     "text": [
      "Sampling frequency: 500.0\n"
     ]
    }
   ],
   "source": [
    "train_raws\n",
    "sfreq = train_raws[0].info['sfreq']\n",
    "print(\"Sampling frequency:\", sfreq)"
   ]
  },
  {
   "cell_type": "code",
   "execution_count": 40,
   "metadata": {},
   "outputs": [
    {
     "name": "stdout",
     "output_type": "stream",
     "text": [
      "Not setting metadata\n",
      "2 matching events found\n",
      "No baseline correction applied\n",
      "0 projection items activated\n",
      "Not setting metadata\n",
      "14 matching events found\n",
      "No baseline correction applied\n",
      "0 projection items activated\n",
      "Not setting metadata\n",
      "1 matching events found\n",
      "No baseline correction applied\n",
      "0 projection items activated\n",
      "Not setting metadata\n",
      "7 matching events found\n",
      "No baseline correction applied\n",
      "0 projection items activated\n",
      "Not setting metadata\n",
      "2 matching events found\n",
      "No baseline correction applied\n",
      "0 projection items activated\n",
      "Not setting metadata\n",
      "7 matching events found\n",
      "No baseline correction applied\n",
      "0 projection items activated\n",
      "Not setting metadata\n",
      "9 matching events found\n",
      "No baseline correction applied\n",
      "0 projection items activated\n",
      "Not setting metadata\n",
      "3 matching events found\n",
      "No baseline correction applied\n",
      "0 projection items activated\n",
      "Not setting metadata\n",
      "1 matching events found\n",
      "No baseline correction applied\n",
      "0 projection items activated\n",
      "Not setting metadata\n",
      "3 matching events found\n",
      "No baseline correction applied\n",
      "0 projection items activated\n",
      "Not setting metadata\n",
      "2 matching events found\n",
      "No baseline correction applied\n",
      "0 projection items activated\n"
     ]
    },
    {
     "name": "stderr",
     "output_type": "stream",
     "text": [
      "<ipython-input-40-dc159abd3c63>:57: FutureWarning: The current default of copy=False will change to copy=True in 1.7. Set the value of copy explicitly to avoid this warning\n",
      "  data = epochs.get_data()[:, :, :n_samples_expected]\n",
      "<ipython-input-40-dc159abd3c63>:57: FutureWarning: The current default of copy=False will change to copy=True in 1.7. Set the value of copy explicitly to avoid this warning\n",
      "  data = epochs.get_data()[:, :, :n_samples_expected]\n",
      "<ipython-input-40-dc159abd3c63>:57: FutureWarning: The current default of copy=False will change to copy=True in 1.7. Set the value of copy explicitly to avoid this warning\n",
      "  data = epochs.get_data()[:, :, :n_samples_expected]\n",
      "<ipython-input-40-dc159abd3c63>:57: FutureWarning: The current default of copy=False will change to copy=True in 1.7. Set the value of copy explicitly to avoid this warning\n",
      "  data = epochs.get_data()[:, :, :n_samples_expected]\n",
      "<ipython-input-40-dc159abd3c63>:57: FutureWarning: The current default of copy=False will change to copy=True in 1.7. Set the value of copy explicitly to avoid this warning\n",
      "  data = epochs.get_data()[:, :, :n_samples_expected]\n",
      "<ipython-input-40-dc159abd3c63>:57: FutureWarning: The current default of copy=False will change to copy=True in 1.7. Set the value of copy explicitly to avoid this warning\n",
      "  data = epochs.get_data()[:, :, :n_samples_expected]\n",
      "<ipython-input-40-dc159abd3c63>:57: FutureWarning: The current default of copy=False will change to copy=True in 1.7. Set the value of copy explicitly to avoid this warning\n",
      "  data = epochs.get_data()[:, :, :n_samples_expected]\n",
      "<ipython-input-40-dc159abd3c63>:57: FutureWarning: The current default of copy=False will change to copy=True in 1.7. Set the value of copy explicitly to avoid this warning\n",
      "  data = epochs.get_data()[:, :, :n_samples_expected]\n",
      "<ipython-input-40-dc159abd3c63>:57: FutureWarning: The current default of copy=False will change to copy=True in 1.7. Set the value of copy explicitly to avoid this warning\n",
      "  data = epochs.get_data()[:, :, :n_samples_expected]\n",
      "<ipython-input-40-dc159abd3c63>:57: FutureWarning: The current default of copy=False will change to copy=True in 1.7. Set the value of copy explicitly to avoid this warning\n",
      "  data = epochs.get_data()[:, :, :n_samples_expected]\n",
      "<ipython-input-40-dc159abd3c63>:57: FutureWarning: The current default of copy=False will change to copy=True in 1.7. Set the value of copy explicitly to avoid this warning\n",
      "  data = epochs.get_data()[:, :, :n_samples_expected]\n"
     ]
    },
    {
     "name": "stdout",
     "output_type": "stream",
     "text": [
      "No valid events found (only boundaries). Creating fixed-length epochs.\n",
      "Not setting metadata\n",
      "869 matching events found\n",
      "No baseline correction applied\n",
      "0 projection items activated\n",
      "Using data from preloaded Raw for 869 events and 500 original time points ...\n",
      "0 bad epochs dropped\n",
      "Not setting metadata\n",
      "869 matching events found\n",
      "No baseline correction applied\n",
      "0 projection items activated\n",
      "Not setting metadata\n",
      "1 matching events found\n",
      "No baseline correction applied\n",
      "0 projection items activated\n",
      "Not setting metadata\n",
      "1 matching events found\n",
      "No baseline correction applied\n",
      "0 projection items activated\n",
      "Not setting metadata\n",
      "13 matching events found\n",
      "No baseline correction applied\n",
      "0 projection items activated\n",
      "Not setting metadata\n",
      "1 matching events found\n",
      "No baseline correction applied\n",
      "0 projection items activated\n",
      "Not setting metadata\n",
      "12 matching events found\n",
      "No baseline correction applied\n",
      "0 projection items activated\n",
      "Not setting metadata\n",
      "6 matching events found\n",
      "No baseline correction applied\n",
      "0 projection items activated\n",
      "Not setting metadata\n",
      "9 matching events found\n",
      "No baseline correction applied\n",
      "0 projection items activated\n",
      "Not setting metadata\n",
      "6 matching events found\n",
      "No baseline correction applied\n",
      "0 projection items activated\n",
      "Not setting metadata\n",
      "18 matching events found\n",
      "No baseline correction applied\n",
      "0 projection items activated\n",
      "Not setting metadata\n",
      "6 matching events found\n",
      "No baseline correction applied\n",
      "0 projection items activated\n",
      "Not setting metadata\n",
      "3 matching events found\n",
      "No baseline correction applied\n",
      "0 projection items activated\n",
      "No valid events found (only boundaries). Creating fixed-length epochs.\n",
      "Not setting metadata\n",
      "599 matching events found\n",
      "No baseline correction applied\n",
      "0 projection items activated\n",
      "Using data from preloaded Raw for 599 events and 500 original time points ...\n"
     ]
    },
    {
     "name": "stderr",
     "output_type": "stream",
     "text": [
      "<ipython-input-40-dc159abd3c63>:57: FutureWarning: The current default of copy=False will change to copy=True in 1.7. Set the value of copy explicitly to avoid this warning\n",
      "  data = epochs.get_data()[:, :, :n_samples_expected]\n",
      "<ipython-input-40-dc159abd3c63>:57: FutureWarning: The current default of copy=False will change to copy=True in 1.7. Set the value of copy explicitly to avoid this warning\n",
      "  data = epochs.get_data()[:, :, :n_samples_expected]\n",
      "<ipython-input-40-dc159abd3c63>:57: FutureWarning: The current default of copy=False will change to copy=True in 1.7. Set the value of copy explicitly to avoid this warning\n",
      "  data = epochs.get_data()[:, :, :n_samples_expected]\n",
      "<ipython-input-40-dc159abd3c63>:57: FutureWarning: The current default of copy=False will change to copy=True in 1.7. Set the value of copy explicitly to avoid this warning\n",
      "  data = epochs.get_data()[:, :, :n_samples_expected]\n",
      "<ipython-input-40-dc159abd3c63>:57: FutureWarning: The current default of copy=False will change to copy=True in 1.7. Set the value of copy explicitly to avoid this warning\n",
      "  data = epochs.get_data()[:, :, :n_samples_expected]\n",
      "<ipython-input-40-dc159abd3c63>:57: FutureWarning: The current default of copy=False will change to copy=True in 1.7. Set the value of copy explicitly to avoid this warning\n",
      "  data = epochs.get_data()[:, :, :n_samples_expected]\n",
      "<ipython-input-40-dc159abd3c63>:57: FutureWarning: The current default of copy=False will change to copy=True in 1.7. Set the value of copy explicitly to avoid this warning\n",
      "  data = epochs.get_data()[:, :, :n_samples_expected]\n",
      "<ipython-input-40-dc159abd3c63>:57: FutureWarning: The current default of copy=False will change to copy=True in 1.7. Set the value of copy explicitly to avoid this warning\n",
      "  data = epochs.get_data()[:, :, :n_samples_expected]\n",
      "<ipython-input-40-dc159abd3c63>:57: FutureWarning: The current default of copy=False will change to copy=True in 1.7. Set the value of copy explicitly to avoid this warning\n",
      "  data = epochs.get_data()[:, :, :n_samples_expected]\n",
      "<ipython-input-40-dc159abd3c63>:57: FutureWarning: The current default of copy=False will change to copy=True in 1.7. Set the value of copy explicitly to avoid this warning\n",
      "  data = epochs.get_data()[:, :, :n_samples_expected]\n",
      "<ipython-input-40-dc159abd3c63>:57: FutureWarning: The current default of copy=False will change to copy=True in 1.7. Set the value of copy explicitly to avoid this warning\n",
      "  data = epochs.get_data()[:, :, :n_samples_expected]\n",
      "<ipython-input-40-dc159abd3c63>:57: FutureWarning: The current default of copy=False will change to copy=True in 1.7. Set the value of copy explicitly to avoid this warning\n",
      "  data = epochs.get_data()[:, :, :n_samples_expected]\n"
     ]
    },
    {
     "name": "stdout",
     "output_type": "stream",
     "text": [
      "0 bad epochs dropped\n",
      "Not setting metadata\n",
      "599 matching events found\n",
      "No baseline correction applied\n",
      "0 projection items activated\n",
      "Not setting metadata\n",
      "4 matching events found\n",
      "No baseline correction applied\n",
      "0 projection items activated\n",
      "Not setting metadata\n",
      "4 matching events found\n",
      "No baseline correction applied\n",
      "0 projection items activated\n",
      "Not setting metadata\n",
      "8 matching events found\n",
      "No baseline correction applied\n",
      "0 projection items activated\n",
      "Not setting metadata\n",
      "2 matching events found\n",
      "No baseline correction applied\n",
      "0 projection items activated\n",
      "No valid events found (only boundaries). Creating fixed-length epochs.\n",
      "Not setting metadata\n",
      "829 matching events found\n",
      "No baseline correction applied\n",
      "0 projection items activated\n",
      "Using data from preloaded Raw for 829 events and 500 original time points ...\n"
     ]
    },
    {
     "name": "stderr",
     "output_type": "stream",
     "text": [
      "<ipython-input-40-dc159abd3c63>:57: FutureWarning: The current default of copy=False will change to copy=True in 1.7. Set the value of copy explicitly to avoid this warning\n",
      "  data = epochs.get_data()[:, :, :n_samples_expected]\n",
      "<ipython-input-40-dc159abd3c63>:57: FutureWarning: The current default of copy=False will change to copy=True in 1.7. Set the value of copy explicitly to avoid this warning\n",
      "  data = epochs.get_data()[:, :, :n_samples_expected]\n",
      "<ipython-input-40-dc159abd3c63>:57: FutureWarning: The current default of copy=False will change to copy=True in 1.7. Set the value of copy explicitly to avoid this warning\n",
      "  data = epochs.get_data()[:, :, :n_samples_expected]\n",
      "<ipython-input-40-dc159abd3c63>:57: FutureWarning: The current default of copy=False will change to copy=True in 1.7. Set the value of copy explicitly to avoid this warning\n",
      "  data = epochs.get_data()[:, :, :n_samples_expected]\n",
      "<ipython-input-40-dc159abd3c63>:57: FutureWarning: The current default of copy=False will change to copy=True in 1.7. Set the value of copy explicitly to avoid this warning\n",
      "  data = epochs.get_data()[:, :, :n_samples_expected]\n"
     ]
    },
    {
     "name": "stdout",
     "output_type": "stream",
     "text": [
      "0 bad epochs dropped\n",
      "Not setting metadata\n",
      "829 matching events found\n",
      "No baseline correction applied\n",
      "0 projection items activated\n",
      "No valid events found (only boundaries). Creating fixed-length epochs.\n",
      "Not setting metadata\n",
      "881 matching events found\n",
      "No baseline correction applied\n",
      "0 projection items activated\n",
      "Using data from preloaded Raw for 881 events and 500 original time points ...\n",
      "0 bad epochs dropped\n",
      "Not setting metadata\n",
      "881 matching events found\n",
      "No baseline correction applied\n",
      "0 projection items activated\n"
     ]
    },
    {
     "name": "stderr",
     "output_type": "stream",
     "text": [
      "<ipython-input-40-dc159abd3c63>:57: FutureWarning: The current default of copy=False will change to copy=True in 1.7. Set the value of copy explicitly to avoid this warning\n",
      "  data = epochs.get_data()[:, :, :n_samples_expected]\n",
      "<ipython-input-40-dc159abd3c63>:57: FutureWarning: The current default of copy=False will change to copy=True in 1.7. Set the value of copy explicitly to avoid this warning\n",
      "  data = epochs.get_data()[:, :, :n_samples_expected]\n"
     ]
    },
    {
     "name": "stdout",
     "output_type": "stream",
     "text": [
      "Not setting metadata\n",
      "8 matching events found\n",
      "No baseline correction applied\n",
      "0 projection items activated\n",
      "Not setting metadata\n",
      "2 matching events found\n",
      "No baseline correction applied\n",
      "0 projection items activated\n",
      "Not setting metadata\n",
      "5 matching events found\n",
      "No baseline correction applied\n",
      "0 projection items activated\n",
      "Not setting metadata\n",
      "19 matching events found\n",
      "No baseline correction applied\n",
      "0 projection items activated\n",
      "Not setting metadata\n",
      "56 matching events found\n",
      "No baseline correction applied\n",
      "0 projection items activated\n",
      "No valid events found (only boundaries). Creating fixed-length epochs.\n",
      "Not setting metadata\n",
      "796 matching events found\n",
      "No baseline correction applied\n",
      "0 projection items activated\n",
      "Using data from preloaded Raw for 796 events and 500 original time points ...\n"
     ]
    },
    {
     "name": "stderr",
     "output_type": "stream",
     "text": [
      "<ipython-input-40-dc159abd3c63>:57: FutureWarning: The current default of copy=False will change to copy=True in 1.7. Set the value of copy explicitly to avoid this warning\n",
      "  data = epochs.get_data()[:, :, :n_samples_expected]\n",
      "<ipython-input-40-dc159abd3c63>:57: FutureWarning: The current default of copy=False will change to copy=True in 1.7. Set the value of copy explicitly to avoid this warning\n",
      "  data = epochs.get_data()[:, :, :n_samples_expected]\n",
      "<ipython-input-40-dc159abd3c63>:57: FutureWarning: The current default of copy=False will change to copy=True in 1.7. Set the value of copy explicitly to avoid this warning\n",
      "  data = epochs.get_data()[:, :, :n_samples_expected]\n",
      "<ipython-input-40-dc159abd3c63>:57: FutureWarning: The current default of copy=False will change to copy=True in 1.7. Set the value of copy explicitly to avoid this warning\n",
      "  data = epochs.get_data()[:, :, :n_samples_expected]\n",
      "<ipython-input-40-dc159abd3c63>:57: FutureWarning: The current default of copy=False will change to copy=True in 1.7. Set the value of copy explicitly to avoid this warning\n",
      "  data = epochs.get_data()[:, :, :n_samples_expected]\n"
     ]
    },
    {
     "name": "stdout",
     "output_type": "stream",
     "text": [
      "0 bad epochs dropped\n",
      "Not setting metadata\n",
      "796 matching events found\n",
      "No baseline correction applied\n",
      "0 projection items activated\n",
      "Not setting metadata\n",
      "6 matching events found\n",
      "No baseline correction applied\n",
      "0 projection items activated\n",
      "Not setting metadata\n",
      "2 matching events found\n",
      "No baseline correction applied\n",
      "0 projection items activated\n",
      "Not setting metadata\n",
      "3 matching events found\n",
      "No baseline correction applied\n",
      "0 projection items activated\n",
      "Not setting metadata\n",
      "33 matching events found\n",
      "No baseline correction applied\n",
      "0 projection items activated\n",
      "Not setting metadata\n",
      "4 matching events found\n",
      "No baseline correction applied\n",
      "0 projection items activated\n",
      "Not setting metadata\n",
      "14 matching events found\n",
      "No baseline correction applied\n",
      "0 projection items activated\n",
      "Not setting metadata\n",
      "4 matching events found\n",
      "No baseline correction applied\n",
      "0 projection items activated\n",
      "Not setting metadata\n",
      "6 matching events found\n",
      "No baseline correction applied\n",
      "0 projection items activated\n",
      "No valid events found (only boundaries). Creating fixed-length epochs.\n",
      "Not setting metadata\n",
      "777 matching events found\n",
      "No baseline correction applied\n",
      "0 projection items activated\n",
      "Using data from preloaded Raw for 777 events and 500 original time points ...\n"
     ]
    },
    {
     "name": "stderr",
     "output_type": "stream",
     "text": [
      "<ipython-input-40-dc159abd3c63>:57: FutureWarning: The current default of copy=False will change to copy=True in 1.7. Set the value of copy explicitly to avoid this warning\n",
      "  data = epochs.get_data()[:, :, :n_samples_expected]\n",
      "<ipython-input-40-dc159abd3c63>:57: FutureWarning: The current default of copy=False will change to copy=True in 1.7. Set the value of copy explicitly to avoid this warning\n",
      "  data = epochs.get_data()[:, :, :n_samples_expected]\n",
      "<ipython-input-40-dc159abd3c63>:57: FutureWarning: The current default of copy=False will change to copy=True in 1.7. Set the value of copy explicitly to avoid this warning\n",
      "  data = epochs.get_data()[:, :, :n_samples_expected]\n",
      "<ipython-input-40-dc159abd3c63>:57: FutureWarning: The current default of copy=False will change to copy=True in 1.7. Set the value of copy explicitly to avoid this warning\n",
      "  data = epochs.get_data()[:, :, :n_samples_expected]\n",
      "<ipython-input-40-dc159abd3c63>:57: FutureWarning: The current default of copy=False will change to copy=True in 1.7. Set the value of copy explicitly to avoid this warning\n",
      "  data = epochs.get_data()[:, :, :n_samples_expected]\n",
      "<ipython-input-40-dc159abd3c63>:57: FutureWarning: The current default of copy=False will change to copy=True in 1.7. Set the value of copy explicitly to avoid this warning\n",
      "  data = epochs.get_data()[:, :, :n_samples_expected]\n",
      "<ipython-input-40-dc159abd3c63>:57: FutureWarning: The current default of copy=False will change to copy=True in 1.7. Set the value of copy explicitly to avoid this warning\n",
      "  data = epochs.get_data()[:, :, :n_samples_expected]\n",
      "<ipython-input-40-dc159abd3c63>:57: FutureWarning: The current default of copy=False will change to copy=True in 1.7. Set the value of copy explicitly to avoid this warning\n",
      "  data = epochs.get_data()[:, :, :n_samples_expected]\n",
      "<ipython-input-40-dc159abd3c63>:57: FutureWarning: The current default of copy=False will change to copy=True in 1.7. Set the value of copy explicitly to avoid this warning\n",
      "  data = epochs.get_data()[:, :, :n_samples_expected]\n"
     ]
    },
    {
     "name": "stdout",
     "output_type": "stream",
     "text": [
      "0 bad epochs dropped\n",
      "Not setting metadata\n",
      "777 matching events found\n",
      "No baseline correction applied\n",
      "0 projection items activated\n",
      "Not setting metadata\n",
      "1 matching events found\n",
      "No baseline correction applied\n",
      "0 projection items activated\n",
      "Not setting metadata\n",
      "3 matching events found\n",
      "No baseline correction applied\n",
      "0 projection items activated\n",
      "Not setting metadata\n",
      "1 matching events found\n",
      "No baseline correction applied\n",
      "0 projection items activated\n",
      "Not setting metadata\n",
      "13 matching events found\n",
      "No baseline correction applied\n",
      "0 projection items activated\n",
      "Not setting metadata\n",
      "4 matching events found\n",
      "No baseline correction applied\n",
      "0 projection items activated\n",
      "Not setting metadata\n",
      "10 matching events found\n",
      "No baseline correction applied\n",
      "0 projection items activated\n",
      "No valid events found (only boundaries). Creating fixed-length epochs.\n",
      "Not setting metadata\n",
      "884 matching events found\n",
      "No baseline correction applied\n",
      "0 projection items activated\n",
      "Using data from preloaded Raw for 884 events and 500 original time points ...\n"
     ]
    },
    {
     "name": "stderr",
     "output_type": "stream",
     "text": [
      "<ipython-input-40-dc159abd3c63>:57: FutureWarning: The current default of copy=False will change to copy=True in 1.7. Set the value of copy explicitly to avoid this warning\n",
      "  data = epochs.get_data()[:, :, :n_samples_expected]\n",
      "<ipython-input-40-dc159abd3c63>:57: FutureWarning: The current default of copy=False will change to copy=True in 1.7. Set the value of copy explicitly to avoid this warning\n",
      "  data = epochs.get_data()[:, :, :n_samples_expected]\n",
      "<ipython-input-40-dc159abd3c63>:57: FutureWarning: The current default of copy=False will change to copy=True in 1.7. Set the value of copy explicitly to avoid this warning\n",
      "  data = epochs.get_data()[:, :, :n_samples_expected]\n",
      "<ipython-input-40-dc159abd3c63>:57: FutureWarning: The current default of copy=False will change to copy=True in 1.7. Set the value of copy explicitly to avoid this warning\n",
      "  data = epochs.get_data()[:, :, :n_samples_expected]\n",
      "<ipython-input-40-dc159abd3c63>:57: FutureWarning: The current default of copy=False will change to copy=True in 1.7. Set the value of copy explicitly to avoid this warning\n",
      "  data = epochs.get_data()[:, :, :n_samples_expected]\n",
      "<ipython-input-40-dc159abd3c63>:57: FutureWarning: The current default of copy=False will change to copy=True in 1.7. Set the value of copy explicitly to avoid this warning\n",
      "  data = epochs.get_data()[:, :, :n_samples_expected]\n",
      "<ipython-input-40-dc159abd3c63>:57: FutureWarning: The current default of copy=False will change to copy=True in 1.7. Set the value of copy explicitly to avoid this warning\n",
      "  data = epochs.get_data()[:, :, :n_samples_expected]\n"
     ]
    },
    {
     "name": "stdout",
     "output_type": "stream",
     "text": [
      "0 bad epochs dropped\n",
      "Not setting metadata\n",
      "884 matching events found\n",
      "No baseline correction applied\n",
      "0 projection items activated\n",
      "Not setting metadata\n",
      "53 matching events found\n",
      "No baseline correction applied\n",
      "0 projection items activated\n",
      "Not setting metadata\n",
      "3 matching events found\n",
      "No baseline correction applied\n",
      "0 projection items activated\n",
      "Not setting metadata\n",
      "2 matching events found\n",
      "No baseline correction applied\n",
      "0 projection items activated\n",
      "Not setting metadata\n",
      "4 matching events found\n",
      "No baseline correction applied\n",
      "0 projection items activated\n",
      "Not setting metadata\n",
      "11 matching events found\n",
      "No baseline correction applied\n",
      "0 projection items activated\n",
      "Not setting metadata\n",
      "9 matching events found\n",
      "No baseline correction applied\n",
      "0 projection items activated\n",
      "Not setting metadata\n",
      "3 matching events found\n",
      "No baseline correction applied\n",
      "0 projection items activated\n",
      "No valid events found (only boundaries). Creating fixed-length epochs.\n",
      "Not setting metadata\n",
      "643 matching events found\n",
      "No baseline correction applied\n",
      "0 projection items activated\n",
      "Using data from preloaded Raw for 643 events and 500 original time points ...\n"
     ]
    },
    {
     "name": "stderr",
     "output_type": "stream",
     "text": [
      "<ipython-input-40-dc159abd3c63>:57: FutureWarning: The current default of copy=False will change to copy=True in 1.7. Set the value of copy explicitly to avoid this warning\n",
      "  data = epochs.get_data()[:, :, :n_samples_expected]\n",
      "<ipython-input-40-dc159abd3c63>:57: FutureWarning: The current default of copy=False will change to copy=True in 1.7. Set the value of copy explicitly to avoid this warning\n",
      "  data = epochs.get_data()[:, :, :n_samples_expected]\n",
      "<ipython-input-40-dc159abd3c63>:57: FutureWarning: The current default of copy=False will change to copy=True in 1.7. Set the value of copy explicitly to avoid this warning\n",
      "  data = epochs.get_data()[:, :, :n_samples_expected]\n",
      "<ipython-input-40-dc159abd3c63>:57: FutureWarning: The current default of copy=False will change to copy=True in 1.7. Set the value of copy explicitly to avoid this warning\n",
      "  data = epochs.get_data()[:, :, :n_samples_expected]\n",
      "<ipython-input-40-dc159abd3c63>:57: FutureWarning: The current default of copy=False will change to copy=True in 1.7. Set the value of copy explicitly to avoid this warning\n",
      "  data = epochs.get_data()[:, :, :n_samples_expected]\n",
      "<ipython-input-40-dc159abd3c63>:57: FutureWarning: The current default of copy=False will change to copy=True in 1.7. Set the value of copy explicitly to avoid this warning\n",
      "  data = epochs.get_data()[:, :, :n_samples_expected]\n",
      "<ipython-input-40-dc159abd3c63>:57: FutureWarning: The current default of copy=False will change to copy=True in 1.7. Set the value of copy explicitly to avoid this warning\n",
      "  data = epochs.get_data()[:, :, :n_samples_expected]\n",
      "<ipython-input-40-dc159abd3c63>:57: FutureWarning: The current default of copy=False will change to copy=True in 1.7. Set the value of copy explicitly to avoid this warning\n",
      "  data = epochs.get_data()[:, :, :n_samples_expected]\n"
     ]
    },
    {
     "name": "stdout",
     "output_type": "stream",
     "text": [
      "0 bad epochs dropped\n",
      "Not setting metadata\n",
      "643 matching events found\n",
      "No baseline correction applied\n",
      "0 projection items activated\n",
      "Not setting metadata\n",
      "1 matching events found\n",
      "No baseline correction applied\n",
      "0 projection items activated\n",
      "Not setting metadata\n",
      "1 matching events found\n",
      "No baseline correction applied\n",
      "0 projection items activated\n",
      "Not setting metadata\n",
      "1 matching events found\n",
      "No baseline correction applied\n",
      "0 projection items activated\n",
      "Not setting metadata\n",
      "3 matching events found\n",
      "No baseline correction applied\n",
      "0 projection items activated\n",
      "No valid events found (only boundaries). Creating fixed-length epochs.\n",
      "Not setting metadata\n",
      "777 matching events found\n",
      "No baseline correction applied\n",
      "0 projection items activated\n",
      "Using data from preloaded Raw for 777 events and 500 original time points ...\n",
      "0 bad epochs dropped\n"
     ]
    },
    {
     "name": "stderr",
     "output_type": "stream",
     "text": [
      "<ipython-input-40-dc159abd3c63>:57: FutureWarning: The current default of copy=False will change to copy=True in 1.7. Set the value of copy explicitly to avoid this warning\n",
      "  data = epochs.get_data()[:, :, :n_samples_expected]\n",
      "<ipython-input-40-dc159abd3c63>:57: FutureWarning: The current default of copy=False will change to copy=True in 1.7. Set the value of copy explicitly to avoid this warning\n",
      "  data = epochs.get_data()[:, :, :n_samples_expected]\n",
      "<ipython-input-40-dc159abd3c63>:57: FutureWarning: The current default of copy=False will change to copy=True in 1.7. Set the value of copy explicitly to avoid this warning\n",
      "  data = epochs.get_data()[:, :, :n_samples_expected]\n",
      "<ipython-input-40-dc159abd3c63>:57: FutureWarning: The current default of copy=False will change to copy=True in 1.7. Set the value of copy explicitly to avoid this warning\n",
      "  data = epochs.get_data()[:, :, :n_samples_expected]\n",
      "<ipython-input-40-dc159abd3c63>:57: FutureWarning: The current default of copy=False will change to copy=True in 1.7. Set the value of copy explicitly to avoid this warning\n",
      "  data = epochs.get_data()[:, :, :n_samples_expected]\n",
      "<ipython-input-40-dc159abd3c63>:57: FutureWarning: The current default of copy=False will change to copy=True in 1.7. Set the value of copy explicitly to avoid this warning\n",
      "  data = epochs.get_data()[:, :, :n_samples_expected]\n"
     ]
    },
    {
     "name": "stdout",
     "output_type": "stream",
     "text": [
      "Not setting metadata\n",
      "777 matching events found\n",
      "No baseline correction applied\n",
      "0 projection items activated\n",
      "Not setting metadata\n",
      "4 matching events found\n",
      "No baseline correction applied\n",
      "0 projection items activated\n",
      "Not setting metadata\n",
      "3 matching events found\n",
      "No baseline correction applied\n",
      "0 projection items activated\n",
      "No valid events found (only boundaries). Creating fixed-length epochs.\n",
      "Not setting metadata\n",
      "652 matching events found\n",
      "No baseline correction applied\n",
      "0 projection items activated\n",
      "Using data from preloaded Raw for 652 events and 500 original time points ...\n",
      "0 bad epochs dropped\n",
      "Not setting metadata\n",
      "652 matching events found\n",
      "No baseline correction applied\n",
      "0 projection items activated\n",
      "No valid events found (only boundaries). Creating fixed-length epochs.\n",
      "Not setting metadata\n",
      "913 matching events found\n",
      "No baseline correction applied\n",
      "0 projection items activated\n",
      "Using data from preloaded Raw for 913 events and 500 original time points ...\n"
     ]
    },
    {
     "name": "stderr",
     "output_type": "stream",
     "text": [
      "<ipython-input-40-dc159abd3c63>:57: FutureWarning: The current default of copy=False will change to copy=True in 1.7. Set the value of copy explicitly to avoid this warning\n",
      "  data = epochs.get_data()[:, :, :n_samples_expected]\n",
      "<ipython-input-40-dc159abd3c63>:57: FutureWarning: The current default of copy=False will change to copy=True in 1.7. Set the value of copy explicitly to avoid this warning\n",
      "  data = epochs.get_data()[:, :, :n_samples_expected]\n",
      "<ipython-input-40-dc159abd3c63>:57: FutureWarning: The current default of copy=False will change to copy=True in 1.7. Set the value of copy explicitly to avoid this warning\n",
      "  data = epochs.get_data()[:, :, :n_samples_expected]\n"
     ]
    },
    {
     "name": "stdout",
     "output_type": "stream",
     "text": [
      "0 bad epochs dropped\n",
      "Not setting metadata\n",
      "913 matching events found\n",
      "No baseline correction applied\n",
      "0 projection items activated\n",
      "Not setting metadata\n",
      "5 matching events found\n",
      "No baseline correction applied\n",
      "0 projection items activated\n"
     ]
    },
    {
     "name": "stderr",
     "output_type": "stream",
     "text": [
      "<ipython-input-40-dc159abd3c63>:57: FutureWarning: The current default of copy=False will change to copy=True in 1.7. Set the value of copy explicitly to avoid this warning\n",
      "  data = epochs.get_data()[:, :, :n_samples_expected]\n",
      "<ipython-input-40-dc159abd3c63>:57: FutureWarning: The current default of copy=False will change to copy=True in 1.7. Set the value of copy explicitly to avoid this warning\n",
      "  data = epochs.get_data()[:, :, :n_samples_expected]\n"
     ]
    },
    {
     "name": "stdout",
     "output_type": "stream",
     "text": [
      "Not setting metadata\n",
      "9062 matching events found\n",
      "No baseline correction applied\n",
      "X_train shape: (9062, 19, 500)\n",
      "y_train shape: (9062,)\n"
     ]
    },
    {
     "name": "stderr",
     "output_type": "stream",
     "text": [
      "<ipython-input-40-dc159abd3c63>:69: FutureWarning: The current default of copy=False will change to copy=True in 1.7. Set the value of copy explicitly to avoid this warning\n",
      "  X_train = epochs_train.get_data()      # Shape: (n_trials_total, n_channels, n_samples)\n"
     ]
    }
   ],
   "source": [
    "def extract_epochs_from_raw(raw, duration=1.0, tmin=0.0):\n",
    "    \"\"\"\n",
    "    Extract epochs from a continuous Raw object.\n",
    "    If no valid events (other than 'boundary') are found,\n",
    "    fixed-length epochs are created.\n",
    "    \n",
    "    Parameters\n",
    "    ----------\n",
    "    raw : mne.io.Raw object\n",
    "        The continuous EEG data.\n",
    "    duration : float\n",
    "        Duration (in seconds) of each epoch.\n",
    "    tmin : float\n",
    "        Start time relative to the epoch (default is 0).\n",
    "    \n",
    "    Returns\n",
    "    -------\n",
    "    epochs : mne.Epochs object\n",
    "        The extracted epochs.\n",
    "    \"\"\"\n",
    "    # Try to extract events from annotations\n",
    "    events, event_id = mne.events_from_annotations(raw, verbose=False)\n",
    "    \n",
    "    if events.size == 0:\n",
    "        print(\"No valid events found (only boundaries). Creating fixed-length epochs.\")\n",
    "        # Create fixed-length epochs\n",
    "        epochs = mne.make_fixed_length_epochs(raw, duration=duration, overlap=0, preload=True)\n",
    "    else:\n",
    "        tmax = tmin + duration\n",
    "        epochs = mne.Epochs(raw, events, event_id, tmin=tmin, tmax=tmax,\n",
    "                            baseline=None, preload=True, verbose=False)\n",
    "    return epochs\n",
    "\n",
    "def extract_epochs_from_all(raw_list, duration=1.0):\n",
    "    \"\"\"\n",
    "    Process a list of Raw objects, extract epochs from each, crop them to have a consistent\n",
    "    number of time points, and concatenate them.\n",
    "    \n",
    "    Parameters\n",
    "    ----------\n",
    "    raw_list : list of mne.io.Raw objects\n",
    "        The list of subjects' EEG data.\n",
    "    duration : float\n",
    "        Duration (in seconds) of each epoch.\n",
    "    \n",
    "    Returns\n",
    "    -------\n",
    "    epochs_all : mne.Epochs object\n",
    "        Concatenated epochs from all subjects with a consistent time dimension.\n",
    "    \"\"\"\n",
    "    epochs_list = []\n",
    "    for raw in raw_list:\n",
    "        epochs = extract_epochs_from_raw(raw, duration=duration)\n",
    "        sfreq = raw.info['sfreq']\n",
    "        n_samples_expected = int(sfreq * duration)\n",
    "        # Crop the data of each epoch to ensure consistent length\n",
    "        data = epochs.get_data()[:, :, :n_samples_expected]\n",
    "        # Create a new Epochs object from the cropped data\n",
    "        new_epochs = mne.EpochsArray(data, epochs.info, events=epochs.events, event_id=epochs.event_id)\n",
    "        epochs_list.append(new_epochs)\n",
    "    \n",
    "    epochs_all = mne.concatenate_epochs(epochs_list)\n",
    "    return epochs_all\n",
    "\n",
    "# Process all training subjects with fixed 1-second epochs\n",
    "epochs_train = extract_epochs_from_all(train_raws, duration=1.0)\n",
    "\n",
    "# Extract data and labels:\n",
    "X_train = epochs_train.get_data()      # Shape: (n_trials_total, n_channels, n_samples)\n",
    "y_train = epochs_train.events[:, -1]     # Labels (event codes) for each epoch\n",
    "\n",
    "print(\"X_train shape:\", X_train.shape)\n",
    "print(\"y_train shape:\", y_train.shape)"
   ]
  },
  {
   "cell_type": "markdown",
   "metadata": {},
   "source": [
    "## 2. Filtering and Preprocessing"
   ]
  },
  {
   "cell_type": "code",
   "execution_count": 42,
   "metadata": {},
   "outputs": [
    {
     "name": "stdout",
     "output_type": "stream",
     "text": [
      "Processed 70 training subjects.\n",
      "(19, 460140)\n"
     ]
    }
   ],
   "source": [
    "def preprocess_raws(raw_list, l_freq=1.0, h_freq=45.0, notch_freq=60):\n",
    "    \"\"\"\n",
    "    Preprocess a list of MNE Raw objects by applying:\n",
    "      - Bandpass filtering\n",
    "      - Notch filtering (for line noise)\n",
    "    \n",
    "    Parameters\n",
    "    ----------\n",
    "    raw_list : list of mne.io.Raw objects\n",
    "        The list of EEG data to process.\n",
    "    l_freq : float\n",
    "        Low frequency cutoff for bandpass filter.\n",
    "    h_freq : float\n",
    "        High frequency cutoff for bandpass filter.\n",
    "    notch_freq : float or list\n",
    "        Frequency/frequencies at which to apply the notch filter.\n",
    "    \n",
    "    Returns\n",
    "    -------\n",
    "    filtered_raws : list of mne.io.Raw objects\n",
    "        The list of filtered Raw objects.\n",
    "    \"\"\"\n",
    "    filtered_raws = []\n",
    "    \n",
    "    for raw in raw_list:\n",
    "        # Make a copy to avoid modifying the original raw object\n",
    "        raw_copy = raw.copy()\n",
    "        \n",
    "        # Apply bandpass filter\n",
    "        raw_copy.filter(l_freq=l_freq, h_freq=h_freq, method='fir', verbose=False)\n",
    "        \n",
    "        # Apply notch filter to remove 60 Hz line noise\n",
    "        raw_copy.notch_filter(freqs=notch_freq, method='fir', verbose=False)\n",
    "        \n",
    "        filtered_raws.append(raw_copy)\n",
    "    \n",
    "    return filtered_raws\n",
    "\n",
    "# Example usage:\n",
    "filtered_train_raws = preprocess_raws(train_raws, l_freq=1.0, h_freq=45.0)\n",
    "print(f\"Processed {len(filtered_train_raws)} training subjects.\")\n",
    "# Optionally, to see the shape of the filtered data for the first subject:\n",
    "print(filtered_train_raws[0].get_data().shape)"
   ]
  },
  {
   "cell_type": "code",
   "execution_count": 43,
   "metadata": {},
   "outputs": [
    {
     "name": "stderr",
     "output_type": "stream",
     "text": [
      "<ipython-input-43-0b7761f0d89c>:1: RuntimeWarning: filter_length (1651) is longer than the signal (500), distortion is likely. Reduce filter length or filter a longer signal.\n",
      "  epochs_train_filtered = epochs_train.copy().filter(l_freq=1.0, h_freq=45.0, verbose=False)\n"
     ]
    },
    {
     "name": "stdout",
     "output_type": "stream",
     "text": [
      "X_train_filtered shape: (9062, 19, 500)\n"
     ]
    },
    {
     "name": "stderr",
     "output_type": "stream",
     "text": [
      "<ipython-input-43-0b7761f0d89c>:2: FutureWarning: The current default of copy=False will change to copy=True in 1.7. Set the value of copy explicitly to avoid this warning\n",
      "  X_train_filtered = epochs_train_filtered.get_data()\n"
     ]
    }
   ],
   "source": [
    "epochs_train_filtered = epochs_train.copy().filter(l_freq=1.0, h_freq=45.0, verbose=False)\n",
    "X_train_filtered = epochs_train_filtered.get_data()\n",
    "print(\"X_train_filtered shape:\", X_train_filtered.shape)"
   ]
  },
  {
   "cell_type": "code",
   "execution_count": null,
   "metadata": {},
   "outputs": [],
   "source": []
  },
  {
   "cell_type": "markdown",
   "metadata": {},
   "source": [
    "## 3. Frequency Band Power Features"
   ]
  },
  {
   "cell_type": "code",
   "execution_count": 55,
   "metadata": {},
   "outputs": [],
   "source": [
    "# def extract_band_powers(raw_list, sfreq):\n",
    "#     \"\"\"\n",
    "#     Extract power in standard EEG frequency bands from a list of MNE Raw objects.\n",
    "    \n",
    "#     Parameters:\n",
    "#     raw_list : list of mne.io.Raw objects\n",
    "#         Each Raw object contains EEG data (n_channels x n_samples).\n",
    "#     sfreq : float\n",
    "#         Sampling frequency in Hz.\n",
    "    \n",
    "#     Returns:\n",
    "#     band_powers : numpy array of shape (n_subjects, n_features)\n",
    "#         Each row contains concatenated band power features for all channels.\n",
    "#     feature_names : list of str\n",
    "#         List of feature names corresponding to each channel-band combination.\n",
    "#     \"\"\"\n",
    "#     # Define frequency bands\n",
    "#     bands = {\n",
    "#         'delta': (0.5, 4),\n",
    "#         'theta': (4, 8),\n",
    "#         'alpha': (8, 13),\n",
    "#         'beta': (13, 30),\n",
    "#         'gamma': (30, 45)\n",
    "#     }\n",
    "    \n",
    "#     all_band_powers = []\n",
    "#     feature_names = []\n",
    "    \n",
    "#     # Loop over each subject (raw object)\n",
    "#     for subject_idx, raw in enumerate(raw_list):\n",
    "#         eeg_data = raw.get_data()  # shape: (n_channels, n_samples)\n",
    "#         subject_powers = []\n",
    "        \n",
    "#         # Loop over each channel\n",
    "#         for ch_idx in range(eeg_data.shape[0]):\n",
    "#             channel_data = eeg_data[ch_idx]\n",
    "            \n",
    "#             # Calculate PSD using Welch's method\n",
    "#             freqs, psd = signal.welch(channel_data, sfreq, nperseg=int(sfreq * 2))\n",
    "            \n",
    "#             # Extract band powers for this channel\n",
    "#             ch_powers = []\n",
    "#             for band_name, (fmin, fmax) in bands.items():\n",
    "#                 # Find indices corresponding to the frequency band\n",
    "#                 idx_band = np.logical_and(freqs >= fmin, freqs <= fmax)\n",
    "#                 # Calculate average power in the band\n",
    "#                 band_power = np.mean(psd[idx_band])\n",
    "#                 ch_powers.append(band_power)\n",
    "                \n",
    "#                 # Create feature names only once (for the first subject and first channel)\n",
    "#                 if subject_idx == 0 and ch_idx == 0:\n",
    "#                     feature_names.append(f\"ch{ch_idx}_{band_name}\")\n",
    "            \n",
    "#             # Concatenate the band powers of each channel\n",
    "#             subject_powers.extend(ch_powers)\n",
    "        \n",
    "#         all_band_powers.append(subject_powers)\n",
    "    \n",
    "#     return np.array(all_band_powers), feature_names\n",
    "\n",
    "# # Example usage:\n",
    "# band_powers, power_feature_names = extract_band_powers(filtered_train_raws, sfreq)\n",
    "# print(f\"Band power features shape: {band_powers.shape}\")\n",
    "# print(f\"Example features: {power_feature_names[:10]}\")"
   ]
  },
  {
   "cell_type": "code",
   "execution_count": 56,
   "metadata": {},
   "outputs": [
    {
     "name": "stdout",
     "output_type": "stream",
     "text": [
      "Band power features shape: (9062, 95)\n",
      "Example features: ['ch0_delta', 'ch0_theta', 'ch0_alpha', 'ch0_beta', 'ch0_gamma']\n"
     ]
    }
   ],
   "source": [
    "def extract_band_powers_from_array(X, sfreq):\n",
    "    \"\"\"\n",
    "    Extract power in standard EEG frequency bands from a NumPy array.\n",
    "    \n",
    "    Parameters\n",
    "    ----------\n",
    "    X : numpy array\n",
    "        EEG data with shape (n_subjects, n_channels, n_samples).\n",
    "    sfreq : float\n",
    "        Sampling frequency in Hz.\n",
    "    \n",
    "    Returns\n",
    "    -------\n",
    "    band_powers : numpy array of shape (n_subjects, n_features)\n",
    "        Each row contains concatenated band power features for all channels.\n",
    "    feature_names : list of str\n",
    "        List of feature names corresponding to each channel-band combination.\n",
    "    \"\"\"\n",
    "    # Define frequency bands\n",
    "    bands = {\n",
    "        'delta': (0.5, 4),\n",
    "        'theta': (4, 8),\n",
    "        'alpha': (8, 13),\n",
    "        'beta': (13, 30),\n",
    "        'gamma': (30, 45)\n",
    "    }\n",
    "    \n",
    "    all_band_powers = []\n",
    "    feature_names = []\n",
    "    \n",
    "    n_subjects, n_channels, _ = X.shape\n",
    "    \n",
    "    # Loop over each subject (row in X)\n",
    "    for subject_idx in range(n_subjects):\n",
    "        subject_data = X[subject_idx]  # shape: (n_channels, n_samples)\n",
    "        subject_powers = []\n",
    "        \n",
    "        # Loop over each channel\n",
    "        for ch_idx in range(subject_data.shape[0]):\n",
    "            channel_data = subject_data[ch_idx]\n",
    "            \n",
    "            # Calculate PSD using Welch's method\n",
    "            freqs, psd = signal.welch(channel_data, sfreq, nperseg=int(sfreq * 2))\n",
    "            \n",
    "            # Extract band powers for this channel\n",
    "            ch_powers = []\n",
    "            for band_name, (fmin, fmax) in bands.items():\n",
    "                # Find indices corresponding to the frequency band\n",
    "                idx_band = np.logical_and(freqs >= fmin, freqs <= fmax)\n",
    "                # Calculate average power in the band\n",
    "                band_power = np.mean(psd[idx_band])\n",
    "                ch_powers.append(band_power)\n",
    "                \n",
    "                # Create feature names only once (for the first subject and first channel)\n",
    "                if subject_idx == 0 and ch_idx == 0:\n",
    "                    feature_names.append(f\"ch{ch_idx}_{band_name}\")\n",
    "            \n",
    "            # Concatenate the band powers of each channel\n",
    "            subject_powers.extend(ch_powers)\n",
    "        \n",
    "        all_band_powers.append(subject_powers)\n",
    "    \n",
    "    return np.array(all_band_powers), feature_names\n",
    "\n",
    "# Example usage:\n",
    "band_powers, power_feature_names = extract_band_powers_from_array(X_train_filtered, sfreq)\n",
    "print(f\"Band power features shape: {band_powers.shape}\")\n",
    "print(f\"Example features: {power_feature_names[:10]}\")"
   ]
  },
  {
   "cell_type": "markdown",
   "metadata": {},
   "source": [
    "## 4. Power Ratios"
   ]
  },
  {
   "cell_type": "code",
   "execution_count": 57,
   "metadata": {},
   "outputs": [],
   "source": [
    "# def extract_power_ratios(raw_list, sfreq):\n",
    "#     \"\"\"\n",
    "#     Calculate power ratio features from a list of MNE Raw objects.\n",
    "    \n",
    "#     Parameters\n",
    "#     ----------\n",
    "#     raw_list : list of mne.io.Raw objects\n",
    "#         Each Raw object contains preprocessed EEG data (n_channels x n_samples).\n",
    "#     sfreq : float\n",
    "#         Sampling frequency in Hz.\n",
    "    \n",
    "#     Returns\n",
    "#     -------\n",
    "#     ratio_features : numpy array of shape (n_subjects, n_features)\n",
    "#         Each row contains the concatenated power ratio features for all channels.\n",
    "#     ratio_names : list of str\n",
    "#         Names for each channel-band ratio feature.\n",
    "#     \"\"\"\n",
    "#     # Define frequency bands\n",
    "#     bands = {\n",
    "#         'delta': (0.5, 4),\n",
    "#         'theta': (4, 8),\n",
    "#         'alpha': (8, 13),\n",
    "#         'beta': (13, 30),\n",
    "#         'gamma': (30, 45)\n",
    "#     }\n",
    "    \n",
    "#     # Define ratios to calculate\n",
    "#     ratios = [\n",
    "#         ('theta', 'beta'),     # theta/beta ratio\n",
    "#         ('alpha', 'theta'),    # alpha/theta ratio\n",
    "#         ('delta', 'theta'),    # delta/theta ratio\n",
    "#         ('alpha', 'beta'),     # alpha/beta ratio\n",
    "#         ('delta', 'alpha'),    # delta/alpha ratio\n",
    "#     ]\n",
    "    \n",
    "#     all_ratios = []\n",
    "#     ratio_names = []\n",
    "    \n",
    "#     for subject_idx, raw in enumerate(raw_list):\n",
    "#         eeg_data = raw.get_data()  # shape: (n_channels, n_samples)\n",
    "#         subject_ratios = []\n",
    "        \n",
    "#         # Process each channel\n",
    "#         for ch_idx in range(eeg_data.shape[0]):\n",
    "#             channel_data = eeg_data[ch_idx]\n",
    "            \n",
    "#             # Compute PSD using Welch's method\n",
    "#             freqs, psd = signal.welch(channel_data, sfreq, nperseg=int(sfreq * 2))\n",
    "            \n",
    "#             # Calculate average power in each frequency band\n",
    "#             band_powers = {}\n",
    "#             for band_name, (fmin, fmax) in bands.items():\n",
    "#                 idx_band = np.logical_and(freqs >= fmin, freqs <= fmax)\n",
    "#                 band_powers[band_name] = np.mean(psd[idx_band])\n",
    "            \n",
    "#             # Compute ratios for the channel\n",
    "#             ch_ratios = []\n",
    "#             for num_band, denom_band in ratios:\n",
    "#                 # Avoid division by zero\n",
    "#                 if band_powers[denom_band] > 0:\n",
    "#                     ratio = band_powers[num_band] / band_powers[denom_band]\n",
    "#                 else:\n",
    "#                     ratio = 0\n",
    "#                 ch_ratios.append(ratio)\n",
    "                \n",
    "#                 # Only create feature names once (for the first subject's first channel)\n",
    "#                 if subject_idx == 0 and ch_idx == 0:\n",
    "#                     ratio_names.append(f\"ch{ch_idx}_{num_band}_{denom_band}_ratio\")\n",
    "            \n",
    "#             subject_ratios.extend(ch_ratios)\n",
    "        \n",
    "#         all_ratios.append(subject_ratios)\n",
    "    \n",
    "#     return np.array(all_ratios), ratio_names\n",
    "\n",
    "# # Example usage:\n",
    "# power_ratios, ratio_feature_names = extract_power_ratios(filtered_train_raws, sfreq)\n",
    "# print(f\"Power ratio features shape: {power_ratios.shape}\")\n",
    "# print(f\"Example ratio features: {ratio_feature_names[:10]}\")"
   ]
  },
  {
   "cell_type": "code",
   "execution_count": 91,
   "metadata": {},
   "outputs": [],
   "source": [
    "def extract_power_ratios_from_array(X, sfreq):\n",
    "    \"\"\"\n",
    "    Calculate power ratio features from a NumPy array.\n",
    "    \n",
    "    Parameters\n",
    "    ----------\n",
    "    X : numpy array\n",
    "        EEG data with shape (n_trials, n_channels, n_samples).\n",
    "    sfreq : float\n",
    "        Sampling frequency in Hz.\n",
    "    \n",
    "    Returns\n",
    "    -------\n",
    "    ratio_features : numpy array of shape (n_trials, n_features)\n",
    "        Each row contains concatenated power ratio features for all channels.\n",
    "    ratio_names : list of str\n",
    "        List of feature names.\n",
    "    \"\"\"\n",
    "    # Define frequency bands\n",
    "    bands = {\n",
    "        'delta': (0.5, 4),\n",
    "        'theta': (4, 8),\n",
    "        'alpha': (8, 13),\n",
    "        'beta': (13, 30),\n",
    "        'gamma': (30, 45)\n",
    "    }\n",
    "    \n",
    "    # Define ratios to calculate: (numerator band, denominator band)\n",
    "    ratios = [\n",
    "        ('theta', 'beta'),     # theta/beta ratio\n",
    "        ('alpha', 'theta'),    # alpha/theta ratio\n",
    "        ('delta', 'theta'),    # delta/theta ratio\n",
    "        ('alpha', 'beta'),     # alpha/beta ratio\n",
    "        ('delta', 'alpha')     # delta/alpha ratio\n",
    "    ]\n",
    "    \n",
    "    all_ratios = []\n",
    "    ratio_names = []\n",
    "    \n",
    "    n_trials, n_channels, _ = X.shape\n",
    "    \n",
    "    for trial_idx in range(n_trials):\n",
    "        trial_data = X[trial_idx]  # shape: (n_channels, n_samples)\n",
    "        trial_ratios = []\n",
    "        for ch_idx in range(n_channels):\n",
    "            channel_data = trial_data[ch_idx]\n",
    "            freqs, psd = signal.welch(channel_data, sfreq, nperseg=int(sfreq * 2))\n",
    "            # Calculate average power for each band\n",
    "            band_powers = {}\n",
    "            for band_name, (fmin, fmax) in bands.items():\n",
    "                idx_band = np.logical_and(freqs >= fmin, freqs <= fmax)\n",
    "                band_powers[band_name] = np.mean(psd[idx_band])\n",
    "            ch_ratios = []\n",
    "            for num_band, denom_band in ratios:\n",
    "                # Avoid division by zero\n",
    "                if band_powers[denom_band] > 0:\n",
    "                    ratio = band_powers[num_band] / band_powers[denom_band]\n",
    "                else:\n",
    "                    ratio = 0\n",
    "                ch_ratios.append(ratio)\n",
    "                # Create feature names for every channel in the first trial\n",
    "                if trial_idx == 0:\n",
    "                    ratio_names.append(f\"ch{ch_idx}_{num_band}_{denom_band}_ratio\")\n",
    "            trial_ratios.extend(ch_ratios)\n",
    "        all_ratios.append(trial_ratios)\n",
    "    \n",
    "    return np.array(all_ratios), ratio_names"
   ]
  },
  {
   "cell_type": "markdown",
   "metadata": {},
   "source": [
    "## 5. Common Spatial Patterns (CSP)"
   ]
  },
  {
   "cell_type": "code",
   "execution_count": 67,
   "metadata": {},
   "outputs": [
    {
     "data": {
      "text/plain": [
       "array(['A', 'C', 'F'], dtype=object)"
      ]
     },
     "execution_count": 67,
     "metadata": {},
     "output_type": "execute_result"
    }
   ],
   "source": [
    "participants['Group'].unique()"
   ]
  },
  {
   "cell_type": "code",
   "execution_count": 68,
   "metadata": {},
   "outputs": [
    {
     "name": "stdout",
     "output_type": "stream",
     "text": [
      "  participant_id Gender  Age Group  MMSE\n",
      "0        sub-001      F   57     A    16\n",
      "1        sub-002      F   78     A    22\n",
      "2        sub-003      M   70     A    14\n",
      "3        sub-004      F   67     A    20\n",
      "4        sub-005      M   70     A    22\n",
      "Group mapping: {'sub-001': 'A', 'sub-002': 'A', 'sub-003': 'A', 'sub-004': 'A', 'sub-005': 'A', 'sub-006': 'A', 'sub-007': 'A', 'sub-008': 'A', 'sub-009': 'A', 'sub-010': 'A', 'sub-011': 'A', 'sub-012': 'A', 'sub-013': 'A', 'sub-014': 'A', 'sub-015': 'A', 'sub-016': 'A', 'sub-017': 'A', 'sub-018': 'A', 'sub-019': 'A', 'sub-020': 'A', 'sub-021': 'A', 'sub-022': 'A', 'sub-023': 'A', 'sub-024': 'A', 'sub-025': 'A', 'sub-026': 'A', 'sub-027': 'A', 'sub-028': 'A', 'sub-029': 'A', 'sub-030': 'A', 'sub-031': 'A', 'sub-032': 'A', 'sub-033': 'A', 'sub-034': 'A', 'sub-035': 'A', 'sub-036': 'A', 'sub-037': 'C', 'sub-038': 'C', 'sub-039': 'C', 'sub-040': 'C', 'sub-041': 'C', 'sub-042': 'C', 'sub-043': 'C', 'sub-044': 'C', 'sub-045': 'C', 'sub-046': 'C', 'sub-047': 'C', 'sub-048': 'C', 'sub-049': 'C', 'sub-050': 'C', 'sub-051': 'C', 'sub-052': 'C', 'sub-053': 'C', 'sub-054': 'C', 'sub-055': 'C', 'sub-056': 'C', 'sub-057': 'C', 'sub-058': 'C', 'sub-059': 'C', 'sub-060': 'C', 'sub-061': 'C', 'sub-062': 'C', 'sub-063': 'C', 'sub-064': 'C', 'sub-065': 'C', 'sub-066': 'F', 'sub-067': 'F', 'sub-068': 'F', 'sub-069': 'F', 'sub-070': 'F', 'sub-071': 'F', 'sub-072': 'F', 'sub-073': 'F', 'sub-074': 'F', 'sub-075': 'F', 'sub-076': 'F', 'sub-077': 'F', 'sub-078': 'F', 'sub-079': 'F', 'sub-080': 'F', 'sub-081': 'F', 'sub-082': 'F', 'sub-083': 'F', 'sub-084': 'F', 'sub-085': 'F', 'sub-086': 'F', 'sub-087': 'F', 'sub-088': 'F'}\n",
      "Unique groups: ['A' 'C' 'F']\n",
      "Label map: {'A': 0, 'C': 1, 'F': 2}\n",
      "Not setting metadata\n",
      "2 matching events found\n",
      "No baseline correction applied\n",
      "0 projection items activated\n",
      "Not setting metadata\n",
      "14 matching events found\n",
      "No baseline correction applied\n",
      "0 projection items activated\n",
      "Not setting metadata\n",
      "1 matching events found\n",
      "No baseline correction applied\n",
      "0 projection items activated\n",
      "Not setting metadata\n",
      "7 matching events found\n",
      "No baseline correction applied\n",
      "0 projection items activated\n"
     ]
    },
    {
     "name": "stderr",
     "output_type": "stream",
     "text": [
      "<ipython-input-68-39eb3f5ba9d4>:57: FutureWarning: The current default of copy=False will change to copy=True in 1.7. Set the value of copy explicitly to avoid this warning\n",
      "  data = epochs.get_data()[:, :, :n_samples_expected]\n",
      "<ipython-input-68-39eb3f5ba9d4>:62: FutureWarning: The current default of copy=False will change to copy=True in 1.7. Set the value of copy explicitly to avoid this warning\n",
      "  subject_labels = np.full(new_epochs.get_data().shape[0], label)\n",
      "<ipython-input-68-39eb3f5ba9d4>:57: FutureWarning: The current default of copy=False will change to copy=True in 1.7. Set the value of copy explicitly to avoid this warning\n",
      "  data = epochs.get_data()[:, :, :n_samples_expected]\n",
      "<ipython-input-68-39eb3f5ba9d4>:62: FutureWarning: The current default of copy=False will change to copy=True in 1.7. Set the value of copy explicitly to avoid this warning\n",
      "  subject_labels = np.full(new_epochs.get_data().shape[0], label)\n",
      "<ipython-input-68-39eb3f5ba9d4>:57: FutureWarning: The current default of copy=False will change to copy=True in 1.7. Set the value of copy explicitly to avoid this warning\n",
      "  data = epochs.get_data()[:, :, :n_samples_expected]\n",
      "<ipython-input-68-39eb3f5ba9d4>:62: FutureWarning: The current default of copy=False will change to copy=True in 1.7. Set the value of copy explicitly to avoid this warning\n",
      "  subject_labels = np.full(new_epochs.get_data().shape[0], label)\n",
      "<ipython-input-68-39eb3f5ba9d4>:57: FutureWarning: The current default of copy=False will change to copy=True in 1.7. Set the value of copy explicitly to avoid this warning\n",
      "  data = epochs.get_data()[:, :, :n_samples_expected]\n",
      "<ipython-input-68-39eb3f5ba9d4>:62: FutureWarning: The current default of copy=False will change to copy=True in 1.7. Set the value of copy explicitly to avoid this warning\n",
      "  subject_labels = np.full(new_epochs.get_data().shape[0], label)\n"
     ]
    },
    {
     "name": "stdout",
     "output_type": "stream",
     "text": [
      "Not setting metadata\n",
      "2 matching events found\n",
      "No baseline correction applied\n",
      "0 projection items activated\n",
      "Not setting metadata\n",
      "7 matching events found\n",
      "No baseline correction applied\n",
      "0 projection items activated\n",
      "Not setting metadata\n",
      "9 matching events found\n",
      "No baseline correction applied\n",
      "0 projection items activated\n",
      "Not setting metadata\n",
      "3 matching events found\n",
      "No baseline correction applied\n",
      "0 projection items activated\n",
      "Not setting metadata\n",
      "1 matching events found\n",
      "No baseline correction applied\n",
      "0 projection items activated\n",
      "Not setting metadata\n",
      "3 matching events found\n",
      "No baseline correction applied\n",
      "0 projection items activated\n"
     ]
    },
    {
     "name": "stderr",
     "output_type": "stream",
     "text": [
      "<ipython-input-68-39eb3f5ba9d4>:57: FutureWarning: The current default of copy=False will change to copy=True in 1.7. Set the value of copy explicitly to avoid this warning\n",
      "  data = epochs.get_data()[:, :, :n_samples_expected]\n",
      "<ipython-input-68-39eb3f5ba9d4>:62: FutureWarning: The current default of copy=False will change to copy=True in 1.7. Set the value of copy explicitly to avoid this warning\n",
      "  subject_labels = np.full(new_epochs.get_data().shape[0], label)\n",
      "<ipython-input-68-39eb3f5ba9d4>:57: FutureWarning: The current default of copy=False will change to copy=True in 1.7. Set the value of copy explicitly to avoid this warning\n",
      "  data = epochs.get_data()[:, :, :n_samples_expected]\n",
      "<ipython-input-68-39eb3f5ba9d4>:62: FutureWarning: The current default of copy=False will change to copy=True in 1.7. Set the value of copy explicitly to avoid this warning\n",
      "  subject_labels = np.full(new_epochs.get_data().shape[0], label)\n",
      "<ipython-input-68-39eb3f5ba9d4>:57: FutureWarning: The current default of copy=False will change to copy=True in 1.7. Set the value of copy explicitly to avoid this warning\n",
      "  data = epochs.get_data()[:, :, :n_samples_expected]\n",
      "<ipython-input-68-39eb3f5ba9d4>:62: FutureWarning: The current default of copy=False will change to copy=True in 1.7. Set the value of copy explicitly to avoid this warning\n",
      "  subject_labels = np.full(new_epochs.get_data().shape[0], label)\n",
      "<ipython-input-68-39eb3f5ba9d4>:57: FutureWarning: The current default of copy=False will change to copy=True in 1.7. Set the value of copy explicitly to avoid this warning\n",
      "  data = epochs.get_data()[:, :, :n_samples_expected]\n",
      "<ipython-input-68-39eb3f5ba9d4>:62: FutureWarning: The current default of copy=False will change to copy=True in 1.7. Set the value of copy explicitly to avoid this warning\n",
      "  subject_labels = np.full(new_epochs.get_data().shape[0], label)\n",
      "<ipython-input-68-39eb3f5ba9d4>:57: FutureWarning: The current default of copy=False will change to copy=True in 1.7. Set the value of copy explicitly to avoid this warning\n",
      "  data = epochs.get_data()[:, :, :n_samples_expected]\n",
      "<ipython-input-68-39eb3f5ba9d4>:62: FutureWarning: The current default of copy=False will change to copy=True in 1.7. Set the value of copy explicitly to avoid this warning\n",
      "  subject_labels = np.full(new_epochs.get_data().shape[0], label)\n",
      "<ipython-input-68-39eb3f5ba9d4>:57: FutureWarning: The current default of copy=False will change to copy=True in 1.7. Set the value of copy explicitly to avoid this warning\n",
      "  data = epochs.get_data()[:, :, :n_samples_expected]\n",
      "<ipython-input-68-39eb3f5ba9d4>:62: FutureWarning: The current default of copy=False will change to copy=True in 1.7. Set the value of copy explicitly to avoid this warning\n",
      "  subject_labels = np.full(new_epochs.get_data().shape[0], label)\n",
      "<ipython-input-68-39eb3f5ba9d4>:57: FutureWarning: The current default of copy=False will change to copy=True in 1.7. Set the value of copy explicitly to avoid this warning\n",
      "  data = epochs.get_data()[:, :, :n_samples_expected]\n"
     ]
    },
    {
     "name": "stdout",
     "output_type": "stream",
     "text": [
      "Not setting metadata\n",
      "2 matching events found\n",
      "No baseline correction applied\n",
      "0 projection items activated\n",
      "No valid events for subject unknown. Creating fixed-length epochs.\n",
      "Not setting metadata\n",
      "869 matching events found\n",
      "No baseline correction applied\n",
      "0 projection items activated\n",
      "Using data from preloaded Raw for 869 events and 500 original time points ...\n"
     ]
    },
    {
     "name": "stderr",
     "output_type": "stream",
     "text": [
      "<ipython-input-68-39eb3f5ba9d4>:62: FutureWarning: The current default of copy=False will change to copy=True in 1.7. Set the value of copy explicitly to avoid this warning\n",
      "  subject_labels = np.full(new_epochs.get_data().shape[0], label)\n"
     ]
    },
    {
     "name": "stdout",
     "output_type": "stream",
     "text": [
      "0 bad epochs dropped\n",
      "Not setting metadata\n",
      "869 matching events found\n",
      "No baseline correction applied\n",
      "0 projection items activated\n",
      "Not setting metadata\n",
      "1 matching events found\n",
      "No baseline correction applied\n",
      "0 projection items activated\n",
      "Not setting metadata\n",
      "1 matching events found\n",
      "No baseline correction applied\n",
      "0 projection items activated\n",
      "Not setting metadata\n",
      "13 matching events found\n",
      "No baseline correction applied\n",
      "0 projection items activated\n",
      "Not setting metadata\n",
      "1 matching events found\n",
      "No baseline correction applied\n",
      "0 projection items activated\n",
      "Not setting metadata\n",
      "12 matching events found\n",
      "No baseline correction applied\n",
      "0 projection items activated\n"
     ]
    },
    {
     "name": "stderr",
     "output_type": "stream",
     "text": [
      "<ipython-input-68-39eb3f5ba9d4>:57: FutureWarning: The current default of copy=False will change to copy=True in 1.7. Set the value of copy explicitly to avoid this warning\n",
      "  data = epochs.get_data()[:, :, :n_samples_expected]\n",
      "<ipython-input-68-39eb3f5ba9d4>:62: FutureWarning: The current default of copy=False will change to copy=True in 1.7. Set the value of copy explicitly to avoid this warning\n",
      "  subject_labels = np.full(new_epochs.get_data().shape[0], label)\n",
      "<ipython-input-68-39eb3f5ba9d4>:57: FutureWarning: The current default of copy=False will change to copy=True in 1.7. Set the value of copy explicitly to avoid this warning\n",
      "  data = epochs.get_data()[:, :, :n_samples_expected]\n",
      "<ipython-input-68-39eb3f5ba9d4>:62: FutureWarning: The current default of copy=False will change to copy=True in 1.7. Set the value of copy explicitly to avoid this warning\n",
      "  subject_labels = np.full(new_epochs.get_data().shape[0], label)\n",
      "<ipython-input-68-39eb3f5ba9d4>:57: FutureWarning: The current default of copy=False will change to copy=True in 1.7. Set the value of copy explicitly to avoid this warning\n",
      "  data = epochs.get_data()[:, :, :n_samples_expected]\n",
      "<ipython-input-68-39eb3f5ba9d4>:62: FutureWarning: The current default of copy=False will change to copy=True in 1.7. Set the value of copy explicitly to avoid this warning\n",
      "  subject_labels = np.full(new_epochs.get_data().shape[0], label)\n",
      "<ipython-input-68-39eb3f5ba9d4>:57: FutureWarning: The current default of copy=False will change to copy=True in 1.7. Set the value of copy explicitly to avoid this warning\n",
      "  data = epochs.get_data()[:, :, :n_samples_expected]\n",
      "<ipython-input-68-39eb3f5ba9d4>:62: FutureWarning: The current default of copy=False will change to copy=True in 1.7. Set the value of copy explicitly to avoid this warning\n",
      "  subject_labels = np.full(new_epochs.get_data().shape[0], label)\n",
      "<ipython-input-68-39eb3f5ba9d4>:57: FutureWarning: The current default of copy=False will change to copy=True in 1.7. Set the value of copy explicitly to avoid this warning\n",
      "  data = epochs.get_data()[:, :, :n_samples_expected]\n",
      "<ipython-input-68-39eb3f5ba9d4>:62: FutureWarning: The current default of copy=False will change to copy=True in 1.7. Set the value of copy explicitly to avoid this warning\n",
      "  subject_labels = np.full(new_epochs.get_data().shape[0], label)\n",
      "<ipython-input-68-39eb3f5ba9d4>:57: FutureWarning: The current default of copy=False will change to copy=True in 1.7. Set the value of copy explicitly to avoid this warning\n",
      "  data = epochs.get_data()[:, :, :n_samples_expected]\n",
      "<ipython-input-68-39eb3f5ba9d4>:62: FutureWarning: The current default of copy=False will change to copy=True in 1.7. Set the value of copy explicitly to avoid this warning\n",
      "  subject_labels = np.full(new_epochs.get_data().shape[0], label)\n"
     ]
    },
    {
     "name": "stdout",
     "output_type": "stream",
     "text": [
      "Not setting metadata\n",
      "6 matching events found\n",
      "No baseline correction applied\n",
      "0 projection items activated\n",
      "Not setting metadata\n",
      "9 matching events found\n",
      "No baseline correction applied\n",
      "0 projection items activated\n",
      "Not setting metadata\n",
      "6 matching events found\n",
      "No baseline correction applied\n",
      "0 projection items activated\n",
      "Not setting metadata\n",
      "18 matching events found\n",
      "No baseline correction applied\n",
      "0 projection items activated\n",
      "Not setting metadata\n",
      "6 matching events found\n",
      "No baseline correction applied\n",
      "0 projection items activated\n"
     ]
    },
    {
     "name": "stderr",
     "output_type": "stream",
     "text": [
      "<ipython-input-68-39eb3f5ba9d4>:57: FutureWarning: The current default of copy=False will change to copy=True in 1.7. Set the value of copy explicitly to avoid this warning\n",
      "  data = epochs.get_data()[:, :, :n_samples_expected]\n",
      "<ipython-input-68-39eb3f5ba9d4>:62: FutureWarning: The current default of copy=False will change to copy=True in 1.7. Set the value of copy explicitly to avoid this warning\n",
      "  subject_labels = np.full(new_epochs.get_data().shape[0], label)\n",
      "<ipython-input-68-39eb3f5ba9d4>:57: FutureWarning: The current default of copy=False will change to copy=True in 1.7. Set the value of copy explicitly to avoid this warning\n",
      "  data = epochs.get_data()[:, :, :n_samples_expected]\n",
      "<ipython-input-68-39eb3f5ba9d4>:62: FutureWarning: The current default of copy=False will change to copy=True in 1.7. Set the value of copy explicitly to avoid this warning\n",
      "  subject_labels = np.full(new_epochs.get_data().shape[0], label)\n",
      "<ipython-input-68-39eb3f5ba9d4>:57: FutureWarning: The current default of copy=False will change to copy=True in 1.7. Set the value of copy explicitly to avoid this warning\n",
      "  data = epochs.get_data()[:, :, :n_samples_expected]\n",
      "<ipython-input-68-39eb3f5ba9d4>:62: FutureWarning: The current default of copy=False will change to copy=True in 1.7. Set the value of copy explicitly to avoid this warning\n",
      "  subject_labels = np.full(new_epochs.get_data().shape[0], label)\n",
      "<ipython-input-68-39eb3f5ba9d4>:57: FutureWarning: The current default of copy=False will change to copy=True in 1.7. Set the value of copy explicitly to avoid this warning\n",
      "  data = epochs.get_data()[:, :, :n_samples_expected]\n",
      "<ipython-input-68-39eb3f5ba9d4>:62: FutureWarning: The current default of copy=False will change to copy=True in 1.7. Set the value of copy explicitly to avoid this warning\n",
      "  subject_labels = np.full(new_epochs.get_data().shape[0], label)\n",
      "<ipython-input-68-39eb3f5ba9d4>:57: FutureWarning: The current default of copy=False will change to copy=True in 1.7. Set the value of copy explicitly to avoid this warning\n",
      "  data = epochs.get_data()[:, :, :n_samples_expected]\n",
      "<ipython-input-68-39eb3f5ba9d4>:62: FutureWarning: The current default of copy=False will change to copy=True in 1.7. Set the value of copy explicitly to avoid this warning\n",
      "  subject_labels = np.full(new_epochs.get_data().shape[0], label)\n"
     ]
    },
    {
     "name": "stdout",
     "output_type": "stream",
     "text": [
      "Not setting metadata\n",
      "3 matching events found\n",
      "No baseline correction applied\n",
      "0 projection items activated\n",
      "No valid events for subject unknown. Creating fixed-length epochs.\n",
      "Not setting metadata\n",
      "599 matching events found\n",
      "No baseline correction applied\n",
      "0 projection items activated\n",
      "Using data from preloaded Raw for 599 events and 500 original time points ...\n"
     ]
    },
    {
     "name": "stderr",
     "output_type": "stream",
     "text": [
      "<ipython-input-68-39eb3f5ba9d4>:57: FutureWarning: The current default of copy=False will change to copy=True in 1.7. Set the value of copy explicitly to avoid this warning\n",
      "  data = epochs.get_data()[:, :, :n_samples_expected]\n",
      "<ipython-input-68-39eb3f5ba9d4>:62: FutureWarning: The current default of copy=False will change to copy=True in 1.7. Set the value of copy explicitly to avoid this warning\n",
      "  subject_labels = np.full(new_epochs.get_data().shape[0], label)\n"
     ]
    },
    {
     "name": "stdout",
     "output_type": "stream",
     "text": [
      "0 bad epochs dropped\n",
      "Not setting metadata\n",
      "599 matching events found\n",
      "No baseline correction applied\n",
      "0 projection items activated\n",
      "Not setting metadata\n",
      "4 matching events found\n",
      "No baseline correction applied\n",
      "0 projection items activated\n",
      "Not setting metadata\n",
      "4 matching events found\n",
      "No baseline correction applied\n",
      "0 projection items activated\n",
      "Not setting metadata\n",
      "8 matching events found\n",
      "No baseline correction applied\n",
      "0 projection items activated\n",
      "Not setting metadata\n",
      "2 matching events found\n",
      "No baseline correction applied\n",
      "0 projection items activated\n",
      "No valid events for subject unknown. Creating fixed-length epochs.\n",
      "Not setting metadata\n",
      "829 matching events found\n",
      "No baseline correction applied\n",
      "0 projection items activated\n",
      "Using data from preloaded Raw for 829 events and 500 original time points ...\n"
     ]
    },
    {
     "name": "stderr",
     "output_type": "stream",
     "text": [
      "<ipython-input-68-39eb3f5ba9d4>:57: FutureWarning: The current default of copy=False will change to copy=True in 1.7. Set the value of copy explicitly to avoid this warning\n",
      "  data = epochs.get_data()[:, :, :n_samples_expected]\n",
      "<ipython-input-68-39eb3f5ba9d4>:62: FutureWarning: The current default of copy=False will change to copy=True in 1.7. Set the value of copy explicitly to avoid this warning\n",
      "  subject_labels = np.full(new_epochs.get_data().shape[0], label)\n",
      "<ipython-input-68-39eb3f5ba9d4>:57: FutureWarning: The current default of copy=False will change to copy=True in 1.7. Set the value of copy explicitly to avoid this warning\n",
      "  data = epochs.get_data()[:, :, :n_samples_expected]\n",
      "<ipython-input-68-39eb3f5ba9d4>:62: FutureWarning: The current default of copy=False will change to copy=True in 1.7. Set the value of copy explicitly to avoid this warning\n",
      "  subject_labels = np.full(new_epochs.get_data().shape[0], label)\n",
      "<ipython-input-68-39eb3f5ba9d4>:57: FutureWarning: The current default of copy=False will change to copy=True in 1.7. Set the value of copy explicitly to avoid this warning\n",
      "  data = epochs.get_data()[:, :, :n_samples_expected]\n",
      "<ipython-input-68-39eb3f5ba9d4>:62: FutureWarning: The current default of copy=False will change to copy=True in 1.7. Set the value of copy explicitly to avoid this warning\n",
      "  subject_labels = np.full(new_epochs.get_data().shape[0], label)\n",
      "<ipython-input-68-39eb3f5ba9d4>:57: FutureWarning: The current default of copy=False will change to copy=True in 1.7. Set the value of copy explicitly to avoid this warning\n",
      "  data = epochs.get_data()[:, :, :n_samples_expected]\n",
      "<ipython-input-68-39eb3f5ba9d4>:62: FutureWarning: The current default of copy=False will change to copy=True in 1.7. Set the value of copy explicitly to avoid this warning\n",
      "  subject_labels = np.full(new_epochs.get_data().shape[0], label)\n",
      "<ipython-input-68-39eb3f5ba9d4>:57: FutureWarning: The current default of copy=False will change to copy=True in 1.7. Set the value of copy explicitly to avoid this warning\n",
      "  data = epochs.get_data()[:, :, :n_samples_expected]\n",
      "<ipython-input-68-39eb3f5ba9d4>:62: FutureWarning: The current default of copy=False will change to copy=True in 1.7. Set the value of copy explicitly to avoid this warning\n",
      "  subject_labels = np.full(new_epochs.get_data().shape[0], label)\n"
     ]
    },
    {
     "name": "stdout",
     "output_type": "stream",
     "text": [
      "0 bad epochs dropped\n",
      "Not setting metadata\n",
      "829 matching events found\n",
      "No baseline correction applied\n",
      "0 projection items activated\n",
      "No valid events for subject unknown. Creating fixed-length epochs.\n",
      "Not setting metadata\n",
      "881 matching events found\n",
      "No baseline correction applied\n",
      "0 projection items activated\n",
      "Using data from preloaded Raw for 881 events and 500 original time points ...\n"
     ]
    },
    {
     "name": "stderr",
     "output_type": "stream",
     "text": [
      "<ipython-input-68-39eb3f5ba9d4>:57: FutureWarning: The current default of copy=False will change to copy=True in 1.7. Set the value of copy explicitly to avoid this warning\n",
      "  data = epochs.get_data()[:, :, :n_samples_expected]\n",
      "<ipython-input-68-39eb3f5ba9d4>:62: FutureWarning: The current default of copy=False will change to copy=True in 1.7. Set the value of copy explicitly to avoid this warning\n",
      "  subject_labels = np.full(new_epochs.get_data().shape[0], label)\n"
     ]
    },
    {
     "name": "stdout",
     "output_type": "stream",
     "text": [
      "0 bad epochs dropped\n",
      "Not setting metadata\n",
      "881 matching events found\n",
      "No baseline correction applied\n",
      "0 projection items activated\n",
      "Not setting metadata\n",
      "8 matching events found\n",
      "No baseline correction applied\n",
      "0 projection items activated\n",
      "Not setting metadata\n",
      "2 matching events found\n",
      "No baseline correction applied\n",
      "0 projection items activated\n",
      "Not setting metadata\n",
      "5 matching events found\n",
      "No baseline correction applied\n",
      "0 projection items activated\n",
      "Not setting metadata\n",
      "19 matching events found\n",
      "No baseline correction applied\n",
      "0 projection items activated\n"
     ]
    },
    {
     "name": "stderr",
     "output_type": "stream",
     "text": [
      "<ipython-input-68-39eb3f5ba9d4>:57: FutureWarning: The current default of copy=False will change to copy=True in 1.7. Set the value of copy explicitly to avoid this warning\n",
      "  data = epochs.get_data()[:, :, :n_samples_expected]\n",
      "<ipython-input-68-39eb3f5ba9d4>:62: FutureWarning: The current default of copy=False will change to copy=True in 1.7. Set the value of copy explicitly to avoid this warning\n",
      "  subject_labels = np.full(new_epochs.get_data().shape[0], label)\n",
      "<ipython-input-68-39eb3f5ba9d4>:57: FutureWarning: The current default of copy=False will change to copy=True in 1.7. Set the value of copy explicitly to avoid this warning\n",
      "  data = epochs.get_data()[:, :, :n_samples_expected]\n",
      "<ipython-input-68-39eb3f5ba9d4>:62: FutureWarning: The current default of copy=False will change to copy=True in 1.7. Set the value of copy explicitly to avoid this warning\n",
      "  subject_labels = np.full(new_epochs.get_data().shape[0], label)\n",
      "<ipython-input-68-39eb3f5ba9d4>:57: FutureWarning: The current default of copy=False will change to copy=True in 1.7. Set the value of copy explicitly to avoid this warning\n",
      "  data = epochs.get_data()[:, :, :n_samples_expected]\n",
      "<ipython-input-68-39eb3f5ba9d4>:62: FutureWarning: The current default of copy=False will change to copy=True in 1.7. Set the value of copy explicitly to avoid this warning\n",
      "  subject_labels = np.full(new_epochs.get_data().shape[0], label)\n",
      "<ipython-input-68-39eb3f5ba9d4>:57: FutureWarning: The current default of copy=False will change to copy=True in 1.7. Set the value of copy explicitly to avoid this warning\n",
      "  data = epochs.get_data()[:, :, :n_samples_expected]\n",
      "<ipython-input-68-39eb3f5ba9d4>:62: FutureWarning: The current default of copy=False will change to copy=True in 1.7. Set the value of copy explicitly to avoid this warning\n",
      "  subject_labels = np.full(new_epochs.get_data().shape[0], label)\n",
      "<ipython-input-68-39eb3f5ba9d4>:57: FutureWarning: The current default of copy=False will change to copy=True in 1.7. Set the value of copy explicitly to avoid this warning\n",
      "  data = epochs.get_data()[:, :, :n_samples_expected]\n",
      "<ipython-input-68-39eb3f5ba9d4>:62: FutureWarning: The current default of copy=False will change to copy=True in 1.7. Set the value of copy explicitly to avoid this warning\n",
      "  subject_labels = np.full(new_epochs.get_data().shape[0], label)\n"
     ]
    },
    {
     "name": "stdout",
     "output_type": "stream",
     "text": [
      "Not setting metadata\n",
      "56 matching events found\n",
      "No baseline correction applied\n",
      "0 projection items activated\n",
      "No valid events for subject unknown. Creating fixed-length epochs.\n",
      "Not setting metadata\n",
      "796 matching events found\n",
      "No baseline correction applied\n",
      "0 projection items activated\n",
      "Using data from preloaded Raw for 796 events and 500 original time points ...\n"
     ]
    },
    {
     "name": "stderr",
     "output_type": "stream",
     "text": [
      "<ipython-input-68-39eb3f5ba9d4>:57: FutureWarning: The current default of copy=False will change to copy=True in 1.7. Set the value of copy explicitly to avoid this warning\n",
      "  data = epochs.get_data()[:, :, :n_samples_expected]\n",
      "<ipython-input-68-39eb3f5ba9d4>:62: FutureWarning: The current default of copy=False will change to copy=True in 1.7. Set the value of copy explicitly to avoid this warning\n",
      "  subject_labels = np.full(new_epochs.get_data().shape[0], label)\n"
     ]
    },
    {
     "name": "stdout",
     "output_type": "stream",
     "text": [
      "0 bad epochs dropped\n",
      "Not setting metadata\n",
      "796 matching events found\n",
      "No baseline correction applied\n",
      "0 projection items activated\n",
      "Not setting metadata\n",
      "6 matching events found\n",
      "No baseline correction applied\n",
      "0 projection items activated\n",
      "Not setting metadata\n",
      "2 matching events found\n",
      "No baseline correction applied\n",
      "0 projection items activated\n",
      "Not setting metadata\n",
      "3 matching events found\n",
      "No baseline correction applied\n",
      "0 projection items activated\n",
      "Not setting metadata\n",
      "33 matching events found\n",
      "No baseline correction applied\n",
      "0 projection items activated\n"
     ]
    },
    {
     "name": "stderr",
     "output_type": "stream",
     "text": [
      "<ipython-input-68-39eb3f5ba9d4>:57: FutureWarning: The current default of copy=False will change to copy=True in 1.7. Set the value of copy explicitly to avoid this warning\n",
      "  data = epochs.get_data()[:, :, :n_samples_expected]\n",
      "<ipython-input-68-39eb3f5ba9d4>:62: FutureWarning: The current default of copy=False will change to copy=True in 1.7. Set the value of copy explicitly to avoid this warning\n",
      "  subject_labels = np.full(new_epochs.get_data().shape[0], label)\n",
      "<ipython-input-68-39eb3f5ba9d4>:57: FutureWarning: The current default of copy=False will change to copy=True in 1.7. Set the value of copy explicitly to avoid this warning\n",
      "  data = epochs.get_data()[:, :, :n_samples_expected]\n",
      "<ipython-input-68-39eb3f5ba9d4>:62: FutureWarning: The current default of copy=False will change to copy=True in 1.7. Set the value of copy explicitly to avoid this warning\n",
      "  subject_labels = np.full(new_epochs.get_data().shape[0], label)\n",
      "<ipython-input-68-39eb3f5ba9d4>:57: FutureWarning: The current default of copy=False will change to copy=True in 1.7. Set the value of copy explicitly to avoid this warning\n",
      "  data = epochs.get_data()[:, :, :n_samples_expected]\n",
      "<ipython-input-68-39eb3f5ba9d4>:62: FutureWarning: The current default of copy=False will change to copy=True in 1.7. Set the value of copy explicitly to avoid this warning\n",
      "  subject_labels = np.full(new_epochs.get_data().shape[0], label)\n",
      "<ipython-input-68-39eb3f5ba9d4>:57: FutureWarning: The current default of copy=False will change to copy=True in 1.7. Set the value of copy explicitly to avoid this warning\n",
      "  data = epochs.get_data()[:, :, :n_samples_expected]\n",
      "<ipython-input-68-39eb3f5ba9d4>:62: FutureWarning: The current default of copy=False will change to copy=True in 1.7. Set the value of copy explicitly to avoid this warning\n",
      "  subject_labels = np.full(new_epochs.get_data().shape[0], label)\n",
      "<ipython-input-68-39eb3f5ba9d4>:57: FutureWarning: The current default of copy=False will change to copy=True in 1.7. Set the value of copy explicitly to avoid this warning\n",
      "  data = epochs.get_data()[:, :, :n_samples_expected]\n",
      "<ipython-input-68-39eb3f5ba9d4>:62: FutureWarning: The current default of copy=False will change to copy=True in 1.7. Set the value of copy explicitly to avoid this warning\n",
      "  subject_labels = np.full(new_epochs.get_data().shape[0], label)\n"
     ]
    },
    {
     "name": "stdout",
     "output_type": "stream",
     "text": [
      "Not setting metadata\n",
      "4 matching events found\n",
      "No baseline correction applied\n",
      "0 projection items activated\n",
      "Not setting metadata\n",
      "14 matching events found\n",
      "No baseline correction applied\n",
      "0 projection items activated\n",
      "Not setting metadata\n",
      "4 matching events found\n",
      "No baseline correction applied\n",
      "0 projection items activated\n",
      "Not setting metadata\n",
      "6 matching events found\n",
      "No baseline correction applied\n",
      "0 projection items activated\n",
      "No valid events for subject unknown. Creating fixed-length epochs.\n",
      "Not setting metadata\n",
      "777 matching events found\n",
      "No baseline correction applied\n",
      "0 projection items activated\n",
      "Using data from preloaded Raw for 777 events and 500 original time points ...\n"
     ]
    },
    {
     "name": "stderr",
     "output_type": "stream",
     "text": [
      "<ipython-input-68-39eb3f5ba9d4>:57: FutureWarning: The current default of copy=False will change to copy=True in 1.7. Set the value of copy explicitly to avoid this warning\n",
      "  data = epochs.get_data()[:, :, :n_samples_expected]\n",
      "<ipython-input-68-39eb3f5ba9d4>:62: FutureWarning: The current default of copy=False will change to copy=True in 1.7. Set the value of copy explicitly to avoid this warning\n",
      "  subject_labels = np.full(new_epochs.get_data().shape[0], label)\n",
      "<ipython-input-68-39eb3f5ba9d4>:57: FutureWarning: The current default of copy=False will change to copy=True in 1.7. Set the value of copy explicitly to avoid this warning\n",
      "  data = epochs.get_data()[:, :, :n_samples_expected]\n",
      "<ipython-input-68-39eb3f5ba9d4>:62: FutureWarning: The current default of copy=False will change to copy=True in 1.7. Set the value of copy explicitly to avoid this warning\n",
      "  subject_labels = np.full(new_epochs.get_data().shape[0], label)\n",
      "<ipython-input-68-39eb3f5ba9d4>:57: FutureWarning: The current default of copy=False will change to copy=True in 1.7. Set the value of copy explicitly to avoid this warning\n",
      "  data = epochs.get_data()[:, :, :n_samples_expected]\n",
      "<ipython-input-68-39eb3f5ba9d4>:62: FutureWarning: The current default of copy=False will change to copy=True in 1.7. Set the value of copy explicitly to avoid this warning\n",
      "  subject_labels = np.full(new_epochs.get_data().shape[0], label)\n",
      "<ipython-input-68-39eb3f5ba9d4>:57: FutureWarning: The current default of copy=False will change to copy=True in 1.7. Set the value of copy explicitly to avoid this warning\n",
      "  data = epochs.get_data()[:, :, :n_samples_expected]\n",
      "<ipython-input-68-39eb3f5ba9d4>:62: FutureWarning: The current default of copy=False will change to copy=True in 1.7. Set the value of copy explicitly to avoid this warning\n",
      "  subject_labels = np.full(new_epochs.get_data().shape[0], label)\n"
     ]
    },
    {
     "name": "stdout",
     "output_type": "stream",
     "text": [
      "0 bad epochs dropped\n",
      "Not setting metadata\n",
      "777 matching events found\n",
      "No baseline correction applied\n",
      "0 projection items activated\n",
      "Not setting metadata\n",
      "1 matching events found\n",
      "No baseline correction applied\n",
      "0 projection items activated\n",
      "Not setting metadata\n",
      "3 matching events found\n",
      "No baseline correction applied\n",
      "0 projection items activated\n",
      "Not setting metadata\n",
      "1 matching events found\n",
      "No baseline correction applied\n",
      "0 projection items activated\n",
      "Not setting metadata\n",
      "13 matching events found\n",
      "No baseline correction applied\n",
      "0 projection items activated\n"
     ]
    },
    {
     "name": "stderr",
     "output_type": "stream",
     "text": [
      "<ipython-input-68-39eb3f5ba9d4>:57: FutureWarning: The current default of copy=False will change to copy=True in 1.7. Set the value of copy explicitly to avoid this warning\n",
      "  data = epochs.get_data()[:, :, :n_samples_expected]\n",
      "<ipython-input-68-39eb3f5ba9d4>:62: FutureWarning: The current default of copy=False will change to copy=True in 1.7. Set the value of copy explicitly to avoid this warning\n",
      "  subject_labels = np.full(new_epochs.get_data().shape[0], label)\n",
      "<ipython-input-68-39eb3f5ba9d4>:57: FutureWarning: The current default of copy=False will change to copy=True in 1.7. Set the value of copy explicitly to avoid this warning\n",
      "  data = epochs.get_data()[:, :, :n_samples_expected]\n",
      "<ipython-input-68-39eb3f5ba9d4>:62: FutureWarning: The current default of copy=False will change to copy=True in 1.7. Set the value of copy explicitly to avoid this warning\n",
      "  subject_labels = np.full(new_epochs.get_data().shape[0], label)\n",
      "<ipython-input-68-39eb3f5ba9d4>:57: FutureWarning: The current default of copy=False will change to copy=True in 1.7. Set the value of copy explicitly to avoid this warning\n",
      "  data = epochs.get_data()[:, :, :n_samples_expected]\n",
      "<ipython-input-68-39eb3f5ba9d4>:62: FutureWarning: The current default of copy=False will change to copy=True in 1.7. Set the value of copy explicitly to avoid this warning\n",
      "  subject_labels = np.full(new_epochs.get_data().shape[0], label)\n",
      "<ipython-input-68-39eb3f5ba9d4>:57: FutureWarning: The current default of copy=False will change to copy=True in 1.7. Set the value of copy explicitly to avoid this warning\n",
      "  data = epochs.get_data()[:, :, :n_samples_expected]\n",
      "<ipython-input-68-39eb3f5ba9d4>:62: FutureWarning: The current default of copy=False will change to copy=True in 1.7. Set the value of copy explicitly to avoid this warning\n",
      "  subject_labels = np.full(new_epochs.get_data().shape[0], label)\n",
      "<ipython-input-68-39eb3f5ba9d4>:57: FutureWarning: The current default of copy=False will change to copy=True in 1.7. Set the value of copy explicitly to avoid this warning\n",
      "  data = epochs.get_data()[:, :, :n_samples_expected]\n",
      "<ipython-input-68-39eb3f5ba9d4>:62: FutureWarning: The current default of copy=False will change to copy=True in 1.7. Set the value of copy explicitly to avoid this warning\n",
      "  subject_labels = np.full(new_epochs.get_data().shape[0], label)\n"
     ]
    },
    {
     "name": "stdout",
     "output_type": "stream",
     "text": [
      "Not setting metadata\n",
      "4 matching events found\n",
      "No baseline correction applied\n",
      "0 projection items activated\n",
      "Not setting metadata\n",
      "10 matching events found\n",
      "No baseline correction applied\n",
      "0 projection items activated\n",
      "No valid events for subject unknown. Creating fixed-length epochs.\n",
      "Not setting metadata\n",
      "884 matching events found\n",
      "No baseline correction applied\n",
      "0 projection items activated\n",
      "Using data from preloaded Raw for 884 events and 500 original time points ...\n"
     ]
    },
    {
     "name": "stderr",
     "output_type": "stream",
     "text": [
      "<ipython-input-68-39eb3f5ba9d4>:57: FutureWarning: The current default of copy=False will change to copy=True in 1.7. Set the value of copy explicitly to avoid this warning\n",
      "  data = epochs.get_data()[:, :, :n_samples_expected]\n",
      "<ipython-input-68-39eb3f5ba9d4>:62: FutureWarning: The current default of copy=False will change to copy=True in 1.7. Set the value of copy explicitly to avoid this warning\n",
      "  subject_labels = np.full(new_epochs.get_data().shape[0], label)\n",
      "<ipython-input-68-39eb3f5ba9d4>:57: FutureWarning: The current default of copy=False will change to copy=True in 1.7. Set the value of copy explicitly to avoid this warning\n",
      "  data = epochs.get_data()[:, :, :n_samples_expected]\n",
      "<ipython-input-68-39eb3f5ba9d4>:62: FutureWarning: The current default of copy=False will change to copy=True in 1.7. Set the value of copy explicitly to avoid this warning\n",
      "  subject_labels = np.full(new_epochs.get_data().shape[0], label)\n"
     ]
    },
    {
     "name": "stdout",
     "output_type": "stream",
     "text": [
      "0 bad epochs dropped\n",
      "Not setting metadata\n",
      "884 matching events found\n",
      "No baseline correction applied\n",
      "0 projection items activated\n",
      "Not setting metadata\n",
      "53 matching events found\n",
      "No baseline correction applied\n",
      "0 projection items activated\n",
      "Not setting metadata\n",
      "3 matching events found\n",
      "No baseline correction applied\n",
      "0 projection items activated\n",
      "Not setting metadata\n",
      "2 matching events found\n",
      "No baseline correction applied\n",
      "0 projection items activated\n",
      "Not setting metadata\n",
      "4 matching events found\n",
      "No baseline correction applied\n"
     ]
    },
    {
     "name": "stderr",
     "output_type": "stream",
     "text": [
      "<ipython-input-68-39eb3f5ba9d4>:57: FutureWarning: The current default of copy=False will change to copy=True in 1.7. Set the value of copy explicitly to avoid this warning\n",
      "  data = epochs.get_data()[:, :, :n_samples_expected]\n",
      "<ipython-input-68-39eb3f5ba9d4>:62: FutureWarning: The current default of copy=False will change to copy=True in 1.7. Set the value of copy explicitly to avoid this warning\n",
      "  subject_labels = np.full(new_epochs.get_data().shape[0], label)\n",
      "<ipython-input-68-39eb3f5ba9d4>:57: FutureWarning: The current default of copy=False will change to copy=True in 1.7. Set the value of copy explicitly to avoid this warning\n",
      "  data = epochs.get_data()[:, :, :n_samples_expected]\n",
      "<ipython-input-68-39eb3f5ba9d4>:62: FutureWarning: The current default of copy=False will change to copy=True in 1.7. Set the value of copy explicitly to avoid this warning\n",
      "  subject_labels = np.full(new_epochs.get_data().shape[0], label)\n",
      "<ipython-input-68-39eb3f5ba9d4>:57: FutureWarning: The current default of copy=False will change to copy=True in 1.7. Set the value of copy explicitly to avoid this warning\n",
      "  data = epochs.get_data()[:, :, :n_samples_expected]\n",
      "<ipython-input-68-39eb3f5ba9d4>:62: FutureWarning: The current default of copy=False will change to copy=True in 1.7. Set the value of copy explicitly to avoid this warning\n",
      "  subject_labels = np.full(new_epochs.get_data().shape[0], label)\n",
      "<ipython-input-68-39eb3f5ba9d4>:57: FutureWarning: The current default of copy=False will change to copy=True in 1.7. Set the value of copy explicitly to avoid this warning\n",
      "  data = epochs.get_data()[:, :, :n_samples_expected]\n",
      "<ipython-input-68-39eb3f5ba9d4>:62: FutureWarning: The current default of copy=False will change to copy=True in 1.7. Set the value of copy explicitly to avoid this warning\n",
      "  subject_labels = np.full(new_epochs.get_data().shape[0], label)\n",
      "<ipython-input-68-39eb3f5ba9d4>:57: FutureWarning: The current default of copy=False will change to copy=True in 1.7. Set the value of copy explicitly to avoid this warning\n",
      "  data = epochs.get_data()[:, :, :n_samples_expected]\n"
     ]
    },
    {
     "name": "stdout",
     "output_type": "stream",
     "text": [
      "0 projection items activated\n",
      "Not setting metadata\n",
      "11 matching events found\n",
      "No baseline correction applied\n",
      "0 projection items activated\n",
      "Not setting metadata\n",
      "9 matching events found\n",
      "No baseline correction applied\n",
      "0 projection items activated\n",
      "Not setting metadata\n",
      "3 matching events found\n",
      "No baseline correction applied\n",
      "0 projection items activated\n",
      "No valid events for subject unknown. Creating fixed-length epochs.\n",
      "Not setting metadata\n",
      "643 matching events found\n",
      "No baseline correction applied\n",
      "0 projection items activated\n",
      "Using data from preloaded Raw for 643 events and 500 original time points ...\n"
     ]
    },
    {
     "name": "stderr",
     "output_type": "stream",
     "text": [
      "<ipython-input-68-39eb3f5ba9d4>:62: FutureWarning: The current default of copy=False will change to copy=True in 1.7. Set the value of copy explicitly to avoid this warning\n",
      "  subject_labels = np.full(new_epochs.get_data().shape[0], label)\n",
      "<ipython-input-68-39eb3f5ba9d4>:57: FutureWarning: The current default of copy=False will change to copy=True in 1.7. Set the value of copy explicitly to avoid this warning\n",
      "  data = epochs.get_data()[:, :, :n_samples_expected]\n",
      "<ipython-input-68-39eb3f5ba9d4>:62: FutureWarning: The current default of copy=False will change to copy=True in 1.7. Set the value of copy explicitly to avoid this warning\n",
      "  subject_labels = np.full(new_epochs.get_data().shape[0], label)\n",
      "<ipython-input-68-39eb3f5ba9d4>:57: FutureWarning: The current default of copy=False will change to copy=True in 1.7. Set the value of copy explicitly to avoid this warning\n",
      "  data = epochs.get_data()[:, :, :n_samples_expected]\n",
      "<ipython-input-68-39eb3f5ba9d4>:62: FutureWarning: The current default of copy=False will change to copy=True in 1.7. Set the value of copy explicitly to avoid this warning\n",
      "  subject_labels = np.full(new_epochs.get_data().shape[0], label)\n",
      "<ipython-input-68-39eb3f5ba9d4>:57: FutureWarning: The current default of copy=False will change to copy=True in 1.7. Set the value of copy explicitly to avoid this warning\n",
      "  data = epochs.get_data()[:, :, :n_samples_expected]\n",
      "<ipython-input-68-39eb3f5ba9d4>:62: FutureWarning: The current default of copy=False will change to copy=True in 1.7. Set the value of copy explicitly to avoid this warning\n",
      "  subject_labels = np.full(new_epochs.get_data().shape[0], label)\n"
     ]
    },
    {
     "name": "stdout",
     "output_type": "stream",
     "text": [
      "0 bad epochs dropped\n",
      "Not setting metadata\n",
      "643 matching events found\n",
      "No baseline correction applied\n",
      "0 projection items activated\n",
      "Not setting metadata\n",
      "1 matching events found\n",
      "No baseline correction applied\n",
      "0 projection items activated\n",
      "Not setting metadata\n",
      "1 matching events found\n",
      "No baseline correction applied\n",
      "0 projection items activated\n",
      "Not setting metadata\n",
      "1 matching events found\n",
      "No baseline correction applied\n",
      "0 projection items activated\n",
      "Not setting metadata\n",
      "3 matching events found\n",
      "No baseline correction applied\n",
      "0 projection items activated\n",
      "No valid events for subject unknown. Creating fixed-length epochs.\n",
      "Not setting metadata\n",
      "777 matching events found\n",
      "No baseline correction applied\n",
      "0 projection items activated\n",
      "Using data from preloaded Raw for 777 events and 500 original time points ...\n"
     ]
    },
    {
     "name": "stderr",
     "output_type": "stream",
     "text": [
      "<ipython-input-68-39eb3f5ba9d4>:57: FutureWarning: The current default of copy=False will change to copy=True in 1.7. Set the value of copy explicitly to avoid this warning\n",
      "  data = epochs.get_data()[:, :, :n_samples_expected]\n",
      "<ipython-input-68-39eb3f5ba9d4>:62: FutureWarning: The current default of copy=False will change to copy=True in 1.7. Set the value of copy explicitly to avoid this warning\n",
      "  subject_labels = np.full(new_epochs.get_data().shape[0], label)\n",
      "<ipython-input-68-39eb3f5ba9d4>:57: FutureWarning: The current default of copy=False will change to copy=True in 1.7. Set the value of copy explicitly to avoid this warning\n",
      "  data = epochs.get_data()[:, :, :n_samples_expected]\n",
      "<ipython-input-68-39eb3f5ba9d4>:62: FutureWarning: The current default of copy=False will change to copy=True in 1.7. Set the value of copy explicitly to avoid this warning\n",
      "  subject_labels = np.full(new_epochs.get_data().shape[0], label)\n",
      "<ipython-input-68-39eb3f5ba9d4>:57: FutureWarning: The current default of copy=False will change to copy=True in 1.7. Set the value of copy explicitly to avoid this warning\n",
      "  data = epochs.get_data()[:, :, :n_samples_expected]\n",
      "<ipython-input-68-39eb3f5ba9d4>:62: FutureWarning: The current default of copy=False will change to copy=True in 1.7. Set the value of copy explicitly to avoid this warning\n",
      "  subject_labels = np.full(new_epochs.get_data().shape[0], label)\n",
      "<ipython-input-68-39eb3f5ba9d4>:57: FutureWarning: The current default of copy=False will change to copy=True in 1.7. Set the value of copy explicitly to avoid this warning\n",
      "  data = epochs.get_data()[:, :, :n_samples_expected]\n",
      "<ipython-input-68-39eb3f5ba9d4>:62: FutureWarning: The current default of copy=False will change to copy=True in 1.7. Set the value of copy explicitly to avoid this warning\n",
      "  subject_labels = np.full(new_epochs.get_data().shape[0], label)\n",
      "<ipython-input-68-39eb3f5ba9d4>:57: FutureWarning: The current default of copy=False will change to copy=True in 1.7. Set the value of copy explicitly to avoid this warning\n",
      "  data = epochs.get_data()[:, :, :n_samples_expected]\n",
      "<ipython-input-68-39eb3f5ba9d4>:62: FutureWarning: The current default of copy=False will change to copy=True in 1.7. Set the value of copy explicitly to avoid this warning\n",
      "  subject_labels = np.full(new_epochs.get_data().shape[0], label)\n"
     ]
    },
    {
     "name": "stdout",
     "output_type": "stream",
     "text": [
      "0 bad epochs dropped\n",
      "Not setting metadata\n",
      "777 matching events found\n",
      "No baseline correction applied\n",
      "0 projection items activated\n",
      "Not setting metadata\n",
      "4 matching events found\n",
      "No baseline correction applied\n",
      "0 projection items activated\n",
      "Not setting metadata\n",
      "3 matching events found\n",
      "No baseline correction applied\n",
      "0 projection items activated\n",
      "No valid events for subject unknown. Creating fixed-length epochs.\n",
      "Not setting metadata\n",
      "652 matching events found\n",
      "No baseline correction applied\n",
      "0 projection items activated\n",
      "Using data from preloaded Raw for 652 events and 500 original time points ...\n"
     ]
    },
    {
     "name": "stderr",
     "output_type": "stream",
     "text": [
      "<ipython-input-68-39eb3f5ba9d4>:57: FutureWarning: The current default of copy=False will change to copy=True in 1.7. Set the value of copy explicitly to avoid this warning\n",
      "  data = epochs.get_data()[:, :, :n_samples_expected]\n",
      "<ipython-input-68-39eb3f5ba9d4>:62: FutureWarning: The current default of copy=False will change to copy=True in 1.7. Set the value of copy explicitly to avoid this warning\n",
      "  subject_labels = np.full(new_epochs.get_data().shape[0], label)\n",
      "<ipython-input-68-39eb3f5ba9d4>:57: FutureWarning: The current default of copy=False will change to copy=True in 1.7. Set the value of copy explicitly to avoid this warning\n",
      "  data = epochs.get_data()[:, :, :n_samples_expected]\n",
      "<ipython-input-68-39eb3f5ba9d4>:62: FutureWarning: The current default of copy=False will change to copy=True in 1.7. Set the value of copy explicitly to avoid this warning\n",
      "  subject_labels = np.full(new_epochs.get_data().shape[0], label)\n",
      "<ipython-input-68-39eb3f5ba9d4>:57: FutureWarning: The current default of copy=False will change to copy=True in 1.7. Set the value of copy explicitly to avoid this warning\n",
      "  data = epochs.get_data()[:, :, :n_samples_expected]\n",
      "<ipython-input-68-39eb3f5ba9d4>:62: FutureWarning: The current default of copy=False will change to copy=True in 1.7. Set the value of copy explicitly to avoid this warning\n",
      "  subject_labels = np.full(new_epochs.get_data().shape[0], label)\n"
     ]
    },
    {
     "name": "stdout",
     "output_type": "stream",
     "text": [
      "0 bad epochs dropped\n",
      "Not setting metadata\n",
      "652 matching events found\n",
      "No baseline correction applied\n",
      "0 projection items activated\n",
      "No valid events for subject unknown. Creating fixed-length epochs.\n",
      "Not setting metadata\n",
      "913 matching events found\n",
      "No baseline correction applied\n",
      "0 projection items activated\n",
      "Using data from preloaded Raw for 913 events and 500 original time points ...\n"
     ]
    },
    {
     "name": "stderr",
     "output_type": "stream",
     "text": [
      "<ipython-input-68-39eb3f5ba9d4>:57: FutureWarning: The current default of copy=False will change to copy=True in 1.7. Set the value of copy explicitly to avoid this warning\n",
      "  data = epochs.get_data()[:, :, :n_samples_expected]\n",
      "<ipython-input-68-39eb3f5ba9d4>:62: FutureWarning: The current default of copy=False will change to copy=True in 1.7. Set the value of copy explicitly to avoid this warning\n",
      "  subject_labels = np.full(new_epochs.get_data().shape[0], label)\n"
     ]
    },
    {
     "name": "stdout",
     "output_type": "stream",
     "text": [
      "0 bad epochs dropped\n",
      "Not setting metadata\n",
      "913 matching events found\n",
      "No baseline correction applied\n",
      "0 projection items activated\n",
      "Not setting metadata\n",
      "5 matching events found\n",
      "No baseline correction applied\n",
      "0 projection items activated\n"
     ]
    },
    {
     "name": "stderr",
     "output_type": "stream",
     "text": [
      "<ipython-input-68-39eb3f5ba9d4>:57: FutureWarning: The current default of copy=False will change to copy=True in 1.7. Set the value of copy explicitly to avoid this warning\n",
      "  data = epochs.get_data()[:, :, :n_samples_expected]\n",
      "<ipython-input-68-39eb3f5ba9d4>:62: FutureWarning: The current default of copy=False will change to copy=True in 1.7. Set the value of copy explicitly to avoid this warning\n",
      "  subject_labels = np.full(new_epochs.get_data().shape[0], label)\n",
      "<ipython-input-68-39eb3f5ba9d4>:57: FutureWarning: The current default of copy=False will change to copy=True in 1.7. Set the value of copy explicitly to avoid this warning\n",
      "  data = epochs.get_data()[:, :, :n_samples_expected]\n",
      "<ipython-input-68-39eb3f5ba9d4>:62: FutureWarning: The current default of copy=False will change to copy=True in 1.7. Set the value of copy explicitly to avoid this warning\n",
      "  subject_labels = np.full(new_epochs.get_data().shape[0], label)\n"
     ]
    },
    {
     "name": "stdout",
     "output_type": "stream",
     "text": [
      "Not setting metadata\n",
      "9062 matching events found\n",
      "No baseline correction applied\n",
      "X_train shape: (9062, 19, 500)\n",
      "y_train shape: (9062,)\n",
      "Unique labels in y_train: [0 1 2]\n"
     ]
    },
    {
     "name": "stderr",
     "output_type": "stream",
     "text": [
      "<ipython-input-68-39eb3f5ba9d4>:67: FutureWarning: The current default of copy=False will change to copy=True in 1.7. Set the value of copy explicitly to avoid this warning\n",
      "  X_train = epochs_all.get_data()       # shape: (n_total_trials, n_channels, n_samples)\n"
     ]
    }
   ],
   "source": [
    "# 1. Load the participants file.\n",
    "participants = pd.read_csv(\"dataset/participants.tsv\", sep=\"\\t\")\n",
    "print(participants.head())\n",
    "\n",
    "# 2. Create a mapping from participant_id to Group.\n",
    "group_dict = dict(zip(participants['participant_id'], participants['Group']))\n",
    "print(\"Group mapping:\", group_dict)\n",
    "\n",
    "# 3. Create a mapping from group labels to numeric labels.\n",
    "#    For example, if your groups are \"A\", \"B\", \"C\", this code will assign them 0, 1, 2.\n",
    "unique_groups = participants['Group'].unique()\n",
    "print(\"Unique groups:\", unique_groups)\n",
    "label_map = {group: i for i, group in enumerate(unique_groups)}\n",
    "print(\"Label map:\", label_map)\n",
    "\n",
    "# 4. Assume that train_raws is your list of Raw objects.\n",
    "#    You need a list of subject IDs corresponding to train_raws.\n",
    "#    For example, if you haven't stored the subject IDs in raw.info, you can manually create one:\n",
    "train_subject_ids = [f\"sub-{i:03d}\" for i in range(1, len(train_raws)+1)]\n",
    "# Alternatively, if raw.info already contains subject info, extract it:\n",
    "# train_subject_ids = [raw.info.get('subject_id', f\"sub-{i:03d}\") for i, raw in enumerate(train_raws)]\n",
    "\n",
    "# 5. Define a function to extract epochs from a Raw object.\n",
    "def extract_epochs_from_raw(raw, duration=1.0, tmin=0.0):\n",
    "    \"\"\"\n",
    "    Extract epochs from a Raw object. If no valid events (other than 'boundary') are found,\n",
    "    create fixed-length epochs.\n",
    "    \"\"\"\n",
    "    events, event_id = mne.events_from_annotations(raw, verbose=False)\n",
    "    if events.size == 0:\n",
    "        print(f\"No valid events for subject {raw.info.get('subject_id', 'unknown')}. Creating fixed-length epochs.\")\n",
    "        epochs = mne.make_fixed_length_epochs(raw, duration=duration, overlap=0, preload=True)\n",
    "    else:\n",
    "        tmax = tmin + duration\n",
    "        epochs = mne.Epochs(raw, events, event_id, tmin=tmin, tmax=tmax,\n",
    "                            baseline=None, preload=True, verbose=False)\n",
    "    return epochs\n",
    "\n",
    "# 6. Loop over each training subject, extract epochs, and assign the clinical label.\n",
    "all_epochs_list = []\n",
    "all_labels_list = []\n",
    "\n",
    "for i, raw in enumerate(train_raws):\n",
    "    subject_id = train_subject_ids[i]\n",
    "    if subject_id not in group_dict:\n",
    "        raise ValueError(f\"Group for subject {subject_id} not found in participants.tsv\")\n",
    "    \n",
    "    group = group_dict[subject_id]\n",
    "    label = label_map[group]\n",
    "    \n",
    "    # Extract epochs (using fixed-length if necessary)\n",
    "    epochs = extract_epochs_from_raw(raw, duration=1.0)\n",
    "    \n",
    "    # Ensure consistent epoch length by cropping each epoch to exactly duration seconds.\n",
    "    sfreq = raw.info['sfreq']\n",
    "    n_samples_expected = int(sfreq * 1.0)\n",
    "    data = epochs.get_data()[:, :, :n_samples_expected]\n",
    "    new_epochs = mne.EpochsArray(data, epochs.info, events=epochs.events, event_id=epochs.event_id)\n",
    "    \n",
    "    all_epochs_list.append(new_epochs)\n",
    "    # Create an array of labels for all epochs from this subject.\n",
    "    subject_labels = np.full(new_epochs.get_data().shape[0], label)\n",
    "    all_labels_list.append(subject_labels)\n",
    "\n",
    "# 7. Concatenate epochs and labels from all subjects.\n",
    "epochs_all = mne.concatenate_epochs(all_epochs_list)\n",
    "X_train = epochs_all.get_data()       # shape: (n_total_trials, n_channels, n_samples)\n",
    "y_train = np.concatenate(all_labels_list)\n",
    "print(\"X_train shape:\", X_train.shape)\n",
    "print(\"y_train shape:\", y_train.shape)\n",
    "print(\"Unique labels in y_train:\", np.unique(y_train))"
   ]
  },
  {
   "cell_type": "code",
   "execution_count": 70,
   "metadata": {},
   "outputs": [],
   "source": [
    "def extract_csp_features(X, y, n_components=4):\n",
    "    \"\"\"\n",
    "    Extract features using Common Spatial Patterns\n",
    "    \n",
    "    Parameters:\n",
    "    X : array of EEG data with shape (n_subjects, n_channels, n_samples)\n",
    "    y : array of labels\n",
    "    n_components : number of CSP components to extract\n",
    "    \n",
    "    Returns:\n",
    "    csp_features : array of CSP features\n",
    "    csp : fitted CSP object\n",
    "    \"\"\"\n",
    "    # Initialize CSP\n",
    "    csp = CSP(n_components=n_components, reg=None, log=True, norm_trace=False)\n",
    "    \n",
    "    # Fit and transform\n",
    "    csp_features = csp.fit_transform(X, y)\n",
    "    \n",
    "    # Create feature names\n",
    "    feature_names = [f\"CSP_{i}\" for i in range(n_components)]\n",
    "    \n",
    "    return csp_features, feature_names, csp"
   ]
  },
  {
   "cell_type": "code",
   "execution_count": 71,
   "metadata": {},
   "outputs": [
    {
     "name": "stdout",
     "output_type": "stream",
     "text": [
      "Unique labels in y_train: [0 1 2]\n"
     ]
    }
   ],
   "source": [
    "unique_labels = np.unique(y_train)\n",
    "print(\"Unique labels in y_train:\", unique_labels)"
   ]
  },
  {
   "cell_type": "markdown",
   "metadata": {},
   "source": [
    "## 6. Combine Features and Evaluate"
   ]
  },
  {
   "cell_type": "code",
   "execution_count": 92,
   "metadata": {},
   "outputs": [
    {
     "name": "stderr",
     "output_type": "stream",
     "text": [
      "/Users/shreya_sudan/opt/anaconda3/lib/python3.8/site-packages/scipy/signal/_spectral_py.py:2014: UserWarning: nperseg = 1000 is greater than input length  = 500, using nperseg = 500\n",
      "  warnings.warn('nperseg = {0:d} is greater than input length '\n"
     ]
    },
    {
     "name": "stdout",
     "output_type": "stream",
     "text": [
      "Band power features shape: (9062, 95)\n",
      "Power ratio features shape: (9062, 95)\n",
      "Computing rank from data with rank=None\n",
      "    Using tolerance 0.0006 (2.2e-16 eps * 19 dim * 1.4e+11  max singular value)\n",
      "    Estimated rank (mag): 19\n",
      "    MAG: rank 19 computed from 19 data channels with 0 projectors\n",
      "Reducing data rank from 19 -> 19\n",
      "Estimating covariance using EMPIRICAL\n",
      "Done.\n",
      "Computing rank from data with rank=None\n",
      "    Using tolerance 0.00052 (2.2e-16 eps * 19 dim * 1.2e+11  max singular value)\n",
      "    Estimated rank (mag): 19\n",
      "    MAG: rank 19 computed from 19 data channels with 0 projectors\n",
      "Reducing data rank from 19 -> 19\n",
      "Estimating covariance using EMPIRICAL\n",
      "Done.\n",
      "Computing rank from data with rank=None\n",
      "    Using tolerance 0.00034 (2.2e-16 eps * 19 dim * 8e+10  max singular value)\n",
      "    Estimated rank (mag): 19\n",
      "    MAG: rank 19 computed from 19 data channels with 0 projectors\n",
      "Reducing data rank from 19 -> 19\n",
      "Estimating covariance using EMPIRICAL\n",
      "Done.\n",
      "CSP features shape: (9062, 4)\n",
      "CSP feature names: ['CSP_0', 'CSP_1', 'CSP_2', 'CSP_3']\n",
      "Computing rank from data with rank=None\n",
      "    Using tolerance 0.0006 (2.2e-16 eps * 19 dim * 1.4e+11  max singular value)\n",
      "    Estimated rank (mag): 19\n",
      "    MAG: rank 19 computed from 19 data channels with 0 projectors\n",
      "Reducing data rank from 19 -> 19\n",
      "Estimating covariance using EMPIRICAL\n",
      "Done.\n",
      "Computing rank from data with rank=None\n",
      "    Using tolerance 0.00052 (2.2e-16 eps * 19 dim * 1.2e+11  max singular value)\n",
      "    Estimated rank (mag): 19\n",
      "    MAG: rank 19 computed from 19 data channels with 0 projectors\n",
      "Reducing data rank from 19 -> 19\n",
      "Estimating covariance using EMPIRICAL\n",
      "Done.\n",
      "Computing rank from data with rank=None\n",
      "    Using tolerance 0.00034 (2.2e-16 eps * 19 dim * 8e+10  max singular value)\n",
      "    Estimated rank (mag): 19\n",
      "    MAG: rank 19 computed from 19 data channels with 0 projectors\n",
      "Reducing data rank from 19 -> 19\n",
      "Estimating covariance using EMPIRICAL\n",
      "Done.\n",
      "CSP features shape: (9062, 4)\n",
      "Combined rows: 9062 9062 9062\n",
      "Combined features shape: (9062, 194)\n"
     ]
    }
   ],
   "source": [
    "# Assuming X_train_filtered has shape (n_trials, n_channels, n_samples)\n",
    "# and y_train has length n_trials\n",
    "\n",
    "# Extract band power features from array (already defined similarly)\n",
    "band_powers, power_feature_names = extract_band_powers_from_array(X_train_filtered, sfreq)\n",
    "print(f\"Band power features shape: {band_powers.shape}\")\n",
    "\n",
    "# Extract power ratio features from array (using our modified function)\n",
    "power_ratios, ratio_feature_names = extract_power_ratios_from_array(X_train_filtered, sfreq)\n",
    "print(f\"Power ratio features shape: {power_ratios.shape}\")\n",
    "\n",
    "# Extract CSP features\n",
    "# Note: CSP expects at least two classes in y_train.\n",
    "n_trials = X_train_filtered.shape[0]\n",
    "# Create dummy labels: first half 0, second half 1.\n",
    "dummy_y = np.zeros(n_trials, dtype=int)\n",
    "dummy_y[n_trials // 2:] = 1\n",
    "\n",
    "# Use dummy_y for CSP:\n",
    "csp_features, csp_feature_names, csp = extract_csp_features(X_train_filtered, y_train, n_components=4)\n",
    "print(f\"CSP features shape: {csp_features.shape}\")\n",
    "print(f\"CSP feature names: {csp_feature_names}\")\n",
    "\n",
    "csp_features, csp_feature_names, csp = extract_csp_features(X_train_filtered, y_train, n_components=4)\n",
    "print(f\"CSP features shape: {csp_features.shape}\")\n",
    "\n",
    "# Now, all three arrays should have the same number of rows (n_trials).\n",
    "print(\"Combined rows:\", band_powers.shape[0], power_ratios.shape[0], csp_features.shape[0])\n",
    "\n",
    "# Combine features along the feature axis (axis=1)\n",
    "combined_features = np.hstack((band_powers, power_ratios, csp_features))\n",
    "all_feature_names = power_feature_names + ratio_feature_names + csp_feature_names\n",
    "print(f\"Combined features shape: {combined_features.shape}\")\n"
   ]
  },
  {
   "cell_type": "code",
   "execution_count": 93,
   "metadata": {},
   "outputs": [],
   "source": [
    "def evaluate_features(X, y, n_folds=5):\n",
    "    \"\"\"\n",
    "    Evaluate feature set using cross-validation with a Random Forest classifier.\n",
    "    \n",
    "    Parameters\n",
    "    ----------\n",
    "    X : numpy array\n",
    "        Feature array with shape (n_trials, n_features).\n",
    "    y : numpy array\n",
    "        Label array (length n_trials).\n",
    "    n_folds : int\n",
    "        Number of cross-validation folds.\n",
    "    \n",
    "    Returns\n",
    "    -------\n",
    "    scores : numpy array\n",
    "        Accuracy scores from cross-validation.\n",
    "    \"\"\"\n",
    "    clf = RandomForestClassifier(n_estimators=100, random_state=42)\n",
    "    scores = cross_val_score(clf, X, y, cv=n_folds, scoring='accuracy')\n",
    "    return scores\n"
   ]
  },
  {
   "cell_type": "code",
   "execution_count": 94,
   "metadata": {},
   "outputs": [],
   "source": [
    "# Compute accuracy scores for each feature type\n",
    "band_scores   = evaluate_features(band_powers, y_train)\n",
    "ratio_scores  = evaluate_features(power_ratios, y_train)\n",
    "csp_scores    = evaluate_features(csp_features, y_train)\n",
    "all_scores    = evaluate_features(combined_features, y_train)\n"
   ]
  },
  {
   "cell_type": "code",
   "execution_count": 95,
   "metadata": {},
   "outputs": [],
   "source": [
    "selector = SelectKBest(f_classif, k=20)\n",
    "X_selected = selector.fit_transform(combined_features, y_train)"
   ]
  },
  {
   "cell_type": "code",
   "execution_count": 96,
   "metadata": {},
   "outputs": [],
   "source": [
    "selected_scores = evaluate_features(X_selected, y_train)"
   ]
  },
  {
   "cell_type": "code",
   "execution_count": 97,
   "metadata": {},
   "outputs": [
    {
     "data": {
      "text/plain": [
       "['ch0_delta',\n",
       " 'ch0_theta',\n",
       " 'ch0_alpha',\n",
       " 'ch0_beta',\n",
       " 'ch0_gamma',\n",
       " 'ch1_delta',\n",
       " 'ch1_theta',\n",
       " 'ch1_alpha',\n",
       " 'ch1_beta',\n",
       " 'ch1_gamma',\n",
       " 'ch2_delta',\n",
       " 'ch2_theta',\n",
       " 'ch2_alpha',\n",
       " 'ch2_beta',\n",
       " 'ch2_gamma',\n",
       " 'ch3_delta',\n",
       " 'ch3_theta',\n",
       " 'ch3_alpha',\n",
       " 'ch3_beta',\n",
       " 'ch3_gamma',\n",
       " 'ch4_delta',\n",
       " 'ch4_theta',\n",
       " 'ch4_alpha',\n",
       " 'ch4_beta',\n",
       " 'ch4_gamma',\n",
       " 'ch5_delta',\n",
       " 'ch5_theta',\n",
       " 'ch5_alpha',\n",
       " 'ch5_beta',\n",
       " 'ch5_gamma',\n",
       " 'ch6_delta',\n",
       " 'ch6_theta',\n",
       " 'ch6_alpha',\n",
       " 'ch6_beta',\n",
       " 'ch6_gamma',\n",
       " 'ch7_delta',\n",
       " 'ch7_theta',\n",
       " 'ch7_alpha',\n",
       " 'ch7_beta',\n",
       " 'ch7_gamma',\n",
       " 'ch8_delta',\n",
       " 'ch8_theta',\n",
       " 'ch8_alpha',\n",
       " 'ch8_beta',\n",
       " 'ch8_gamma',\n",
       " 'ch9_delta',\n",
       " 'ch9_theta',\n",
       " 'ch9_alpha',\n",
       " 'ch9_beta',\n",
       " 'ch9_gamma',\n",
       " 'ch10_delta',\n",
       " 'ch10_theta',\n",
       " 'ch10_alpha',\n",
       " 'ch10_beta',\n",
       " 'ch10_gamma',\n",
       " 'ch11_delta',\n",
       " 'ch11_theta',\n",
       " 'ch11_alpha',\n",
       " 'ch11_beta',\n",
       " 'ch11_gamma',\n",
       " 'ch12_delta',\n",
       " 'ch12_theta',\n",
       " 'ch12_alpha',\n",
       " 'ch12_beta',\n",
       " 'ch12_gamma',\n",
       " 'ch13_delta',\n",
       " 'ch13_theta',\n",
       " 'ch13_alpha',\n",
       " 'ch13_beta',\n",
       " 'ch13_gamma',\n",
       " 'ch14_delta',\n",
       " 'ch14_theta',\n",
       " 'ch14_alpha',\n",
       " 'ch14_beta',\n",
       " 'ch14_gamma',\n",
       " 'ch15_delta',\n",
       " 'ch15_theta',\n",
       " 'ch15_alpha',\n",
       " 'ch15_beta',\n",
       " 'ch15_gamma',\n",
       " 'ch16_delta',\n",
       " 'ch16_theta',\n",
       " 'ch16_alpha',\n",
       " 'ch16_beta',\n",
       " 'ch16_gamma',\n",
       " 'ch17_delta',\n",
       " 'ch17_theta',\n",
       " 'ch17_alpha',\n",
       " 'ch17_beta',\n",
       " 'ch17_gamma',\n",
       " 'ch18_delta',\n",
       " 'ch18_theta',\n",
       " 'ch18_alpha',\n",
       " 'ch18_beta',\n",
       " 'ch18_gamma',\n",
       " 'ch0_theta_beta_ratio',\n",
       " 'ch0_alpha_theta_ratio',\n",
       " 'ch0_delta_theta_ratio',\n",
       " 'ch0_alpha_beta_ratio',\n",
       " 'ch0_delta_alpha_ratio',\n",
       " 'ch1_theta_beta_ratio',\n",
       " 'ch1_alpha_theta_ratio',\n",
       " 'ch1_delta_theta_ratio',\n",
       " 'ch1_alpha_beta_ratio',\n",
       " 'ch1_delta_alpha_ratio',\n",
       " 'ch2_theta_beta_ratio',\n",
       " 'ch2_alpha_theta_ratio',\n",
       " 'ch2_delta_theta_ratio',\n",
       " 'ch2_alpha_beta_ratio',\n",
       " 'ch2_delta_alpha_ratio',\n",
       " 'ch3_theta_beta_ratio',\n",
       " 'ch3_alpha_theta_ratio',\n",
       " 'ch3_delta_theta_ratio',\n",
       " 'ch3_alpha_beta_ratio',\n",
       " 'ch3_delta_alpha_ratio',\n",
       " 'ch4_theta_beta_ratio',\n",
       " 'ch4_alpha_theta_ratio',\n",
       " 'ch4_delta_theta_ratio',\n",
       " 'ch4_alpha_beta_ratio',\n",
       " 'ch4_delta_alpha_ratio',\n",
       " 'ch5_theta_beta_ratio',\n",
       " 'ch5_alpha_theta_ratio',\n",
       " 'ch5_delta_theta_ratio',\n",
       " 'ch5_alpha_beta_ratio',\n",
       " 'ch5_delta_alpha_ratio',\n",
       " 'ch6_theta_beta_ratio',\n",
       " 'ch6_alpha_theta_ratio',\n",
       " 'ch6_delta_theta_ratio',\n",
       " 'ch6_alpha_beta_ratio',\n",
       " 'ch6_delta_alpha_ratio',\n",
       " 'ch7_theta_beta_ratio',\n",
       " 'ch7_alpha_theta_ratio',\n",
       " 'ch7_delta_theta_ratio',\n",
       " 'ch7_alpha_beta_ratio',\n",
       " 'ch7_delta_alpha_ratio',\n",
       " 'ch8_theta_beta_ratio',\n",
       " 'ch8_alpha_theta_ratio',\n",
       " 'ch8_delta_theta_ratio',\n",
       " 'ch8_alpha_beta_ratio',\n",
       " 'ch8_delta_alpha_ratio',\n",
       " 'ch9_theta_beta_ratio',\n",
       " 'ch9_alpha_theta_ratio',\n",
       " 'ch9_delta_theta_ratio',\n",
       " 'ch9_alpha_beta_ratio',\n",
       " 'ch9_delta_alpha_ratio',\n",
       " 'ch10_theta_beta_ratio',\n",
       " 'ch10_alpha_theta_ratio',\n",
       " 'ch10_delta_theta_ratio',\n",
       " 'ch10_alpha_beta_ratio',\n",
       " 'ch10_delta_alpha_ratio',\n",
       " 'ch11_theta_beta_ratio',\n",
       " 'ch11_alpha_theta_ratio',\n",
       " 'ch11_delta_theta_ratio',\n",
       " 'ch11_alpha_beta_ratio',\n",
       " 'ch11_delta_alpha_ratio',\n",
       " 'ch12_theta_beta_ratio',\n",
       " 'ch12_alpha_theta_ratio',\n",
       " 'ch12_delta_theta_ratio',\n",
       " 'ch12_alpha_beta_ratio',\n",
       " 'ch12_delta_alpha_ratio',\n",
       " 'ch13_theta_beta_ratio',\n",
       " 'ch13_alpha_theta_ratio',\n",
       " 'ch13_delta_theta_ratio',\n",
       " 'ch13_alpha_beta_ratio',\n",
       " 'ch13_delta_alpha_ratio',\n",
       " 'ch14_theta_beta_ratio',\n",
       " 'ch14_alpha_theta_ratio',\n",
       " 'ch14_delta_theta_ratio',\n",
       " 'ch14_alpha_beta_ratio',\n",
       " 'ch14_delta_alpha_ratio',\n",
       " 'ch15_theta_beta_ratio',\n",
       " 'ch15_alpha_theta_ratio',\n",
       " 'ch15_delta_theta_ratio',\n",
       " 'ch15_alpha_beta_ratio',\n",
       " 'ch15_delta_alpha_ratio',\n",
       " 'ch16_theta_beta_ratio',\n",
       " 'ch16_alpha_theta_ratio',\n",
       " 'ch16_delta_theta_ratio',\n",
       " 'ch16_alpha_beta_ratio',\n",
       " 'ch16_delta_alpha_ratio',\n",
       " 'ch17_theta_beta_ratio',\n",
       " 'ch17_alpha_theta_ratio',\n",
       " 'ch17_delta_theta_ratio',\n",
       " 'ch17_alpha_beta_ratio',\n",
       " 'ch17_delta_alpha_ratio',\n",
       " 'ch18_theta_beta_ratio',\n",
       " 'ch18_alpha_theta_ratio',\n",
       " 'ch18_delta_theta_ratio',\n",
       " 'ch18_alpha_beta_ratio',\n",
       " 'ch18_delta_alpha_ratio',\n",
       " 'CSP_0',\n",
       " 'CSP_1',\n",
       " 'CSP_2',\n",
       " 'CSP_3']"
      ]
     },
     "execution_count": 97,
     "metadata": {},
     "output_type": "execute_result"
    }
   ],
   "source": [
    "all_feature_names"
   ]
  },
  {
   "cell_type": "code",
   "execution_count": 98,
   "metadata": {},
   "outputs": [
    {
     "name": "stdout",
     "output_type": "stream",
     "text": [
      "Band power names: 95\n",
      "Power ratio names: 95\n",
      "CSP feature names: 4\n",
      "Total feature names: 194\n",
      "Combined features shape: (9062, 194)\n"
     ]
    }
   ],
   "source": [
    "print(\"Band power names:\", len(power_feature_names))      # Expected: 95\n",
    "print(\"Power ratio names:\", len(ratio_feature_names))       # Expected: 95\n",
    "print(\"CSP feature names:\", len(csp_feature_names))         # Expected: 4\n",
    "print(\"Total feature names:\", len(all_feature_names))       # Expected: 194\n",
    "print(\"Combined features shape:\", combined_features.shape)\n"
   ]
  },
  {
   "cell_type": "code",
   "execution_count": 99,
   "metadata": {},
   "outputs": [
    {
     "name": "stdout",
     "output_type": "stream",
     "text": [
      "Top 20 features selected by ANOVA F-test:\n",
      "1. ch0_beta\n",
      "2. ch0_gamma\n",
      "3. ch2_beta\n",
      "4. ch2_gamma\n",
      "5. ch8_alpha\n",
      "6. ch9_alpha\n",
      "7. ch12_beta\n",
      "8. ch12_gamma\n",
      "9. ch13_beta\n",
      "10. ch13_gamma\n",
      "11. ch14_alpha\n",
      "12. ch15_alpha\n",
      "13. ch8_alpha_beta_ratio\n",
      "14. ch9_alpha_beta_ratio\n",
      "15. ch14_alpha_beta_ratio\n",
      "16. ch15_alpha_beta_ratio\n",
      "17. CSP_0\n",
      "18. CSP_1\n",
      "19. CSP_2\n",
      "20. CSP_3\n"
     ]
    }
   ],
   "source": [
    "selected_indices = selector.get_support(indices=True)\n",
    "selected_features = [all_feature_names[i] for i in selected_indices]\n",
    "\n",
    "print(\"Top 20 features selected by ANOVA F-test:\")\n",
    "for i, feature in enumerate(selected_features):\n",
    "    print(f\"{i+1}. {feature}\")"
   ]
  },
  {
   "cell_type": "markdown",
   "metadata": {},
   "source": [
    "## 7. Feature Selection Summary"
   ]
  },
  {
   "cell_type": "code",
   "execution_count": 100,
   "metadata": {},
   "outputs": [],
   "source": [
    "# Create lists for feature type names and the corresponding mean accuracies and standard deviations.\n",
    "feature_types = ['Band Powers', 'Power Ratios', 'CSP', 'Selected 20', 'All Combined']\n",
    "\n",
    "accuracies = [\n",
    "    np.mean(band_scores),\n",
    "    np.mean(ratio_scores),\n",
    "    np.mean(csp_scores),\n",
    "    np.mean(selected_scores),\n",
    "    np.mean(all_scores)\n",
    "]\n",
    "\n",
    "std_devs = [\n",
    "    np.std(band_scores),\n",
    "    np.std(ratio_scores),\n",
    "    np.std(csp_scores),\n",
    "    np.std(selected_scores),\n",
    "    np.std(all_scores)\n",
    "]"
   ]
  },
  {
   "cell_type": "code",
   "execution_count": 101,
   "metadata": {},
   "outputs": [
    {
     "data": {
      "image/png": "[encoded data removed]",
      "text/plain": [
       "<Figure size 720x432 with 1 Axes>"
      ]
     },
     "metadata": {
      "needs_background": "light"
     },
     "output_type": "display_data"
    }
   ],
   "source": [
    "# ----- Visualization: Bar Plot -----\n",
    "plt.figure(figsize=(10, 6))\n",
    "bars = plt.bar(feature_types, accuracies, yerr=std_devs, capsize=10, color='skyblue', edgecolor='k')\n",
    "plt.ylabel('Cross-Validation Accuracy')\n",
    "plt.title('Comparison of Feature Types')\n",
    "plt.ylim(0.5, 1.0)  # Adjust y-axis limits as needed\n",
    "\n",
    "# Add numeric labels on the bars\n",
    "for bar in bars:\n",
    "    height = bar.get_height()\n",
    "    plt.text(bar.get_x() + bar.get_width()/2., height + 0.01, f'{height:.3f}', ha='center', va='bottom')\n",
    "\n",
    "plt.tight_layout()\n",
    "plt.show()\n"
   ]
  },
  {
   "cell_type": "code",
   "execution_count": 102,
   "metadata": {},
   "outputs": [
    {
     "name": "stderr",
     "output_type": "stream",
     "text": [
      "<ipython-input-102-d8323256feb5>:6: UserWarning: Tight layout not applied. The left and right margins cannot be made large enough to accommodate all axes decorations.\n",
      "  plt.tight_layout()\n"
     ]
    },
    {
     "data": {
      "image/png": "[encoded data removed]",
      "text/plain": [
       "<Figure size 432x288 with 1 Axes>"
      ]
     },
     "metadata": {
      "needs_background": "light"
     },
     "output_type": "display_data"
    }
   ],
   "source": [
    "# Add numeric labels on the bars\n",
    "for bar in bars:\n",
    "    height = bar.get_height()\n",
    "    plt.text(bar.get_x() + bar.get_width()/2., height + 0.01, f'{height:.3f}', ha='center', va='bottom')\n",
    "\n",
    "plt.tight_layout()\n",
    "plt.show()"
   ]
  },
  {
   "cell_type": "code",
   "execution_count": 103,
   "metadata": {},
   "outputs": [],
   "source": [
    "# ----- Visualization: Boxplot of Accuracy Scores -----\n",
    "# Create a dictionary with accuracy scores for each feature type\n",
    "accuracy_data = {\n",
    "    'Band Powers': band_scores,\n",
    "    'Power Ratios': ratio_scores,\n",
    "    'CSP': csp_scores,\n",
    "    'Selected 20': selected_scores,\n",
    "    'All Combined': all_scores\n",
    "}"
   ]
  },
  {
   "cell_type": "code",
   "execution_count": 85,
   "metadata": {},
   "outputs": [
    {
     "data": {
      "image/png": "[encoded data removed]",
      "text/plain": [
       "<Figure size 720x432 with 1 Axes>"
      ]
     },
     "metadata": {
      "needs_background": "light"
     },
     "output_type": "display_data"
    }
   ],
   "source": [
    "# Convert the dictionary into a DataFrame for easier plotting\n",
    "boxplot_data = pd.DataFrame(accuracy_data)\n",
    "plt.figure(figsize=(10, 6))\n",
    "sns.boxplot(data=boxplot_data, palette=\"Set2\")\n",
    "plt.ylabel('Cross-Validation Accuracy')\n",
    "plt.title('Distribution of Accuracy Scores by Feature Type')\n",
    "plt.ylim(0.5, 1.0)\n",
    "plt.tight_layout()\n",
    "plt.show()\n"
   ]
  },
  {
   "cell_type": "code",
   "execution_count": 104,
   "metadata": {},
   "outputs": [
    {
     "name": "stdout",
     "output_type": "stream",
     "text": [
      "Feature Selection Summary:\n",
      "   Feature Type  Number of Features  Mean Accuracy   Std Dev\n",
      "0   Band Powers                  95       0.464467  0.000205\n",
      "1  Power Ratios                  95       0.528800  0.078577\n",
      "2           CSP                   4       0.732411  0.099635\n",
      "3   Selected 20                  20       0.747518  0.084888\n",
      "4  All Combined                 194       0.755576  0.089645\n"
     ]
    }
   ],
   "source": [
    "results_df = pd.DataFrame({\n",
    "    'Feature Type': feature_types,\n",
    "    'Number of Features': [band_powers.shape[1],\n",
    "                           power_ratios.shape[1],\n",
    "                           csp_features.shape[1],\n",
    "                           20,\n",
    "                           combined_features.shape[1]],\n",
    "    'Mean Accuracy': accuracies,\n",
    "    'Std Dev': std_devs\n",
    "})\n",
    "\n",
    "print(\"Feature Selection Summary:\")\n",
    "print(results_df)"
   ]
  },
  {
   "cell_type": "code",
   "execution_count": 105,
   "metadata": {},
   "outputs": [
    {
     "name": "stdout",
     "output_type": "stream",
     "text": [
      "\n",
      "Selected features saved to 'selected_features.txt'\n"
     ]
    }
   ],
   "source": [
    "with open('selected_features.txt', 'w') as f:\n",
    "    f.write(\"Selected features by ANOVA F-test:\\n\")\n",
    "    for feature in selected_features:\n",
    "        f.write(f\"{feature}\\n\")\n",
    "    \n",
    "    f.write(\"\\nTop features by Random Forest importance:\\n\")\n",
    "    for feature in selected_features:  # assuming top_features is already defined\n",
    "        f.write(f\"{feature}\\n\")\n",
    "\n",
    "print(\"\\nSelected features saved to 'selected_features.txt'\")\n"
   ]
  },
  {
   "cell_type": "code",
   "execution_count": null,
   "metadata": {},
   "outputs": [],
   "source": []
  }
 ],
 "metadata": {
  "kernelspec": {
   "display_name": "Python 3",
   "language": "python",
   "name": "python3"
  },
  "language_info": {
   "codemirror_mode": {
    "name": "ipython",
    "version": 3
   },
   "file_extension": ".py",
   "mimetype": "text/x-python",
   "name": "python",
   "nbconvert_exporter": "python",
   "pygments_lexer": "ipython3",
   "version": "3.8.8"
  }
 },
 "nbformat": 4,
 "nbformat_minor": 2
}
