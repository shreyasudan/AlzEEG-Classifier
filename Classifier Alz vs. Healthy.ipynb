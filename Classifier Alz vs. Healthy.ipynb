{
 "cells": [
  {
   "cell_type": "markdown",
   "id": "2d925602",
   "metadata": {},
   "source": [
    "# Alz vs. Healthy Classifier"
   ]
  },
  {
   "cell_type": "markdown",
   "id": "c65d1074",
   "metadata": {},
   "source": [
    "## Imports"
   ]
  },
  {
   "cell_type": "code",
   "execution_count": 51,
   "id": "6455e054",
   "metadata": {},
   "outputs": [],
   "source": [
    "import os\n",
    "import numpy as np\n",
    "import pandas as pd\n",
    "import mne\n",
    "import warnings\n",
    "\n",
    "from mne import make_fixed_length_epochs\n",
    "from mne.decoding import CSP\n",
    "from mne.io import read_raw_eeglab\n",
    "from scipy.signal import welch"
   ]
  },
  {
   "cell_type": "code",
   "execution_count": 52,
   "id": "a15d489d",
   "metadata": {},
   "outputs": [
    {
     "name": "stdout",
     "output_type": "stream",
     "text": [
      "Index(['participant_id', 'Gender', 'Age', 'Group', 'MMSE'], dtype='object')\n"
     ]
    },
    {
     "data": {
      "text/html": [
       "<div>\n",
       "<style scoped>\n",
       "    .dataframe tbody tr th:only-of-type {\n",
       "        vertical-align: middle;\n",
       "    }\n",
       "\n",
       "    .dataframe tbody tr th {\n",
       "        vertical-align: top;\n",
       "    }\n",
       "\n",
       "    .dataframe thead th {\n",
       "        text-align: right;\n",
       "    }\n",
       "</style>\n",
       "<table border=\"1\" class=\"dataframe\">\n",
       "  <thead>\n",
       "    <tr style=\"text-align: right;\">\n",
       "      <th></th>\n",
       "      <th>participant_id</th>\n",
       "      <th>Gender</th>\n",
       "      <th>Age</th>\n",
       "      <th>Group</th>\n",
       "      <th>MMSE</th>\n",
       "    </tr>\n",
       "  </thead>\n",
       "  <tbody>\n",
       "    <tr>\n",
       "      <th>0</th>\n",
       "      <td>sub-001</td>\n",
       "      <td>F</td>\n",
       "      <td>57</td>\n",
       "      <td>A</td>\n",
       "      <td>16</td>\n",
       "    </tr>\n",
       "    <tr>\n",
       "      <th>1</th>\n",
       "      <td>sub-002</td>\n",
       "      <td>F</td>\n",
       "      <td>78</td>\n",
       "      <td>A</td>\n",
       "      <td>22</td>\n",
       "    </tr>\n",
       "    <tr>\n",
       "      <th>2</th>\n",
       "      <td>sub-003</td>\n",
       "      <td>M</td>\n",
       "      <td>70</td>\n",
       "      <td>A</td>\n",
       "      <td>14</td>\n",
       "    </tr>\n",
       "    <tr>\n",
       "      <th>3</th>\n",
       "      <td>sub-004</td>\n",
       "      <td>F</td>\n",
       "      <td>67</td>\n",
       "      <td>A</td>\n",
       "      <td>20</td>\n",
       "    </tr>\n",
       "    <tr>\n",
       "      <th>4</th>\n",
       "      <td>sub-005</td>\n",
       "      <td>M</td>\n",
       "      <td>70</td>\n",
       "      <td>A</td>\n",
       "      <td>22</td>\n",
       "    </tr>\n",
       "  </tbody>\n",
       "</table>\n",
       "</div>"
      ],
      "text/plain": [
       "  participant_id Gender  Age Group  MMSE\n",
       "0        sub-001      F   57     A    16\n",
       "1        sub-002      F   78     A    22\n",
       "2        sub-003      M   70     A    14\n",
       "3        sub-004      F   67     A    20\n",
       "4        sub-005      M   70     A    22"
      ]
     },
     "execution_count": 52,
     "metadata": {},
     "output_type": "execute_result"
    }
   ],
   "source": [
    "participants_path = 'dataset/participants.tsv'\n",
    "participants_df = pd.read_csv(participants_path, sep='\\t')\n",
    "\n",
    "print(participants_df.columns)\n",
    "participants_df.head()"
   ]
  },
  {
   "cell_type": "markdown",
   "id": "e1722580",
   "metadata": {},
   "source": [
    "## Clearing MNE Warnings"
   ]
  },
  {
   "cell_type": "code",
   "execution_count": 53,
   "id": "94353f4b",
   "metadata": {},
   "outputs": [],
   "source": [
    "warnings.filterwarnings(\"ignore\", category=RuntimeWarning)\n",
    "warnings.filterwarnings(\"ignore\", category=DeprecationWarning)\n",
    "\n",
    "\n",
    "mne.set_log_level('WARNING')"
   ]
  },
  {
   "cell_type": "markdown",
   "id": "c5063a6a",
   "metadata": {},
   "source": [
    "## Grabbing Features & Loading Data"
   ]
  },
  {
   "cell_type": "markdown",
   "id": "3e11f86d",
   "metadata": {},
   "source": [
    "We defined brainwave frequency bands that will be used for the power feature extraction function we developed. These are pretty common EEG bands that carry meaningful neurophysiological information usually and we will use it for our model."
   ]
  },
  {
   "cell_type": "code",
   "execution_count": 54,
   "id": "4b31cb0b",
   "metadata": {},
   "outputs": [],
   "source": [
    "FREQ_BANDS = {\n",
    "    \"alpha\": (8, 13),\n",
    "    \"beta\": (13, 30),\n",
    "    \"gamma\": (30, 45)\n",
    "}"
   ]
  },
  {
   "cell_type": "markdown",
   "id": "1b03dc53",
   "metadata": {},
   "source": [
    "This function loads in data from participants that are either healthy or have Alz, filtering out participants with FTD and making sure to attach subject labels and ID."
   ]
  },
  {
   "cell_type": "code",
   "execution_count": 55,
   "id": "89c0135e",
   "metadata": {},
   "outputs": [],
   "source": [
    "def load_eeg_data(participants_df, base_dir):\n",
    "    eeg_data = []\n",
    "    for _, row in participants_df.iterrows():\n",
    "        subject_id = row['participant_id']\n",
    "        label = row['label']\n",
    "\n",
    "        subject_folder = os.path.join(base_dir, subject_id, 'eeg')\n",
    "        set_filename = f'{subject_id}_task-eyesclosed_eeg.set'\n",
    "        set_filepath = os.path.join(subject_folder, set_filename)\n",
    "\n",
    "        if os.path.exists(set_filepath):\n",
    "            try:\n",
    "                raw = mne.io.read_raw_eeglab(set_filepath, preload=True)\n",
    "                eeg_data.append((raw, label, subject_id))\n",
    "                print(f\"✅ Loaded {subject_id} (label: {label})\")\n",
    "            except Exception as e:\n",
    "                print(f\"❌ Failed to load {subject_id}: {e}\")\n",
    "        else:\n",
    "            print(f\"⚠️ File not found: {set_filepath}\")\n",
    "    return eeg_data"
   ]
  },
  {
   "cell_type": "markdown",
   "id": "f26897ae",
   "metadata": {},
   "source": [
    "This function applies bandpass filtering (1–45 Hz) and 60 Hz notch filtering to get rid some of the noise and artifacts from each subject's EEG. It returns a list of clean, raw EEG objects, ready for feature extraction."
   ]
  },
  {
   "cell_type": "code",
   "execution_count": 56,
   "id": "c7f0942a",
   "metadata": {},
   "outputs": [],
   "source": [
    "def preprocess_raws(raw_list, l_freq=1.0, h_freq=45.0, notch_freq=60.0):\n",
    "    filtered_raws = []\n",
    "    for raw in raw_list:\n",
    "        raw_filt = raw.copy()\n",
    "        raw_filt.filter(l_freq=l_freq, h_freq=h_freq, verbose=False)\n",
    "        raw_filt.notch_filter(freqs=notch_freq, verbose=False)\n",
    "        filtered_raws.append(raw_filt)\n",
    "    return filtered_raws"
   ]
  },
  {
   "cell_type": "markdown",
   "id": "31b30c6b",
   "metadata": {},
   "source": [
    "This function splits each subject’s EEG data into fixed len (e.g. 1 sec) epochs and makes sure that we have  consistent shape across subjects."
   ]
  },
  {
   "cell_type": "code",
   "execution_count": 57,
   "id": "3e760d6d",
   "metadata": {},
   "outputs": [],
   "source": [
    "def extract_fixed_epochs(raw_list, duration=1.0):\n",
    "    epochs_list = []\n",
    "    expected_shape = None\n",
    "\n",
    "    for raw in raw_list:\n",
    "        epochs = make_fixed_length_epochs(raw, duration=duration, overlap=0, preload=True, verbose=False)\n",
    "        sfreq = raw.info['sfreq']\n",
    "        n_samples = int(sfreq * duration)\n",
    "        data = epochs.get_data(copy=True)[:, :, :n_samples]\n",
    "\n",
    "        epoch = data[0]\n",
    "        if expected_shape is None:\n",
    "            expected_shape = epoch.shape\n",
    "        if epoch.shape != expected_shape:\n",
    "            print(f\"⚠️ Skipping subject with shape {epoch.shape}, expected {expected_shape}\")\n",
    "            continue\n",
    "\n",
    "        epochs_list.append(epoch)\n",
    "\n",
    "    return np.stack(epochs_list)"
   ]
  },
  {
   "cell_type": "markdown",
   "id": "188db04c",
   "metadata": {},
   "source": [
    "For each subject / channel, this function computes avg power within the EEG freq bands above (alpha, beta, gamma) using welch’s method. It returns a matrix of band power features with one row per subject."
   ]
  },
  {
   "cell_type": "code",
   "execution_count": 58,
   "id": "445f8acd",
   "metadata": {},
   "outputs": [],
   "source": [
    "def extract_band_powers(X, sfreq):\n",
    "    band_power_features = []\n",
    "    for subject in X:\n",
    "        subject_features = []\n",
    "        for ch_idx in range(subject.shape[0]):\n",
    "            freqs, psd = welch(subject[ch_idx], sfreq, nperseg=int(sfreq * 2))\n",
    "            for fmin, fmax in FREQ_BANDS.values():\n",
    "                idx_band = np.logical_and(freqs >= fmin, freqs <= fmax)\n",
    "                band_power = np.mean(psd[idx_band])\n",
    "                subject_features.append(band_power)\n",
    "        band_power_features.append(subject_features)\n",
    "    return np.array(band_power_features)"
   ]
  },
  {
   "cell_type": "markdown",
   "id": "a9a6cec3",
   "metadata": {},
   "source": [
    "This function calcs the ratio of alpha to beta power for each channel of each subject, which can show us cognitive processing differences. It returns a matrix of alpha/beta ratios per subject."
   ]
  },
  {
   "cell_type": "code",
   "execution_count": 59,
   "id": "5bc8e3a2",
   "metadata": {},
   "outputs": [],
   "source": [
    "def extract_alpha_beta_ratios(X, sfreq):\n",
    "    ratio_features = []\n",
    "    for subject in X:\n",
    "        subject_ratios = []\n",
    "        for ch_idx in range(subject.shape[0]):\n",
    "            freqs, psd = welch(subject[ch_idx], sfreq, nperseg=int(sfreq * 2))\n",
    "            alpha_idx = np.logical_and(freqs >= 8, freqs <= 13)\n",
    "            beta_idx = np.logical_and(freqs >= 13, freqs <= 30)\n",
    "            alpha_power = np.mean(psd[alpha_idx])\n",
    "            beta_power = np.mean(psd[beta_idx])\n",
    "            ratio = alpha_power / beta_power if beta_power > 0 else 0\n",
    "            subject_ratios.append(ratio)\n",
    "        ratio_features.append(subject_ratios)\n",
    "    return np.array(ratio_features)"
   ]
  },
  {
   "cell_type": "markdown",
   "id": "2b275b2a",
   "metadata": {},
   "source": [
    "This function gets the  Common Spatial Pattern (CSP) features that maximize variance between Alz and healthy groups. It returns a reduced set of spatially-discriminative features for each subject."
   ]
  },
  {
   "cell_type": "code",
   "execution_count": 60,
   "id": "42951a6c",
   "metadata": {},
   "outputs": [],
   "source": [
    "def extract_csp_features(X, y, n_components=4):\n",
    "    X_reshaped = X.reshape(X.shape[0], X.shape[1], X.shape[2])\n",
    "    csp = CSP(n_components=n_components, log=True, norm_trace=False)\n",
    "    csp_feats = csp.fit_transform(X_reshaped, y)\n",
    "    return csp_feats"
   ]
  },
  {
   "cell_type": "markdown",
   "id": "106a44ce",
   "metadata": {},
   "source": [
    "This function brings everything together with preprocessing, epoching, and feature extraction (band power, ratios, CSP). It returns an easy to use complete DataFrame where each row represents a subject and includes all  features, the label, and subject ID. This will allow us to train a model easier given the complicated data structure"
   ]
  },
  {
   "cell_type": "code",
   "execution_count": 61,
   "id": "960ee0b3",
   "metadata": {},
   "outputs": [],
   "source": [
    "def extract_all_features(eeg_data, epoch_duration=1.0):\n",
    "    raws = [raw for raw, label, subj_id in eeg_data]\n",
    "    y = np.array([label for raw, label, subj_id in eeg_data])\n",
    "    subjects = [subj_id for raw, label, subj_id in eeg_data]\n",
    "\n",
    "    raws_filt = preprocess_raws(raws)\n",
    "    sfreq = raws_filt[0].info['sfreq']\n",
    "    epochs = extract_fixed_epochs(raws_filt, duration=epoch_duration)\n",
    "    X = epochs\n",
    "\n",
    "    used_indices = list(range(len(subjects)))\n",
    "    if len(X) < len(subjects):\n",
    "        print(f\"⚠️ Using only {len(X)} of {len(subjects)} subjects due to shape mismatches.\")\n",
    "        y = y[:len(X)]\n",
    "        subjects = subjects[:len(X)]\n",
    "\n",
    "    band_powers = extract_band_powers(X, sfreq)\n",
    "    ratios = extract_alpha_beta_ratios(X, sfreq)\n",
    "    csp_feats = extract_csp_features(X, y)\n",
    "\n",
    "    n_channels = X.shape[1]\n",
    "    band_names = [f\"ch{ch}_{band}\" for ch in range(n_channels) for band in FREQ_BANDS]\n",
    "    ratio_names = [f\"ch{ch}_alpha_beta_ratio\" for ch in range(n_channels)]\n",
    "    csp_names = [f\"CSP_{i}\" for i in range(csp_feats.shape[1])]\n",
    "\n",
    "    features = np.hstack([band_powers, ratios, csp_feats])\n",
    "    feature_names = band_names + ratio_names + csp_names\n",
    "\n",
    "    df = pd.DataFrame(features, columns=feature_names)\n",
    "    df[\"label\"] = y\n",
    "    df[\"subject\"] = subjects\n",
    "    return df"
   ]
  },
  {
   "cell_type": "code",
   "execution_count": 62,
   "id": "eadbe622",
   "metadata": {},
   "outputs": [],
   "source": [
    "participants_df = pd.read_csv('dataset/participants.tsv', sep='\\t')\n",
    "participants_df = participants_df[participants_df['Group'].isin(['A', 'C'])]\n",
    "participants_df['label'] = participants_df['Group'].map({'C': 0, 'A': 1})"
   ]
  },
  {
   "cell_type": "code",
   "execution_count": 63,
   "id": "3f5429a9",
   "metadata": {},
   "outputs": [
    {
     "name": "stdout",
     "output_type": "stream",
     "text": [
      "✅ Loaded sub-001 (label: 1)\n",
      "✅ Loaded sub-002 (label: 1)\n",
      "✅ Loaded sub-003 (label: 1)\n",
      "✅ Loaded sub-004 (label: 1)\n",
      "✅ Loaded sub-005 (label: 1)\n",
      "✅ Loaded sub-006 (label: 1)\n",
      "✅ Loaded sub-007 (label: 1)\n",
      "✅ Loaded sub-008 (label: 1)\n",
      "✅ Loaded sub-009 (label: 1)\n",
      "✅ Loaded sub-010 (label: 1)\n",
      "✅ Loaded sub-011 (label: 1)\n",
      "✅ Loaded sub-012 (label: 1)\n",
      "✅ Loaded sub-013 (label: 1)\n",
      "✅ Loaded sub-014 (label: 1)\n",
      "✅ Loaded sub-015 (label: 1)\n",
      "✅ Loaded sub-016 (label: 1)\n",
      "✅ Loaded sub-017 (label: 1)\n",
      "✅ Loaded sub-018 (label: 1)\n",
      "✅ Loaded sub-019 (label: 1)\n",
      "✅ Loaded sub-020 (label: 1)\n",
      "✅ Loaded sub-021 (label: 1)\n",
      "✅ Loaded sub-022 (label: 1)\n",
      "✅ Loaded sub-023 (label: 1)\n",
      "✅ Loaded sub-024 (label: 1)\n",
      "✅ Loaded sub-025 (label: 1)\n",
      "✅ Loaded sub-026 (label: 1)\n",
      "✅ Loaded sub-027 (label: 1)\n",
      "✅ Loaded sub-028 (label: 1)\n",
      "✅ Loaded sub-029 (label: 1)\n",
      "✅ Loaded sub-030 (label: 1)\n",
      "✅ Loaded sub-031 (label: 1)\n",
      "✅ Loaded sub-032 (label: 1)\n",
      "✅ Loaded sub-033 (label: 1)\n",
      "✅ Loaded sub-034 (label: 1)\n",
      "✅ Loaded sub-035 (label: 1)\n",
      "✅ Loaded sub-036 (label: 1)\n",
      "✅ Loaded sub-037 (label: 0)\n",
      "✅ Loaded sub-038 (label: 0)\n",
      "✅ Loaded sub-039 (label: 0)\n",
      "✅ Loaded sub-040 (label: 0)\n",
      "✅ Loaded sub-041 (label: 0)\n",
      "✅ Loaded sub-042 (label: 0)\n",
      "✅ Loaded sub-043 (label: 0)\n",
      "✅ Loaded sub-044 (label: 0)\n",
      "✅ Loaded sub-045 (label: 0)\n",
      "✅ Loaded sub-046 (label: 0)\n",
      "✅ Loaded sub-047 (label: 0)\n",
      "✅ Loaded sub-048 (label: 0)\n",
      "✅ Loaded sub-049 (label: 0)\n",
      "✅ Loaded sub-050 (label: 0)\n",
      "✅ Loaded sub-051 (label: 0)\n",
      "✅ Loaded sub-052 (label: 0)\n",
      "✅ Loaded sub-053 (label: 0)\n",
      "✅ Loaded sub-054 (label: 0)\n",
      "✅ Loaded sub-055 (label: 0)\n",
      "✅ Loaded sub-056 (label: 0)\n",
      "✅ Loaded sub-057 (label: 0)\n",
      "✅ Loaded sub-058 (label: 0)\n",
      "✅ Loaded sub-059 (label: 0)\n",
      "✅ Loaded sub-060 (label: 0)\n",
      "✅ Loaded sub-061 (label: 0)\n",
      "✅ Loaded sub-062 (label: 0)\n",
      "✅ Loaded sub-063 (label: 0)\n",
      "✅ Loaded sub-064 (label: 0)\n",
      "✅ Loaded sub-065 (label: 0)\n"
     ]
    }
   ],
   "source": [
    "base_dir = 'dataset/derivatives'\n",
    "eeg_data = load_eeg_data(participants_df, base_dir)"
   ]
  },
  {
   "cell_type": "code",
   "execution_count": 73,
   "id": "add90eee",
   "metadata": {},
   "outputs": [
    {
     "name": "stderr",
     "output_type": "stream",
     "text": [
      "/Users/ray/miniforge3/envs/dsc80/lib/python3.8/site-packages/scipy/signal/_spectral_py.py:2014: UserWarning: nperseg = 1000 is greater than input length  = 500, using nperseg = 500\n",
      "  warnings.warn('nperseg = {0:d} is greater than input length '\n"
     ]
    }
   ],
   "source": [
    "data = extract_all_features(eeg_data)"
   ]
  },
  {
   "cell_type": "code",
   "execution_count": 74,
   "id": "c68050c0",
   "metadata": {
    "scrolled": true
   },
   "outputs": [
    {
     "name": "stdout",
     "output_type": "stream",
     "text": [
      "(65, 82)\n"
     ]
    },
    {
     "data": {
      "text/html": [
       "<div>\n",
       "<style scoped>\n",
       "    .dataframe tbody tr th:only-of-type {\n",
       "        vertical-align: middle;\n",
       "    }\n",
       "\n",
       "    .dataframe tbody tr th {\n",
       "        vertical-align: top;\n",
       "    }\n",
       "\n",
       "    .dataframe thead th {\n",
       "        text-align: right;\n",
       "    }\n",
       "</style>\n",
       "<table border=\"1\" class=\"dataframe\">\n",
       "  <thead>\n",
       "    <tr style=\"text-align: right;\">\n",
       "      <th></th>\n",
       "      <th>ch0_alpha</th>\n",
       "      <th>ch0_beta</th>\n",
       "      <th>ch0_gamma</th>\n",
       "      <th>ch1_alpha</th>\n",
       "      <th>ch1_beta</th>\n",
       "      <th>ch1_gamma</th>\n",
       "      <th>ch2_alpha</th>\n",
       "      <th>ch2_beta</th>\n",
       "      <th>ch2_gamma</th>\n",
       "      <th>ch3_alpha</th>\n",
       "      <th>...</th>\n",
       "      <th>ch15_alpha_beta_ratio</th>\n",
       "      <th>ch16_alpha_beta_ratio</th>\n",
       "      <th>ch17_alpha_beta_ratio</th>\n",
       "      <th>ch18_alpha_beta_ratio</th>\n",
       "      <th>CSP_0</th>\n",
       "      <th>CSP_1</th>\n",
       "      <th>CSP_2</th>\n",
       "      <th>CSP_3</th>\n",
       "      <th>label</th>\n",
       "      <th>subject</th>\n",
       "    </tr>\n",
       "  </thead>\n",
       "  <tbody>\n",
       "    <tr>\n",
       "      <th>0</th>\n",
       "      <td>1.943008e-12</td>\n",
       "      <td>9.715849e-13</td>\n",
       "      <td>6.718703e-13</td>\n",
       "      <td>1.437425e-12</td>\n",
       "      <td>6.672173e-13</td>\n",
       "      <td>7.219744e-13</td>\n",
       "      <td>1.904704e-12</td>\n",
       "      <td>1.051304e-12</td>\n",
       "      <td>4.538301e-13</td>\n",
       "      <td>1.894034e-12</td>\n",
       "      <td>...</td>\n",
       "      <td>3.207503</td>\n",
       "      <td>2.306466</td>\n",
       "      <td>2.573038</td>\n",
       "      <td>2.783896</td>\n",
       "      <td>-0.418469</td>\n",
       "      <td>-1.699393</td>\n",
       "      <td>-1.443308</td>\n",
       "      <td>-0.912672</td>\n",
       "      <td>1</td>\n",
       "      <td>sub-001</td>\n",
       "    </tr>\n",
       "    <tr>\n",
       "      <th>1</th>\n",
       "      <td>1.990561e-12</td>\n",
       "      <td>1.074675e-12</td>\n",
       "      <td>6.715694e-13</td>\n",
       "      <td>6.818644e-13</td>\n",
       "      <td>1.041556e-12</td>\n",
       "      <td>4.486877e-13</td>\n",
       "      <td>1.360316e-12</td>\n",
       "      <td>7.577388e-13</td>\n",
       "      <td>4.856903e-13</td>\n",
       "      <td>1.771900e-12</td>\n",
       "      <td>...</td>\n",
       "      <td>1.706739</td>\n",
       "      <td>1.691842</td>\n",
       "      <td>1.528210</td>\n",
       "      <td>1.649730</td>\n",
       "      <td>-1.936946</td>\n",
       "      <td>-2.341383</td>\n",
       "      <td>-2.219310</td>\n",
       "      <td>-1.845873</td>\n",
       "      <td>1</td>\n",
       "      <td>sub-002</td>\n",
       "    </tr>\n",
       "    <tr>\n",
       "      <th>2</th>\n",
       "      <td>1.413336e-11</td>\n",
       "      <td>7.196056e-13</td>\n",
       "      <td>1.574932e-13</td>\n",
       "      <td>1.115347e-11</td>\n",
       "      <td>6.519013e-13</td>\n",
       "      <td>1.948333e-13</td>\n",
       "      <td>8.412949e-12</td>\n",
       "      <td>7.185815e-13</td>\n",
       "      <td>1.352348e-13</td>\n",
       "      <td>6.775878e-12</td>\n",
       "      <td>...</td>\n",
       "      <td>10.348500</td>\n",
       "      <td>18.097379</td>\n",
       "      <td>10.846734</td>\n",
       "      <td>14.545796</td>\n",
       "      <td>-2.501615</td>\n",
       "      <td>-0.825434</td>\n",
       "      <td>-0.975770</td>\n",
       "      <td>-0.730754</td>\n",
       "      <td>1</td>\n",
       "      <td>sub-003</td>\n",
       "    </tr>\n",
       "    <tr>\n",
       "      <th>3</th>\n",
       "      <td>7.960270e-13</td>\n",
       "      <td>8.808972e-13</td>\n",
       "      <td>3.837780e-13</td>\n",
       "      <td>2.321818e-12</td>\n",
       "      <td>5.652657e-13</td>\n",
       "      <td>4.488148e-13</td>\n",
       "      <td>9.544364e-13</td>\n",
       "      <td>1.114177e-12</td>\n",
       "      <td>7.137745e-13</td>\n",
       "      <td>1.522619e-12</td>\n",
       "      <td>...</td>\n",
       "      <td>3.691018</td>\n",
       "      <td>1.370393</td>\n",
       "      <td>1.868494</td>\n",
       "      <td>2.030585</td>\n",
       "      <td>-1.356880</td>\n",
       "      <td>-2.340188</td>\n",
       "      <td>-0.998264</td>\n",
       "      <td>0.278974</td>\n",
       "      <td>1</td>\n",
       "      <td>sub-004</td>\n",
       "    </tr>\n",
       "    <tr>\n",
       "      <th>4</th>\n",
       "      <td>3.799228e-12</td>\n",
       "      <td>6.343783e-13</td>\n",
       "      <td>2.060669e-13</td>\n",
       "      <td>2.535412e-12</td>\n",
       "      <td>3.916061e-13</td>\n",
       "      <td>1.536872e-13</td>\n",
       "      <td>2.659116e-12</td>\n",
       "      <td>5.583594e-13</td>\n",
       "      <td>3.227243e-13</td>\n",
       "      <td>1.843309e-12</td>\n",
       "      <td>...</td>\n",
       "      <td>6.698907</td>\n",
       "      <td>4.239572</td>\n",
       "      <td>3.547416</td>\n",
       "      <td>3.612045</td>\n",
       "      <td>-2.500020</td>\n",
       "      <td>-1.900327</td>\n",
       "      <td>-1.282869</td>\n",
       "      <td>-1.975875</td>\n",
       "      <td>1</td>\n",
       "      <td>sub-005</td>\n",
       "    </tr>\n",
       "  </tbody>\n",
       "</table>\n",
       "<p>5 rows × 82 columns</p>\n",
       "</div>"
      ],
      "text/plain": [
       "      ch0_alpha      ch0_beta     ch0_gamma     ch1_alpha      ch1_beta  \\\n",
       "0  1.943008e-12  9.715849e-13  6.718703e-13  1.437425e-12  6.672173e-13   \n",
       "1  1.990561e-12  1.074675e-12  6.715694e-13  6.818644e-13  1.041556e-12   \n",
       "2  1.413336e-11  7.196056e-13  1.574932e-13  1.115347e-11  6.519013e-13   \n",
       "3  7.960270e-13  8.808972e-13  3.837780e-13  2.321818e-12  5.652657e-13   \n",
       "4  3.799228e-12  6.343783e-13  2.060669e-13  2.535412e-12  3.916061e-13   \n",
       "\n",
       "      ch1_gamma     ch2_alpha      ch2_beta     ch2_gamma     ch3_alpha  ...  \\\n",
       "0  7.219744e-13  1.904704e-12  1.051304e-12  4.538301e-13  1.894034e-12  ...   \n",
       "1  4.486877e-13  1.360316e-12  7.577388e-13  4.856903e-13  1.771900e-12  ...   \n",
       "2  1.948333e-13  8.412949e-12  7.185815e-13  1.352348e-13  6.775878e-12  ...   \n",
       "3  4.488148e-13  9.544364e-13  1.114177e-12  7.137745e-13  1.522619e-12  ...   \n",
       "4  1.536872e-13  2.659116e-12  5.583594e-13  3.227243e-13  1.843309e-12  ...   \n",
       "\n",
       "   ch15_alpha_beta_ratio  ch16_alpha_beta_ratio  ch17_alpha_beta_ratio  \\\n",
       "0               3.207503               2.306466               2.573038   \n",
       "1               1.706739               1.691842               1.528210   \n",
       "2              10.348500              18.097379              10.846734   \n",
       "3               3.691018               1.370393               1.868494   \n",
       "4               6.698907               4.239572               3.547416   \n",
       "\n",
       "   ch18_alpha_beta_ratio     CSP_0     CSP_1     CSP_2     CSP_3  label  \\\n",
       "0               2.783896 -0.418469 -1.699393 -1.443308 -0.912672      1   \n",
       "1               1.649730 -1.936946 -2.341383 -2.219310 -1.845873      1   \n",
       "2              14.545796 -2.501615 -0.825434 -0.975770 -0.730754      1   \n",
       "3               2.030585 -1.356880 -2.340188 -0.998264  0.278974      1   \n",
       "4               3.612045 -2.500020 -1.900327 -1.282869 -1.975875      1   \n",
       "\n",
       "   subject  \n",
       "0  sub-001  \n",
       "1  sub-002  \n",
       "2  sub-003  \n",
       "3  sub-004  \n",
       "4  sub-005  \n",
       "\n",
       "[5 rows x 82 columns]"
      ]
     },
     "execution_count": 74,
     "metadata": {},
     "output_type": "execute_result"
    }
   ],
   "source": [
    "print(data.shape)\n",
    "data.head()"
   ]
  },
  {
   "cell_type": "markdown",
   "id": "e3482e86",
   "metadata": {},
   "source": [
    "## Model"
   ]
  },
  {
   "cell_type": "markdown",
   "id": "5dab660c",
   "metadata": {},
   "source": [
    "We utilized logistic regression to make our predictions on whether someone is a healthy patient or a patient with Alzheimers."
   ]
  },
  {
   "cell_type": "code",
   "execution_count": 76,
   "id": "02dcbd6d",
   "metadata": {
    "scrolled": false
   },
   "outputs": [
    {
     "data": {
      "text/plain": [
       "({'0': {'precision': 0.8333333333333334,\n",
       "   'recall': 0.8333333333333334,\n",
       "   'f1-score': 0.8333333333333334,\n",
       "   'support': 6.0},\n",
       "  '1': {'precision': 0.8571428571428571,\n",
       "   'recall': 0.8571428571428571,\n",
       "   'f1-score': 0.8571428571428571,\n",
       "   'support': 7.0},\n",
       "  'accuracy': 0.8461538461538461,\n",
       "  'macro avg': {'precision': 0.8452380952380952,\n",
       "   'recall': 0.8452380952380952,\n",
       "   'f1-score': 0.8452380952380952,\n",
       "   'support': 13.0},\n",
       "  'weighted avg': {'precision': 0.8461538461538461,\n",
       "   'recall': 0.8461538461538461,\n",
       "   'f1-score': 0.8461538461538461,\n",
       "   'support': 13.0}},\n",
       " array([[5, 1],\n",
       "        [1, 6]]),\n",
       " 0.8461538461538461)"
      ]
     },
     "execution_count": 76,
     "metadata": {},
     "output_type": "execute_result"
    }
   ],
   "source": [
    "X = data.drop(columns=[\"label\", \"subject\"])\n",
    "y = data[\"label\"]\n",
    "\n",
    "from sklearn.model_selection import train_test_split\n",
    "X_train, X_test, y_train, y_test = train_test_split(\n",
    "    X, y, test_size=0.2, stratify=y, random_state=42\n",
    ")\n",
    "\n",
    "from sklearn.ensemble import RandomForestClassifier\n",
    "clf = RandomForestClassifier(random_state=42)\n",
    "clf.fit(X_train, y_train)\n",
    "\n",
    "from sklearn.metrics import classification_report, confusion_matrix, accuracy_score\n",
    "y_pred = clf.predict(X_test)\n",
    "report = classification_report(y_test, y_pred, output_dict=True)\n",
    "conf_matrix = confusion_matrix(y_test, y_pred)\n",
    "accuracy = accuracy_score(y_test, y_pred)\n",
    "\n",
    "report, conf_matrix, accuracy"
   ]
  }
 ],
 "metadata": {
  "hide_input": false,
  "kernelspec": {
   "display_name": "Python 3 (ipykernel)",
   "language": "python",
   "name": "python3"
  },
  "language_info": {
   "codemirror_mode": {
    "name": "ipython",
    "version": 3
   },
   "file_extension": ".py",
   "mimetype": "text/x-python",
   "name": "python",
   "nbconvert_exporter": "python",
   "pygments_lexer": "ipython3",
   "version": "3.8.18"
  }
 },
 "nbformat": 4,
 "nbformat_minor": 5
}
